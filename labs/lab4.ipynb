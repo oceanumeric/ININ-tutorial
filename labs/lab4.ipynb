{
 "cells": [
  {
   "cell_type": "markdown",
   "metadata": {},
   "source": [
    "# Lab 4: Replication of the results of the paper \"Innovation and Institutional Ownership\"\n",
    "\n"
   ]
  },
  {
   "cell_type": "code",
   "execution_count": 36,
   "metadata": {
    "vscode": {
     "languageId": "r"
    }
   },
   "outputs": [],
   "source": [
    "install.packages(\"haven\")"
   ]
  },
  {
   "cell_type": "code",
   "execution_count": null,
   "metadata": {
    "vscode": {
     "languageId": "r"
    }
   },
   "outputs": [],
   "source": [
    "# it will take some time to install this package\n",
    "install.packages(\"plm\")"
   ]
  },
  {
   "cell_type": "code",
   "execution_count": 14,
   "metadata": {
    "vscode": {
     "languageId": "r"
    }
   },
   "outputs": [],
   "source": [
    "library(pacman)\n",
    "p_load(data.table, magrittr, ggplot2, knitr, psych, stargazer, MASS,\n",
    "        ISLR, wooldridge, performance, see, patchwork, haven, plm)"
   ]
  },
  {
   "cell_type": "code",
   "execution_count": 3,
   "metadata": {
    "vscode": {
     "languageId": "r"
    }
   },
   "outputs": [],
   "source": [
    "dt <- read_dta(\"../data/Aghion_2013.dta\")"
   ]
  },
  {
   "cell_type": "code",
   "execution_count": 3,
   "metadata": {
    "vscode": {
     "languageId": "r"
    }
   },
   "outputs": [
    {
     "data": {
      "text/html": [
       "<table class=\"dataframe\">\n",
       "<caption>A tibble: 6 x 629</caption>\n",
       "<thead>\n",
       "\t<tr><th scope=col>cusip</th><th scope=col>cic</th><th scope=col>data6</th><th scope=col>data12</th><th scope=col>data29</th><th scope=col>coname</th><th scope=col>gvkey</th><th scope=col>year</th><th scope=col>owncusip</th><th scope=col>instit_own</th><th scope=col>...</th><th scope=col>_Isic4_5616</th><th scope=col>_Isic4_5617</th><th scope=col>_Isic4_5621</th><th scope=col>_Isic4_6214</th><th scope=col>_Isic4_6215</th><th scope=col>_Isic4_6231</th><th scope=col>_Isic4_7211</th><th scope=col>_Isic4_7221</th><th scope=col>_Isic4_8123</th><th scope=col>_Isic4_9999</th></tr>\n",
       "\t<tr><th scope=col>&lt;chr&gt;</th><th scope=col>&lt;dbl&gt;</th><th scope=col>&lt;dbl&gt;</th><th scope=col>&lt;dbl&gt;</th><th scope=col>&lt;chr&gt;</th><th scope=col>&lt;chr&gt;</th><th scope=col>&lt;dbl&gt;</th><th scope=col>&lt;dbl&gt;</th><th scope=col>&lt;chr&gt;</th><th scope=col>&lt;dbl&gt;</th><th scope=col>...</th><th scope=col>&lt;dbl&gt;</th><th scope=col>&lt;dbl&gt;</th><th scope=col>&lt;dbl&gt;</th><th scope=col>&lt;dbl&gt;</th><th scope=col>&lt;dbl&gt;</th><th scope=col>&lt;dbl&gt;</th><th scope=col>&lt;dbl&gt;</th><th scope=col>&lt;dbl&gt;</th><th scope=col>&lt;dbl&gt;</th><th scope=col>&lt;dbl&gt;</th></tr>\n",
       "</thead>\n",
       "<tbody>\n",
       "\t<tr><td>885535</td><td>104</td><td> 293.890</td><td> 408.388</td><td>1.896</td><td>3COM CORP</td><td>10553</td><td>1991</td><td>0008855351</td><td> 63</td><td>...</td><td>0</td><td>0</td><td>0</td><td>0</td><td>0</td><td>0</td><td>0</td><td>0</td><td>0</td><td>0</td></tr>\n",
       "\t<tr><td>885535</td><td>104</td><td> 444.343</td><td> 826.995</td><td>2.306</td><td>3COM CORP</td><td>10553</td><td>1993</td><td>0008855351</td><td>117</td><td>...</td><td>0</td><td>0</td><td>0</td><td>0</td><td>0</td><td>0</td><td>0</td><td>0</td><td>0</td><td>0</td></tr>\n",
       "\t<tr><td>885535</td><td>104</td><td> 839.676</td><td>1295.311</td><td>3.072</td><td>3COM CORP</td><td>10553</td><td>1994</td><td>0008855351</td><td>128</td><td>...</td><td>0</td><td>0</td><td>0</td><td>0</td><td>0</td><td>0</td><td>0</td><td>0</td><td>0</td><td>0</td></tr>\n",
       "\t<tr><td>885535</td><td>104</td><td>1525.117</td><td>2327.101</td><td>5.19 </td><td>3COM CORP</td><td>10553</td><td>1995</td><td>0008855351</td><td>199</td><td>...</td><td>0</td><td>0</td><td>0</td><td>0</td><td>0</td><td>0</td><td>0</td><td>0</td><td>0</td><td>0</td></tr>\n",
       "\t<tr><td>885535</td><td>104</td><td>2266.275</td><td>3147.106</td><td>7.109</td><td>3COM CORP</td><td>10553</td><td>1996</td><td>0008855351</td><td>304</td><td>...</td><td>0</td><td>0</td><td>0</td><td>0</td><td>0</td><td>0</td><td>0</td><td>0</td><td>0</td><td>0</td></tr>\n",
       "\t<tr><td>885535</td><td>104</td><td>4080.520</td><td>5420.367</td><td>12.92</td><td>3COM CORP</td><td>10553</td><td>1997</td><td>0008855351</td><td>348</td><td>...</td><td>0</td><td>0</td><td>0</td><td>0</td><td>0</td><td>0</td><td>0</td><td>0</td><td>0</td><td>0</td></tr>\n",
       "</tbody>\n",
       "</table>\n"
      ],
      "text/latex": [
       "A tibble: 6 x 629\n",
       "\\begin{tabular}{lllllllllllllllllllll}\n",
       " cusip & cic & data6 & data12 & data29 & coname & gvkey & year & owncusip & instit\\_own & ... & \\_Isic4\\_5616 & \\_Isic4\\_5617 & \\_Isic4\\_5621 & \\_Isic4\\_6214 & \\_Isic4\\_6215 & \\_Isic4\\_6231 & \\_Isic4\\_7211 & \\_Isic4\\_7221 & \\_Isic4\\_8123 & \\_Isic4\\_9999\\\\\n",
       " <chr> & <dbl> & <dbl> & <dbl> & <chr> & <chr> & <dbl> & <dbl> & <chr> & <dbl> & ... & <dbl> & <dbl> & <dbl> & <dbl> & <dbl> & <dbl> & <dbl> & <dbl> & <dbl> & <dbl>\\\\\n",
       "\\hline\n",
       "\t 885535 & 104 &  293.890 &  408.388 & 1.896 & 3COM CORP & 10553 & 1991 & 0008855351 &  63 & ... & 0 & 0 & 0 & 0 & 0 & 0 & 0 & 0 & 0 & 0\\\\\n",
       "\t 885535 & 104 &  444.343 &  826.995 & 2.306 & 3COM CORP & 10553 & 1993 & 0008855351 & 117 & ... & 0 & 0 & 0 & 0 & 0 & 0 & 0 & 0 & 0 & 0\\\\\n",
       "\t 885535 & 104 &  839.676 & 1295.311 & 3.072 & 3COM CORP & 10553 & 1994 & 0008855351 & 128 & ... & 0 & 0 & 0 & 0 & 0 & 0 & 0 & 0 & 0 & 0\\\\\n",
       "\t 885535 & 104 & 1525.117 & 2327.101 & 5.19  & 3COM CORP & 10553 & 1995 & 0008855351 & 199 & ... & 0 & 0 & 0 & 0 & 0 & 0 & 0 & 0 & 0 & 0\\\\\n",
       "\t 885535 & 104 & 2266.275 & 3147.106 & 7.109 & 3COM CORP & 10553 & 1996 & 0008855351 & 304 & ... & 0 & 0 & 0 & 0 & 0 & 0 & 0 & 0 & 0 & 0\\\\\n",
       "\t 885535 & 104 & 4080.520 & 5420.367 & 12.92 & 3COM CORP & 10553 & 1997 & 0008855351 & 348 & ... & 0 & 0 & 0 & 0 & 0 & 0 & 0 & 0 & 0 & 0\\\\\n",
       "\\end{tabular}\n"
      ],
      "text/markdown": [
       "\n",
       "A tibble: 6 x 629\n",
       "\n",
       "| cusip &lt;chr&gt; | cic &lt;dbl&gt; | data6 &lt;dbl&gt; | data12 &lt;dbl&gt; | data29 &lt;chr&gt; | coname &lt;chr&gt; | gvkey &lt;dbl&gt; | year &lt;dbl&gt; | owncusip &lt;chr&gt; | instit_own &lt;dbl&gt; | ... ... | _Isic4_5616 &lt;dbl&gt; | _Isic4_5617 &lt;dbl&gt; | _Isic4_5621 &lt;dbl&gt; | _Isic4_6214 &lt;dbl&gt; | _Isic4_6215 &lt;dbl&gt; | _Isic4_6231 &lt;dbl&gt; | _Isic4_7211 &lt;dbl&gt; | _Isic4_7221 &lt;dbl&gt; | _Isic4_8123 &lt;dbl&gt; | _Isic4_9999 &lt;dbl&gt; |\n",
       "|---|---|---|---|---|---|---|---|---|---|---|---|---|---|---|---|---|---|---|---|---|\n",
       "| 885535 | 104 |  293.890 |  408.388 | 1.896 | 3COM CORP | 10553 | 1991 | 0008855351 |  63 | ... | 0 | 0 | 0 | 0 | 0 | 0 | 0 | 0 | 0 | 0 |\n",
       "| 885535 | 104 |  444.343 |  826.995 | 2.306 | 3COM CORP | 10553 | 1993 | 0008855351 | 117 | ... | 0 | 0 | 0 | 0 | 0 | 0 | 0 | 0 | 0 | 0 |\n",
       "| 885535 | 104 |  839.676 | 1295.311 | 3.072 | 3COM CORP | 10553 | 1994 | 0008855351 | 128 | ... | 0 | 0 | 0 | 0 | 0 | 0 | 0 | 0 | 0 | 0 |\n",
       "| 885535 | 104 | 1525.117 | 2327.101 | 5.19  | 3COM CORP | 10553 | 1995 | 0008855351 | 199 | ... | 0 | 0 | 0 | 0 | 0 | 0 | 0 | 0 | 0 | 0 |\n",
       "| 885535 | 104 | 2266.275 | 3147.106 | 7.109 | 3COM CORP | 10553 | 1996 | 0008855351 | 304 | ... | 0 | 0 | 0 | 0 | 0 | 0 | 0 | 0 | 0 | 0 |\n",
       "| 885535 | 104 | 4080.520 | 5420.367 | 12.92 | 3COM CORP | 10553 | 1997 | 0008855351 | 348 | ... | 0 | 0 | 0 | 0 | 0 | 0 | 0 | 0 | 0 | 0 |\n",
       "\n"
      ],
      "text/plain": [
       "  cusip  cic data6    data12   data29 coname    gvkey year owncusip  \n",
       "1 885535 104  293.890  408.388 1.896  3COM CORP 10553 1991 0008855351\n",
       "2 885535 104  444.343  826.995 2.306  3COM CORP 10553 1993 0008855351\n",
       "3 885535 104  839.676 1295.311 3.072  3COM CORP 10553 1994 0008855351\n",
       "4 885535 104 1525.117 2327.101 5.19   3COM CORP 10553 1995 0008855351\n",
       "5 885535 104 2266.275 3147.106 7.109  3COM CORP 10553 1996 0008855351\n",
       "6 885535 104 4080.520 5420.367 12.92  3COM CORP 10553 1997 0008855351\n",
       "  instit_own ... _Isic4_5616 _Isic4_5617 _Isic4_5621 _Isic4_6214 _Isic4_6215\n",
       "1  63        ... 0           0           0           0           0          \n",
       "2 117        ... 0           0           0           0           0          \n",
       "3 128        ... 0           0           0           0           0          \n",
       "4 199        ... 0           0           0           0           0          \n",
       "5 304        ... 0           0           0           0           0          \n",
       "6 348        ... 0           0           0           0           0          \n",
       "  _Isic4_6231 _Isic4_7211 _Isic4_7221 _Isic4_8123 _Isic4_9999\n",
       "1 0           0           0           0           0          \n",
       "2 0           0           0           0           0          \n",
       "3 0           0           0           0           0          \n",
       "4 0           0           0           0           0          \n",
       "5 0           0           0           0           0          \n",
       "6 0           0           0           0           0          "
      ]
     },
     "metadata": {},
     "output_type": "display_data"
    }
   ],
   "source": [
    "head(dt)"
   ]
  },
  {
   "cell_type": "code",
   "execution_count": 8,
   "metadata": {
    "vscode": {
     "languageId": "r"
    }
   },
   "outputs": [
    {
     "data": {
      "text/html": [
       "<style>\n",
       ".list-inline {list-style: none; margin:0; padding: 0}\n",
       ".list-inline>li {display: inline-block}\n",
       ".list-inline>li:not(:last-child)::after {content: \"\\00b7\"; padding: 0 .5ex}\n",
       "</style>\n",
       "<ol class=list-inline><li>6208</li><li>629</li></ol>\n"
      ],
      "text/latex": [
       "\\begin{enumerate*}\n",
       "\\item 6208\n",
       "\\item 629\n",
       "\\end{enumerate*}\n"
      ],
      "text/markdown": [
       "1. 6208\n",
       "2. 629\n",
       "\n",
       "\n"
      ],
      "text/plain": [
       "[1] 6208  629"
      ]
     },
     "metadata": {},
     "output_type": "display_data"
    }
   ],
   "source": [
    "dim(dt)"
   ]
  },
  {
   "cell_type": "markdown",
   "metadata": {},
   "source": [
    "As you can see that we have so many variables in the dataset. We will spend some time to understand the dataset and the variables first."
   ]
  },
  {
   "cell_type": "markdown",
   "metadata": {},
   "source": [
    "## Greater institutional ownership is associated with more innovation\n",
    "\n",
    "The key finding of the paper is that greater institutional ownership is associated with more innovation. We need to know:\n",
    "\n",
    "- How to measure innovation?\n",
    "- How to measure institutional ownership?\n",
    "\n",
    "\n",
    "By reading the paper, we learned that authors are using `citation` as a measure of innovation. The number of citations a paper receives is a measure of how influential it is. The assumption is that more influential patents are more innovative."
   ]
  },
  {
   "cell_type": "code",
   "execution_count": 27,
   "metadata": {
    "vscode": {
     "languageId": "r"
    }
   },
   "outputs": [
    {
     "data": {
      "image/png": "[encoded data removed]",
      "text/plain": [
       "Plot with title \"Log Cites\""
      ]
     },
     "metadata": {
      "image/png": {
       "height": 300,
       "width": 540
      }
     },
     "output_type": "display_data"
    }
   ],
   "source": [
    "# let's check variables that include 'cite'\n",
    "options(repr.plot.width = 9, repr.plot.height = 5)\n",
    "dt %>%\n",
    "    as.data.table() %>%\n",
    "    # select columns - cites and lcites\n",
    "    .[, .(cites, lcites)] -> citation_data\n",
    "\n",
    "par(mfrow = c(1, 2))\n",
    "hist(citation_data$cites, main = \"Cites\", xlab = \"Value\", ylab = \"Frequency\")\n",
    "hist(citation_data$lcites, main = \"Log Cites\", xlab = \"Value\", ylab = \"Frequency\")"
   ]
  },
  {
   "cell_type": "code",
   "execution_count": 5,
   "metadata": {
    "vscode": {
     "languageId": "r"
    }
   },
   "outputs": [
    {
     "data": {
      "text/html": [
       "<table class=\"dataframe\">\n",
       "<caption>A data.table: 6 x 29</caption>\n",
       "<thead>\n",
       "\t<tr><th scope=col>instit_own</th><th scope=col>instit_change</th><th scope=col>instit_held</th><th scope=col>instit_percown</th><th scope=col>dinit_instit</th><th scope=col>init_instit</th><th scope=col>linit_instit</th><th scope=col>dum_init_instit</th><th scope=col>sl_index_instit</th><th scope=col>d1instit_percown</th><th scope=col>...</th><th scope=col>instit_percown_91</th><th scope=col>instit_percown_92</th><th scope=col>instit_percown_five</th><th scope=col>instit_percown_n</th><th scope=col>dinstit_percown</th><th scope=col>dinstit_percown_n</th><th scope=col>instit_percown25</th><th scope=col>instit_percown_av</th><th scope=col>norminstit_percown</th><th scope=col>dnorminstit_percown</th></tr>\n",
       "\t<tr><th scope=col>&lt;dbl&gt;</th><th scope=col>&lt;chr&gt;</th><th scope=col>&lt;dbl&gt;</th><th scope=col>&lt;dbl&gt;</th><th scope=col>&lt;dbl&gt;</th><th scope=col>&lt;dbl&gt;</th><th scope=col>&lt;dbl&gt;</th><th scope=col>&lt;dbl&gt;</th><th scope=col>&lt;dbl&gt;</th><th scope=col>&lt;dbl&gt;</th><th scope=col>...</th><th scope=col>&lt;dbl&gt;</th><th scope=col>&lt;dbl&gt;</th><th scope=col>&lt;dbl&gt;</th><th scope=col>&lt;dbl&gt;</th><th scope=col>&lt;dbl&gt;</th><th scope=col>&lt;dbl&gt;</th><th scope=col>&lt;dbl&gt;</th><th scope=col>&lt;dbl&gt;</th><th scope=col>&lt;dbl&gt;</th><th scope=col>&lt;dbl&gt;</th></tr>\n",
       "</thead>\n",
       "<tbody>\n",
       "\t<tr><td> 63</td><td>723   </td><td>  8128</td><td>28.12</td><td>28.12</td><td>28.12</td><td>3.336481</td><td>0</td><td>NA</td><td>    NA</td><td>...</td><td>28.12</td><td>0</td><td> 785.1104</td><td>0.7539862</td><td>    NA</td><td>        NA</td><td>1</td><td>37.11090</td><td>0.7577289</td><td>         NA</td></tr>\n",
       "\t<tr><td>117</td><td>5538  </td><td> 22301</td><td>80.27</td><td>   NA</td><td>28.12</td><td>3.336481</td><td>0</td><td> 0</td><td>    NA</td><td>...</td><td> 0.00</td><td>0</td><td> 118.7996</td><td>1.9815488</td><td>    NA</td><td>        NA</td><td>1</td><td>40.47897</td><td>1.9830048</td><td>         NA</td></tr>\n",
       "\t<tr><td>128</td><td>598   </td><td> 22880</td><td>73.88</td><td>   NA</td><td>28.12</td><td>3.336481</td><td>0</td><td>NA</td><td> -6.39</td><td>...</td><td> 0.00</td><td>0</td><td>1021.0216</td><td>1.7149556</td><td> -6.39</td><td>-0.2665932</td><td>1</td><td>43.18488</td><td>1.7107838</td><td>-0.27222097</td></tr>\n",
       "\t<tr><td>199</td><td>1242  </td><td> 53897</td><td>81.69</td><td>   NA</td><td>28.12</td><td>3.336481</td><td>0</td><td> 0</td><td>  7.81</td><td>...</td><td> 0.00</td><td>0</td><td>2029.1796</td><td>1.9022292</td><td>  7.81</td><td> 0.1872736</td><td>1</td><td>43.08064</td><td>1.8962116</td><td> 0.18542778</td></tr>\n",
       "\t<tr><td>304</td><td>2375  </td><td>129476</td><td>78.74</td><td>   NA</td><td>28.12</td><td>3.336481</td><td>0</td><td>NA</td><td> -2.95</td><td>...</td><td> 0.00</td><td>0</td><td> 820.4708</td><td>1.8175769</td><td> -2.95</td><td>-0.0846523</td><td>1</td><td>43.36016</td><td>1.8159528</td><td>-0.08025885</td></tr>\n",
       "\t<tr><td>348</td><td>-37673</td><td>104539</td><td>59.41</td><td>   NA</td><td>28.12</td><td>3.336481</td><td>0</td><td>NA</td><td>-19.33</td><td>...</td><td> 0.00</td><td>0</td><td> 921.4491</td><td>1.3564597</td><td>-19.33</td><td>-0.4611171</td><td>1</td><td>43.91281</td><td>1.3529083</td><td>-0.46304452</td></tr>\n",
       "</tbody>\n",
       "</table>\n"
      ],
      "text/latex": [
       "A data.table: 6 x 29\n",
       "\\begin{tabular}{lllllllllllllllllllll}\n",
       " instit\\_own & instit\\_change & instit\\_held & instit\\_percown & dinit\\_instit & init\\_instit & linit\\_instit & dum\\_init\\_instit & sl\\_index\\_instit & d1instit\\_percown & ... & instit\\_percown\\_91 & instit\\_percown\\_92 & instit\\_percown\\_five & instit\\_percown\\_n & dinstit\\_percown & dinstit\\_percown\\_n & instit\\_percown25 & instit\\_percown\\_av & norminstit\\_percown & dnorminstit\\_percown\\\\\n",
       " <dbl> & <chr> & <dbl> & <dbl> & <dbl> & <dbl> & <dbl> & <dbl> & <dbl> & <dbl> & ... & <dbl> & <dbl> & <dbl> & <dbl> & <dbl> & <dbl> & <dbl> & <dbl> & <dbl> & <dbl>\\\\\n",
       "\\hline\n",
       "\t  63 & 723    &   8128 & 28.12 & 28.12 & 28.12 & 3.336481 & 0 & NA &     NA & ... & 28.12 & 0 &  785.1104 & 0.7539862 &     NA &         NA & 1 & 37.11090 & 0.7577289 &          NA\\\\\n",
       "\t 117 & 5538   &  22301 & 80.27 &    NA & 28.12 & 3.336481 & 0 &  0 &     NA & ... &  0.00 & 0 &  118.7996 & 1.9815488 &     NA &         NA & 1 & 40.47897 & 1.9830048 &          NA\\\\\n",
       "\t 128 & 598    &  22880 & 73.88 &    NA & 28.12 & 3.336481 & 0 & NA &  -6.39 & ... &  0.00 & 0 & 1021.0216 & 1.7149556 &  -6.39 & -0.2665932 & 1 & 43.18488 & 1.7107838 & -0.27222097\\\\\n",
       "\t 199 & 1242   &  53897 & 81.69 &    NA & 28.12 & 3.336481 & 0 &  0 &   7.81 & ... &  0.00 & 0 & 2029.1796 & 1.9022292 &   7.81 &  0.1872736 & 1 & 43.08064 & 1.8962116 &  0.18542778\\\\\n",
       "\t 304 & 2375   & 129476 & 78.74 &    NA & 28.12 & 3.336481 & 0 & NA &  -2.95 & ... &  0.00 & 0 &  820.4708 & 1.8175769 &  -2.95 & -0.0846523 & 1 & 43.36016 & 1.8159528 & -0.08025885\\\\\n",
       "\t 348 & -37673 & 104539 & 59.41 &    NA & 28.12 & 3.336481 & 0 & NA & -19.33 & ... &  0.00 & 0 &  921.4491 & 1.3564597 & -19.33 & -0.4611171 & 1 & 43.91281 & 1.3529083 & -0.46304452\\\\\n",
       "\\end{tabular}\n"
      ],
      "text/markdown": [
       "\n",
       "A data.table: 6 x 29\n",
       "\n",
       "| instit_own &lt;dbl&gt; | instit_change &lt;chr&gt; | instit_held &lt;dbl&gt; | instit_percown &lt;dbl&gt; | dinit_instit &lt;dbl&gt; | init_instit &lt;dbl&gt; | linit_instit &lt;dbl&gt; | dum_init_instit &lt;dbl&gt; | sl_index_instit &lt;dbl&gt; | d1instit_percown &lt;dbl&gt; | ... ... | instit_percown_91 &lt;dbl&gt; | instit_percown_92 &lt;dbl&gt; | instit_percown_five &lt;dbl&gt; | instit_percown_n &lt;dbl&gt; | dinstit_percown &lt;dbl&gt; | dinstit_percown_n &lt;dbl&gt; | instit_percown25 &lt;dbl&gt; | instit_percown_av &lt;dbl&gt; | norminstit_percown &lt;dbl&gt; | dnorminstit_percown &lt;dbl&gt; |\n",
       "|---|---|---|---|---|---|---|---|---|---|---|---|---|---|---|---|---|---|---|---|---|\n",
       "|  63 | 723    |   8128 | 28.12 | 28.12 | 28.12 | 3.336481 | 0 | NA |     NA | ... | 28.12 | 0 |  785.1104 | 0.7539862 |     NA |         NA | 1 | 37.11090 | 0.7577289 |          NA |\n",
       "| 117 | 5538   |  22301 | 80.27 |    NA | 28.12 | 3.336481 | 0 |  0 |     NA | ... |  0.00 | 0 |  118.7996 | 1.9815488 |     NA |         NA | 1 | 40.47897 | 1.9830048 |          NA |\n",
       "| 128 | 598    |  22880 | 73.88 |    NA | 28.12 | 3.336481 | 0 | NA |  -6.39 | ... |  0.00 | 0 | 1021.0216 | 1.7149556 |  -6.39 | -0.2665932 | 1 | 43.18488 | 1.7107838 | -0.27222097 |\n",
       "| 199 | 1242   |  53897 | 81.69 |    NA | 28.12 | 3.336481 | 0 |  0 |   7.81 | ... |  0.00 | 0 | 2029.1796 | 1.9022292 |   7.81 |  0.1872736 | 1 | 43.08064 | 1.8962116 |  0.18542778 |\n",
       "| 304 | 2375   | 129476 | 78.74 |    NA | 28.12 | 3.336481 | 0 | NA |  -2.95 | ... |  0.00 | 0 |  820.4708 | 1.8175769 |  -2.95 | -0.0846523 | 1 | 43.36016 | 1.8159528 | -0.08025885 |\n",
       "| 348 | -37673 | 104539 | 59.41 |    NA | 28.12 | 3.336481 | 0 | NA | -19.33 | ... |  0.00 | 0 |  921.4491 | 1.3564597 | -19.33 | -0.4611171 | 1 | 43.91281 | 1.3529083 | -0.46304452 |\n",
       "\n"
      ],
      "text/plain": [
       "  instit_own instit_change instit_held instit_percown dinit_instit init_instit\n",
       "1  63        723             8128      28.12          28.12        28.12      \n",
       "2 117        5538           22301      80.27             NA        28.12      \n",
       "3 128        598            22880      73.88             NA        28.12      \n",
       "4 199        1242           53897      81.69             NA        28.12      \n",
       "5 304        2375          129476      78.74             NA        28.12      \n",
       "6 348        -37673        104539      59.41             NA        28.12      \n",
       "  linit_instit dum_init_instit sl_index_instit d1instit_percown ...\n",
       "1 3.336481     0               NA                  NA           ...\n",
       "2 3.336481     0                0                  NA           ...\n",
       "3 3.336481     0               NA               -6.39           ...\n",
       "4 3.336481     0                0                7.81           ...\n",
       "5 3.336481     0               NA               -2.95           ...\n",
       "6 3.336481     0               NA              -19.33           ...\n",
       "  instit_percown_91 instit_percown_92 instit_percown_five instit_percown_n\n",
       "1 28.12             0                  785.1104           0.7539862       \n",
       "2  0.00             0                  118.7996           1.9815488       \n",
       "3  0.00             0                 1021.0216           1.7149556       \n",
       "4  0.00             0                 2029.1796           1.9022292       \n",
       "5  0.00             0                  820.4708           1.8175769       \n",
       "6  0.00             0                  921.4491           1.3564597       \n",
       "  dinstit_percown dinstit_percown_n instit_percown25 instit_percown_av\n",
       "1     NA                  NA        1                37.11090         \n",
       "2     NA                  NA        1                40.47897         \n",
       "3  -6.39          -0.2665932        1                43.18488         \n",
       "4   7.81           0.1872736        1                43.08064         \n",
       "5  -2.95          -0.0846523        1                43.36016         \n",
       "6 -19.33          -0.4611171        1                43.91281         \n",
       "  norminstit_percown dnorminstit_percown\n",
       "1 0.7577289                   NA        \n",
       "2 1.9830048                   NA        \n",
       "3 1.7107838          -0.27222097        \n",
       "4 1.8962116           0.18542778        \n",
       "5 1.8159528          -0.08025885        \n",
       "6 1.3529083          -0.46304452        "
      ]
     },
     "metadata": {},
     "output_type": "display_data"
    }
   ],
   "source": [
    "dt %>%\n",
    "    as.data.table() %>%\n",
    "    # get columns that include 'instit'\n",
    "    .[, grep(\"instit\", names(.)), with = FALSE] %>%\n",
    "    head()"
   ]
  },
  {
   "cell_type": "markdown",
   "metadata": {},
   "source": [
    "As you can see that we have many variables that include `instit` in the dataset. We will focus on the following variables:\n",
    "\n",
    "- `instit_own`: number of institutional owners\n",
    "- `instit_percown`: compacted percentage of institutional ownership\n",
    "\n",
    "Now, we will replicate the Figure 1 of the paper."
   ]
  },
  {
   "cell_type": "code",
   "execution_count": 15,
   "metadata": {
    "vscode": {
     "languageId": "r"
    }
   },
   "outputs": [
    {
     "data": {
      "image/png": "[encoded data removed]",
      "text/plain": [
       "Plot with title \"Instit Percown vs Log Cites\""
      ]
     },
     "metadata": {
      "image/png": {
       "height": 300,
       "width": 780
      }
     },
     "output_type": "display_data"
    }
   ],
   "source": [
    "options(repr.plot.width = 13, repr.plot.height = 5)\n",
    "par(mfrow = c(1, 2))\n",
    "dt %>%\n",
    "    as.data.table() %>%\n",
    "    # we will choose 1997 year\n",
    "    # the paper uses the average from 1995 to the end of the sample period (1999)\n",
    "    .[year == 1997] %>%\n",
    "    .[, .(instit_percown, lpat, lcites)] -> instit_data\n",
    "\n",
    "plot(instit_data$instit_percown, instit_data$lpat, main = \"Instit Percown vs Log Patents\", xlab = \"Instit Percown\", ylab = \"Log Patents\")\n",
    "plot(instit_data$instit_percown, instit_data$lcites, main = \"Instit Percown vs Log Cites\", xlab = \"Instit Percown\", ylab = \"Log Cites\")"
   ]
  },
  {
   "cell_type": "markdown",
   "metadata": {},
   "source": [
    "From the above figure, we can see that there is a positive relationship between the number of institutional owners and the number of citations, even though the relationship is quite weak and noisy.\n",
    "\n",
    "Now, we will fit a simple linear regression for the year of 1997 with the following model:\n",
    "\n",
    "$$\n",
    "lcites = \\beta_0 + \\beta_1 \\times instit\\_percown + \\beta_2 sales + \\beta_3 CLratio + \\beta_4 R\\&D + \\epsilon$$\n",
    "\n",
    "- `lcites`: log of the number of citations\n",
    "- `instit_percown`: compacted percentage of institutional ownership\n",
    "- `lsale`: log of sales (firm size)\n",
    "- `lk_l`: log of capital labor ratio (input intensity)\n",
    "- `sic4`: four-digit SIC code"
   ]
  },
  {
   "cell_type": "code",
   "execution_count": 17,
   "metadata": {
    "vscode": {
     "languageId": "r"
    }
   },
   "outputs": [
    {
     "data": {
      "text/html": [
       "<table class=\"dataframe\">\n",
       "<caption>A data.table: 6 x 5</caption>\n",
       "<thead>\n",
       "\t<tr><th scope=col>lcites</th><th scope=col>instit_percown</th><th scope=col>lsal</th><th scope=col>lk_l</th><th scope=col>sic4</th></tr>\n",
       "\t<tr><th scope=col>&lt;dbl&gt;</th><th scope=col>&lt;dbl&gt;</th><th scope=col>&lt;dbl&gt;</th><th scope=col>&lt;dbl&gt;</th><th scope=col>&lt;dbl&gt;</th></tr>\n",
       "</thead>\n",
       "<tbody>\n",
       "\t<tr><td>5.9864521</td><td>59.41</td><td>8.597919</td><td>4.755116</td><td>3341</td></tr>\n",
       "\t<tr><td>       NA</td><td>88.32</td><td>6.662012</td><td>4.054750</td><td>4238</td></tr>\n",
       "\t<tr><td>4.8520303</td><td>49.70</td><td>9.382903</td><td>5.083426</td><td>3254</td></tr>\n",
       "\t<tr><td>0.6931472</td><td>17.53</td><td>4.543954</td><td>4.039936</td><td>3353</td></tr>\n",
       "\t<tr><td>       NA</td><td>18.77</td><td>3.834667</td><td>3.817332</td><td>3322</td></tr>\n",
       "\t<tr><td>3.3322046</td><td>74.46</td><td>5.048945</td><td>4.664208</td><td>3344</td></tr>\n",
       "</tbody>\n",
       "</table>\n"
      ],
      "text/latex": [
       "A data.table: 6 x 5\n",
       "\\begin{tabular}{lllll}\n",
       " lcites & instit\\_percown & lsal & lk\\_l & sic4\\\\\n",
       " <dbl> & <dbl> & <dbl> & <dbl> & <dbl>\\\\\n",
       "\\hline\n",
       "\t 5.9864521 & 59.41 & 8.597919 & 4.755116 & 3341\\\\\n",
       "\t        NA & 88.32 & 6.662012 & 4.054750 & 4238\\\\\n",
       "\t 4.8520303 & 49.70 & 9.382903 & 5.083426 & 3254\\\\\n",
       "\t 0.6931472 & 17.53 & 4.543954 & 4.039936 & 3353\\\\\n",
       "\t        NA & 18.77 & 3.834667 & 3.817332 & 3322\\\\\n",
       "\t 3.3322046 & 74.46 & 5.048945 & 4.664208 & 3344\\\\\n",
       "\\end{tabular}\n"
      ],
      "text/markdown": [
       "\n",
       "A data.table: 6 x 5\n",
       "\n",
       "| lcites &lt;dbl&gt; | instit_percown &lt;dbl&gt; | lsal &lt;dbl&gt; | lk_l &lt;dbl&gt; | sic4 &lt;dbl&gt; |\n",
       "|---|---|---|---|---|\n",
       "| 5.9864521 | 59.41 | 8.597919 | 4.755116 | 3341 |\n",
       "|        NA | 88.32 | 6.662012 | 4.054750 | 4238 |\n",
       "| 4.8520303 | 49.70 | 9.382903 | 5.083426 | 3254 |\n",
       "| 0.6931472 | 17.53 | 4.543954 | 4.039936 | 3353 |\n",
       "|        NA | 18.77 | 3.834667 | 3.817332 | 3322 |\n",
       "| 3.3322046 | 74.46 | 5.048945 | 4.664208 | 3344 |\n",
       "\n"
      ],
      "text/plain": [
       "  lcites    instit_percown lsal     lk_l     sic4\n",
       "1 5.9864521 59.41          8.597919 4.755116 3341\n",
       "2        NA 88.32          6.662012 4.054750 4238\n",
       "3 4.8520303 49.70          9.382903 5.083426 3254\n",
       "4 0.6931472 17.53          4.543954 4.039936 3353\n",
       "5        NA 18.77          3.834667 3.817332 3322\n",
       "6 3.3322046 74.46          5.048945 4.664208 3344"
      ]
     },
     "metadata": {},
     "output_type": "display_data"
    }
   ],
   "source": [
    "dt %>%\n",
    "    as.data.table() %>%\n",
    "    # we will choose 1997 year\n",
    "    # the paper uses the average from 1995 to the end of the sample period (1999)\n",
    "    .[year == 1997] %>%\n",
    "    .[, .(lcites, instit_percown, lsal, lk_l, sic4)] %>%\n",
    "    head()"
   ]
  },
  {
   "cell_type": "code",
   "execution_count": 37,
   "metadata": {
    "vscode": {
     "languageId": "r"
    }
   },
   "outputs": [],
   "source": [
    "# fit with regression\n",
    "dt %>%\n",
    "    as.data.table() %>%\n",
    "    # we will choose 1997 year\n",
    "    # the paper uses the average from 1995 to the end of the sample period (1999)\n",
    "    .[year == 1997] %>%\n",
    "    .[, .(lcites, instit_percown, lsal, lk_l, sic4)] %>%\n",
    "    # convert sic4 to factor\n",
    "    .[, sic4 := as.factor(sic4)] %>%\n",
    "    lm(lcites ~ instit_percown + lsal + lk_l + sic4, data = .) -> model1"
   ]
  },
  {
   "cell_type": "code",
   "execution_count": 39,
   "metadata": {
    "vscode": {
     "languageId": "r"
    }
   },
   "outputs": [
    {
     "name": "stdout",
     "output_type": "stream",
     "text": [
      "\n",
      "===============================================\n",
      "                        Dependent variable:    \n",
      "                    ---------------------------\n",
      "                              lcites           \n",
      "-----------------------------------------------\n",
      "instit_percown                0.006*           \n",
      "                              (0.003)          \n",
      "                                               \n",
      "lsal                         0.643***          \n",
      "                              (0.045)          \n",
      "                                               \n",
      "lk_l                         0.573***          \n",
      "                              (0.134)          \n",
      "                                               \n",
      "-----------------------------------------------\n",
      "Observations                    449            \n",
      "R2                             0.644           \n",
      "Adjusted R2                    0.548           \n",
      "Residual Std. Error      1.326 (df = 353)      \n",
      "F Statistic           6.719*** (df = 95; 353)  \n",
      "===============================================\n",
      "Note:               *p<0.1; **p<0.05; ***p<0.01\n"
     ]
    }
   ],
   "source": [
    "stargazer(model1, type = \"text\", keep = c(\"instit_percown\", \"lsal\", \"lk_l\"))"
   ]
  },
  {
   "cell_type": "markdown",
   "metadata": {},
   "source": [
    "## Introducing panel data\n",
    "\n",
    "The paper uses panel data, which is a dataset that includes multiple observations for the same firms over time. In this case, the dataset includes observations for the same firms in multiple years.\n",
    "\n",
    "To make sure the program knows we are dealing with panel data, we need to use the `pdata.frame` to create a panel data frame. We will use the `plm` package to estimate the model.\n",
    "\n",
    "### Constructing the panel data frame\n",
    "\n",
    "When we construct the panel data frame, we need to specify the following:\n",
    "\n",
    "- The dataset\n",
    "- id variable: the variable that identifies the firms\n",
    "- time variable: the variable that identifies the date of the observations, which is the year in this case\n",
    "\n",
    "Before we start, it is important to know two concepts:\n",
    "\n",
    "- **balanced panel**: a panel dataset is balanced if all firms have observations for all years\n",
    "- **unbalanced panel**: a panel dataset is unbalanced if some firms have observations for some years"
   ]
  },
  {
   "cell_type": "code",
   "execution_count": 5,
   "metadata": {
    "vscode": {
     "languageId": "r"
    }
   },
   "outputs": [
    {
     "data": {
      "text/html": [
       "<table class=\"dataframe\">\n",
       "<caption>A data.table: 6 x 8</caption>\n",
       "<thead>\n",
       "\t<tr><th scope=col>num</th><th scope=col>coname</th><th scope=col>year</th><th scope=col>lcites</th><th scope=col>instit_percown</th><th scope=col>lsal</th><th scope=col>lk_l</th><th scope=col>sic4</th></tr>\n",
       "\t<tr><th scope=col>&lt;dbl&gt;</th><th scope=col>&lt;chr&gt;</th><th scope=col>&lt;dbl&gt;</th><th scope=col>&lt;dbl&gt;</th><th scope=col>&lt;dbl&gt;</th><th scope=col>&lt;dbl&gt;</th><th scope=col>&lt;dbl&gt;</th><th scope=col>&lt;dbl&gt;</th></tr>\n",
       "</thead>\n",
       "<tbody>\n",
       "\t<tr><td>1</td><td>3COM CORP</td><td>1991</td><td>3.332205</td><td>28.12</td><td>6.012218</td><td>4.145618</td><td>3341</td></tr>\n",
       "\t<tr><td>1</td><td>3COM CORP</td><td>1993</td><td>5.468060</td><td>80.27</td><td>6.717799</td><td>4.249634</td><td>3341</td></tr>\n",
       "\t<tr><td>1</td><td>3COM CORP</td><td>1994</td><td>6.025866</td><td>73.88</td><td>7.166506</td><td>4.327245</td><td>3341</td></tr>\n",
       "\t<tr><td>1</td><td>3COM CORP</td><td>1995</td><td>6.315358</td><td>81.69</td><td>7.752378</td><td>4.508022</td><td>3341</td></tr>\n",
       "\t<tr><td>1</td><td>3COM CORP</td><td>1996</td><td>5.777652</td><td>78.74</td><td>8.054238</td><td>4.582771</td><td>3341</td></tr>\n",
       "\t<tr><td>1</td><td>3COM CORP</td><td>1997</td><td>5.986452</td><td>59.41</td><td>8.597919</td><td>4.755116</td><td>3341</td></tr>\n",
       "</tbody>\n",
       "</table>\n"
      ],
      "text/latex": [
       "A data.table: 6 x 8\n",
       "\\begin{tabular}{llllllll}\n",
       " num & coname & year & lcites & instit\\_percown & lsal & lk\\_l & sic4\\\\\n",
       " <dbl> & <chr> & <dbl> & <dbl> & <dbl> & <dbl> & <dbl> & <dbl>\\\\\n",
       "\\hline\n",
       "\t 1 & 3COM CORP & 1991 & 3.332205 & 28.12 & 6.012218 & 4.145618 & 3341\\\\\n",
       "\t 1 & 3COM CORP & 1993 & 5.468060 & 80.27 & 6.717799 & 4.249634 & 3341\\\\\n",
       "\t 1 & 3COM CORP & 1994 & 6.025866 & 73.88 & 7.166506 & 4.327245 & 3341\\\\\n",
       "\t 1 & 3COM CORP & 1995 & 6.315358 & 81.69 & 7.752378 & 4.508022 & 3341\\\\\n",
       "\t 1 & 3COM CORP & 1996 & 5.777652 & 78.74 & 8.054238 & 4.582771 & 3341\\\\\n",
       "\t 1 & 3COM CORP & 1997 & 5.986452 & 59.41 & 8.597919 & 4.755116 & 3341\\\\\n",
       "\\end{tabular}\n"
      ],
      "text/markdown": [
       "\n",
       "A data.table: 6 x 8\n",
       "\n",
       "| num &lt;dbl&gt; | coname &lt;chr&gt; | year &lt;dbl&gt; | lcites &lt;dbl&gt; | instit_percown &lt;dbl&gt; | lsal &lt;dbl&gt; | lk_l &lt;dbl&gt; | sic4 &lt;dbl&gt; |\n",
       "|---|---|---|---|---|---|---|---|\n",
       "| 1 | 3COM CORP | 1991 | 3.332205 | 28.12 | 6.012218 | 4.145618 | 3341 |\n",
       "| 1 | 3COM CORP | 1993 | 5.468060 | 80.27 | 6.717799 | 4.249634 | 3341 |\n",
       "| 1 | 3COM CORP | 1994 | 6.025866 | 73.88 | 7.166506 | 4.327245 | 3341 |\n",
       "| 1 | 3COM CORP | 1995 | 6.315358 | 81.69 | 7.752378 | 4.508022 | 3341 |\n",
       "| 1 | 3COM CORP | 1996 | 5.777652 | 78.74 | 8.054238 | 4.582771 | 3341 |\n",
       "| 1 | 3COM CORP | 1997 | 5.986452 | 59.41 | 8.597919 | 4.755116 | 3341 |\n",
       "\n"
      ],
      "text/plain": [
       "  num coname    year lcites   instit_percown lsal     lk_l     sic4\n",
       "1 1   3COM CORP 1991 3.332205 28.12          6.012218 4.145618 3341\n",
       "2 1   3COM CORP 1993 5.468060 80.27          6.717799 4.249634 3341\n",
       "3 1   3COM CORP 1994 6.025866 73.88          7.166506 4.327245 3341\n",
       "4 1   3COM CORP 1995 6.315358 81.69          7.752378 4.508022 3341\n",
       "5 1   3COM CORP 1996 5.777652 78.74          8.054238 4.582771 3341\n",
       "6 1   3COM CORP 1997 5.986452 59.41          8.597919 4.755116 3341"
      ]
     },
     "metadata": {},
     "output_type": "display_data"
    }
   ],
   "source": [
    "# have a look at the dataset again\n",
    "dt %>%\n",
    "    as.data.table() %>%\n",
    "    .[, .(num, coname, year, lcites, instit_percown, lsal, lk_l, sic4)] %>%\n",
    "    head()"
   ]
  },
  {
   "cell_type": "markdown",
   "metadata": {},
   "source": [
    "In our dataset, the id variable is `num` and the time variable is `year`.\n",
    "Therefore, we could construct the panel data frame with those two\n",
    "variables."
   ]
  },
  {
   "cell_type": "code",
   "execution_count": 32,
   "metadata": {
    "vscode": {
     "languageId": "r"
    }
   },
   "outputs": [
    {
     "data": {
      "text/html": [
       "<table class=\"dataframe\">\n",
       "<caption>A pdata.frame: 6 x 8</caption>\n",
       "<thead>\n",
       "\t<tr><th></th><th scope=col>num</th><th scope=col>coname</th><th scope=col>year</th><th scope=col>lcites</th><th scope=col>instit_percown</th><th scope=col>lsal</th><th scope=col>lk_l</th><th scope=col>sic4</th></tr>\n",
       "\t<tr><th></th><th scope=col>&lt;fct&gt;</th><th scope=col>&lt;chr&gt;</th><th scope=col>&lt;fct&gt;</th><th scope=col>&lt;dbl&gt;</th><th scope=col>&lt;dbl&gt;</th><th scope=col>&lt;dbl&gt;</th><th scope=col>&lt;dbl&gt;</th><th scope=col>&lt;fct&gt;</th></tr>\n",
       "</thead>\n",
       "<tbody>\n",
       "\t<tr><th scope=row>1-1991</th><td>1</td><td>3COM CORP</td><td>1991</td><td>3.332205</td><td>28.12</td><td>6.012218</td><td>4.145618</td><td>3341</td></tr>\n",
       "\t<tr><th scope=row>1-1993</th><td>1</td><td>3COM CORP</td><td>1993</td><td>5.468060</td><td>80.27</td><td>6.717799</td><td>4.249634</td><td>3341</td></tr>\n",
       "\t<tr><th scope=row>1-1994</th><td>1</td><td>3COM CORP</td><td>1994</td><td>6.025866</td><td>73.88</td><td>7.166506</td><td>4.327245</td><td>3341</td></tr>\n",
       "\t<tr><th scope=row>1-1995</th><td>1</td><td>3COM CORP</td><td>1995</td><td>6.315358</td><td>81.69</td><td>7.752378</td><td>4.508022</td><td>3341</td></tr>\n",
       "\t<tr><th scope=row>1-1996</th><td>1</td><td>3COM CORP</td><td>1996</td><td>5.777652</td><td>78.74</td><td>8.054238</td><td>4.582771</td><td>3341</td></tr>\n",
       "\t<tr><th scope=row>1-1997</th><td>1</td><td>3COM CORP</td><td>1997</td><td>5.986452</td><td>59.41</td><td>8.597919</td><td>4.755116</td><td>3341</td></tr>\n",
       "</tbody>\n",
       "</table>\n"
      ],
      "text/latex": [
       "A pdata.frame: 6 x 8\n",
       "\\begin{tabular}{r|llllllll}\n",
       "  & num & coname & year & lcites & instit\\_percown & lsal & lk\\_l & sic4\\\\\n",
       "  & <fct> & <chr> & <fct> & <dbl> & <dbl> & <dbl> & <dbl> & <fct>\\\\\n",
       "\\hline\n",
       "\t1-1991 & 1 & 3COM CORP & 1991 & 3.332205 & 28.12 & 6.012218 & 4.145618 & 3341\\\\\n",
       "\t1-1993 & 1 & 3COM CORP & 1993 & 5.468060 & 80.27 & 6.717799 & 4.249634 & 3341\\\\\n",
       "\t1-1994 & 1 & 3COM CORP & 1994 & 6.025866 & 73.88 & 7.166506 & 4.327245 & 3341\\\\\n",
       "\t1-1995 & 1 & 3COM CORP & 1995 & 6.315358 & 81.69 & 7.752378 & 4.508022 & 3341\\\\\n",
       "\t1-1996 & 1 & 3COM CORP & 1996 & 5.777652 & 78.74 & 8.054238 & 4.582771 & 3341\\\\\n",
       "\t1-1997 & 1 & 3COM CORP & 1997 & 5.986452 & 59.41 & 8.597919 & 4.755116 & 3341\\\\\n",
       "\\end{tabular}\n"
      ],
      "text/markdown": [
       "\n",
       "A pdata.frame: 6 x 8\n",
       "\n",
       "| <!--/--> | num &lt;fct&gt; | coname &lt;chr&gt; | year &lt;fct&gt; | lcites &lt;dbl&gt; | instit_percown &lt;dbl&gt; | lsal &lt;dbl&gt; | lk_l &lt;dbl&gt; | sic4 &lt;fct&gt; |\n",
       "|---|---|---|---|---|---|---|---|---|\n",
       "| 1-1991 | 1 | 3COM CORP | 1991 | 3.332205 | 28.12 | 6.012218 | 4.145618 | 3341 |\n",
       "| 1-1993 | 1 | 3COM CORP | 1993 | 5.468060 | 80.27 | 6.717799 | 4.249634 | 3341 |\n",
       "| 1-1994 | 1 | 3COM CORP | 1994 | 6.025866 | 73.88 | 7.166506 | 4.327245 | 3341 |\n",
       "| 1-1995 | 1 | 3COM CORP | 1995 | 6.315358 | 81.69 | 7.752378 | 4.508022 | 3341 |\n",
       "| 1-1996 | 1 | 3COM CORP | 1996 | 5.777652 | 78.74 | 8.054238 | 4.582771 | 3341 |\n",
       "| 1-1997 | 1 | 3COM CORP | 1997 | 5.986452 | 59.41 | 8.597919 | 4.755116 | 3341 |\n",
       "\n"
      ],
      "text/plain": [
       "       num coname    year lcites   instit_percown lsal     lk_l     sic4\n",
       "1-1991 1   3COM CORP 1991 3.332205 28.12          6.012218 4.145618 3341\n",
       "1-1993 1   3COM CORP 1993 5.468060 80.27          6.717799 4.249634 3341\n",
       "1-1994 1   3COM CORP 1994 6.025866 73.88          7.166506 4.327245 3341\n",
       "1-1995 1   3COM CORP 1995 6.315358 81.69          7.752378 4.508022 3341\n",
       "1-1996 1   3COM CORP 1996 5.777652 78.74          8.054238 4.582771 3341\n",
       "1-1997 1   3COM CORP 1997 5.986452 59.41          8.597919 4.755116 3341"
      ]
     },
     "metadata": {},
     "output_type": "display_data"
    }
   ],
   "source": [
    "dt %>%\n",
    "    as.data.table() %>%\n",
    "    .[, .(num, coname, year, lcites, instit_percown, lsal, lk_l, sic4)] %>%\n",
    "    # convert sic4 to factor\n",
    "    .[, sic4 := as.factor(sic4)] %>%\n",
    "    pdata.frame(index = c(\"num\", \"year\")) -> pdt\n",
    "\n",
    "head(pdt)"
   ]
  },
  {
   "cell_type": "code",
   "execution_count": 33,
   "metadata": {
    "vscode": {
     "languageId": "r"
    }
   },
   "outputs": [
    {
     "data": {
      "text/html": [
       "FALSE"
      ],
      "text/latex": [
       "FALSE"
      ],
      "text/markdown": [
       "FALSE"
      ],
      "text/plain": [
       "[1] FALSE"
      ]
     },
     "metadata": {},
     "output_type": "display_data"
    }
   ],
   "source": [
    "# check if the dataset is balanced\n",
    "is.pbalanced(pdt)"
   ]
  },
  {
   "cell_type": "code",
   "execution_count": 29,
   "metadata": {
    "vscode": {
     "languageId": "r"
    }
   },
   "outputs": [
    {
     "data": {
      "text/plain": [
       "1991 1992 1993 1994 1995 1996 1997 1998 1999 \n",
       " 750  671  759  742  715  702  674  625  570 "
      ]
     },
     "metadata": {},
     "output_type": "display_data"
    }
   ],
   "source": [
    "pdt$year %>% summary()"
   ]
  },
  {
   "cell_type": "code",
   "execution_count": 10,
   "metadata": {
    "vscode": {
     "languageId": "r"
    }
   },
   "outputs": [
    {
     "data": {
      "text/plain": [
       "Unbalanced Panel: n = 803, T = 2-9, N = 6208"
      ]
     },
     "metadata": {},
     "output_type": "display_data"
    }
   ],
   "source": [
    "# check dimensions\n",
    "pdim(pdt)"
   ]
  },
  {
   "cell_type": "markdown",
   "metadata": {},
   "source": [
    "Notice we have `6208` observations, whereas the authors used `4205` observations. Since the authors did not explain how they selected the observations, we will use all the observations in the dataset."
   ]
  },
  {
   "cell_type": "code",
   "execution_count": 40,
   "metadata": {
    "vscode": {
     "languageId": "r"
    }
   },
   "outputs": [
    {
     "name": "stdout",
     "output_type": "stream",
     "text": [
      "\n",
      "==========================================\n",
      "                   Dependent variable:    \n",
      "               ---------------------------\n",
      "                         lcites           \n",
      "------------------------------------------\n",
      "instit_percown          0.006***          \n",
      "                         (0.001)          \n",
      "                                          \n",
      "lsal                    0.568***          \n",
      "                         (0.014)          \n",
      "                                          \n",
      "lk_l                    0.433***          \n",
      "                         (0.044)          \n",
      "                                          \n",
      "------------------------------------------\n",
      "Observations              4,025           \n",
      "R2                        0.582           \n",
      "Adjusted R2               0.566           \n",
      "F Statistic    36.950*** (df = 146; 3878) \n",
      "==========================================\n",
      "Note:          *p<0.1; **p<0.05; ***p<0.01\n"
     ]
    }
   ],
   "source": [
    "# now we will run the same regression with plm package\n",
    "# we will just run the pooled OLS model with clustered standard errors\n",
    "# we will use the same variables as in the previous regression\n",
    "# we will also use year as dummy variables\n",
    "pdt %>%\n",
    "    plm(lcites ~ instit_percown + lsal + lk_l + sic4 + year,\n",
    "                        model = \"pooling\", data = .) -> model2\n",
    "\n",
    "stargazer(model2, type = \"text\", keep = c(\"instit_percown\", \"lsal\", \"lk_l\"))"
   ]
  },
  {
   "cell_type": "code",
   "execution_count": 41,
   "metadata": {
    "vscode": {
     "languageId": "r"
    }
   },
   "outputs": [
    {
     "name": "stdout",
     "output_type": "stream",
     "text": [
      "\n",
      "==========================================\n",
      "                   Dependent variable:    \n",
      "               ---------------------------\n",
      "                                          \n",
      "------------------------------------------\n",
      "instit_percown          0.006***          \n",
      "                         (0.002)          \n",
      "                                          \n",
      "lsal                    0.568***          \n",
      "                         (0.036)          \n",
      "                                          \n",
      "lk_l                    0.433***          \n",
      "                         (0.092)          \n",
      "                                          \n",
      "==========================================\n",
      "==========================================\n",
      "Note:          *p<0.1; **p<0.05; ***p<0.01\n"
     ]
    }
   ],
   "source": [
    "# reference: https://www.yabin-da.com/notes_in_r/how-to-do-clustering-for-panel-data-model-in-r/\n",
    "# The first approach: vcovHC from the plm package\n",
    "# 'arellano' is the recommanded method as it does not \n",
    "# impose restrictions on the structure of the variance-covariance matrix.\n",
    "# cluster = 'group' indicates we cluster at county level\n",
    "# type = 'HC3' is for small-sample adjustment.\n",
    "\n",
    "# cluster standard errors\n",
    "coeftest(model2, vcov = vcovHC(model2, method = 'arellano',\n",
    "                                    cluster = 'group')) %>%\n",
    "stargazer(type = \"text\", keep = c(\"instit_percown\", \"lsal\", \"lk_l\"))"
   ]
  },
  {
   "cell_type": "markdown",
   "metadata": {},
   "source": [
    "As you can see that we got the almost same results as the authors. The coefficients are almost the same, but the standard errors are different. The authors might\n",
    "use different clustering methods to calculate the standard errors."
   ]
  },
  {
   "cell_type": "markdown",
   "metadata": {},
   "source": [
    "## Fixed effects and random effects\n",
    "\n",
    "When we estimate the model, we can use fixed effects or random effects. The fixed effects model is more restrictive than the random effects model. \n",
    "\n",
    "Fixed effects models involve including a set of dummy variables (also known as indicator variables) for each entity in the dataset. These dummy variables capture the individual-specific effects that do not change over time. By including these fixed effects, the model controls for any time-invariant characteristics of the entities that could potentially bias the estimates of the coefficients of interest."
   ]
  },
  {
   "cell_type": "code",
   "execution_count": null,
   "metadata": {
    "vscode": {
     "languageId": "r"
    }
   },
   "outputs": [],
   "source": []
  },
  {
   "cell_type": "markdown",
   "metadata": {},
   "source": []
  }
 ],
 "metadata": {
  "kernelspec": {
   "display_name": "R",
   "language": "R",
   "name": "ir"
  },
  "language_info": {
   "codemirror_mode": "r",
   "file_extension": ".r",
   "mimetype": "text/x-r-source",
   "name": "R",
   "pygments_lexer": "r",
   "version": "4.1.2"
  }
 },
 "nbformat": 4,
 "nbformat_minor": 2
}
