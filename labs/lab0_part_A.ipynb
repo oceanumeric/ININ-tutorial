{
 "cells": [
  {
   "cell_type": "markdown",
   "metadata": {},
   "source": [
    "# Lab 0 - Part I: Drama of Love\n",
    "\n",
    "In this lab, we will use python to simulate when two people will fall in love. After finishing this lab, you should be able to understand the basic concepts of python programming and how to use it to solve real-world problems. Before you start, here are some important things you need to know:\n",
    "\n",
    "- Please read the instructions and code templates carefully.\n",
    "- Please make sure you run all the code cells from top to bottom.\n",
    "- Please change the parts of the code that read `# CHANGE THIS` or `# YOUR CODE HERE`."
   ]
  },
  {
   "cell_type": "markdown",
   "metadata": {},
   "source": [
    "## Basic Syntax"
   ]
  },
  {
   "cell_type": "code",
   "execution_count": null,
   "metadata": {},
   "outputs": [],
   "source": [
    "# JUST RUN THE CODE TO SEE THE OUTPUT\n",
    "boy_name = \"Romeo\"\n",
    "girl_name = \"Juliet\"\n",
    "print(\"Romeo and Juliet are in love.\")\n",
    "print(f\"{boy_name} and {girl_name} are in love.\")"
   ]
  },
  {
   "cell_type": "code",
   "execution_count": null,
   "metadata": {},
   "outputs": [],
   "source": [
    "# CHANGE THE VALUES\n",
    "boy_name = \"put your name here\"\n",
    "girl_name = \"put your name here\"\n",
    "print(\"Romeo and Juliet are in love.\")\n",
    "print(f\"{boy_name} and {girl_name} are in love.\")"
   ]
  },
  {
   "cell_type": "code",
   "execution_count": null,
   "metadata": {},
   "outputs": [],
   "source": [
    "# notice we are not using quotes for numbers\n",
    "a = 2\n",
    "b = 3\n",
    "c = a + b\n",
    "d = True\n",
    "e = False\n",
    "print(a, b, c, d, e)\n",
    "print(\"The sum of a and b is\", c)\n",
    "print(\"== means equal to\", a == b)\n",
    "print(\"== means equal to\", c == a + b)\n",
    "print(\"!= means not equal to\", a != b)\n",
    "print(\"> means greater than\", a > b)\n",
    "print(\"< means less than\", a < b)"
   ]
  },
  {
   "cell_type": "code",
   "execution_count": null,
   "metadata": {},
   "outputs": [],
   "source": [
    "# Let's construct a list\n",
    "list_of_numbers = [1, 2, 3, 4, 5]\n",
    "print(\"The list of numbers is\", list_of_numbers)\n",
    "for x in list_of_numbers:\n",
    "    print(\"-\" * 10)\n",
    "    print(x)\n",
    "    print(\"My favorite number is\", x)\n",
    "    print(x+3)"
   ]
  },
  {
   "cell_type": "markdown",
   "metadata": {},
   "source": [
    "## When do two people fall in love?\n",
    "\n",
    "It is safe to say that two people fall in love when they have a lot in common. Now, run the following code to see what kind of table we can create to represent the commonalities between two people."
   ]
  },
  {
   "cell_type": "code",
   "execution_count": null,
   "metadata": {},
   "outputs": [],
   "source": [
    "import pandas as pd  # import the pandas library\n",
    "\n",
    "names = [\"Romeo\", \"Juliet\", \"Hamlet\", \"Ophelia\"]\n",
    "gender = [\"male\", \"female\", \"male\", \"female\"]\n",
    "ages = [16, 14, 30, 28]\n",
    "like_colors = ['red', 'red', 'blue', 'pink']\n",
    "\n",
    "df = pd.DataFrame({\n",
    "    \"name\": names,\n",
    "    \"gender\": gender,\n",
    "    \"age\": ages,\n",
    "    \"like_colors\": like_colors\n",
    "})\n",
    "\n",
    "df"
   ]
  },
  {
   "cell_type": "code",
   "execution_count": null,
   "metadata": {},
   "outputs": [],
   "source": [
    "# to simulate a real world data, we write a function to generate random data\n",
    "def generate_people(number_of_people: int):\n",
    "\n",
    "    # import libraries we will use\n",
    "    import random\n",
    "    import pandas as pd\n",
    "\n",
    "    # set random seed for reproducibility\n",
    "    random.seed(666)\n",
    "\n",
    "    # generate random names with 6 characters\n",
    "    names = [''.join(random.choices('abcdefghijklmnopqrstuvwxyz', k=6)) for _ in range(number_of_people)]\n",
    "\n",
    "    # generate ages between 16 and 60\n",
    "    ages = [random.randint(16, 60) for _ in range(number_of_people)]\n",
    "\n",
    "    # generate colors from rainbow colors\n",
    "    rainbow_colors = ['red', 'orange', 'yellow', 'green', 'blue', 'indigo', 'violet']\n",
    "    like_colors = [random.choice(rainbow_colors) for _ in range(number_of_people)]\n",
    "\n",
    "    # generate genders (assuming binary gender)\n",
    "    genders = [random.choice(['Male', 'Female']) for _ in range(number_of_people)]\n",
    "\n",
    "    # Create a DataFrame\n",
    "    df = pd.DataFrame({\n",
    "        'Name': names,\n",
    "        'Age': ages,\n",
    "        'Like_Color': like_colors,\n",
    "        'Gender': genders\n",
    "    })\n",
    "\n",
    "    return df"
   ]
  },
  {
   "cell_type": "code",
   "execution_count": null,
   "metadata": {},
   "outputs": [],
   "source": [
    "# CHANGE THE NUMBER OF PEOPLE\n",
    "# please use an even number that is less or equal to 20\n",
    "number_of_people = 4 \n",
    "random_people = generate_people(number_of_people)\n",
    "random_people"
   ]
  },
  {
   "cell_type": "markdown",
   "metadata": {},
   "source": [
    "Now, I will generate a table that will have 20 observations and check if two people fall in love by:\n",
    "\n",
    "- Checking if they have the same favorite color.\n",
    "- Assuming the age difference is less than 5 years.\n",
    "- No assumptions on gender, meaning that two people can fall in love regardless\n",
    "    of their gender."
   ]
  },
  {
   "cell_type": "code",
   "execution_count": null,
   "metadata": {},
   "outputs": [],
   "source": [
    "simulated_data = generate_people(20)\n",
    "simulated_data"
   ]
  },
  {
   "cell_type": "markdown",
   "metadata": {},
   "source": [
    "Since we have 20 people, we will match each person with every other person to see if they can fall in love or not. Now, let's start from the first person - **lxlnov**."
   ]
  },
  {
   "cell_type": "code",
   "execution_count": null,
   "metadata": {},
   "outputs": [],
   "source": [
    "# get lxlnov profile\n",
    "lxlnov_profile = simulated_data[simulated_data['Name'] == 'lxlnvo'].copy()\n",
    "lxlnov_profile['age_diff_with_lxlnvo'] = None\n",
    "lxlnov_profile['color_match_with_lxlnvo'] = None\n",
    "lxlnov_profile"
   ]
  },
  {
   "cell_type": "code",
   "execution_count": null,
   "metadata": {},
   "outputs": [],
   "source": [
    "# begin the comparison\n",
    "def match_profile_with_lxlnov(lxlnov_profile, simulated_data):\n",
    "\n",
    "    # drop lxlnov from the simulated_data\n",
    "    simulated_data = simulated_data[simulated_data['Name'] != 'lxlnvo']\n",
    "\n",
    "    for i, row in simulated_data.iterrows():\n",
    "        age_diff = abs(lxlnov_profile['Age'].values[0] - row['Age'])\n",
    "        color_match = lxlnov_profile['Like_Color'].values[0] == row['Like_Color']\n",
    "        temp_row = row.copy()\n",
    "        temp_row['age_diff_with_lxlnvo'] = age_diff\n",
    "        temp_row['color_match_with_lxlnvo'] = color_match\n",
    "\n",
    "        # make temp_row a DataFrame\n",
    "        temp_df = pd.DataFrame([temp_row])\n",
    "\n",
    "        # append temp_df to lxlnov_profile\n",
    "        lxlnov_profile = pd.concat([lxlnov_profile, temp_df], ignore_index=True)\n",
    "\n",
    "    return lxlnov_profile\n",
    "\n",
    "matched_profile = match_profile_with_lxlnov(lxlnov_profile, simulated_data)\n",
    "\n",
    "matched_profile"
   ]
  },
  {
   "cell_type": "code",
   "execution_count": null,
   "metadata": {},
   "outputs": [],
   "source": [
    "# only age_diff_with_lxlnvo <= 5 and color_match_with_lxlnvo == True\n",
    "matched_profile[\n",
    "    (matched_profile['age_diff_with_lxlnvo'] <= 5)\n",
    "    & (matched_profile['color_match_with_lxlnvo'] == True)\n",
    "    ]"
   ]
  },
  {
   "cell_type": "markdown",
   "metadata": {},
   "source": [
    "The above code shows that there are 2 people who can fall in love with **lxlnov**:\n",
    "\n",
    "- glfaln, with age 46 and favorite color yellow.\n",
    "- suuzym, with age 36 and favorite color yellow."
   ]
  },
  {
   "cell_type": "markdown",
   "metadata": {},
   "source": [
    "## Why do people move to the big city?\n",
    "\n",
    "People move to the big city for various reasons. Some people move to the big city to find love, while others move to the big city to find a job. In this lab, we will focus on the former. We will see whether the chances of finding love are higher in the big city than in the countryside."
   ]
  },
  {
   "cell_type": "code",
   "execution_count": null,
   "metadata": {},
   "outputs": [],
   "source": [
    "def simiulate_big_city(population_size: int):\n",
    "\n",
    "    # generate random data\n",
    "    big_city_data = generate_people(population_size)\n",
    "\n",
    "    # get one random profile\n",
    "    one_profile = big_city_data.sample(1)\n",
    "\n",
    "    print(\"One random profile from the big city data\")\n",
    "    print(one_profile)\n",
    "\n",
    "    # get the matched profile\n",
    "    matched_profile = match_profile_with_lxlnov(one_profile, big_city_data)\n",
    "\n",
    "    # filter the matched profile\n",
    "\n",
    "    matched_profile = matched_profile[\n",
    "        (matched_profile['age_diff_with_lxlnvo'] <= 5)\n",
    "        & (matched_profile['color_match_with_lxlnvo'] == True)\n",
    "    ]\n",
    "\n",
    "    return matched_profile"
   ]
  },
  {
   "cell_type": "code",
   "execution_count": null,
   "metadata": {},
   "outputs": [],
   "source": [
    "city_population = 500\n",
    "city_matched_profile = simiulate_big_city(city_population)\n",
    "city_matched_profile"
   ]
  },
  {
   "cell_type": "markdown",
   "metadata": {},
   "source": [
    "## A little bit psychology\n",
    "\n",
    "We have assumed that people fall in love when they have a lot in common. However, there are some theories that suggest that people fall in love when they are different. This is known as the \"opposites attract\" theory. For now, we will not\n",
    "consider this theory. We will only consider the \"birds of a feather flock together\" theory.\n",
    "\n",
    "To make our simulation more realistic, we will add five factors that could 'define'\n",
    "our personality:\n",
    "\n",
    "- **Openness**: How open-minded a person is.\n",
    "- **Conscientiousness**: How organized and responsible a person is.\n",
    "- **Extraversion**: How outgoing and social a person is.\n",
    "- **Agreeableness**: How kind and compassionate a person is.\n",
    "- **Neuroticism**: How sensitive and nervous a person is.\n",
    "\n",
    "For each factor, we will assume it is a continuous variable between 0 and 100, where 0 is the lowest and 100 is the highest. **We also assume that the value of each factor is normally distributed.**\n",
    "\n",
    "$$\n",
    "\\text{Factor} \\sim \\mathcal{N}(\\mu = 50, \\sigma = 10)\n",
    "$$\n",
    "\n",
    "where $\\mu$ is the mean and $\\sigma$ is the standard deviation.\n",
    "\n",
    "From now on, we will drop color and focus on the five factors mentioned above."
   ]
  },
  {
   "cell_type": "code",
   "execution_count": null,
   "metadata": {},
   "outputs": [],
   "source": [
    "def generate_people2(number_of_people: int):\n",
    "\n",
    "    # import libraries we will use\n",
    "    import random\n",
    "    import pandas as pd\n",
    "\n",
    "    # set random seed for reproducibility\n",
    "    random.seed(666)\n",
    "\n",
    "    # generate random names with 6 characters\n",
    "    names = [''.join(random.choices('abcdefghijklmnopqrstuvwxyz', k=6)) for _ in range(number_of_people)]\n",
    "\n",
    "    # generate ages between 16 and 60\n",
    "    ages = [random.randint(16, 60) for _ in range(number_of_people)]\n",
    "\n",
    "    # generate genders (assuming binary gender)\n",
    "    genders = [random.choice(['Male', 'Female']) for _ in range(number_of_people)]\n",
    "\n",
    "    # generate openess following a normal distribution with mean 50 and standard deviation 10\n",
    "    openness = [random.gauss(50, 10) for _ in range(number_of_people)]\n",
    "\n",
    "    # generate conscientiousness following a normal distribution with mean 50 and standard deviation 10\n",
    "    conscientiousness = [random.gauss(50, 10) for _ in range(number_of_people)]\n",
    "\n",
    "    # generate extraversion following a normal distribution with mean 50 and standard deviation 10\n",
    "    extraversion = [random.gauss(50, 10) for _ in range(number_of_people)]\n",
    "\n",
    "    # generate agreeableness following a normal distribution with mean 50 and standard deviation 10\n",
    "    agreeableness = [random.gauss(50, 10) for _ in range(number_of_people)]\n",
    "\n",
    "    # generate neuroticism following a normal distribution with mean 50 and standard deviation 10\n",
    "    neuroticism = [random.gauss(50, 10) for _ in range(number_of_people)]\n",
    "\n",
    "    # Create a DataFrame\n",
    "    df = pd.DataFrame({\n",
    "        'Name': names,\n",
    "        'Age': ages,\n",
    "        'gender': genders,\n",
    "        'openness': openness,\n",
    "        'conscientiousness': conscientiousness,\n",
    "        'extraversion': extraversion,\n",
    "        'agreeableness': agreeableness,\n",
    "        'neuroticism': neuroticism\n",
    "    })\n",
    "\n",
    "    # round the values to 2 decimal places\n",
    "    df = df.round(2)\n",
    "\n",
    "    return df\n"
   ]
  },
  {
   "cell_type": "code",
   "execution_count": null,
   "metadata": {},
   "outputs": [],
   "source": [
    "size_of_population = 10\n",
    "simulated_data2 = generate_people2(size_of_population)\n",
    "simulated_data2"
   ]
  },
  {
   "cell_type": "markdown",
   "metadata": {},
   "source": [
    "## The Perfect Love\n",
    "\n",
    "Now, we will define the perfect love. We will assume that two people fall in love when:\n",
    "\n",
    "- The age difference is less than 5 years.\n",
    "- The absolute difference between the two people's factors is less than 10.\n",
    "\n",
    "Now, let's see whether we could find the perfect love for a random person."
   ]
  },
  {
   "cell_type": "code",
   "execution_count": null,
   "metadata": {},
   "outputs": [],
   "source": [
    "def perfect_match(simulated_data, absolute_age_diff=5, absolute_personality_diff=10):\n",
    "\n",
    "    # get a random profile\n",
    "    one_profile = simulated_data.sample(1)\n",
    "\n",
    "    print(\"One random profile from the simulated data\")\n",
    "    print(one_profile)\n",
    "\n",
    "    # drop the random profile from the simulated_data\n",
    "    simulated_data = simulated_data[simulated_data['Name'] != one_profile['Name'].values[0]]\n",
    "\n",
    "    # get the matched profile\n",
    "    for idx, row in simulated_data.iterrows():\n",
    "        # age difference\n",
    "        age_diff = abs(one_profile['Age'].values[0] - row['Age'])\n",
    "\n",
    "        # personality difference\n",
    "        personality_diff = abs(one_profile['openness'].values[0] - row['openness']) + \\\n",
    "                           abs(one_profile['conscientiousness'].values[0] - row['conscientiousness']) + \\\n",
    "                           abs(one_profile['extraversion'].values[0] - row['extraversion']) + \\\n",
    "                           abs(one_profile['agreeableness'].values[0] - row['agreeableness']) + \\\n",
    "                           abs(one_profile['neuroticism'].values[0] - row['neuroticism'])\n",
    "        \n",
    "        # make a copy of row\n",
    "        temp_row = row.copy()\n",
    "\n",
    "        # add age_diff and personality_diff to temp_row\n",
    "        temp_row['age_diff'] = age_diff\n",
    "\n",
    "        # add personality_diff to temp_row\n",
    "        temp_row['personality_diff'] = personality_diff\n",
    "\n",
    "        # make temp_row a DataFrame\n",
    "        temp_df = pd.DataFrame([temp_row])\n",
    "\n",
    "        # append temp_df to one_profile\n",
    "        one_profile = pd.concat([one_profile, temp_df], ignore_index=True)\n",
    "\n",
    "    \n",
    "    # filter the matched profile\n",
    "    matched_profile = one_profile[\n",
    "        (one_profile['age_diff'] <= absolute_age_diff)\n",
    "        & (one_profile['personality_diff'] <= absolute_personality_diff)\n",
    "    ]\n",
    "\n",
    "    return matched_profile\n",
    "\n",
    "perfect_match(simulated_data2, absolute_age_diff=5, absolute_personality_diff=10)"
   ]
  },
  {
   "cell_type": "code",
   "execution_count": null,
   "metadata": {},
   "outputs": [],
   "source": [
    "# CHANGE THE VALUES\n",
    "absolute_age_diff = 5\n",
    "absolute_personality_diff = 20  # change this value to a number unitl you get a match\n",
    "\n",
    "perfect_match(simulated_data2, absolute_age_diff, absolute_personality_diff)"
   ]
  },
  {
   "cell_type": "markdown",
   "metadata": {},
   "source": [
    "## Make it more realistic\n",
    "\n",
    "Now, we will write a function that will generate people with the following characteristics:\n",
    "\n",
    "- **Name**: A random string of 6 characters.\n",
    "- **Gender**: Male or Female (randomly selected).\n",
    "- **Age**: A random integer between 18 and 60.\n",
    "- **Openness**: A random integer between 0 and 100.\n",
    "- **Conscientiousness**: A random integer between 0 and 100.\n",
    "- **Extraversion**: A random integer between 0 and 100.\n",
    "- **Agreeableness**: A random integer between 0 and 100.\n",
    "- **Neuroticism**: A random integer between 0 and 100.\n",
    "- **Tolerance**: A random number between 10 and 70, which will be used to define the tolerance of the person (the lower the tolerance, the more picky the person is).\n",
    "- **Income**: A random number between 1000 and 10000 for monthly income.\n"
   ]
  },
  {
   "cell_type": "code",
   "execution_count": null,
   "metadata": {},
   "outputs": [],
   "source": [
    "def generate_people3(number_of_people: int):\n",
    "\n",
    "    # import libraries we will use\n",
    "    import random\n",
    "    import pandas as pd\n",
    "\n",
    "    # set random seed for reproducibility\n",
    "    random.seed(666)\n",
    "\n",
    "    # generate random names with 6 characters\n",
    "    names = [''.join(random.choices('abcdefghijklmnopqrstuvwxyz', k=6)) for _ in range(number_of_people)]\n",
    "\n",
    "    # generate ages between 16 and 60\n",
    "    ages = [random.randint(16, 60) for _ in range(number_of_people)]\n",
    "\n",
    "    # generate genders (assuming binary gender)\n",
    "    genders = [random.choice(['Male', 'Female']) for _ in range(number_of_people)]\n",
    "\n",
    "    # generate openess following a normal distribution with mean 50 and standard deviation 10\n",
    "    openness = [random.gauss(50, 10) for _ in range(number_of_people)]\n",
    "\n",
    "    # generate conscientiousness following a normal distribution with mean 50 and standard deviation 10\n",
    "    conscientiousness = [random.gauss(50, 10) for _ in range(number_of_people)]\n",
    "\n",
    "    # generate extraversion following a normal distribution with mean 50 and standard deviation 10\n",
    "    extraversion = [random.gauss(50, 10) for _ in range(number_of_people)]\n",
    "\n",
    "    # generate agreeableness following a normal distribution with mean 50 and standard deviation 10\n",
    "    agreeableness = [random.gauss(50, 10) for _ in range(number_of_people)]\n",
    "\n",
    "    # generate neuroticism following a normal distribution with mean 50 and standard deviation 10\n",
    "    neuroticism = [random.gauss(50, 10) for _ in range(number_of_people)]\n",
    "\n",
    "    # generate tolerance following a normal distribution with mean 30 and standard deviation 5\n",
    "    tolerance = [random.gauss(30, 7) for _ in range(number_of_people)]\n",
    "\n",
    "    # generate income that follows log-normal distribution with mean 8 and standard deviation 1\n",
    "    income = [random.lognormvariate(8, 1) for _ in range(number_of_people)]\n",
    "\n",
    "    # Create a DataFrame\n",
    "    df = pd.DataFrame({\n",
    "        'id': range(1, number_of_people+1),\n",
    "        'name': names,\n",
    "        'age': ages,\n",
    "        'gender': genders,\n",
    "        'openness': openness,\n",
    "        'conscientiousness': conscientiousness,\n",
    "        'extraversion': extraversion,\n",
    "        'agreeableness': agreeableness,\n",
    "        'neuroticism': neuroticism,\n",
    "        'tolerance': tolerance,\n",
    "        'income': income\n",
    "    })\n",
    "\n",
    "    # round the values to 2 decimal places\n",
    "    df = df.round(2)\n",
    "\n",
    "    return df"
   ]
  },
  {
   "cell_type": "code",
   "execution_count": null,
   "metadata": {},
   "outputs": [],
   "source": [
    "# test the function\n",
    "size_of_population = 10\n",
    "simulated_data3 = generate_people3(size_of_population)\n",
    "simulated_data3"
   ]
  },
  {
   "cell_type": "markdown",
   "metadata": {},
   "source": [
    "## Our matching algorithm\n",
    "\n",
    "Now, we will write a function that will match two people based on the following criteria:\n",
    "\n",
    "- The age difference is less than 10 years.\n",
    "- The absolute difference between the two people's factors is less than the tolerance of the person.\n",
    "- The income difference is less than 1000.\n",
    "- Only match people with different genders.\n",
    "\n",
    "Unlike the previous matching process, we will not match each person with every other person. In real life, people do not have the time to meet everyone. Moreover, people do not have resources to meet everyone in the city. Therefore, we will only match a person within a group of 500 people. This means:\n",
    "\n",
    "1. we will generate a table with the size of population say $N = 100,000$.\n",
    "2. We will reshuffle the table and divide it into 200 groups, each with 500 people.\n",
    "3. We will match each person with every other person in the group based on the criteria mentioned above."
   ]
  },
  {
   "cell_type": "code",
   "execution_count": null,
   "metadata": {},
   "outputs": [],
   "source": [
    "size_of_population = 1e5  # 100,000\n",
    "simulated_population = generate_people3(int(size_of_population))\n",
    "simulated_population.shape"
   ]
  },
  {
   "cell_type": "code",
   "execution_count": null,
   "metadata": {},
   "outputs": [],
   "source": [
    "simulated_population.head()"
   ]
  },
  {
   "cell_type": "code",
   "execution_count": null,
   "metadata": {},
   "outputs": [],
   "source": [
    "simulated_population.tail()"
   ]
  },
  {
   "cell_type": "code",
   "execution_count": null,
   "metadata": {},
   "outputs": [],
   "source": [
    "def match_maker(simulated_population, absolute_age_diff=10):\n",
    "\n",
    "    import pandas as pd\n",
    "\n",
    "    # get the size of the population\n",
    "    size_of_population = simulated_population.shape[0]\n",
    "\n",
    "    # shuffle the population\n",
    "    simulated_population = simulated_population.sample(frac=1).reset_index(drop=True)\n",
    "\n",
    "    # divide the population into groups, each group has 500 people\n",
    "    group_size = 500\n",
    "    number_of_groups = int(size_of_population / group_size)\n",
    "\n",
    "    # create an empty DataFrame\n",
    "    matched_profiles = pd.DataFrame()\n",
    "\n",
    "    for i in range(number_of_groups):\n",
    "        # get a group\n",
    "        group = simulated_population.iloc[i * group_size: (i + 1) * group_size]\n",
    "\n",
    "\n",
    "        # randomly select 50 profiles from the group\n",
    "        selected_profiles = group.sample(100).copy()\n",
    "\n",
    "        # drop the selected_profiles from the group\n",
    "        group = group[~group['id'].isin(selected_profiles['id'])]\n",
    "\n",
    "        # create a new column called 'matched_id' for the selected_profiles\n",
    "        selected_profiles['matched_id'] = None\n",
    "        selected_profiles['personality_diff'] = None\n",
    "        selected_profiles['age_diff'] = None\n",
    "        selected_profiles['income_diff'] = None\n",
    "\n",
    "        for idx, row in selected_profiles.iterrows():\n",
    "\n",
    "            # find the best match from the group for each row\n",
    "            columns_idx = ['age', 'income', 'gender', 'openness', 'conscientiousness', 'extraversion',\n",
    "                                            'agreeableness', 'neuroticism', 'income']\n",
    "            \n",
    "            for jdx, col in enumerate(columns_idx):\n",
    "                if jdx == 2:\n",
    "                    group[f'{col}_diff'] = (row[col] != group[col])\n",
    "                else: \n",
    "                    group[f'{col}_diff'] = abs(row[col] - group[col])\n",
    "\n",
    "                \n",
    "            # create a new column by adding all the differences from openess to neuroticism\n",
    "            group['personality_diff'] = group.iloc[:, 13:17].sum(axis=1)\n",
    "\n",
    "            group['within_tolerance'] = group['personality_diff'] <= group['tolerance']\n",
    "\n",
    "            # now filter the group\n",
    "            mathced_group = group[\n",
    "                (group['age_diff'] <= absolute_age_diff)\n",
    "                & (group['within_tolerance'] == True) &\n",
    "                (group['income_diff'] <= 1000) &\n",
    "                (group['gender_diff'] == True)\n",
    "            ]\n",
    "\n",
    "            # rank the matched_group_idx by personality_diff, age_diff, income_diff\n",
    "            mathced_group = mathced_group.sort_values(by=['personality_diff', 'age_diff', 'income_diff'], ascending=[True, True, True])\n",
    "\n",
    "            if mathced_group.shape[0] > 0:\n",
    "                best_match = mathced_group.head(1).copy()\n",
    "\n",
    "                # update the matched_id\n",
    "                selected_profiles.loc[idx, 'matched_id'] = best_match['id'].values[0]\n",
    "\n",
    "                # update the personality_diff\n",
    "                selected_profiles.loc[idx, 'personality_diff'] = best_match['personality_diff'].values[0]\n",
    "\n",
    "                # update the age_diff\n",
    "                selected_profiles.loc[idx, 'age_diff'] = best_match['age_diff'].values[0]\n",
    "\n",
    "                # update the income_diff\n",
    "                selected_profiles.loc[idx, 'income_diff'] = best_match['income_diff'].values[0]\n",
    "\n",
    "                # drop the best_match from the group\n",
    "                group = group[group['id'] != best_match['id'].values[0]]\n",
    "\n",
    "        \n",
    "        matched_profiles = pd.concat([matched_profiles, selected_profiles], ignore_index=True)\n",
    "\n",
    "\n",
    "    return matched_profiles"
   ]
  },
  {
   "cell_type": "code",
   "execution_count": null,
   "metadata": {},
   "outputs": [],
   "source": [
    "# it will take some time to run, please be patient\n",
    "foo = match_maker(simulated_population, absolute_age_diff=10)"
   ]
  },
  {
   "cell_type": "code",
   "execution_count": null,
   "metadata": {},
   "outputs": [],
   "source": [
    "foo.shape"
   ]
  },
  {
   "cell_type": "code",
   "execution_count": null,
   "metadata": {},
   "outputs": [],
   "source": [
    "foo[foo['matched_id'].notnull()].shape"
   ]
  },
  {
   "cell_type": "code",
   "execution_count": null,
   "metadata": {},
   "outputs": [],
   "source": [
    "foo.head()"
   ]
  },
  {
   "cell_type": "code",
   "execution_count": null,
   "metadata": {},
   "outputs": [],
   "source": [
    "foo.tail()"
   ]
  },
  {
   "cell_type": "code",
   "execution_count": null,
   "metadata": {},
   "outputs": [],
   "source": [
    "foo.sample(5)"
   ]
  },
  {
   "cell_type": "markdown",
   "metadata": {},
   "source": [
    "## Does Marriage make people happy?\n",
    "\n",
    "It is tricky to answer this question. Some people say that marriage makes people happy, while others say that marriage makes people unhappy. In this lab, we will not answer this question. Instead, we will assume that happiness is a function of the following factors:\n",
    "\n",
    "- **Income**: The higher the income, the happier the person is.\n",
    "- **Age**: It follows a quadratic function, it goes down until 40 and then goes up.\n",
    "- **Openness**: The higher the openness, the happier the person is.\n",
    "- **agreeableness**: The higher the agreeableness, the happier the person is.\n",
    "- **tolerance**: The higher the tolerance, the happier the person is.\n",
    "\n",
    "Therefore the formula for happiness is:\n",
    "\n",
    "$$\n",
    "\\text{Happiness} = 0.03 \\times \\text{Income} + 0.4 \\times \\text{Openness} + 0.32 \\times \\text{Agreeableness} + 0.57 \\times \\text{Tolerance} +  0.02 \\times (\\text{Age} - 40)^2 \n",
    "$$\n",
    "\n",
    "Now, let's write a function that will calculate the happiness of a person."
   ]
  },
  {
   "cell_type": "code",
   "execution_count": null,
   "metadata": {},
   "outputs": [],
   "source": [
    "def calculate_happiness(dataframe):\n",
    "\n",
    "    # calculate the happiness\n",
    "    dataframe['happiness'] = 0.003 * dataframe['income'] +  0.4 * dataframe['openness'] + 0.32 * dataframe['agreeableness'] + 0.57 * dataframe['tolerance'] + 0.02 * (dataframe['age'] - 40)**2\n",
    "\n",
    "    # round the values to 2 decimal places\n",
    "    dataframe = dataframe.round(2)\n",
    "\n",
    "\n",
    "    return dataframe"
   ]
  },
  {
   "cell_type": "code",
   "execution_count": null,
   "metadata": {},
   "outputs": [],
   "source": [
    "foo_happiness = calculate_happiness(foo)"
   ]
  },
  {
   "cell_type": "code",
   "execution_count": null,
   "metadata": {},
   "outputs": [],
   "source": [
    "foo_happiness.sample(5)"
   ]
  },
  {
   "cell_type": "markdown",
   "metadata": {},
   "source": [
    "## Save the data\n",
    "\n",
    "Finally, we will save the data to a CSV file. We will save the following columns:\n",
    "\n",
    "- id\n",
    "- name\n",
    "- age\n",
    "- gender\n",
    "- income\n",
    "- openness\n",
    "- conscientiousness\n",
    "- extraversion\n",
    "- agreeableness\n",
    "- neuroticism\n",
    "- tolerance\n",
    "- matched_id\n",
    "- happiness"
   ]
  },
  {
   "cell_type": "code",
   "execution_count": null,
   "metadata": {},
   "outputs": [],
   "source": [
    "final_data = foo_happiness[\n",
    "    ['id', 'name', 'age', 'income', 'openness', 'conscientiousness', 'extraversion', 'agreeableness',\n",
    "     'neuroticism', 'tolerance', 'matched_id', 'happiness']\n",
    "]\n",
    "\n",
    "final_data.head()"
   ]
  },
  {
   "cell_type": "code",
   "execution_count": null,
   "metadata": {},
   "outputs": [],
   "source": [
    "final_data.shape"
   ]
  },
  {
   "cell_type": "code",
   "execution_count": null,
   "metadata": {},
   "outputs": [],
   "source": [
    "# save to a csv file\n",
    "final_data.to_csv('../data/marriage_data.csv', index=False)"
   ]
  },
  {
   "cell_type": "markdown",
   "metadata": {},
   "source": [
    "## Some music to relax\n",
    "\n",
    "Now, let's listen to some music about drama of love to relax.\n",
    "\n",
    "<iframe width=\"560\" height=\"315\" src=\"https://www.youtube.com/embed/i0li3YuA00A?si=Fkc6d5qBgQ_NwPWC\" title=\"YouTube video player\" frameborder=\"0\" allow=\"accelerometer; autoplay; clipboard-write; encrypted-media; gyroscope; picture-in-picture; web-share\" referrerpolicy=\"strict-origin-when-cross-origin\" allowfullscreen></iframe>"
   ]
  },
  {
   "cell_type": "markdown",
   "metadata": {},
   "source": [
    "## Reference of using ChatGPT\n",
    "\n",
    "- https://chat.openai.com/share/e61b6ef7-30ee-4252-ada2-77f554513754\n",
    "- Basics of using `dataframe` in python: https://chat.openai.com/share/b11ceba5-2362-4682-b0e2-44a733771088"
   ]
  },
  {
   "cell_type": "markdown",
   "metadata": {},
   "source": []
  }
 ],
 "metadata": {
  "kernelspec": {
   "display_name": "Python 3",
   "language": "python",
   "name": "python3"
  },
  "language_info": {
   "codemirror_mode": {
    "name": "ipython",
    "version": 3
   },
   "file_extension": ".py",
   "mimetype": "text/x-python",
   "name": "python",
   "nbconvert_exporter": "python",
   "pygments_lexer": "ipython3",
   "version": "3.10.10"
  }
 },
 "nbformat": 4,
 "nbformat_minor": 2
}
