{
 "cells": [
  {
   "cell_type": "markdown",
   "metadata": {},
   "source": [
    "# Lab 2 - Part B : The Global Race for AI Dominance and Its Implications\n",
    "\n",
    "Last lab, we just had a glimpse of the AI landscape by looking at the AI patents provided by [USPTO](https://www.uspto.gov/ip-policy/economic-research/research-datasets/artificial-intelligence-patent-dataset). However, we did not link the patents to the companies that filed them. In this lab, we will look at the companies that are leading the AI race.\n"
   ]
  },
  {
   "cell_type": "code",
   "execution_count": 1,
   "metadata": {
    "vscode": {
     "languageId": "r"
    }
   },
   "outputs": [],
   "source": [
    "library(pacman)\n",
    "# vtree: sudo apt-get install libcairo2-dev librsvg2-dev\n",
    "# https://yulab-smu.top/treedata-book/index.html\n",
    "p_load(readxl, stringr, data.table, magrittr, ggplot2, SPARQL,\n",
    "        eurostat, XML, RCurl, knitr, vtree, pheatmap)\n",
    "\n",
    "# color palette\n",
    "gray_scale <- c('#F3F4F8','#D2D4DA', '#B3B5BD', \n",
    "                '#9496A1', '#7d7f89', '#777986', \n",
    "                '#656673', '#5B5D6B', '#4d505e',\n",
    "                '#404352', '#2b2d3b', '#282A3A',\n",
    "                '#1b1c2a', '#191a2b',\n",
    "                '#141626', '#101223')\n",
    "\n",
    "ft_palette <- c('#990F3D', '#0D7680', '#0F5499', '#262A33', '#FFF1E5')\n",
    "\n",
    "ft_contrast <- c('#F83', '#00A0DD', '#C00', '#006F9B', '#F2DFCE', '#FF7FAA',\n",
    "                 '#00994D', '#593380')\n",
    "\n",
    "peep_head <- function(dt, n = 5) {\n",
    "    dt %>%\n",
    "        head(n) %>%\n",
    "        kable()\n",
    "}\n",
    "\n",
    "peep_sample <- function(dt, n = 5) {\n",
    "    dt %>%\n",
    "        .[sample(.N, n)] %>%\n",
    "        kable()\n",
    "}\n",
    "\n",
    "peep_tail <- function(dt, n = 5) {\n",
    "    dt %>%\n",
    "        tail(n) %>%\n",
    "        kable()\n",
    "}"
   ]
  },
  {
   "cell_type": "code",
   "execution_count": 2,
   "metadata": {
    "vscode": {
     "languageId": "r"
    }
   },
   "outputs": [],
   "source": [
    "aipatents <- fread(cmd = 'unzip -p ../data/ai_model_predictions.tsv.zip ai_model_predictions.tsv')"
   ]
  },
  {
   "cell_type": "markdown",
   "metadata": {},
   "source": [
    "## AI patents from 2012 to 2016\n",
    "\n",
    "To start with, we will use the same dataset that we used in the last lab and again will look at the AI patents from 2012 to 2016. To link the dataset, we will download the data from\n",
    "the following resources:\n",
    "\n",
    "- dataset download page: https://patentsview.org/download/data-download-tables\n",
    "- dataset documentation: https://patentsview.org/download/data-download-dictionary\n",
    "- dataset model overview: https://s3.amazonaws.com/community.patentsview.org/PatentsView+Data+Logic+Diagram+FINAL.jpg\n",
    "\n",
    "The main dataset we will use is `g_assignee_disambiguated`. Please read this from [ChatGPT](https://chat.openai.com/share/10f3c719-a844-4ae7-aed9-63d388bed13e) to learn the difference\n",
    "between applicant and assignee."
   ]
  },
  {
   "cell_type": "code",
   "execution_count": 17,
   "metadata": {
    "vscode": {
     "languageId": "r"
    }
   },
   "outputs": [],
   "source": [
    "# only focus on patents from 2012 to 2016\n",
    "aipatents %>%\n",
    "    .[flag_patent == 1 & predict50_any_ai == 1] %>%\n",
    "    # only keep rows that include 'predict50' in the column name\n",
    "    # and doc_id, appl_id, and pub_dt\n",
    "    .[, .SD, .SDcols = c('doc_id', 'appl_id', 'pub_dt', \n",
    "                            grep('predict50', names(.), value = TRUE))] %>%\n",
    "    # get year from pub_dt, pub_dt is IDate\n",
    "    .[, pub_year := as.numeric(format(pub_dt, '%Y'))] %>%\n",
    "    .[pub_year >= 2012 & pub_year <=2016] %>%\n",
    "    unique(by = 'doc_id') -> aipatents_2012_2016"
   ]
  },
  {
   "cell_type": "code",
   "execution_count": 18,
   "metadata": {
    "vscode": {
     "languageId": "r"
    }
   },
   "outputs": [
    {
     "name": "stdout",
     "output_type": "stream",
     "text": [
      "Classes ‘data.table’ and 'data.frame':\t205185 obs. of  13 variables:\n",
      " $ doc_id            : chr  \"8650542\" \"8346687\" \"8489524\" \"9213939\" ...\n",
      " $ appl_id           : chr  \"13072165\" \"12560921\" \"13084692\" \"13785216\" ...\n",
      " $ pub_dt            : IDate, format: \"2014-02-11\" \"2013-01-01\" ...\n",
      " $ predict50_any_ai  : int  1 1 1 1 1 1 1 1 1 1 ...\n",
      " $ predict50_ml      : int  0 0 1 1 0 0 0 0 1 1 ...\n",
      " $ predict50_evo     : int  0 0 0 0 0 0 0 0 0 0 ...\n",
      " $ predict50_nlp     : int  1 0 0 0 0 0 0 0 0 0 ...\n",
      " $ predict50_speech  : int  0 0 0 0 0 0 0 0 0 0 ...\n",
      " $ predict50_vision  : int  0 1 0 0 1 0 0 1 1 0 ...\n",
      " $ predict50_kr      : int  1 1 1 1 1 1 1 0 1 0 ...\n",
      " $ predict50_planning: int  1 0 1 1 0 0 0 0 1 0 ...\n",
      " $ predict50_hardware: int  1 1 0 1 1 0 0 0 1 0 ...\n",
      " $ pub_year          : num  2014 2013 2013 2015 2012 ...\n",
      " - attr(*, \".internal.selfref\")=<externalptr> \n"
     ]
    }
   ],
   "source": [
    "str(aipatents_2012_2016)"
   ]
  },
  {
   "cell_type": "code",
   "execution_count": 10,
   "metadata": {
    "vscode": {
     "languageId": "r"
    }
   },
   "outputs": [],
   "source": [
    "assignee <- fread(cmd = \"unzip -p ../data/g_assignee_disambiguated.tsv.zip g_assignee_disambiguated.tsv\")"
   ]
  },
  {
   "cell_type": "code",
   "execution_count": 11,
   "metadata": {
    "vscode": {
     "languageId": "r"
    }
   },
   "outputs": [
    {
     "name": "stdout",
     "output_type": "stream",
     "text": [
      "Classes ‘data.table’ and 'data.frame':\t8024360 obs. of  8 variables:\n",
      " $ patent_id                              : chr  \"4488683\" \"5856666\" \"5204210\" \"5302149\" ...\n",
      " $ assignee_sequence                      : int  0 0 0 1 0 0 0 0 0 0 ...\n",
      " $ assignee_id                            : chr  \"dbc3c0e0-4e68-4959-ba5b-74c7910e2247\" \"529d06ec-c25c-405b-a2e2-366ee31e4a6d\" \"65a958d3-c7ac-424c-9f8d-7b9767b0a28f\" \"5d2d4857-9df8-4c18-919d-1311d3a1cb85\" ...\n",
      " $ disambig_assignee_individual_name_first: chr  \"\" \"\" \"\" \"\" ...\n",
      " $ disambig_assignee_individual_name_last : chr  \"\" \"\" \"\" \"\" ...\n",
      " $ disambig_assignee_organization         : chr  \"Metal Works Ramat David\" \"U.S. Philips Corporation\" \"Xerox Corporation\" \"Commonwealth Scientific and Industrial Research Organisation\" ...\n",
      " $ assignee_type                          : int  3 2 2 7 3 3 3 3 2 3 ...\n",
      " $ location_id                            : chr  \"50dc5d46-16c8-11ed-9b5f-1234bde3cd05\" \"92237ca2-16c8-11ed-9b5f-1234bde3cd05\" \"0cd1998f-16c8-11ed-9b5f-1234bde3cd05\" \"4d36742f-16c8-11ed-9b5f-1234bde3cd05\" ...\n",
      " - attr(*, \".internal.selfref\")=<externalptr> \n"
     ]
    }
   ],
   "source": [
    "str(assignee)"
   ]
  },
  {
   "cell_type": "markdown",
   "metadata": {},
   "source": [
    "## Let's validate the dataset\n",
    "\n",
    "We have `patent_id` from the `assignee` dataset and `doc_id` from the `aipatents` dataset.\n",
    "Before we link the datasets, we need to make sure that those two IDs are indeed referring\n",
    "to the same patent."
   ]
  },
  {
   "cell_type": "code",
   "execution_count": 12,
   "metadata": {
    "vscode": {
     "languageId": "r"
    }
   },
   "outputs": [
    {
     "data": {
      "text/html": [
       "<table class=\"dataframe\">\n",
       "<caption>A data.table: 6 × 8</caption>\n",
       "<thead>\n",
       "\t<tr><th scope=col>patent_id</th><th scope=col>assignee_sequence</th><th scope=col>assignee_id</th><th scope=col>disambig_assignee_individual_name_first</th><th scope=col>disambig_assignee_individual_name_last</th><th scope=col>disambig_assignee_organization</th><th scope=col>assignee_type</th><th scope=col>location_id</th></tr>\n",
       "\t<tr><th scope=col>&lt;chr&gt;</th><th scope=col>&lt;int&gt;</th><th scope=col>&lt;chr&gt;</th><th scope=col>&lt;chr&gt;</th><th scope=col>&lt;chr&gt;</th><th scope=col>&lt;chr&gt;</th><th scope=col>&lt;int&gt;</th><th scope=col>&lt;chr&gt;</th></tr>\n",
       "</thead>\n",
       "<tbody>\n",
       "\t<tr><td>4488683 </td><td>0</td><td>dbc3c0e0-4e68-4959-ba5b-74c7910e2247</td><td></td><td></td><td>Metal Works Ramat David                                     </td><td>3</td><td>50dc5d46-16c8-11ed-9b5f-1234bde3cd05</td></tr>\n",
       "\t<tr><td>5856666 </td><td>0</td><td>529d06ec-c25c-405b-a2e2-366ee31e4a6d</td><td></td><td></td><td>U.S. Philips Corporation                                    </td><td>2</td><td>92237ca2-16c8-11ed-9b5f-1234bde3cd05</td></tr>\n",
       "\t<tr><td>5204210 </td><td>0</td><td>65a958d3-c7ac-424c-9f8d-7b9767b0a28f</td><td></td><td></td><td>Xerox Corporation                                           </td><td>2</td><td>0cd1998f-16c8-11ed-9b5f-1234bde3cd05</td></tr>\n",
       "\t<tr><td>5302149 </td><td>1</td><td>5d2d4857-9df8-4c18-919d-1311d3a1cb85</td><td></td><td></td><td>Commonwealth Scientific and Industrial Research Organisation</td><td>7</td><td>4d36742f-16c8-11ed-9b5f-1234bde3cd05</td></tr>\n",
       "\t<tr><td>D397841 </td><td>0</td><td>54e9cc17-bcbd-43c8-9ee1-54063f734f3c</td><td></td><td></td><td>adidas AG                                                   </td><td>3</td><td>280c9de4-16c8-11ed-9b5f-1234bde3cd05</td></tr>\n",
       "\t<tr><td>11652542</td><td>0</td><td>6760fcf0-001d-41bc-b873-4a05b0fb0e6d</td><td></td><td></td><td>MITSUBISHI HEAVY INDUSTRIES, LTD.                           </td><td>3</td><td>42f90495-16c8-11ed-9b5f-1234bde3cd05</td></tr>\n",
       "</tbody>\n",
       "</table>\n"
      ],
      "text/latex": [
       "A data.table: 6 × 8\n",
       "\\begin{tabular}{llllllll}\n",
       " patent\\_id & assignee\\_sequence & assignee\\_id & disambig\\_assignee\\_individual\\_name\\_first & disambig\\_assignee\\_individual\\_name\\_last & disambig\\_assignee\\_organization & assignee\\_type & location\\_id\\\\\n",
       " <chr> & <int> & <chr> & <chr> & <chr> & <chr> & <int> & <chr>\\\\\n",
       "\\hline\n",
       "\t 4488683  & 0 & dbc3c0e0-4e68-4959-ba5b-74c7910e2247 &  &  & Metal Works Ramat David                                      & 3 & 50dc5d46-16c8-11ed-9b5f-1234bde3cd05\\\\\n",
       "\t 5856666  & 0 & 529d06ec-c25c-405b-a2e2-366ee31e4a6d &  &  & U.S. Philips Corporation                                     & 2 & 92237ca2-16c8-11ed-9b5f-1234bde3cd05\\\\\n",
       "\t 5204210  & 0 & 65a958d3-c7ac-424c-9f8d-7b9767b0a28f &  &  & Xerox Corporation                                            & 2 & 0cd1998f-16c8-11ed-9b5f-1234bde3cd05\\\\\n",
       "\t 5302149  & 1 & 5d2d4857-9df8-4c18-919d-1311d3a1cb85 &  &  & Commonwealth Scientific and Industrial Research Organisation & 7 & 4d36742f-16c8-11ed-9b5f-1234bde3cd05\\\\\n",
       "\t D397841  & 0 & 54e9cc17-bcbd-43c8-9ee1-54063f734f3c &  &  & adidas AG                                                    & 3 & 280c9de4-16c8-11ed-9b5f-1234bde3cd05\\\\\n",
       "\t 11652542 & 0 & 6760fcf0-001d-41bc-b873-4a05b0fb0e6d &  &  & MITSUBISHI HEAVY INDUSTRIES, LTD.                            & 3 & 42f90495-16c8-11ed-9b5f-1234bde3cd05\\\\\n",
       "\\end{tabular}\n"
      ],
      "text/markdown": [
       "\n",
       "A data.table: 6 × 8\n",
       "\n",
       "| patent_id &lt;chr&gt; | assignee_sequence &lt;int&gt; | assignee_id &lt;chr&gt; | disambig_assignee_individual_name_first &lt;chr&gt; | disambig_assignee_individual_name_last &lt;chr&gt; | disambig_assignee_organization &lt;chr&gt; | assignee_type &lt;int&gt; | location_id &lt;chr&gt; |\n",
       "|---|---|---|---|---|---|---|---|\n",
       "| 4488683  | 0 | dbc3c0e0-4e68-4959-ba5b-74c7910e2247 | <!----> | <!----> | Metal Works Ramat David                                      | 3 | 50dc5d46-16c8-11ed-9b5f-1234bde3cd05 |\n",
       "| 5856666  | 0 | 529d06ec-c25c-405b-a2e2-366ee31e4a6d | <!----> | <!----> | U.S. Philips Corporation                                     | 2 | 92237ca2-16c8-11ed-9b5f-1234bde3cd05 |\n",
       "| 5204210  | 0 | 65a958d3-c7ac-424c-9f8d-7b9767b0a28f | <!----> | <!----> | Xerox Corporation                                            | 2 | 0cd1998f-16c8-11ed-9b5f-1234bde3cd05 |\n",
       "| 5302149  | 1 | 5d2d4857-9df8-4c18-919d-1311d3a1cb85 | <!----> | <!----> | Commonwealth Scientific and Industrial Research Organisation | 7 | 4d36742f-16c8-11ed-9b5f-1234bde3cd05 |\n",
       "| D397841  | 0 | 54e9cc17-bcbd-43c8-9ee1-54063f734f3c | <!----> | <!----> | adidas AG                                                    | 3 | 280c9de4-16c8-11ed-9b5f-1234bde3cd05 |\n",
       "| 11652542 | 0 | 6760fcf0-001d-41bc-b873-4a05b0fb0e6d | <!----> | <!----> | MITSUBISHI HEAVY INDUSTRIES, LTD.                            | 3 | 42f90495-16c8-11ed-9b5f-1234bde3cd05 |\n",
       "\n"
      ],
      "text/plain": [
       "  patent_id assignee_sequence assignee_id                         \n",
       "1 4488683   0                 dbc3c0e0-4e68-4959-ba5b-74c7910e2247\n",
       "2 5856666   0                 529d06ec-c25c-405b-a2e2-366ee31e4a6d\n",
       "3 5204210   0                 65a958d3-c7ac-424c-9f8d-7b9767b0a28f\n",
       "4 5302149   1                 5d2d4857-9df8-4c18-919d-1311d3a1cb85\n",
       "5 D397841   0                 54e9cc17-bcbd-43c8-9ee1-54063f734f3c\n",
       "6 11652542  0                 6760fcf0-001d-41bc-b873-4a05b0fb0e6d\n",
       "  disambig_assignee_individual_name_first\n",
       "1                                        \n",
       "2                                        \n",
       "3                                        \n",
       "4                                        \n",
       "5                                        \n",
       "6                                        \n",
       "  disambig_assignee_individual_name_last\n",
       "1                                       \n",
       "2                                       \n",
       "3                                       \n",
       "4                                       \n",
       "5                                       \n",
       "6                                       \n",
       "  disambig_assignee_organization                               assignee_type\n",
       "1 Metal Works Ramat David                                      3            \n",
       "2 U.S. Philips Corporation                                     2            \n",
       "3 Xerox Corporation                                            2            \n",
       "4 Commonwealth Scientific and Industrial Research Organisation 7            \n",
       "5 adidas AG                                                    3            \n",
       "6 MITSUBISHI HEAVY INDUSTRIES, LTD.                            3            \n",
       "  location_id                         \n",
       "1 50dc5d46-16c8-11ed-9b5f-1234bde3cd05\n",
       "2 92237ca2-16c8-11ed-9b5f-1234bde3cd05\n",
       "3 0cd1998f-16c8-11ed-9b5f-1234bde3cd05\n",
       "4 4d36742f-16c8-11ed-9b5f-1234bde3cd05\n",
       "5 280c9de4-16c8-11ed-9b5f-1234bde3cd05\n",
       "6 42f90495-16c8-11ed-9b5f-1234bde3cd05"
      ]
     },
     "metadata": {},
     "output_type": "display_data"
    }
   ],
   "source": [
    "head(assignee)"
   ]
  },
  {
   "cell_type": "code",
   "execution_count": 14,
   "metadata": {
    "vscode": {
     "languageId": "r"
    }
   },
   "outputs": [
    {
     "data": {
      "text/html": [
       "<table class=\"dataframe\">\n",
       "<caption>A data.table: 5 × 13</caption>\n",
       "<thead>\n",
       "\t<tr><th scope=col>doc_id</th><th scope=col>appl_id</th><th scope=col>pub_dt</th><th scope=col>predict50_any_ai</th><th scope=col>predict50_ml</th><th scope=col>predict50_evo</th><th scope=col>predict50_nlp</th><th scope=col>predict50_speech</th><th scope=col>predict50_vision</th><th scope=col>predict50_kr</th><th scope=col>predict50_planning</th><th scope=col>predict50_hardware</th><th scope=col>pub_year</th></tr>\n",
       "\t<tr><th scope=col>&lt;chr&gt;</th><th scope=col>&lt;chr&gt;</th><th scope=col>&lt;IDate&gt;</th><th scope=col>&lt;int&gt;</th><th scope=col>&lt;int&gt;</th><th scope=col>&lt;int&gt;</th><th scope=col>&lt;int&gt;</th><th scope=col>&lt;int&gt;</th><th scope=col>&lt;int&gt;</th><th scope=col>&lt;int&gt;</th><th scope=col>&lt;int&gt;</th><th scope=col>&lt;int&gt;</th><th scope=col>&lt;dbl&gt;</th></tr>\n",
       "</thead>\n",
       "<tbody>\n",
       "\t<tr><td>8352881</td><td>11683487</td><td>2013-01-08</td><td>1</td><td>0</td><td>0</td><td>0</td><td>0</td><td>0</td><td>0</td><td>1</td><td>1</td><td>2013</td></tr>\n",
       "\t<tr><td>9442769</td><td>13250251</td><td>2016-09-13</td><td>1</td><td>0</td><td>0</td><td>0</td><td>0</td><td>0</td><td>1</td><td>1</td><td>1</td><td>2016</td></tr>\n",
       "\t<tr><td>8565002</td><td>13465889</td><td>2013-10-22</td><td>1</td><td>0</td><td>0</td><td>0</td><td>0</td><td>0</td><td>0</td><td>0</td><td>1</td><td>2013</td></tr>\n",
       "\t<tr><td>9256406</td><td>14600529</td><td>2016-02-09</td><td>1</td><td>0</td><td>0</td><td>1</td><td>0</td><td>0</td><td>1</td><td>1</td><td>1</td><td>2016</td></tr>\n",
       "\t<tr><td>9272219</td><td>14681433</td><td>2016-03-01</td><td>1</td><td>0</td><td>0</td><td>0</td><td>0</td><td>0</td><td>1</td><td>0</td><td>0</td><td>2016</td></tr>\n",
       "</tbody>\n",
       "</table>\n"
      ],
      "text/latex": [
       "A data.table: 5 × 13\n",
       "\\begin{tabular}{lllllllllllll}\n",
       " doc\\_id & appl\\_id & pub\\_dt & predict50\\_any\\_ai & predict50\\_ml & predict50\\_evo & predict50\\_nlp & predict50\\_speech & predict50\\_vision & predict50\\_kr & predict50\\_planning & predict50\\_hardware & pub\\_year\\\\\n",
       " <chr> & <chr> & <IDate> & <int> & <int> & <int> & <int> & <int> & <int> & <int> & <int> & <int> & <dbl>\\\\\n",
       "\\hline\n",
       "\t 8352881 & 11683487 & 2013-01-08 & 1 & 0 & 0 & 0 & 0 & 0 & 0 & 1 & 1 & 2013\\\\\n",
       "\t 9442769 & 13250251 & 2016-09-13 & 1 & 0 & 0 & 0 & 0 & 0 & 1 & 1 & 1 & 2016\\\\\n",
       "\t 8565002 & 13465889 & 2013-10-22 & 1 & 0 & 0 & 0 & 0 & 0 & 0 & 0 & 1 & 2013\\\\\n",
       "\t 9256406 & 14600529 & 2016-02-09 & 1 & 0 & 0 & 1 & 0 & 0 & 1 & 1 & 1 & 2016\\\\\n",
       "\t 9272219 & 14681433 & 2016-03-01 & 1 & 0 & 0 & 0 & 0 & 0 & 1 & 0 & 0 & 2016\\\\\n",
       "\\end{tabular}\n"
      ],
      "text/markdown": [
       "\n",
       "A data.table: 5 × 13\n",
       "\n",
       "| doc_id &lt;chr&gt; | appl_id &lt;chr&gt; | pub_dt &lt;IDate&gt; | predict50_any_ai &lt;int&gt; | predict50_ml &lt;int&gt; | predict50_evo &lt;int&gt; | predict50_nlp &lt;int&gt; | predict50_speech &lt;int&gt; | predict50_vision &lt;int&gt; | predict50_kr &lt;int&gt; | predict50_planning &lt;int&gt; | predict50_hardware &lt;int&gt; | pub_year &lt;dbl&gt; |\n",
       "|---|---|---|---|---|---|---|---|---|---|---|---|---|\n",
       "| 8352881 | 11683487 | 2013-01-08 | 1 | 0 | 0 | 0 | 0 | 0 | 0 | 1 | 1 | 2013 |\n",
       "| 9442769 | 13250251 | 2016-09-13 | 1 | 0 | 0 | 0 | 0 | 0 | 1 | 1 | 1 | 2016 |\n",
       "| 8565002 | 13465889 | 2013-10-22 | 1 | 0 | 0 | 0 | 0 | 0 | 0 | 0 | 1 | 2013 |\n",
       "| 9256406 | 14600529 | 2016-02-09 | 1 | 0 | 0 | 1 | 0 | 0 | 1 | 1 | 1 | 2016 |\n",
       "| 9272219 | 14681433 | 2016-03-01 | 1 | 0 | 0 | 0 | 0 | 0 | 1 | 0 | 0 | 2016 |\n",
       "\n"
      ],
      "text/plain": [
       "  doc_id  appl_id  pub_dt     predict50_any_ai predict50_ml predict50_evo\n",
       "1 8352881 11683487 2013-01-08 1                0            0            \n",
       "2 9442769 13250251 2016-09-13 1                0            0            \n",
       "3 8565002 13465889 2013-10-22 1                0            0            \n",
       "4 9256406 14600529 2016-02-09 1                0            0            \n",
       "5 9272219 14681433 2016-03-01 1                0            0            \n",
       "  predict50_nlp predict50_speech predict50_vision predict50_kr\n",
       "1 0             0                0                0           \n",
       "2 0             0                0                1           \n",
       "3 0             0                0                0           \n",
       "4 1             0                0                1           \n",
       "5 0             0                0                1           \n",
       "  predict50_planning predict50_hardware pub_year\n",
       "1 1                  1                  2013    \n",
       "2 1                  1                  2016    \n",
       "3 0                  1                  2013    \n",
       "4 1                  1                  2016    \n",
       "5 0                  0                  2016    "
      ]
     },
     "metadata": {},
     "output_type": "display_data"
    }
   ],
   "source": [
    "set.seed(666)\n",
    "aipatents_2012_2016 %>%\n",
    "    .[sample(.N, 5)] %>%\n",
    "    head()"
   ]
  },
  {
   "cell_type": "code",
   "execution_count": 16,
   "metadata": {
    "vscode": {
     "languageId": "r"
    }
   },
   "outputs": [
    {
     "data": {
      "text/html": [
       "<table class=\"dataframe\">\n",
       "<caption>A data.table: 1 × 8</caption>\n",
       "<thead>\n",
       "\t<tr><th scope=col>patent_id</th><th scope=col>assignee_sequence</th><th scope=col>assignee_id</th><th scope=col>disambig_assignee_individual_name_first</th><th scope=col>disambig_assignee_individual_name_last</th><th scope=col>disambig_assignee_organization</th><th scope=col>assignee_type</th><th scope=col>location_id</th></tr>\n",
       "\t<tr><th scope=col>&lt;chr&gt;</th><th scope=col>&lt;int&gt;</th><th scope=col>&lt;chr&gt;</th><th scope=col>&lt;chr&gt;</th><th scope=col>&lt;chr&gt;</th><th scope=col>&lt;chr&gt;</th><th scope=col>&lt;int&gt;</th><th scope=col>&lt;chr&gt;</th></tr>\n",
       "</thead>\n",
       "<tbody>\n",
       "\t<tr><td>8352881</td><td>0</td><td>cb9bacc2-043c-4371-838f-64b66dd6e6aa</td><td></td><td></td><td>International Business Machines Corporation</td><td>2</td><td>0e228f17-16c8-11ed-9b5f-1234bde3cd05</td></tr>\n",
       "</tbody>\n",
       "</table>\n"
      ],
      "text/latex": [
       "A data.table: 1 × 8\n",
       "\\begin{tabular}{llllllll}\n",
       " patent\\_id & assignee\\_sequence & assignee\\_id & disambig\\_assignee\\_individual\\_name\\_first & disambig\\_assignee\\_individual\\_name\\_last & disambig\\_assignee\\_organization & assignee\\_type & location\\_id\\\\\n",
       " <chr> & <int> & <chr> & <chr> & <chr> & <chr> & <int> & <chr>\\\\\n",
       "\\hline\n",
       "\t 8352881 & 0 & cb9bacc2-043c-4371-838f-64b66dd6e6aa &  &  & International Business Machines Corporation & 2 & 0e228f17-16c8-11ed-9b5f-1234bde3cd05\\\\\n",
       "\\end{tabular}\n"
      ],
      "text/markdown": [
       "\n",
       "A data.table: 1 × 8\n",
       "\n",
       "| patent_id &lt;chr&gt; | assignee_sequence &lt;int&gt; | assignee_id &lt;chr&gt; | disambig_assignee_individual_name_first &lt;chr&gt; | disambig_assignee_individual_name_last &lt;chr&gt; | disambig_assignee_organization &lt;chr&gt; | assignee_type &lt;int&gt; | location_id &lt;chr&gt; |\n",
       "|---|---|---|---|---|---|---|---|\n",
       "| 8352881 | 0 | cb9bacc2-043c-4371-838f-64b66dd6e6aa | <!----> | <!----> | International Business Machines Corporation | 2 | 0e228f17-16c8-11ed-9b5f-1234bde3cd05 |\n",
       "\n"
      ],
      "text/plain": [
       "  patent_id assignee_sequence assignee_id                         \n",
       "1 8352881   0                 cb9bacc2-043c-4371-838f-64b66dd6e6aa\n",
       "  disambig_assignee_individual_name_first\n",
       "1                                        \n",
       "  disambig_assignee_individual_name_last\n",
       "1                                       \n",
       "  disambig_assignee_organization              assignee_type\n",
       "1 International Business Machines Corporation 2            \n",
       "  location_id                         \n",
       "1 0e228f17-16c8-11ed-9b5f-1234bde3cd05"
      ]
     },
     "metadata": {},
     "output_type": "display_data"
    }
   ],
   "source": [
    "# check for the first patent - doc_id: 8352881\n",
    "assignee %>%\n",
    "    .[patent_id == '8352881']"
   ]
  },
  {
   "cell_type": "markdown",
   "metadata": {},
   "source": [
    "If you follow [this page](https://worldwide.espacenet.com/searchResults?ST=singleline&locale=en_EP&submitted=true&DB=&query=8352881), then you can see that the patent with `patent_id` 8352881 is indeed the same as the patent with `doc_id` 8352881 from the `aipatents` dataset."
   ]
  },
  {
   "cell_type": "markdown",
   "metadata": {},
   "source": [
    "## Let's link the datasets now\n",
    "\n",
    "We will link the datasets using the `patent_id` and `doc_id` fields. We will use the `patent_id` from the `assignee` dataset and `doc_id` from the `aipatents` dataset.\n",
    "\n",
    "Linking the datasets could be tricky no matter what kind of programming language you use. However, `data.table` has a very efficient way to do this. We will use `data.table` to link the datasets. To linked the dataset, we need to tell `data.table`:\n",
    "\n",
    "- what are the columns we want to join on\n",
    "- what are the ids we have to match"
   ]
  },
  {
   "cell_type": "code",
   "execution_count": 19,
   "metadata": {
    "vscode": {
     "languageId": "r"
    }
   },
   "outputs": [
    {
     "data": {
      "text/html": [
       "<table class=\"dataframe\">\n",
       "<caption>A data.table: 5 × 20</caption>\n",
       "<thead>\n",
       "\t<tr><th scope=col>patent_id</th><th scope=col>assignee_sequence</th><th scope=col>assignee_id</th><th scope=col>disambig_assignee_individual_name_first</th><th scope=col>disambig_assignee_individual_name_last</th><th scope=col>disambig_assignee_organization</th><th scope=col>assignee_type</th><th scope=col>location_id</th><th scope=col>appl_id</th><th scope=col>pub_dt</th><th scope=col>predict50_any_ai</th><th scope=col>predict50_ml</th><th scope=col>predict50_evo</th><th scope=col>predict50_nlp</th><th scope=col>predict50_speech</th><th scope=col>predict50_vision</th><th scope=col>predict50_kr</th><th scope=col>predict50_planning</th><th scope=col>predict50_hardware</th><th scope=col>pub_year</th></tr>\n",
       "\t<tr><th scope=col>&lt;chr&gt;</th><th scope=col>&lt;int&gt;</th><th scope=col>&lt;chr&gt;</th><th scope=col>&lt;chr&gt;</th><th scope=col>&lt;chr&gt;</th><th scope=col>&lt;chr&gt;</th><th scope=col>&lt;int&gt;</th><th scope=col>&lt;chr&gt;</th><th scope=col>&lt;chr&gt;</th><th scope=col>&lt;IDate&gt;</th><th scope=col>&lt;int&gt;</th><th scope=col>&lt;int&gt;</th><th scope=col>&lt;int&gt;</th><th scope=col>&lt;int&gt;</th><th scope=col>&lt;int&gt;</th><th scope=col>&lt;int&gt;</th><th scope=col>&lt;int&gt;</th><th scope=col>&lt;int&gt;</th><th scope=col>&lt;int&gt;</th><th scope=col>&lt;dbl&gt;</th></tr>\n",
       "</thead>\n",
       "<tbody>\n",
       "\t<tr><td>9251717</td><td>NA</td><td>NA                                  </td><td>NA</td><td>NA</td><td>NA                                            </td><td>NA</td><td>NA                                  </td><td>13674490</td><td>2016-02-02</td><td>1</td><td>0</td><td>0</td><td>1</td><td>1</td><td>0</td><td>0</td><td>1</td><td>1</td><td>2016</td></tr>\n",
       "\t<tr><td>9070127</td><td> 0</td><td>c9048269-66a2-4d23-a214-8577b65ae897</td><td>  </td><td>  </td><td>MASTERCARD MOBILE TRANSACTIONS SOLUTIONS, INC.</td><td> 2</td><td>0d13c90c-16c8-11ed-9b5f-1234bde3cd05</td><td>13292753</td><td>2015-06-30</td><td>1</td><td>0</td><td>0</td><td>0</td><td>0</td><td>0</td><td>0</td><td>1</td><td>0</td><td>2015</td></tr>\n",
       "\t<tr><td>9152786</td><td> 0</td><td>22be0f48-1066-4945-b880-2f86d7daf160</td><td>  </td><td>  </td><td>TENCENT TECHNOLOGY (SHENZHEN) COMPANY LIMITED </td><td> 3</td><td>97056a3a-16c8-11ed-9b5f-1234bde3cd05</td><td>14079589</td><td>2015-10-06</td><td>1</td><td>0</td><td>0</td><td>1</td><td>0</td><td>0</td><td>1</td><td>1</td><td>1</td><td>2015</td></tr>\n",
       "\t<tr><td>8341601</td><td> 0</td><td>cb9bacc2-043c-4371-838f-64b66dd6e6aa</td><td>  </td><td>  </td><td>International Business Machines Corporation   </td><td> 2</td><td>0e228f17-16c8-11ed-9b5f-1234bde3cd05</td><td>12419988</td><td>2012-12-25</td><td>1</td><td>0</td><td>0</td><td>0</td><td>0</td><td>0</td><td>1</td><td>1</td><td>0</td><td>2012</td></tr>\n",
       "\t<tr><td>9361879</td><td> 0</td><td>41f6d533-cbc6-490e-bed4-a68cbf8e8e83</td><td>  </td><td>  </td><td>NEXIDIA INC.                                  </td><td> 2</td><td>ec2f0cf3-16c7-11ed-9b5f-1234bde3cd05</td><td>12391395</td><td>2016-06-07</td><td>1</td><td>0</td><td>1</td><td>1</td><td>1</td><td>1</td><td>1</td><td>1</td><td>1</td><td>2016</td></tr>\n",
       "</tbody>\n",
       "</table>\n"
      ],
      "text/latex": [
       "A data.table: 5 × 20\n",
       "\\begin{tabular}{llllllllllllllllllll}\n",
       " patent\\_id & assignee\\_sequence & assignee\\_id & disambig\\_assignee\\_individual\\_name\\_first & disambig\\_assignee\\_individual\\_name\\_last & disambig\\_assignee\\_organization & assignee\\_type & location\\_id & appl\\_id & pub\\_dt & predict50\\_any\\_ai & predict50\\_ml & predict50\\_evo & predict50\\_nlp & predict50\\_speech & predict50\\_vision & predict50\\_kr & predict50\\_planning & predict50\\_hardware & pub\\_year\\\\\n",
       " <chr> & <int> & <chr> & <chr> & <chr> & <chr> & <int> & <chr> & <chr> & <IDate> & <int> & <int> & <int> & <int> & <int> & <int> & <int> & <int> & <int> & <dbl>\\\\\n",
       "\\hline\n",
       "\t 9251717 & NA & NA                                   & NA & NA & NA                                             & NA & NA                                   & 13674490 & 2016-02-02 & 1 & 0 & 0 & 1 & 1 & 0 & 0 & 1 & 1 & 2016\\\\\n",
       "\t 9070127 &  0 & c9048269-66a2-4d23-a214-8577b65ae897 &    &    & MASTERCARD MOBILE TRANSACTIONS SOLUTIONS, INC. &  2 & 0d13c90c-16c8-11ed-9b5f-1234bde3cd05 & 13292753 & 2015-06-30 & 1 & 0 & 0 & 0 & 0 & 0 & 0 & 1 & 0 & 2015\\\\\n",
       "\t 9152786 &  0 & 22be0f48-1066-4945-b880-2f86d7daf160 &    &    & TENCENT TECHNOLOGY (SHENZHEN) COMPANY LIMITED  &  3 & 97056a3a-16c8-11ed-9b5f-1234bde3cd05 & 14079589 & 2015-10-06 & 1 & 0 & 0 & 1 & 0 & 0 & 1 & 1 & 1 & 2015\\\\\n",
       "\t 8341601 &  0 & cb9bacc2-043c-4371-838f-64b66dd6e6aa &    &    & International Business Machines Corporation    &  2 & 0e228f17-16c8-11ed-9b5f-1234bde3cd05 & 12419988 & 2012-12-25 & 1 & 0 & 0 & 0 & 0 & 0 & 1 & 1 & 0 & 2012\\\\\n",
       "\t 9361879 &  0 & 41f6d533-cbc6-490e-bed4-a68cbf8e8e83 &    &    & NEXIDIA INC.                                   &  2 & ec2f0cf3-16c7-11ed-9b5f-1234bde3cd05 & 12391395 & 2016-06-07 & 1 & 0 & 1 & 1 & 1 & 1 & 1 & 1 & 1 & 2016\\\\\n",
       "\\end{tabular}\n"
      ],
      "text/markdown": [
       "\n",
       "A data.table: 5 × 20\n",
       "\n",
       "| patent_id &lt;chr&gt; | assignee_sequence &lt;int&gt; | assignee_id &lt;chr&gt; | disambig_assignee_individual_name_first &lt;chr&gt; | disambig_assignee_individual_name_last &lt;chr&gt; | disambig_assignee_organization &lt;chr&gt; | assignee_type &lt;int&gt; | location_id &lt;chr&gt; | appl_id &lt;chr&gt; | pub_dt &lt;IDate&gt; | predict50_any_ai &lt;int&gt; | predict50_ml &lt;int&gt; | predict50_evo &lt;int&gt; | predict50_nlp &lt;int&gt; | predict50_speech &lt;int&gt; | predict50_vision &lt;int&gt; | predict50_kr &lt;int&gt; | predict50_planning &lt;int&gt; | predict50_hardware &lt;int&gt; | pub_year &lt;dbl&gt; |\n",
       "|---|---|---|---|---|---|---|---|---|---|---|---|---|---|---|---|---|---|---|---|\n",
       "| 9251717 | NA | NA                                   | NA | NA | NA                                             | NA | NA                                   | 13674490 | 2016-02-02 | 1 | 0 | 0 | 1 | 1 | 0 | 0 | 1 | 1 | 2016 |\n",
       "| 9070127 |  0 | c9048269-66a2-4d23-a214-8577b65ae897 | <!----> | <!----> | MASTERCARD MOBILE TRANSACTIONS SOLUTIONS, INC. |  2 | 0d13c90c-16c8-11ed-9b5f-1234bde3cd05 | 13292753 | 2015-06-30 | 1 | 0 | 0 | 0 | 0 | 0 | 0 | 1 | 0 | 2015 |\n",
       "| 9152786 |  0 | 22be0f48-1066-4945-b880-2f86d7daf160 | <!----> | <!----> | TENCENT TECHNOLOGY (SHENZHEN) COMPANY LIMITED  |  3 | 97056a3a-16c8-11ed-9b5f-1234bde3cd05 | 14079589 | 2015-10-06 | 1 | 0 | 0 | 1 | 0 | 0 | 1 | 1 | 1 | 2015 |\n",
       "| 8341601 |  0 | cb9bacc2-043c-4371-838f-64b66dd6e6aa | <!----> | <!----> | International Business Machines Corporation    |  2 | 0e228f17-16c8-11ed-9b5f-1234bde3cd05 | 12419988 | 2012-12-25 | 1 | 0 | 0 | 0 | 0 | 0 | 1 | 1 | 0 | 2012 |\n",
       "| 9361879 |  0 | 41f6d533-cbc6-490e-bed4-a68cbf8e8e83 | <!----> | <!----> | NEXIDIA INC.                                   |  2 | ec2f0cf3-16c7-11ed-9b5f-1234bde3cd05 | 12391395 | 2016-06-07 | 1 | 0 | 1 | 1 | 1 | 1 | 1 | 1 | 1 | 2016 |\n",
       "\n"
      ],
      "text/plain": [
       "  patent_id assignee_sequence assignee_id                         \n",
       "1 9251717   NA                NA                                  \n",
       "2 9070127    0                c9048269-66a2-4d23-a214-8577b65ae897\n",
       "3 9152786    0                22be0f48-1066-4945-b880-2f86d7daf160\n",
       "4 8341601    0                cb9bacc2-043c-4371-838f-64b66dd6e6aa\n",
       "5 9361879    0                41f6d533-cbc6-490e-bed4-a68cbf8e8e83\n",
       "  disambig_assignee_individual_name_first\n",
       "1 NA                                     \n",
       "2                                        \n",
       "3                                        \n",
       "4                                        \n",
       "5                                        \n",
       "  disambig_assignee_individual_name_last\n",
       "1 NA                                    \n",
       "2                                       \n",
       "3                                       \n",
       "4                                       \n",
       "5                                       \n",
       "  disambig_assignee_organization                 assignee_type\n",
       "1 NA                                             NA           \n",
       "2 MASTERCARD MOBILE TRANSACTIONS SOLUTIONS, INC.  2           \n",
       "3 TENCENT TECHNOLOGY (SHENZHEN) COMPANY LIMITED   3           \n",
       "4 International Business Machines Corporation     2           \n",
       "5 NEXIDIA INC.                                    2           \n",
       "  location_id                          appl_id  pub_dt     predict50_any_ai\n",
       "1 NA                                   13674490 2016-02-02 1               \n",
       "2 0d13c90c-16c8-11ed-9b5f-1234bde3cd05 13292753 2015-06-30 1               \n",
       "3 97056a3a-16c8-11ed-9b5f-1234bde3cd05 14079589 2015-10-06 1               \n",
       "4 0e228f17-16c8-11ed-9b5f-1234bde3cd05 12419988 2012-12-25 1               \n",
       "5 ec2f0cf3-16c7-11ed-9b5f-1234bde3cd05 12391395 2016-06-07 1               \n",
       "  predict50_ml predict50_evo predict50_nlp predict50_speech predict50_vision\n",
       "1 0            0             1             1                0               \n",
       "2 0            0             0             0                0               \n",
       "3 0            0             1             0                0               \n",
       "4 0            0             0             0                0               \n",
       "5 0            1             1             1                1               \n",
       "  predict50_kr predict50_planning predict50_hardware pub_year\n",
       "1 0            1                  1                  2016    \n",
       "2 0            1                  0                  2015    \n",
       "3 1            1                  1                  2015    \n",
       "4 1            1                  0                  2012    \n",
       "5 1            1                  1                  2016    "
      ]
     },
     "metadata": {},
     "output_type": "display_data"
    }
   ],
   "source": [
    "# let's join the two tables\n",
    "assignee[aipatents_2012_2016, on = c('patent_id' = 'doc_id')] %>%\n",
    "    .[sample(.N, 5)] %>%\n",
    "    head()"
   ]
  },
  {
   "cell_type": "code",
   "execution_count": 20,
   "metadata": {
    "vscode": {
     "languageId": "r"
    }
   },
   "outputs": [],
   "source": [
    "assignee[aipatents_2012_2016, on = c('patent_id' = 'doc_id')] -> assignee_aipatents"
   ]
  },
  {
   "cell_type": "code",
   "execution_count": 21,
   "metadata": {
    "vscode": {
     "languageId": "r"
    }
   },
   "outputs": [
    {
     "name": "stdout",
     "output_type": "stream",
     "text": [
      "Classes ‘data.table’ and 'data.frame':\t209595 obs. of  20 variables:\n",
      " $ patent_id                              : chr  \"8650542\" \"8346687\" \"8489524\" \"9213939\" ...\n",
      " $ assignee_sequence                      : int  0 0 0 0 0 0 0 0 0 NA ...\n",
      " $ assignee_id                            : chr  \"6d1e3fdd-e6fb-4dbb-a0d6-c7954734a846\" \"fb2c28d1-e0d2-442c-9347-bfa624c4015a\" \"1b6ad260-cab0-4148-8743-3a4315564814\" \"615927af-793a-496c-8af5-2c7731b0960d\" ...\n",
      " $ disambig_assignee_individual_name_first: chr  \"\" \"\" \"\" \"\" ...\n",
      " $ disambig_assignee_individual_name_last : chr  \"\" \"\" \"\" \"\" ...\n",
      " $ disambig_assignee_organization         : chr  \"The MathWorks, Inc.\" \"KDDI CORPORATION\" \"SIEMENS AKTIENGESELLSCHAFT\" \"Callahan Cellular L.L.C.\" ...\n",
      " $ assignee_type                          : int  2 3 3 2 3 2 3 3 2 NA ...\n",
      " $ location_id                            : chr  \"bb6db1a0-16c7-11ed-9b5f-1234bde3cd05\" \"42f90495-16c8-11ed-9b5f-1234bde3cd05\" \"08f29235-16c8-11ed-9b5f-1234bde3cd05\" \"047210f8-16c8-11ed-9b5f-1234bde3cd05\" ...\n",
      " $ appl_id                                : chr  \"13072165\" \"12560921\" \"13084692\" \"13785216\" ...\n",
      " $ pub_dt                                 : IDate, format: \"2014-02-11\" \"2013-01-01\" ...\n",
      " $ predict50_any_ai                       : int  1 1 1 1 1 1 1 1 1 1 ...\n",
      " $ predict50_ml                           : int  0 0 1 1 0 0 0 0 1 1 ...\n",
      " $ predict50_evo                          : int  0 0 0 0 0 0 0 0 0 0 ...\n",
      " $ predict50_nlp                          : int  1 0 0 0 0 0 0 0 0 0 ...\n",
      " $ predict50_speech                       : int  0 0 0 0 0 0 0 0 0 0 ...\n",
      " $ predict50_vision                       : int  0 1 0 0 1 0 0 1 1 0 ...\n",
      " $ predict50_kr                           : int  1 1 1 1 1 1 1 0 1 0 ...\n",
      " $ predict50_planning                     : int  1 0 1 1 0 0 0 0 1 0 ...\n",
      " $ predict50_hardware                     : int  1 1 0 1 1 0 0 0 1 0 ...\n",
      " $ pub_year                               : num  2014 2013 2013 2015 2012 ...\n",
      " - attr(*, \".internal.selfref\")=<externalptr> \n"
     ]
    }
   ],
   "source": [
    "str(assignee_aipatents)"
   ]
  },
  {
   "cell_type": "code",
   "execution_count": 25,
   "metadata": {
    "vscode": {
     "languageId": "r"
    }
   },
   "outputs": [
    {
     "data": {
      "text/html": [
       "3.5854862949975"
      ],
      "text/latex": [
       "3.5854862949975"
      ],
      "text/markdown": [
       "3.5854862949975"
      ],
      "text/plain": [
       "[1] 3.585486"
      ]
     },
     "metadata": {},
     "output_type": "display_data"
    }
   ],
   "source": [
    "# check number of no-matches, meaning 'assignee_id' is NA\n",
    "\n",
    "assignee_aipatents %>%\n",
    "    .[is.na(assignee_id)] %>%\n",
    "    nrow() / nrow(assignee_aipatents) * 100"
   ]
  },
  {
   "cell_type": "markdown",
   "metadata": {},
   "source": [
    "The above code shows that we have around 3.6% of the patents that are not linked. We will remove those patents from the dataset. Since the share of the unlinked patents is very low, we can safely remove them."
   ]
  },
  {
   "cell_type": "code",
   "execution_count": 27,
   "metadata": {
    "vscode": {
     "languageId": "r"
    }
   },
   "outputs": [
    {
     "name": "stdout",
     "output_type": "stream",
     "text": [
      "Classes ‘data.table’ and 'data.frame':\t202080 obs. of  20 variables:\n",
      " $ patent_id                              : chr  \"8650542\" \"8346687\" \"8489524\" \"9213939\" ...\n",
      " $ assignee_sequence                      : int  0 0 0 0 0 0 0 0 0 0 ...\n",
      " $ assignee_id                            : chr  \"6d1e3fdd-e6fb-4dbb-a0d6-c7954734a846\" \"fb2c28d1-e0d2-442c-9347-bfa624c4015a\" \"1b6ad260-cab0-4148-8743-3a4315564814\" \"615927af-793a-496c-8af5-2c7731b0960d\" ...\n",
      " $ disambig_assignee_individual_name_first: chr  \"\" \"\" \"\" \"\" ...\n",
      " $ disambig_assignee_individual_name_last : chr  \"\" \"\" \"\" \"\" ...\n",
      " $ disambig_assignee_organization         : chr  \"The MathWorks, Inc.\" \"KDDI CORPORATION\" \"SIEMENS AKTIENGESELLSCHAFT\" \"Callahan Cellular L.L.C.\" ...\n",
      " $ assignee_type                          : int  2 3 3 2 3 2 3 3 2 3 ...\n",
      " $ location_id                            : chr  \"bb6db1a0-16c7-11ed-9b5f-1234bde3cd05\" \"42f90495-16c8-11ed-9b5f-1234bde3cd05\" \"08f29235-16c8-11ed-9b5f-1234bde3cd05\" \"047210f8-16c8-11ed-9b5f-1234bde3cd05\" ...\n",
      " $ appl_id                                : chr  \"13072165\" \"12560921\" \"13084692\" \"13785216\" ...\n",
      " $ pub_dt                                 : IDate, format: \"2014-02-11\" \"2013-01-01\" ...\n",
      " $ predict50_any_ai                       : int  1 1 1 1 1 1 1 1 1 1 ...\n",
      " $ predict50_ml                           : int  0 0 1 1 0 0 0 0 1 0 ...\n",
      " $ predict50_evo                          : int  0 0 0 0 0 0 0 0 0 0 ...\n",
      " $ predict50_nlp                          : int  1 0 0 0 0 0 0 0 0 0 ...\n",
      " $ predict50_speech                       : int  0 0 0 0 0 0 0 0 0 0 ...\n",
      " $ predict50_vision                       : int  0 1 0 0 1 0 0 1 1 0 ...\n",
      " $ predict50_kr                           : int  1 1 1 1 1 1 1 0 1 1 ...\n",
      " $ predict50_planning                     : int  1 0 1 1 0 0 0 0 1 0 ...\n",
      " $ predict50_hardware                     : int  1 1 0 1 1 0 0 0 1 0 ...\n",
      " $ pub_year                               : num  2014 2013 2013 2015 2012 ...\n",
      " - attr(*, \".internal.selfref\")=<externalptr> \n"
     ]
    }
   ],
   "source": [
    "assignee_aipatents %>%\n",
    "    .[!is.na(assignee_id)] -> patents_with_assignee\n",
    "\n",
    "str(patents_with_assignee)"
   ]
  },
  {
   "cell_type": "markdown",
   "metadata": {},
   "source": [
    "## WHo are the top companies"
   ]
  },
  {
   "cell_type": "code",
   "execution_count": 32,
   "metadata": {
    "vscode": {
     "languageId": "r"
    }
   },
   "outputs": [
    {
     "data": {
      "text/html": [
       "<table class=\"dataframe\">\n",
       "<caption>A data.table: 30 × 3</caption>\n",
       "<thead>\n",
       "\t<tr><th scope=col>assignee_id</th><th scope=col>disambig_assignee_organization</th><th scope=col>N</th></tr>\n",
       "\t<tr><th scope=col>&lt;chr&gt;</th><th scope=col>&lt;chr&gt;</th><th scope=col>&lt;int&gt;</th></tr>\n",
       "</thead>\n",
       "<tbody>\n",
       "\t<tr><td>cb9bacc2-043c-4371-838f-64b66dd6e6aa</td><td>International Business Machines Corporation</td><td>17371</td></tr>\n",
       "\t<tr><td>d39048d1-c426-4ed2-81a0-0aabe1a2bbe7</td><td>Google LLC                                 </td><td> 7273</td></tr>\n",
       "\t<tr><td>a1927a04-3445-44f5-9c23-0a3dba0793ca</td><td>Microsoft Corporation                      </td><td> 5643</td></tr>\n",
       "\t<tr><td>74b22e46-0033-4c29-9608-cf60c2124be8</td><td>Samsung Display Co., Ltd.                  </td><td> 3063</td></tr>\n",
       "\t<tr><td>b63a5904-38e4-4aae-a55a-d88d38aa4f72</td><td>Microsoft Technology Licensing, LLC        </td><td> 2707</td></tr>\n",
       "\t<tr><td>e784f56b-4e29-474d-85f4-10da789716c7</td><td>Apple Inc.                                 </td><td> 2666</td></tr>\n",
       "\t<tr><td>a2327c11-d70e-427b-ac63-8cdfa8bd8301</td><td>Amazon Technologies, Inc.                  </td><td> 2569</td></tr>\n",
       "\t<tr><td>74d4f6ff-49f1-44d2-8314-f394f39b1ac4</td><td>CANON KABUSHIKI KAISHA                     </td><td> 2184</td></tr>\n",
       "\t<tr><td>0dcfbd03-41ee-4475-8474-6779b5948a78</td><td>SONY CORPORATION                           </td><td> 2108</td></tr>\n",
       "\t<tr><td>19631397-e27c-4b25-989b-dbf736311f3c</td><td>QUALCOMM Incorporated                      </td><td> 2075</td></tr>\n",
       "\t<tr><td>9407ac39-e208-4171-9508-731f436be923</td><td>Intel Corporation                          </td><td> 1970</td></tr>\n",
       "\t<tr><td>7baa8688-f6a4-4b26-bde4-61786f6dae06</td><td>Oracle International Corporation           </td><td> 1929</td></tr>\n",
       "\t<tr><td>3355f960-ac8a-4684-b91d-b60fb9e76538</td><td>Hewlett-Packard Development Company, L.P.  </td><td> 1894</td></tr>\n",
       "\t<tr><td>fe611376-5a2e-4953-be56-1d92061903ad</td><td><span style=white-space:pre-wrap>AT&amp;T Intellectual Property I, L.P.         </span></td><td> 1625</td></tr>\n",
       "\t<tr><td>9eb71de6-7165-47b4-839c-ce389eb7703f</td><td>SAP AG                                     </td><td> 1333</td></tr>\n",
       "\t<tr><td>65a958d3-c7ac-424c-9f8d-7b9767b0a28f</td><td>Xerox Corporation                          </td><td> 1304</td></tr>\n",
       "\t<tr><td>23124361-ee55-44b1-9be2-7df40008f4b5</td><td>FUJITSU LIMITED                            </td><td> 1259</td></tr>\n",
       "\t<tr><td>1b6ad260-cab0-4148-8743-3a4315564814</td><td>SIEMENS AKTIENGESELLSCHAFT                 </td><td> 1238</td></tr>\n",
       "\t<tr><td>6f4874c6-300a-489d-b0ae-274ba9b17886</td><td>EMC Corporation                            </td><td> 1235</td></tr>\n",
       "\t<tr><td>e813fe8a-f998-4d8b-a144-813b8e6d17ec</td><td>General Electric Company                   </td><td> 1233</td></tr>\n",
       "\t<tr><td>a042affe-53a6-48f8-8d48-ea68e7c40e46</td><td>Adobe Systems Incorporated                 </td><td> 1204</td></tr>\n",
       "\t<tr><td>64debc4c-3d92-48f2-bdce-dacebabf6f8e</td><td>CISCO TECHNOLOGY, INC.                     </td><td> 1146</td></tr>\n",
       "\t<tr><td>b9856163-006d-47e6-aaa7-b2d51bf2067c</td><td>YAHOO HOLDINGS, INC.                       </td><td> 1086</td></tr>\n",
       "\t<tr><td>38025fe3-ac5d-42a5-9cfd-b751e59f7f8b</td><td>KABUSHIKI KAISHA TOSHIBA                   </td><td> 1071</td></tr>\n",
       "\t<tr><td>660c3206-a0e6-4e4c-8131-5937bcf4c68b</td><td>Telefonaktiebolaget LM Ericsson (Publ)     </td><td> 1020</td></tr>\n",
       "\t<tr><td>99c7c87a-f837-4df3-9449-9c6ae5e63066</td><td>Symantec Corporation                       </td><td>  986</td></tr>\n",
       "\t<tr><td>30c87eeb-f01b-4991-94e6-ae45121e7a84</td><td>FACEBOOK, INC.                             </td><td>  980</td></tr>\n",
       "\t<tr><td>0ad218f5-a12d-4408-a24f-218fe4b622f2</td><td>Verizon Patent and Licensing Inc.          </td><td>  958</td></tr>\n",
       "\t<tr><td>d446c3a1-4982-4a7d-bfde-95a401a73c11</td><td>SAP SE                                     </td><td>  890</td></tr>\n",
       "\t<tr><td>b4cc58d8-e71b-44ca-97b2-463a698d4c0c</td><td>GM GLOBAL TECHNOLOGY OPERATIONS LLC        </td><td>  812</td></tr>\n",
       "</tbody>\n",
       "</table>\n"
      ],
      "text/latex": [
       "A data.table: 30 × 3\n",
       "\\begin{tabular}{lll}\n",
       " assignee\\_id & disambig\\_assignee\\_organization & N\\\\\n",
       " <chr> & <chr> & <int>\\\\\n",
       "\\hline\n",
       "\t cb9bacc2-043c-4371-838f-64b66dd6e6aa & International Business Machines Corporation & 17371\\\\\n",
       "\t d39048d1-c426-4ed2-81a0-0aabe1a2bbe7 & Google LLC                                  &  7273\\\\\n",
       "\t a1927a04-3445-44f5-9c23-0a3dba0793ca & Microsoft Corporation                       &  5643\\\\\n",
       "\t 74b22e46-0033-4c29-9608-cf60c2124be8 & Samsung Display Co., Ltd.                   &  3063\\\\\n",
       "\t b63a5904-38e4-4aae-a55a-d88d38aa4f72 & Microsoft Technology Licensing, LLC         &  2707\\\\\n",
       "\t e784f56b-4e29-474d-85f4-10da789716c7 & Apple Inc.                                  &  2666\\\\\n",
       "\t a2327c11-d70e-427b-ac63-8cdfa8bd8301 & Amazon Technologies, Inc.                   &  2569\\\\\n",
       "\t 74d4f6ff-49f1-44d2-8314-f394f39b1ac4 & CANON KABUSHIKI KAISHA                      &  2184\\\\\n",
       "\t 0dcfbd03-41ee-4475-8474-6779b5948a78 & SONY CORPORATION                            &  2108\\\\\n",
       "\t 19631397-e27c-4b25-989b-dbf736311f3c & QUALCOMM Incorporated                       &  2075\\\\\n",
       "\t 9407ac39-e208-4171-9508-731f436be923 & Intel Corporation                           &  1970\\\\\n",
       "\t 7baa8688-f6a4-4b26-bde4-61786f6dae06 & Oracle International Corporation            &  1929\\\\\n",
       "\t 3355f960-ac8a-4684-b91d-b60fb9e76538 & Hewlett-Packard Development Company, L.P.   &  1894\\\\\n",
       "\t fe611376-5a2e-4953-be56-1d92061903ad & AT\\&T Intellectual Property I, L.P.          &  1625\\\\\n",
       "\t 9eb71de6-7165-47b4-839c-ce389eb7703f & SAP AG                                      &  1333\\\\\n",
       "\t 65a958d3-c7ac-424c-9f8d-7b9767b0a28f & Xerox Corporation                           &  1304\\\\\n",
       "\t 23124361-ee55-44b1-9be2-7df40008f4b5 & FUJITSU LIMITED                             &  1259\\\\\n",
       "\t 1b6ad260-cab0-4148-8743-3a4315564814 & SIEMENS AKTIENGESELLSCHAFT                  &  1238\\\\\n",
       "\t 6f4874c6-300a-489d-b0ae-274ba9b17886 & EMC Corporation                             &  1235\\\\\n",
       "\t e813fe8a-f998-4d8b-a144-813b8e6d17ec & General Electric Company                    &  1233\\\\\n",
       "\t a042affe-53a6-48f8-8d48-ea68e7c40e46 & Adobe Systems Incorporated                  &  1204\\\\\n",
       "\t 64debc4c-3d92-48f2-bdce-dacebabf6f8e & CISCO TECHNOLOGY, INC.                      &  1146\\\\\n",
       "\t b9856163-006d-47e6-aaa7-b2d51bf2067c & YAHOO HOLDINGS, INC.                        &  1086\\\\\n",
       "\t 38025fe3-ac5d-42a5-9cfd-b751e59f7f8b & KABUSHIKI KAISHA TOSHIBA                    &  1071\\\\\n",
       "\t 660c3206-a0e6-4e4c-8131-5937bcf4c68b & Telefonaktiebolaget LM Ericsson (Publ)      &  1020\\\\\n",
       "\t 99c7c87a-f837-4df3-9449-9c6ae5e63066 & Symantec Corporation                        &   986\\\\\n",
       "\t 30c87eeb-f01b-4991-94e6-ae45121e7a84 & FACEBOOK, INC.                              &   980\\\\\n",
       "\t 0ad218f5-a12d-4408-a24f-218fe4b622f2 & Verizon Patent and Licensing Inc.           &   958\\\\\n",
       "\t d446c3a1-4982-4a7d-bfde-95a401a73c11 & SAP SE                                      &   890\\\\\n",
       "\t b4cc58d8-e71b-44ca-97b2-463a698d4c0c & GM GLOBAL TECHNOLOGY OPERATIONS LLC         &   812\\\\\n",
       "\\end{tabular}\n"
      ],
      "text/markdown": [
       "\n",
       "A data.table: 30 × 3\n",
       "\n",
       "| assignee_id &lt;chr&gt; | disambig_assignee_organization &lt;chr&gt; | N &lt;int&gt; |\n",
       "|---|---|---|\n",
       "| cb9bacc2-043c-4371-838f-64b66dd6e6aa | International Business Machines Corporation | 17371 |\n",
       "| d39048d1-c426-4ed2-81a0-0aabe1a2bbe7 | Google LLC                                  |  7273 |\n",
       "| a1927a04-3445-44f5-9c23-0a3dba0793ca | Microsoft Corporation                       |  5643 |\n",
       "| 74b22e46-0033-4c29-9608-cf60c2124be8 | Samsung Display Co., Ltd.                   |  3063 |\n",
       "| b63a5904-38e4-4aae-a55a-d88d38aa4f72 | Microsoft Technology Licensing, LLC         |  2707 |\n",
       "| e784f56b-4e29-474d-85f4-10da789716c7 | Apple Inc.                                  |  2666 |\n",
       "| a2327c11-d70e-427b-ac63-8cdfa8bd8301 | Amazon Technologies, Inc.                   |  2569 |\n",
       "| 74d4f6ff-49f1-44d2-8314-f394f39b1ac4 | CANON KABUSHIKI KAISHA                      |  2184 |\n",
       "| 0dcfbd03-41ee-4475-8474-6779b5948a78 | SONY CORPORATION                            |  2108 |\n",
       "| 19631397-e27c-4b25-989b-dbf736311f3c | QUALCOMM Incorporated                       |  2075 |\n",
       "| 9407ac39-e208-4171-9508-731f436be923 | Intel Corporation                           |  1970 |\n",
       "| 7baa8688-f6a4-4b26-bde4-61786f6dae06 | Oracle International Corporation            |  1929 |\n",
       "| 3355f960-ac8a-4684-b91d-b60fb9e76538 | Hewlett-Packard Development Company, L.P.   |  1894 |\n",
       "| fe611376-5a2e-4953-be56-1d92061903ad | AT&amp;T Intellectual Property I, L.P.          |  1625 |\n",
       "| 9eb71de6-7165-47b4-839c-ce389eb7703f | SAP AG                                      |  1333 |\n",
       "| 65a958d3-c7ac-424c-9f8d-7b9767b0a28f | Xerox Corporation                           |  1304 |\n",
       "| 23124361-ee55-44b1-9be2-7df40008f4b5 | FUJITSU LIMITED                             |  1259 |\n",
       "| 1b6ad260-cab0-4148-8743-3a4315564814 | SIEMENS AKTIENGESELLSCHAFT                  |  1238 |\n",
       "| 6f4874c6-300a-489d-b0ae-274ba9b17886 | EMC Corporation                             |  1235 |\n",
       "| e813fe8a-f998-4d8b-a144-813b8e6d17ec | General Electric Company                    |  1233 |\n",
       "| a042affe-53a6-48f8-8d48-ea68e7c40e46 | Adobe Systems Incorporated                  |  1204 |\n",
       "| 64debc4c-3d92-48f2-bdce-dacebabf6f8e | CISCO TECHNOLOGY, INC.                      |  1146 |\n",
       "| b9856163-006d-47e6-aaa7-b2d51bf2067c | YAHOO HOLDINGS, INC.                        |  1086 |\n",
       "| 38025fe3-ac5d-42a5-9cfd-b751e59f7f8b | KABUSHIKI KAISHA TOSHIBA                    |  1071 |\n",
       "| 660c3206-a0e6-4e4c-8131-5937bcf4c68b | Telefonaktiebolaget LM Ericsson (Publ)      |  1020 |\n",
       "| 99c7c87a-f837-4df3-9449-9c6ae5e63066 | Symantec Corporation                        |   986 |\n",
       "| 30c87eeb-f01b-4991-94e6-ae45121e7a84 | FACEBOOK, INC.                              |   980 |\n",
       "| 0ad218f5-a12d-4408-a24f-218fe4b622f2 | Verizon Patent and Licensing Inc.           |   958 |\n",
       "| d446c3a1-4982-4a7d-bfde-95a401a73c11 | SAP SE                                      |   890 |\n",
       "| b4cc58d8-e71b-44ca-97b2-463a698d4c0c | GM GLOBAL TECHNOLOGY OPERATIONS LLC         |   812 |\n",
       "\n"
      ],
      "text/plain": [
       "   assignee_id                         \n",
       "1  cb9bacc2-043c-4371-838f-64b66dd6e6aa\n",
       "2  d39048d1-c426-4ed2-81a0-0aabe1a2bbe7\n",
       "3  a1927a04-3445-44f5-9c23-0a3dba0793ca\n",
       "4  74b22e46-0033-4c29-9608-cf60c2124be8\n",
       "5  b63a5904-38e4-4aae-a55a-d88d38aa4f72\n",
       "6  e784f56b-4e29-474d-85f4-10da789716c7\n",
       "7  a2327c11-d70e-427b-ac63-8cdfa8bd8301\n",
       "8  74d4f6ff-49f1-44d2-8314-f394f39b1ac4\n",
       "9  0dcfbd03-41ee-4475-8474-6779b5948a78\n",
       "10 19631397-e27c-4b25-989b-dbf736311f3c\n",
       "11 9407ac39-e208-4171-9508-731f436be923\n",
       "12 7baa8688-f6a4-4b26-bde4-61786f6dae06\n",
       "13 3355f960-ac8a-4684-b91d-b60fb9e76538\n",
       "14 fe611376-5a2e-4953-be56-1d92061903ad\n",
       "15 9eb71de6-7165-47b4-839c-ce389eb7703f\n",
       "16 65a958d3-c7ac-424c-9f8d-7b9767b0a28f\n",
       "17 23124361-ee55-44b1-9be2-7df40008f4b5\n",
       "18 1b6ad260-cab0-4148-8743-3a4315564814\n",
       "19 6f4874c6-300a-489d-b0ae-274ba9b17886\n",
       "20 e813fe8a-f998-4d8b-a144-813b8e6d17ec\n",
       "21 a042affe-53a6-48f8-8d48-ea68e7c40e46\n",
       "22 64debc4c-3d92-48f2-bdce-dacebabf6f8e\n",
       "23 b9856163-006d-47e6-aaa7-b2d51bf2067c\n",
       "24 38025fe3-ac5d-42a5-9cfd-b751e59f7f8b\n",
       "25 660c3206-a0e6-4e4c-8131-5937bcf4c68b\n",
       "26 99c7c87a-f837-4df3-9449-9c6ae5e63066\n",
       "27 30c87eeb-f01b-4991-94e6-ae45121e7a84\n",
       "28 0ad218f5-a12d-4408-a24f-218fe4b622f2\n",
       "29 d446c3a1-4982-4a7d-bfde-95a401a73c11\n",
       "30 b4cc58d8-e71b-44ca-97b2-463a698d4c0c\n",
       "   disambig_assignee_organization              N    \n",
       "1  International Business Machines Corporation 17371\n",
       "2  Google LLC                                   7273\n",
       "3  Microsoft Corporation                        5643\n",
       "4  Samsung Display Co., Ltd.                    3063\n",
       "5  Microsoft Technology Licensing, LLC          2707\n",
       "6  Apple Inc.                                   2666\n",
       "7  Amazon Technologies, Inc.                    2569\n",
       "8  CANON KABUSHIKI KAISHA                       2184\n",
       "9  SONY CORPORATION                             2108\n",
       "10 QUALCOMM Incorporated                        2075\n",
       "11 Intel Corporation                            1970\n",
       "12 Oracle International Corporation             1929\n",
       "13 Hewlett-Packard Development Company, L.P.    1894\n",
       "14 AT&T Intellectual Property I, L.P.           1625\n",
       "15 SAP AG                                       1333\n",
       "16 Xerox Corporation                            1304\n",
       "17 FUJITSU LIMITED                              1259\n",
       "18 SIEMENS AKTIENGESELLSCHAFT                   1238\n",
       "19 EMC Corporation                              1235\n",
       "20 General Electric Company                     1233\n",
       "21 Adobe Systems Incorporated                   1204\n",
       "22 CISCO TECHNOLOGY, INC.                       1146\n",
       "23 YAHOO HOLDINGS, INC.                         1086\n",
       "24 KABUSHIKI KAISHA TOSHIBA                     1071\n",
       "25 Telefonaktiebolaget LM Ericsson (Publ)       1020\n",
       "26 Symantec Corporation                          986\n",
       "27 FACEBOOK, INC.                                980\n",
       "28 Verizon Patent and Licensing Inc.             958\n",
       "29 SAP SE                                        890\n",
       "30 GM GLOBAL TECHNOLOGY OPERATIONS LLC           812"
      ]
     },
     "metadata": {},
     "output_type": "display_data"
    }
   ],
   "source": [
    "patents_with_assignee %>%\n",
    "    .[, .N, by = c('assignee_id', 'disambig_assignee_organization')] %>%\n",
    "    .[order(-N)] %>%\n",
    "    head(30)"
   ]
  },
  {
   "cell_type": "markdown",
   "metadata": {},
   "source": [
    "## Firm patents distribution in terms of technology\n",
    "\n",
    "Now, we will look at the distribution of the patents in terms of technology, such as\n",
    "'who are top firms that are focusing on computer vision, NLP, etc.'."
   ]
  },
  {
   "cell_type": "markdown",
   "metadata": {},
   "source": []
  }
 ],
 "metadata": {
  "kernelspec": {
   "display_name": "R",
   "language": "R",
   "name": "ir"
  },
  "language_info": {
   "codemirror_mode": "r",
   "file_extension": ".r",
   "mimetype": "text/x-r-source",
   "name": "R",
   "pygments_lexer": "r",
   "version": "4.3.2"
  }
 },
 "nbformat": 4,
 "nbformat_minor": 2
}
