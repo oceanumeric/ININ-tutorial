{
 "cells": [
  {
   "cell_type": "markdown",
   "metadata": {},
   "source": [
    "# Lab 1 - Enter the world of Patents\n",
    "\n",
    "In this lab, we will explore the world of patents. We will use the data from \n",
    "European Patent Office (EPO) to extract information about patents. In this lab,\n",
    "you will learn:\n",
    "\n",
    "- Basic structure of a patent\n",
    "- Querying patents using the EPO API via SPARQL (a query language for RDF)\n",
    "- Extracting information from patents\n",
    "- Visualizing the extracted information\n",
    "- Summarizing the extracted information\n",
    "\n",
    "I am very excited to start this journey with you as we will disover many interesting\n",
    "things about patents. Let's get started!"
   ]
  },
  {
   "cell_type": "code",
   "execution_count": 2,
   "metadata": {
    "vscode": {
     "languageId": "r"
    }
   },
   "outputs": [
    {
     "name": "stderr",
     "output_type": "stream",
     "text": [
      "Installing package into ‘/home/michael/R/x86_64-pc-linux-gnu-library/4.3’\n",
      "(as ‘lib’ is unspecified)\n",
      "\n"
     ]
    }
   ],
   "source": [
    "# install the package\n",
    "install.packages(\"../_utils/SPARQL_1.16.tar.gz\", repos = NULL, type=\"source\")"
   ]
  },
  {
   "cell_type": "code",
   "execution_count": 3,
   "metadata": {
    "vscode": {
     "languageId": "r"
    }
   },
   "outputs": [],
   "source": [
    "library(pacman)\n",
    "p_load(readxl, stringr, data.table, magrittr, ggplot2, SPARQL,\n",
    "        eurostat, XML, RCurl, knitr)\n",
    "\n",
    "# color palette\n",
    "gray_scale <- c('#F3F4F8','#D2D4DA', '#B3B5BD', \n",
    "                '#9496A1', '#7d7f89', '#777986', \n",
    "                '#656673', '#5B5D6B', '#4d505e',\n",
    "                '#404352', '#2b2d3b', '#282A3A',\n",
    "                '#1b1c2a', '#191a2b',\n",
    "                '#141626', '#101223')\n",
    "\n",
    "ft_palette <- c('#990F3D', '#0D7680', '#0F5499', '#262A33', '#FFF1E5')\n",
    "\n",
    "ft_contrast <- c('#F83', '#00A0DD', '#C00', '#006F9B', '#F2DFCE', '#FF7FAA',\n",
    "                 '#00994D', '#593380')\n",
    "\n",
    "peep_head <- function(dt, n = 5) {\n",
    "    dt %>%\n",
    "        head(n) %>%\n",
    "        kable()\n",
    "}\n",
    "\n",
    "peep_sample <- function(dt, n = 5) {\n",
    "    dt %>%\n",
    "        .[sample(.N, n)] %>%\n",
    "        kable()\n",
    "}\n",
    "\n",
    "peep_tail <- function(dt, n = 5) {\n",
    "    dt %>%\n",
    "        tail(n) %>%\n",
    "        kable()\n",
    "}"
   ]
  },
  {
   "cell_type": "markdown",
   "metadata": {},
   "source": [
    "## Patents that mention specific words in the abstract"
   ]
  },
  {
   "cell_type": "code",
   "execution_count": 10,
   "metadata": {
    "vscode": {
     "languageId": "r"
    }
   },
   "outputs": [],
   "source": [
    "# query the SPARQL endpoint\n",
    "endpoint <- \"https://data.epo.org/linked-data/query\"\n",
    "\n",
    "# patents that abstract contains the word 'battery'\n",
    "query1 <- \"\n",
    "prefix dcterms: <http://purl.org/dc/terms/>\n",
    "prefix patent: <http://data.epo.org/linked-data/def/patent/>\n",
    "prefix text: <http://jena.apache.org/text#>\n",
    "\n",
    "SELECT DISTINCT ?publication ?title ?abstract \n",
    "WHERE {\n",
    "    ?publication text:query ( dcterms:abstract 'battery' );\n",
    "                 patent:titleOfInvention ?title;\n",
    "                 dcterms:abstract        ?abstract.\n",
    "} LIMIT 10\n",
    "\"\n",
    "query1_result <- SPARQL(endpoint, query1)$results"
   ]
  },
  {
   "cell_type": "code",
   "execution_count": 12,
   "metadata": {
    "vscode": {
     "languageId": "r"
    }
   },
   "outputs": [
    {
     "name": "stdout",
     "output_type": "stream",
     "text": [
      "'data.frame':\t10 obs. of  3 variables:\n",
      " $ publication: chr  \"<http://data.epo.org/linked-data/data/publication/EP/1182716/A3/->\" \"<http://data.epo.org/linked-data/data/publication/EP/1182716/A3/->\" \"<http://data.epo.org/linked-data/data/publication/EP/1182716/A3/->\" \"<http://data.epo.org/linked-data/data/publication/EP/1182716/A2/->\" ...\n",
      " $ title      : chr  \"\\\"Batteriehalterung\\\"@de\" \"\\\"Support de batterie\\\"@fr\" \"\\\"Battery lock\\\"@en\" \"\\\"Batteriehalterung\\\"@de\" ...\n",
      " $ abstract   : chr  \"\\\"A battery lock for a communication unit with holding means for holding an internal battery in operating posit\"| __truncated__ \"\\\"A battery lock for a communication unit with holding means for holding an internal battery in operating posit\"| __truncated__ \"\\\"A battery lock for a communication unit with holding means for holding an internal battery in operating posit\"| __truncated__ \"\\\"A battery lock for a communication unit with holding means for holding an internal battery in operating posit\"| __truncated__ ...\n"
     ]
    }
   ],
   "source": [
    "str(query1_result)"
   ]
  },
  {
   "cell_type": "code",
   "execution_count": 11,
   "metadata": {
    "vscode": {
     "languageId": "r"
    }
   },
   "outputs": [
    {
     "data": {
      "text/html": [
       "<table class=\"dataframe\">\n",
       "<caption>A data.frame: 6 × 3</caption>\n",
       "<thead>\n",
       "\t<tr><th></th><th scope=col>publication</th><th scope=col>title</th><th scope=col>abstract</th></tr>\n",
       "\t<tr><th></th><th scope=col>&lt;chr&gt;</th><th scope=col>&lt;chr&gt;</th><th scope=col>&lt;chr&gt;</th></tr>\n",
       "</thead>\n",
       "<tbody>\n",
       "\t<tr><th scope=row>1</th><td>&lt;http://data.epo.org/linked-data/data/publication/EP/1182716/A3/-&gt;</td><td><span style=white-space:pre-wrap>\"Batteriehalterung\"@de  </span></td><td>\"A battery lock for a communication unit with holding means for holding an internal battery in operating position in a battery compartment. The holding means includes features to hold, lift and release the battery in the compartment from the battery compartment. The battery compartment includes protruding parts corresponding to slots on the battery, where the protruding parts co-operates with holding means of the battery to hold the battery in the battery compartment. The holding means of the battery lock includes first protruding parts to hold the battery in the battery compartment, grips to lift and release the battery, holes to hinge the battery lock in the battery compartment, second protruding parts to lift the battery actuated by the grips and fastening means to fasten the battery lock to the battery compartment. The fastening means on the battery compartment to fasten the battery lock to the battery compartment include pivots to hinge the battery on, locking flaps to keep the battery lock on the pivots and protruding parts that connects to slots on the grips of the battery lock. \"@en</td></tr>\n",
       "\t<tr><th scope=row>2</th><td>&lt;http://data.epo.org/linked-data/data/publication/EP/1182716/A3/-&gt;</td><td>\"Support de batterie\"@fr</td><td>\"A battery lock for a communication unit with holding means for holding an internal battery in operating position in a battery compartment. The holding means includes features to hold, lift and release the battery in the compartment from the battery compartment. The battery compartment includes protruding parts corresponding to slots on the battery, where the protruding parts co-operates with holding means of the battery to hold the battery in the battery compartment. The holding means of the battery lock includes first protruding parts to hold the battery in the battery compartment, grips to lift and release the battery, holes to hinge the battery lock in the battery compartment, second protruding parts to lift the battery actuated by the grips and fastening means to fasten the battery lock to the battery compartment. The fastening means on the battery compartment to fasten the battery lock to the battery compartment include pivots to hinge the battery on, locking flaps to keep the battery lock on the pivots and protruding parts that connects to slots on the grips of the battery lock. \"@en</td></tr>\n",
       "\t<tr><th scope=row>3</th><td>&lt;http://data.epo.org/linked-data/data/publication/EP/1182716/A3/-&gt;</td><td><span style=white-space:pre-wrap>\"Battery lock\"@en       </span></td><td>\"A battery lock for a communication unit with holding means for holding an internal battery in operating position in a battery compartment. The holding means includes features to hold, lift and release the battery in the compartment from the battery compartment. The battery compartment includes protruding parts corresponding to slots on the battery, where the protruding parts co-operates with holding means of the battery to hold the battery in the battery compartment. The holding means of the battery lock includes first protruding parts to hold the battery in the battery compartment, grips to lift and release the battery, holes to hinge the battery lock in the battery compartment, second protruding parts to lift the battery actuated by the grips and fastening means to fasten the battery lock to the battery compartment. The fastening means on the battery compartment to fasten the battery lock to the battery compartment include pivots to hinge the battery on, locking flaps to keep the battery lock on the pivots and protruding parts that connects to slots on the grips of the battery lock. \"@en</td></tr>\n",
       "\t<tr><th scope=row>4</th><td>&lt;http://data.epo.org/linked-data/data/publication/EP/1182716/A2/-&gt;</td><td><span style=white-space:pre-wrap>\"Batteriehalterung\"@de  </span></td><td>\"A battery lock for a communication unit with holding means for holding an internal battery in operating position in a battery compartment. The holding means includes features to hold, lift and release the battery in the compartment from the battery compartment. The battery compartment includes protruding parts corresponding to slots on the battery, where the protruding parts co-operates with holding means of the battery to hold the battery in the battery compartment. The holding means of the battery lock includes first protruding parts to hold the battery in the battery compartment, grips to lift and release the battery, holes to hinge the battery lock in the battery compartment, second protruding parts to lift the battery actuated by the grips and fastening means to fasten the battery lock to the battery compartment. The fastening means on the battery compartment to fasten the battery lock to the battery compartment include pivots to hinge the battery on, locking flaps to keep the battery lock on the pivots and protruding parts that connects to slots on the grips of the battery lock.\"@en </td></tr>\n",
       "\t<tr><th scope=row>5</th><td>&lt;http://data.epo.org/linked-data/data/publication/EP/1182716/A2/-&gt;</td><td>\"Support de batterie\"@fr</td><td>\"A battery lock for a communication unit with holding means for holding an internal battery in operating position in a battery compartment. The holding means includes features to hold, lift and release the battery in the compartment from the battery compartment. The battery compartment includes protruding parts corresponding to slots on the battery, where the protruding parts co-operates with holding means of the battery to hold the battery in the battery compartment. The holding means of the battery lock includes first protruding parts to hold the battery in the battery compartment, grips to lift and release the battery, holes to hinge the battery lock in the battery compartment, second protruding parts to lift the battery actuated by the grips and fastening means to fasten the battery lock to the battery compartment. The fastening means on the battery compartment to fasten the battery lock to the battery compartment include pivots to hinge the battery on, locking flaps to keep the battery lock on the pivots and protruding parts that connects to slots on the grips of the battery lock.\"@en </td></tr>\n",
       "\t<tr><th scope=row>6</th><td>&lt;http://data.epo.org/linked-data/data/publication/EP/1182716/A2/-&gt;</td><td><span style=white-space:pre-wrap>\"Battery lock\"@en       </span></td><td>\"A battery lock for a communication unit with holding means for holding an internal battery in operating position in a battery compartment. The holding means includes features to hold, lift and release the battery in the compartment from the battery compartment. The battery compartment includes protruding parts corresponding to slots on the battery, where the protruding parts co-operates with holding means of the battery to hold the battery in the battery compartment. The holding means of the battery lock includes first protruding parts to hold the battery in the battery compartment, grips to lift and release the battery, holes to hinge the battery lock in the battery compartment, second protruding parts to lift the battery actuated by the grips and fastening means to fasten the battery lock to the battery compartment. The fastening means on the battery compartment to fasten the battery lock to the battery compartment include pivots to hinge the battery on, locking flaps to keep the battery lock on the pivots and protruding parts that connects to slots on the grips of the battery lock.\"@en </td></tr>\n",
       "</tbody>\n",
       "</table>\n"
      ],
      "text/latex": [
       "A data.frame: 6 × 3\n",
       "\\begin{tabular}{r|lll}\n",
       "  & publication & title & abstract\\\\\n",
       "  & <chr> & <chr> & <chr>\\\\\n",
       "\\hline\n",
       "\t1 & <http://data.epo.org/linked-data/data/publication/EP/1182716/A3/-> & \"Batteriehalterung\"@de   & \"A battery lock for a communication unit with holding means for holding an internal battery in operating position in a battery compartment. The holding means includes features to hold, lift and release the battery in the compartment from the battery compartment. The battery compartment includes protruding parts corresponding to slots on the battery, where the protruding parts co-operates with holding means of the battery to hold the battery in the battery compartment. The holding means of the battery lock includes first protruding parts to hold the battery in the battery compartment, grips to lift and release the battery, holes to hinge the battery lock in the battery compartment, second protruding parts to lift the battery actuated by the grips and fastening means to fasten the battery lock to the battery compartment. The fastening means on the battery compartment to fasten the battery lock to the battery compartment include pivots to hinge the battery on, locking flaps to keep the battery lock on the pivots and protruding parts that connects to slots on the grips of the battery lock. \"@en\\\\\n",
       "\t2 & <http://data.epo.org/linked-data/data/publication/EP/1182716/A3/-> & \"Support de batterie\"@fr & \"A battery lock for a communication unit with holding means for holding an internal battery in operating position in a battery compartment. The holding means includes features to hold, lift and release the battery in the compartment from the battery compartment. The battery compartment includes protruding parts corresponding to slots on the battery, where the protruding parts co-operates with holding means of the battery to hold the battery in the battery compartment. The holding means of the battery lock includes first protruding parts to hold the battery in the battery compartment, grips to lift and release the battery, holes to hinge the battery lock in the battery compartment, second protruding parts to lift the battery actuated by the grips and fastening means to fasten the battery lock to the battery compartment. The fastening means on the battery compartment to fasten the battery lock to the battery compartment include pivots to hinge the battery on, locking flaps to keep the battery lock on the pivots and protruding parts that connects to slots on the grips of the battery lock. \"@en\\\\\n",
       "\t3 & <http://data.epo.org/linked-data/data/publication/EP/1182716/A3/-> & \"Battery lock\"@en        & \"A battery lock for a communication unit with holding means for holding an internal battery in operating position in a battery compartment. The holding means includes features to hold, lift and release the battery in the compartment from the battery compartment. The battery compartment includes protruding parts corresponding to slots on the battery, where the protruding parts co-operates with holding means of the battery to hold the battery in the battery compartment. The holding means of the battery lock includes first protruding parts to hold the battery in the battery compartment, grips to lift and release the battery, holes to hinge the battery lock in the battery compartment, second protruding parts to lift the battery actuated by the grips and fastening means to fasten the battery lock to the battery compartment. The fastening means on the battery compartment to fasten the battery lock to the battery compartment include pivots to hinge the battery on, locking flaps to keep the battery lock on the pivots and protruding parts that connects to slots on the grips of the battery lock. \"@en\\\\\n",
       "\t4 & <http://data.epo.org/linked-data/data/publication/EP/1182716/A2/-> & \"Batteriehalterung\"@de   & \"A battery lock for a communication unit with holding means for holding an internal battery in operating position in a battery compartment. The holding means includes features to hold, lift and release the battery in the compartment from the battery compartment. The battery compartment includes protruding parts corresponding to slots on the battery, where the protruding parts co-operates with holding means of the battery to hold the battery in the battery compartment. The holding means of the battery lock includes first protruding parts to hold the battery in the battery compartment, grips to lift and release the battery, holes to hinge the battery lock in the battery compartment, second protruding parts to lift the battery actuated by the grips and fastening means to fasten the battery lock to the battery compartment. The fastening means on the battery compartment to fasten the battery lock to the battery compartment include pivots to hinge the battery on, locking flaps to keep the battery lock on the pivots and protruding parts that connects to slots on the grips of the battery lock.\"@en \\\\\n",
       "\t5 & <http://data.epo.org/linked-data/data/publication/EP/1182716/A2/-> & \"Support de batterie\"@fr & \"A battery lock for a communication unit with holding means for holding an internal battery in operating position in a battery compartment. The holding means includes features to hold, lift and release the battery in the compartment from the battery compartment. The battery compartment includes protruding parts corresponding to slots on the battery, where the protruding parts co-operates with holding means of the battery to hold the battery in the battery compartment. The holding means of the battery lock includes first protruding parts to hold the battery in the battery compartment, grips to lift and release the battery, holes to hinge the battery lock in the battery compartment, second protruding parts to lift the battery actuated by the grips and fastening means to fasten the battery lock to the battery compartment. The fastening means on the battery compartment to fasten the battery lock to the battery compartment include pivots to hinge the battery on, locking flaps to keep the battery lock on the pivots and protruding parts that connects to slots on the grips of the battery lock.\"@en \\\\\n",
       "\t6 & <http://data.epo.org/linked-data/data/publication/EP/1182716/A2/-> & \"Battery lock\"@en        & \"A battery lock for a communication unit with holding means for holding an internal battery in operating position in a battery compartment. The holding means includes features to hold, lift and release the battery in the compartment from the battery compartment. The battery compartment includes protruding parts corresponding to slots on the battery, where the protruding parts co-operates with holding means of the battery to hold the battery in the battery compartment. The holding means of the battery lock includes first protruding parts to hold the battery in the battery compartment, grips to lift and release the battery, holes to hinge the battery lock in the battery compartment, second protruding parts to lift the battery actuated by the grips and fastening means to fasten the battery lock to the battery compartment. The fastening means on the battery compartment to fasten the battery lock to the battery compartment include pivots to hinge the battery on, locking flaps to keep the battery lock on the pivots and protruding parts that connects to slots on the grips of the battery lock.\"@en \\\\\n",
       "\\end{tabular}\n"
      ],
      "text/markdown": [
       "\n",
       "A data.frame: 6 × 3\n",
       "\n",
       "| <!--/--> | publication &lt;chr&gt; | title &lt;chr&gt; | abstract &lt;chr&gt; |\n",
       "|---|---|---|---|\n",
       "| 1 | &lt;http://data.epo.org/linked-data/data/publication/EP/1182716/A3/-&gt; | \"Batteriehalterung\"@de   | \"A battery lock for a communication unit with holding means for holding an internal battery in operating position in a battery compartment. The holding means includes features to hold, lift and release the battery in the compartment from the battery compartment. The battery compartment includes protruding parts corresponding to slots on the battery, where the protruding parts co-operates with holding means of the battery to hold the battery in the battery compartment. The holding means of the battery lock includes first protruding parts to hold the battery in the battery compartment, grips to lift and release the battery, holes to hinge the battery lock in the battery compartment, second protruding parts to lift the battery actuated by the grips and fastening means to fasten the battery lock to the battery compartment. The fastening means on the battery compartment to fasten the battery lock to the battery compartment include pivots to hinge the battery on, locking flaps to keep the battery lock on the pivots and protruding parts that connects to slots on the grips of the battery lock. \"@en |\n",
       "| 2 | &lt;http://data.epo.org/linked-data/data/publication/EP/1182716/A3/-&gt; | \"Support de batterie\"@fr | \"A battery lock for a communication unit with holding means for holding an internal battery in operating position in a battery compartment. The holding means includes features to hold, lift and release the battery in the compartment from the battery compartment. The battery compartment includes protruding parts corresponding to slots on the battery, where the protruding parts co-operates with holding means of the battery to hold the battery in the battery compartment. The holding means of the battery lock includes first protruding parts to hold the battery in the battery compartment, grips to lift and release the battery, holes to hinge the battery lock in the battery compartment, second protruding parts to lift the battery actuated by the grips and fastening means to fasten the battery lock to the battery compartment. The fastening means on the battery compartment to fasten the battery lock to the battery compartment include pivots to hinge the battery on, locking flaps to keep the battery lock on the pivots and protruding parts that connects to slots on the grips of the battery lock. \"@en |\n",
       "| 3 | &lt;http://data.epo.org/linked-data/data/publication/EP/1182716/A3/-&gt; | \"Battery lock\"@en        | \"A battery lock for a communication unit with holding means for holding an internal battery in operating position in a battery compartment. The holding means includes features to hold, lift and release the battery in the compartment from the battery compartment. The battery compartment includes protruding parts corresponding to slots on the battery, where the protruding parts co-operates with holding means of the battery to hold the battery in the battery compartment. The holding means of the battery lock includes first protruding parts to hold the battery in the battery compartment, grips to lift and release the battery, holes to hinge the battery lock in the battery compartment, second protruding parts to lift the battery actuated by the grips and fastening means to fasten the battery lock to the battery compartment. The fastening means on the battery compartment to fasten the battery lock to the battery compartment include pivots to hinge the battery on, locking flaps to keep the battery lock on the pivots and protruding parts that connects to slots on the grips of the battery lock. \"@en |\n",
       "| 4 | &lt;http://data.epo.org/linked-data/data/publication/EP/1182716/A2/-&gt; | \"Batteriehalterung\"@de   | \"A battery lock for a communication unit with holding means for holding an internal battery in operating position in a battery compartment. The holding means includes features to hold, lift and release the battery in the compartment from the battery compartment. The battery compartment includes protruding parts corresponding to slots on the battery, where the protruding parts co-operates with holding means of the battery to hold the battery in the battery compartment. The holding means of the battery lock includes first protruding parts to hold the battery in the battery compartment, grips to lift and release the battery, holes to hinge the battery lock in the battery compartment, second protruding parts to lift the battery actuated by the grips and fastening means to fasten the battery lock to the battery compartment. The fastening means on the battery compartment to fasten the battery lock to the battery compartment include pivots to hinge the battery on, locking flaps to keep the battery lock on the pivots and protruding parts that connects to slots on the grips of the battery lock.\"@en  |\n",
       "| 5 | &lt;http://data.epo.org/linked-data/data/publication/EP/1182716/A2/-&gt; | \"Support de batterie\"@fr | \"A battery lock for a communication unit with holding means for holding an internal battery in operating position in a battery compartment. The holding means includes features to hold, lift and release the battery in the compartment from the battery compartment. The battery compartment includes protruding parts corresponding to slots on the battery, where the protruding parts co-operates with holding means of the battery to hold the battery in the battery compartment. The holding means of the battery lock includes first protruding parts to hold the battery in the battery compartment, grips to lift and release the battery, holes to hinge the battery lock in the battery compartment, second protruding parts to lift the battery actuated by the grips and fastening means to fasten the battery lock to the battery compartment. The fastening means on the battery compartment to fasten the battery lock to the battery compartment include pivots to hinge the battery on, locking flaps to keep the battery lock on the pivots and protruding parts that connects to slots on the grips of the battery lock.\"@en  |\n",
       "| 6 | &lt;http://data.epo.org/linked-data/data/publication/EP/1182716/A2/-&gt; | \"Battery lock\"@en        | \"A battery lock for a communication unit with holding means for holding an internal battery in operating position in a battery compartment. The holding means includes features to hold, lift and release the battery in the compartment from the battery compartment. The battery compartment includes protruding parts corresponding to slots on the battery, where the protruding parts co-operates with holding means of the battery to hold the battery in the battery compartment. The holding means of the battery lock includes first protruding parts to hold the battery in the battery compartment, grips to lift and release the battery, holes to hinge the battery lock in the battery compartment, second protruding parts to lift the battery actuated by the grips and fastening means to fasten the battery lock to the battery compartment. The fastening means on the battery compartment to fasten the battery lock to the battery compartment include pivots to hinge the battery on, locking flaps to keep the battery lock on the pivots and protruding parts that connects to slots on the grips of the battery lock.\"@en  |\n",
       "\n"
      ],
      "text/plain": [
       "  publication                                                       \n",
       "1 <http://data.epo.org/linked-data/data/publication/EP/1182716/A3/->\n",
       "2 <http://data.epo.org/linked-data/data/publication/EP/1182716/A3/->\n",
       "3 <http://data.epo.org/linked-data/data/publication/EP/1182716/A3/->\n",
       "4 <http://data.epo.org/linked-data/data/publication/EP/1182716/A2/->\n",
       "5 <http://data.epo.org/linked-data/data/publication/EP/1182716/A2/->\n",
       "6 <http://data.epo.org/linked-data/data/publication/EP/1182716/A2/->\n",
       "  title                   \n",
       "1 \"Batteriehalterung\"@de  \n",
       "2 \"Support de batterie\"@fr\n",
       "3 \"Battery lock\"@en       \n",
       "4 \"Batteriehalterung\"@de  \n",
       "5 \"Support de batterie\"@fr\n",
       "6 \"Battery lock\"@en       \n",
       "  abstract                                                                                                                                                                                                                                                                                                                                                                                                                                                                                                                                                                                                                                                                                                                                                                                                                                                                                                                                                                                                                                                                                                                                           \n",
       "1 \"A battery lock for a communication unit with holding means for holding an internal battery in operating position in a battery compartment. The holding means includes features to hold, lift and release the battery in the compartment from the battery compartment. The battery compartment includes protruding parts corresponding to slots on the battery, where the protruding parts co-operates with holding means of the battery to hold the battery in the battery compartment. The holding means of the battery lock includes first protruding parts to hold the battery in the battery compartment, grips to lift and release the battery, holes to hinge the battery lock in the battery compartment, second protruding parts to lift the battery actuated by the grips and fastening means to fasten the battery lock to the battery compartment. The fastening means on the battery compartment to fasten the battery lock to the battery compartment include pivots to hinge the battery on, locking flaps to keep the battery lock on the pivots and protruding parts that connects to slots on the grips of the battery lock. \"@en\n",
       "2 \"A battery lock for a communication unit with holding means for holding an internal battery in operating position in a battery compartment. The holding means includes features to hold, lift and release the battery in the compartment from the battery compartment. The battery compartment includes protruding parts corresponding to slots on the battery, where the protruding parts co-operates with holding means of the battery to hold the battery in the battery compartment. The holding means of the battery lock includes first protruding parts to hold the battery in the battery compartment, grips to lift and release the battery, holes to hinge the battery lock in the battery compartment, second protruding parts to lift the battery actuated by the grips and fastening means to fasten the battery lock to the battery compartment. The fastening means on the battery compartment to fasten the battery lock to the battery compartment include pivots to hinge the battery on, locking flaps to keep the battery lock on the pivots and protruding parts that connects to slots on the grips of the battery lock. \"@en\n",
       "3 \"A battery lock for a communication unit with holding means for holding an internal battery in operating position in a battery compartment. The holding means includes features to hold, lift and release the battery in the compartment from the battery compartment. The battery compartment includes protruding parts corresponding to slots on the battery, where the protruding parts co-operates with holding means of the battery to hold the battery in the battery compartment. The holding means of the battery lock includes first protruding parts to hold the battery in the battery compartment, grips to lift and release the battery, holes to hinge the battery lock in the battery compartment, second protruding parts to lift the battery actuated by the grips and fastening means to fasten the battery lock to the battery compartment. The fastening means on the battery compartment to fasten the battery lock to the battery compartment include pivots to hinge the battery on, locking flaps to keep the battery lock on the pivots and protruding parts that connects to slots on the grips of the battery lock. \"@en\n",
       "4 \"A battery lock for a communication unit with holding means for holding an internal battery in operating position in a battery compartment. The holding means includes features to hold, lift and release the battery in the compartment from the battery compartment. The battery compartment includes protruding parts corresponding to slots on the battery, where the protruding parts co-operates with holding means of the battery to hold the battery in the battery compartment. The holding means of the battery lock includes first protruding parts to hold the battery in the battery compartment, grips to lift and release the battery, holes to hinge the battery lock in the battery compartment, second protruding parts to lift the battery actuated by the grips and fastening means to fasten the battery lock to the battery compartment. The fastening means on the battery compartment to fasten the battery lock to the battery compartment include pivots to hinge the battery on, locking flaps to keep the battery lock on the pivots and protruding parts that connects to slots on the grips of the battery lock.\"@en \n",
       "5 \"A battery lock for a communication unit with holding means for holding an internal battery in operating position in a battery compartment. The holding means includes features to hold, lift and release the battery in the compartment from the battery compartment. The battery compartment includes protruding parts corresponding to slots on the battery, where the protruding parts co-operates with holding means of the battery to hold the battery in the battery compartment. The holding means of the battery lock includes first protruding parts to hold the battery in the battery compartment, grips to lift and release the battery, holes to hinge the battery lock in the battery compartment, second protruding parts to lift the battery actuated by the grips and fastening means to fasten the battery lock to the battery compartment. The fastening means on the battery compartment to fasten the battery lock to the battery compartment include pivots to hinge the battery on, locking flaps to keep the battery lock on the pivots and protruding parts that connects to slots on the grips of the battery lock.\"@en \n",
       "6 \"A battery lock for a communication unit with holding means for holding an internal battery in operating position in a battery compartment. The holding means includes features to hold, lift and release the battery in the compartment from the battery compartment. The battery compartment includes protruding parts corresponding to slots on the battery, where the protruding parts co-operates with holding means of the battery to hold the battery in the battery compartment. The holding means of the battery lock includes first protruding parts to hold the battery in the battery compartment, grips to lift and release the battery, holes to hinge the battery lock in the battery compartment, second protruding parts to lift the battery actuated by the grips and fastening means to fasten the battery lock to the battery compartment. The fastening means on the battery compartment to fasten the battery lock to the battery compartment include pivots to hinge the battery on, locking flaps to keep the battery lock on the pivots and protruding parts that connects to slots on the grips of the battery lock.\"@en "
      ]
     },
     "metadata": {},
     "output_type": "display_data"
    }
   ],
   "source": [
    "head(query1_result)"
   ]
  },
  {
   "cell_type": "code",
   "execution_count": 13,
   "metadata": {
    "vscode": {
     "languageId": "r"
    }
   },
   "outputs": [
    {
     "data": {
      "text/plain": [
       "\n",
       "\n",
       "|publication                                                      |title                    |abstract                                                                                                                                                                                                                                                                                                                                                                                                                                                                                                                                                                                                                                                                                                                                                                                                                                                                                                                                                                                                                                                                                                                                            |\n",
       "|:----------------------------------------------------------------|:------------------------|:---------------------------------------------------------------------------------------------------------------------------------------------------------------------------------------------------------------------------------------------------------------------------------------------------------------------------------------------------------------------------------------------------------------------------------------------------------------------------------------------------------------------------------------------------------------------------------------------------------------------------------------------------------------------------------------------------------------------------------------------------------------------------------------------------------------------------------------------------------------------------------------------------------------------------------------------------------------------------------------------------------------------------------------------------------------------------------------------------------------------------------------------------|\n",
       "|http://data.epo.org/linked-data/data/publication/EP/1182716/A3/- |\"Batteriehalterung\"@de   |\"A battery lock for a communication unit with holding means for holding an internal battery in operating position in a battery compartment. The holding means includes features to hold, lift and release the battery in the compartment from the battery compartment. The battery compartment includes protruding parts corresponding to slots on the battery, where the protruding parts co-operates with holding means of the battery to hold the battery in the battery compartment. The holding means of the battery lock includes first protruding parts to hold the battery in the battery compartment, grips to lift and release the battery, holes to hinge the battery lock in the battery compartment, second protruding parts to lift the battery actuated by the grips and fastening means to fasten the battery lock to the battery compartment. The fastening means on the battery compartment to fasten the battery lock to the battery compartment include pivots to hinge the battery on, locking flaps to keep the battery lock on the pivots and protruding parts that connects to slots on the grips of the battery lock. \"@en |\n",
       "|http://data.epo.org/linked-data/data/publication/EP/1182716/A3/- |\"Support de batterie\"@fr |\"A battery lock for a communication unit with holding means for holding an internal battery in operating position in a battery compartment. The holding means includes features to hold, lift and release the battery in the compartment from the battery compartment. The battery compartment includes protruding parts corresponding to slots on the battery, where the protruding parts co-operates with holding means of the battery to hold the battery in the battery compartment. The holding means of the battery lock includes first protruding parts to hold the battery in the battery compartment, grips to lift and release the battery, holes to hinge the battery lock in the battery compartment, second protruding parts to lift the battery actuated by the grips and fastening means to fasten the battery lock to the battery compartment. The fastening means on the battery compartment to fasten the battery lock to the battery compartment include pivots to hinge the battery on, locking flaps to keep the battery lock on the pivots and protruding parts that connects to slots on the grips of the battery lock. \"@en |\n",
       "|http://data.epo.org/linked-data/data/publication/EP/1182716/A3/- |\"Battery lock\"@en        |\"A battery lock for a communication unit with holding means for holding an internal battery in operating position in a battery compartment. The holding means includes features to hold, lift and release the battery in the compartment from the battery compartment. The battery compartment includes protruding parts corresponding to slots on the battery, where the protruding parts co-operates with holding means of the battery to hold the battery in the battery compartment. The holding means of the battery lock includes first protruding parts to hold the battery in the battery compartment, grips to lift and release the battery, holes to hinge the battery lock in the battery compartment, second protruding parts to lift the battery actuated by the grips and fastening means to fasten the battery lock to the battery compartment. The fastening means on the battery compartment to fasten the battery lock to the battery compartment include pivots to hinge the battery on, locking flaps to keep the battery lock on the pivots and protruding parts that connects to slots on the grips of the battery lock. \"@en |\n",
       "|http://data.epo.org/linked-data/data/publication/EP/1182716/A2/- |\"Batteriehalterung\"@de   |\"A battery lock for a communication unit with holding means for holding an internal battery in operating position in a battery compartment. The holding means includes features to hold, lift and release the battery in the compartment from the battery compartment. The battery compartment includes protruding parts corresponding to slots on the battery, where the protruding parts co-operates with holding means of the battery to hold the battery in the battery compartment. The holding means of the battery lock includes first protruding parts to hold the battery in the battery compartment, grips to lift and release the battery, holes to hinge the battery lock in the battery compartment, second protruding parts to lift the battery actuated by the grips and fastening means to fasten the battery lock to the battery compartment. The fastening means on the battery compartment to fasten the battery lock to the battery compartment include pivots to hinge the battery on, locking flaps to keep the battery lock on the pivots and protruding parts that connects to slots on the grips of the battery lock.\"@en  |\n",
       "|http://data.epo.org/linked-data/data/publication/EP/1182716/A2/- |\"Support de batterie\"@fr |\"A battery lock for a communication unit with holding means for holding an internal battery in operating position in a battery compartment. The holding means includes features to hold, lift and release the battery in the compartment from the battery compartment. The battery compartment includes protruding parts corresponding to slots on the battery, where the protruding parts co-operates with holding means of the battery to hold the battery in the battery compartment. The holding means of the battery lock includes first protruding parts to hold the battery in the battery compartment, grips to lift and release the battery, holes to hinge the battery lock in the battery compartment, second protruding parts to lift the battery actuated by the grips and fastening means to fasten the battery lock to the battery compartment. The fastening means on the battery compartment to fasten the battery lock to the battery compartment include pivots to hinge the battery on, locking flaps to keep the battery lock on the pivots and protruding parts that connects to slots on the grips of the battery lock.\"@en  |"
      ]
     },
     "metadata": {},
     "output_type": "display_data"
    }
   ],
   "source": [
    "# make it more readable\n",
    "query1_result %>%\n",
    "    as.data.table() %>%\n",
    "    # delete '<' and '>' for publication\n",
    "    .[, publication := gsub(\"[<>]\", \"\", publication)] %>%\n",
    "    peep_head()"
   ]
  },
  {
   "cell_type": "markdown",
   "metadata": {},
   "source": [
    "Please **click the link in the above table** to check the full information about the patents. Notice that we have same patent number - **1182716** - in the list. This is because the same patent but different publications are listed in the results.\n",
    "\n",
    "Here is some basic information about the patents:\n",
    "\n",
    "- A document: European patent application, published 18 months after filing with the EPO or 18 months after priority date. \n",
    "\n",
    "    - A1 document: European patent application published with European search report\n",
    "    - A2 document: European patent application published without European search report (search report not available at the publication date)\n",
    "    - A3 document: Separate publication of the European search report\n",
    "    - A4 document: Supplementary search report\n",
    "\n",
    "- B document:European patent specification\n",
    "\n",
    "    - B1 document: European patent specification (granted patent)\n",
    "    - B2 document: New European patent specification (amended specification)\n",
    "    - B3 document: European patent specification (after limitation procedure)\n",
    "\n",
    "\n",
    "> Anyone can apply for a patent, but not every patent will be granted!\n",
    "\n",
    "![patent-application-process](../images/IPRIS_The-Process-Diagram_01_0.png)"
   ]
  },
  {
   "cell_type": "markdown",
   "metadata": {},
   "source": []
  }
 ],
 "metadata": {
  "kernelspec": {
   "display_name": "R",
   "language": "R",
   "name": "ir"
  },
  "language_info": {
   "codemirror_mode": "r",
   "file_extension": ".r",
   "mimetype": "text/x-r-source",
   "name": "R",
   "pygments_lexer": "r",
   "version": "4.3.2"
  }
 },
 "nbformat": 4,
 "nbformat_minor": 2
}
