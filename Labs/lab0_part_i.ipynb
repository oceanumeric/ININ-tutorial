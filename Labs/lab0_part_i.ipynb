{
 "cells": [
  {
   "cell_type": "markdown",
   "metadata": {},
   "source": [
    "# Lab 0 - Part I: Drama of Love\n",
    "\n",
    "In this lab, we will use python to simulate when two people will fall in love. After finishing this lab, you should be able to understand the basic concepts of python programming and how to use it to solve real-world problems. Before you start, here are some important things you need to know:\n",
    "\n",
    "- Please read the instructions and code templates carefully.\n",
    "- Please make sure you run all the code cells from top to bottom.\n",
    "- Please change the parts of the code that read `# CHANGE THIS` or `# YOUR CODE HERE`."
   ]
  },
  {
   "cell_type": "code",
   "execution_count": null,
   "metadata": {},
   "outputs": [],
   "source": []
  }
 ],
 "metadata": {
  "kernelspec": {
   "display_name": "Python 3",
   "language": "python",
   "name": "python3"
  },
  "language_info": {
   "name": "python",
   "version": "3.10.10"
  }
 },
 "nbformat": 4,
 "nbformat_minor": 2
}
