{
 "cells": [
  {
   "cell_type": "markdown",
   "metadata": {},
   "source": [
    "# Lab 0 - Part I: Drama of Love\n",
    "\n",
    "In this lab, we will use python to simulate when two people will fall in love. After finishing this lab, you should be able to understand the basic concepts of python programming and how to use it to solve real-world problems. Before you start, here are some important things you need to know:\n",
    "\n",
    "- Please read the instructions and code templates carefully.\n",
    "- Please make sure you run all the code cells from top to bottom.\n",
    "- Please change the parts of the code that read `# CHANGE THIS` or `# YOUR CODE HERE`."
   ]
  },
  {
   "cell_type": "markdown",
   "metadata": {},
   "source": [
    "## Basic Syntax"
   ]
  },
  {
   "cell_type": "code",
   "execution_count": 7,
   "metadata": {},
   "outputs": [
    {
     "name": "stdout",
     "output_type": "stream",
     "text": [
      "Romeo and Juliet are in love.\n",
      "Romeo and Juliet are in love.\n"
     ]
    }
   ],
   "source": [
    "# JUST RUN THE CODE TO SEE THE OUTPUT\n",
    "boy_name = \"Romeo\"\n",
    "girl_name = \"Juliet\"\n",
    "print(\"Romeo and Juliet are in love.\")\n",
    "print(f\"{boy_name} and {girl_name} are in love.\")"
   ]
  },
  {
   "cell_type": "code",
   "execution_count": 8,
   "metadata": {},
   "outputs": [
    {
     "name": "stdout",
     "output_type": "stream",
     "text": [
      "Romeo and Juliet are in love.\n",
      "put your name here and put your name here are in love.\n"
     ]
    }
   ],
   "source": [
    "# CHANGE THE VALUES\n",
    "boy_name = \"put your name here\"\n",
    "girl_name = \"put your name here\"\n",
    "print(\"Romeo and Juliet are in love.\")\n",
    "print(f\"{boy_name} and {girl_name} are in love.\")"
   ]
  },
  {
   "cell_type": "code",
   "execution_count": 3,
   "metadata": {},
   "outputs": [
    {
     "name": "stdout",
     "output_type": "stream",
     "text": [
      "2 3 5 True False\n",
      "The sum of a and b is 5\n",
      "== means equal to False\n",
      "== means equal to True\n",
      "!= means not equal to True\n",
      "> means greater than False\n",
      "< means less than True\n"
     ]
    }
   ],
   "source": [
    "# notice we are not using quotes for numbers\n",
    "a = 2\n",
    "b = 3\n",
    "c = a + b\n",
    "d = True\n",
    "e = False\n",
    "print(a, b, c, d, e)\n",
    "print(\"The sum of a and b is\", c)\n",
    "print(\"== means equal to\", a == b)\n",
    "print(\"== means equal to\", c == a + b)\n",
    "print(\"!= means not equal to\", a != b)\n",
    "print(\"> means greater than\", a > b)\n",
    "print(\"< means less than\", a < b)"
   ]
  },
  {
   "cell_type": "code",
   "execution_count": 4,
   "metadata": {},
   "outputs": [
    {
     "name": "stdout",
     "output_type": "stream",
     "text": [
      "The list of numbers is [1, 2, 3, 4, 5]\n"
     ]
    }
   ],
   "source": [
    "# Let's construct a list\n",
    "list_of_numbers = [1, 2, 3, 4, 5]\n",
    "print(\"The list of numbers is\", list_of_numbers)"
   ]
  },
  {
   "cell_type": "code",
   "execution_count": 6,
   "metadata": {},
   "outputs": [
    {
     "name": "stdout",
     "output_type": "stream",
     "text": [
      "The dictionary of numbers is {'one': 1, 'two': 2, 'three': 3}\n",
      "The keys are dict_keys(['one', 'two', 'three'])\n",
      "The values are dict_values([1, 2, 3])\n"
     ]
    }
   ],
   "source": [
    "# Let's construct a dictionary\n",
    "dictionary_of_numbers = {\"one\": 1, \"two\": 2, \"three\": 3}\n",
    "print(\"The dictionary of numbers is\", dictionary_of_numbers)\n",
    "# here are keys and values\n",
    "print(\"The keys are\", dictionary_of_numbers.keys())\n",
    "print(\"The values are\", dictionary_of_numbers.values())"
   ]
  },
  {
   "cell_type": "markdown",
   "metadata": {},
   "source": [
    "## When do two people fall in love?\n",
    "\n",
    "It is safe to say that two people fall in love when they have a lot in common. Now, run the following code to see what kind of table we can create to represent the commonalities between two people."
   ]
  },
  {
   "cell_type": "code",
   "execution_count": 3,
   "metadata": {},
   "outputs": [
    {
     "data": {
      "text/html": [
       "<div>\n",
       "<style scoped>\n",
       "    .dataframe tbody tr th:only-of-type {\n",
       "        vertical-align: middle;\n",
       "    }\n",
       "\n",
       "    .dataframe tbody tr th {\n",
       "        vertical-align: top;\n",
       "    }\n",
       "\n",
       "    .dataframe thead th {\n",
       "        text-align: right;\n",
       "    }\n",
       "</style>\n",
       "<table border=\"1\" class=\"dataframe\">\n",
       "  <thead>\n",
       "    <tr style=\"text-align: right;\">\n",
       "      <th></th>\n",
       "      <th>name</th>\n",
       "      <th>gender</th>\n",
       "      <th>age</th>\n",
       "      <th>like_colors</th>\n",
       "    </tr>\n",
       "  </thead>\n",
       "  <tbody>\n",
       "    <tr>\n",
       "      <th>0</th>\n",
       "      <td>Romeo</td>\n",
       "      <td>male</td>\n",
       "      <td>16</td>\n",
       "      <td>red</td>\n",
       "    </tr>\n",
       "    <tr>\n",
       "      <th>1</th>\n",
       "      <td>Juliet</td>\n",
       "      <td>female</td>\n",
       "      <td>14</td>\n",
       "      <td>red</td>\n",
       "    </tr>\n",
       "    <tr>\n",
       "      <th>2</th>\n",
       "      <td>Hamlet</td>\n",
       "      <td>male</td>\n",
       "      <td>30</td>\n",
       "      <td>blue</td>\n",
       "    </tr>\n",
       "    <tr>\n",
       "      <th>3</th>\n",
       "      <td>Ophelia</td>\n",
       "      <td>female</td>\n",
       "      <td>28</td>\n",
       "      <td>pink</td>\n",
       "    </tr>\n",
       "  </tbody>\n",
       "</table>\n",
       "</div>"
      ],
      "text/plain": [
       "      name  gender  age like_colors\n",
       "0    Romeo    male   16         red\n",
       "1   Juliet  female   14         red\n",
       "2   Hamlet    male   30        blue\n",
       "3  Ophelia  female   28        pink"
      ]
     },
     "execution_count": 3,
     "metadata": {},
     "output_type": "execute_result"
    }
   ],
   "source": [
    "import pandas as pd  # import the pandas library\n",
    "\n",
    "names = [\"Romeo\", \"Juliet\", \"Hamlet\", \"Ophelia\"]\n",
    "gender = [\"male\", \"female\", \"male\", \"female\"]\n",
    "ages = [16, 14, 30, 28]\n",
    "like_colors = ['red', 'red', 'blue', 'pink']\n",
    "\n",
    "df = pd.DataFrame({\n",
    "    \"name\": names,\n",
    "    \"gender\": gender,\n",
    "    \"age\": ages,\n",
    "    \"like_colors\": like_colors\n",
    "})\n",
    "\n",
    "df"
   ]
  },
  {
   "cell_type": "code",
   "execution_count": 4,
   "metadata": {},
   "outputs": [],
   "source": [
    "# to simulate a real world data, we write a function to generate random data\n",
    "def generate_people(number_of_people: int):\n",
    "\n",
    "    # import libraries we will use\n",
    "    import random\n",
    "    import pandas as pd\n",
    "\n",
    "    # generate random names with 6 characters\n",
    "    names = [''.join(random.choices('abcdefghijklmnopqrstuvwxyz', k=6)) for _ in range(number_of_people)]\n",
    "\n",
    "    # generate ages between 16 and 60\n",
    "    ages = [random.randint(16, 60) for _ in range(number_of_people)]\n",
    "\n",
    "    # generate colors from rainbow colors\n",
    "    rainbow_colors = ['red', 'orange', 'yellow', 'green', 'blue', 'indigo', 'violet']\n",
    "    like_colors = [random.choice(rainbow_colors) for _ in range(number_of_people)]\n",
    "\n",
    "    # generate genders (assuming binary gender)\n",
    "    genders = [random.choice(['Male', 'Female']) for _ in range(number_of_people)]\n",
    "\n",
    "    # Create a DataFrame\n",
    "    df = pd.DataFrame({\n",
    "        'Name': names,\n",
    "        'Age': ages,\n",
    "        'Like_Color': like_colors,\n",
    "        'Gender': genders\n",
    "    })\n",
    "\n",
    "    return df"
   ]
  },
  {
   "cell_type": "code",
   "execution_count": 5,
   "metadata": {},
   "outputs": [
    {
     "data": {
      "text/html": [
       "<div>\n",
       "<style scoped>\n",
       "    .dataframe tbody tr th:only-of-type {\n",
       "        vertical-align: middle;\n",
       "    }\n",
       "\n",
       "    .dataframe tbody tr th {\n",
       "        vertical-align: top;\n",
       "    }\n",
       "\n",
       "    .dataframe thead th {\n",
       "        text-align: right;\n",
       "    }\n",
       "</style>\n",
       "<table border=\"1\" class=\"dataframe\">\n",
       "  <thead>\n",
       "    <tr style=\"text-align: right;\">\n",
       "      <th></th>\n",
       "      <th>Name</th>\n",
       "      <th>Age</th>\n",
       "      <th>Like_Color</th>\n",
       "      <th>Gender</th>\n",
       "    </tr>\n",
       "  </thead>\n",
       "  <tbody>\n",
       "    <tr>\n",
       "      <th>0</th>\n",
       "      <td>yiplvh</td>\n",
       "      <td>17</td>\n",
       "      <td>red</td>\n",
       "      <td>Female</td>\n",
       "    </tr>\n",
       "    <tr>\n",
       "      <th>1</th>\n",
       "      <td>ptrccm</td>\n",
       "      <td>38</td>\n",
       "      <td>indigo</td>\n",
       "      <td>Male</td>\n",
       "    </tr>\n",
       "    <tr>\n",
       "      <th>2</th>\n",
       "      <td>uuhmmz</td>\n",
       "      <td>24</td>\n",
       "      <td>indigo</td>\n",
       "      <td>Female</td>\n",
       "    </tr>\n",
       "    <tr>\n",
       "      <th>3</th>\n",
       "      <td>hrjgmj</td>\n",
       "      <td>48</td>\n",
       "      <td>yellow</td>\n",
       "      <td>Male</td>\n",
       "    </tr>\n",
       "    <tr>\n",
       "      <th>4</th>\n",
       "      <td>uecixf</td>\n",
       "      <td>48</td>\n",
       "      <td>violet</td>\n",
       "      <td>Male</td>\n",
       "    </tr>\n",
       "    <tr>\n",
       "      <th>5</th>\n",
       "      <td>gyvvik</td>\n",
       "      <td>54</td>\n",
       "      <td>yellow</td>\n",
       "      <td>Female</td>\n",
       "    </tr>\n",
       "    <tr>\n",
       "      <th>6</th>\n",
       "      <td>uubltd</td>\n",
       "      <td>45</td>\n",
       "      <td>blue</td>\n",
       "      <td>Female</td>\n",
       "    </tr>\n",
       "    <tr>\n",
       "      <th>7</th>\n",
       "      <td>zmcstf</td>\n",
       "      <td>43</td>\n",
       "      <td>indigo</td>\n",
       "      <td>Female</td>\n",
       "    </tr>\n",
       "    <tr>\n",
       "      <th>8</th>\n",
       "      <td>ihmptm</td>\n",
       "      <td>58</td>\n",
       "      <td>green</td>\n",
       "      <td>Male</td>\n",
       "    </tr>\n",
       "    <tr>\n",
       "      <th>9</th>\n",
       "      <td>klzptg</td>\n",
       "      <td>18</td>\n",
       "      <td>yellow</td>\n",
       "      <td>Male</td>\n",
       "    </tr>\n",
       "  </tbody>\n",
       "</table>\n",
       "</div>"
      ],
      "text/plain": [
       "     Name  Age Like_Color  Gender\n",
       "0  yiplvh   17        red  Female\n",
       "1  ptrccm   38     indigo    Male\n",
       "2  uuhmmz   24     indigo  Female\n",
       "3  hrjgmj   48     yellow    Male\n",
       "4  uecixf   48     violet    Male\n",
       "5  gyvvik   54     yellow  Female\n",
       "6  uubltd   45       blue  Female\n",
       "7  zmcstf   43     indigo  Female\n",
       "8  ihmptm   58      green    Male\n",
       "9  klzptg   18     yellow    Male"
      ]
     },
     "execution_count": 5,
     "metadata": {},
     "output_type": "execute_result"
    }
   ],
   "source": [
    "number_of_people = 10\n",
    "random_people = generate_people(number_of_people)\n",
    "random_people"
   ]
  },
  {
   "cell_type": "code",
   "execution_count": null,
   "metadata": {},
   "outputs": [],
   "source": []
  }
 ],
 "metadata": {
  "kernelspec": {
   "display_name": "Python 3",
   "language": "python",
   "name": "python3"
  },
  "language_info": {
   "codemirror_mode": {
    "name": "ipython",
    "version": 3
   },
   "file_extension": ".py",
   "mimetype": "text/x-python",
   "name": "python",
   "nbconvert_exporter": "python",
   "pygments_lexer": "ipython3",
   "version": "3.10.10"
  }
 },
 "nbformat": 4,
 "nbformat_minor": 2
}
