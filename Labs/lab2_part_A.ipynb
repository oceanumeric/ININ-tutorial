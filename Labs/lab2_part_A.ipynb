{
 "cells": [
  {
   "cell_type": "markdown",
   "metadata": {},
   "source": [
    "# Lab 2 - Part A : The Global Race for AI Dominance\n",
    "\n",
    "In this lab, we will use [artifical intelligence patent dataset](https://www.uspto.gov/ip-policy/economic-research/research-datasets/artificial-intelligence-patent-dataset) provided by USPTO to understand he determinants and impacts of artificial intelligence (AI) invention, and the global race for AI dominance."
   ]
  },
  {
   "cell_type": "code",
   "execution_count": 1,
   "metadata": {
    "vscode": {
     "languageId": "r"
    }
   },
   "outputs": [],
   "source": [
    "library(pacman)\n",
    "# vtree: sudo apt-get install libcairo2-dev librsvg2-dev\n",
    "# https://yulab-smu.top/treedata-book/index.html\n",
    "p_load(readxl, stringr, data.table, magrittr, ggplot2, SPARQL,\n",
    "        eurostat, XML, RCurl, knitr, vtree, pheatmap)\n",
    "\n",
    "# color palette\n",
    "gray_scale <- c('#F3F4F8','#D2D4DA', '#B3B5BD', \n",
    "                '#9496A1', '#7d7f89', '#777986', \n",
    "                '#656673', '#5B5D6B', '#4d505e',\n",
    "                '#404352', '#2b2d3b', '#282A3A',\n",
    "                '#1b1c2a', '#191a2b',\n",
    "                '#141626', '#101223')\n",
    "\n",
    "ft_palette <- c('#990F3D', '#0D7680', '#0F5499', '#262A33', '#FFF1E5')\n",
    "\n",
    "ft_contrast <- c('#F83', '#00A0DD', '#C00', '#006F9B', '#F2DFCE', '#FF7FAA',\n",
    "                 '#00994D', '#593380')\n",
    "\n",
    "peep_head <- function(dt, n = 5) {\n",
    "    dt %>%\n",
    "        head(n) %>%\n",
    "        kable()\n",
    "}\n",
    "\n",
    "peep_sample <- function(dt, n = 5) {\n",
    "    dt %>%\n",
    "        .[sample(.N, n)] %>%\n",
    "        kable()\n",
    "}\n",
    "\n",
    "peep_tail <- function(dt, n = 5) {\n",
    "    dt %>%\n",
    "        tail(n) %>%\n",
    "        kable()\n",
    "}"
   ]
  },
  {
   "cell_type": "code",
   "execution_count": 3,
   "metadata": {
    "vscode": {
     "languageId": "r"
    }
   },
   "outputs": [],
   "source": [
    "aipatents <- fread(cmd = 'unzip -p ../data/ai_model_predictions.tsv.zip ai_model_predictions.tsv')"
   ]
  },
  {
   "cell_type": "code",
   "execution_count": 6,
   "metadata": {
    "vscode": {
     "languageId": "r"
    }
   },
   "outputs": [
    {
     "data": {
      "text/html": [
       "<style>\n",
       ".list-inline {list-style: none; margin:0; padding: 0}\n",
       ".list-inline>li {display: inline-block}\n",
       ".list-inline>li:not(:last-child)::after {content: \"\\00b7\"; padding: 0 .5ex}\n",
       "</style>\n",
       "<ol class=list-inline><li>13244037</li><li>31</li></ol>\n"
      ],
      "text/latex": [
       "\\begin{enumerate*}\n",
       "\\item 13244037\n",
       "\\item 31\n",
       "\\end{enumerate*}\n"
      ],
      "text/markdown": [
       "1. 13244037\n",
       "2. 31\n",
       "\n",
       "\n"
      ],
      "text/plain": [
       "[1] 13244037       31"
      ]
     },
     "metadata": {},
     "output_type": "display_data"
    }
   ],
   "source": [
    "# 13 million rows, 31 columns\n",
    "dim(aipatents)"
   ]
  },
  {
   "cell_type": "code",
   "execution_count": 5,
   "metadata": {
    "vscode": {
     "languageId": "r"
    }
   },
   "outputs": [
    {
     "data": {
      "text/html": [
       "<table class=\"dataframe\">\n",
       "<caption>A data.table: 6 × 31</caption>\n",
       "<thead>\n",
       "\t<tr><th scope=col>doc_id</th><th scope=col>flag_patent</th><th scope=col>pub_dt</th><th scope=col>appl_id</th><th scope=col>flag_train_any</th><th scope=col>predict50_any_ai</th><th scope=col>flag_train_ml</th><th scope=col>ai_score_ml</th><th scope=col>predict50_ml</th><th scope=col>flag_train_evo</th><th scope=col>⋯</th><th scope=col>flag_train_kr</th><th scope=col>ai_score_kr</th><th scope=col>predict50_kr</th><th scope=col>flag_train_planning</th><th scope=col>ai_score_planning</th><th scope=col>predict50_planning</th><th scope=col>flag_train_hardware</th><th scope=col>ai_score_hardware</th><th scope=col>predict50_hardware</th><th scope=col>analysis_phase</th></tr>\n",
       "\t<tr><th scope=col>&lt;chr&gt;</th><th scope=col>&lt;int&gt;</th><th scope=col>&lt;IDate&gt;</th><th scope=col>&lt;chr&gt;</th><th scope=col>&lt;int&gt;</th><th scope=col>&lt;int&gt;</th><th scope=col>&lt;int&gt;</th><th scope=col>&lt;dbl&gt;</th><th scope=col>&lt;int&gt;</th><th scope=col>&lt;int&gt;</th><th scope=col>⋯</th><th scope=col>&lt;int&gt;</th><th scope=col>&lt;dbl&gt;</th><th scope=col>&lt;int&gt;</th><th scope=col>&lt;int&gt;</th><th scope=col>&lt;dbl&gt;</th><th scope=col>&lt;int&gt;</th><th scope=col>&lt;int&gt;</th><th scope=col>&lt;dbl&gt;</th><th scope=col>&lt;int&gt;</th><th scope=col>&lt;int&gt;</th></tr>\n",
       "</thead>\n",
       "<tbody>\n",
       "\t<tr><td>20170299591</td><td>0</td><td>2017-10-19</td><td>15377054</td><td>0</td><td>0</td><td>0</td><td>0.0002722740</td><td>0</td><td>0</td><td>⋯</td><td>0</td><td>0.0013027191</td><td>0</td><td>0</td><td>0.0096018314</td><td>0</td><td>0</td><td>0.0023749471</td><td>0</td><td>1</td></tr>\n",
       "\t<tr><td>20170128481</td><td>0</td><td>2017-05-11</td><td>14795790</td><td>0</td><td>0</td><td>0</td><td>0.0008636713</td><td>0</td><td>0</td><td>⋯</td><td>0</td><td>0.0009791255</td><td>0</td><td>0</td><td>0.0008031130</td><td>0</td><td>0</td><td>0.0002642870</td><td>0</td><td>1</td></tr>\n",
       "\t<tr><td>20040254117</td><td>0</td><td>2004-12-16</td><td>09908955</td><td>0</td><td>0</td><td>0</td><td>0.0008810759</td><td>0</td><td>0</td><td>⋯</td><td>0</td><td>0.0003645420</td><td>0</td><td>0</td><td>0.0004195571</td><td>0</td><td>0</td><td>0.0011342168</td><td>0</td><td>1</td></tr>\n",
       "\t<tr><td>20160167428</td><td>0</td><td>2016-06-16</td><td>14160226</td><td>0</td><td>0</td><td>0</td><td>0.0019406676</td><td>0</td><td>0</td><td>⋯</td><td>0</td><td>0.0003758669</td><td>0</td><td>0</td><td>0.0026210546</td><td>0</td><td>0</td><td>0.0005974174</td><td>0</td><td>1</td></tr>\n",
       "\t<tr><td>RE38534    </td><td>1</td><td>2004-06-15</td><td>10010151</td><td>0</td><td>0</td><td>0</td><td>0.0001583099</td><td>0</td><td>0</td><td>⋯</td><td>0</td><td>0.0020163655</td><td>0</td><td>0</td><td>0.0005110502</td><td>0</td><td>0</td><td>0.0011628866</td><td>0</td><td>1</td></tr>\n",
       "\t<tr><td>RE38199    </td><td>1</td><td>2003-07-22</td><td>10092912</td><td>0</td><td>0</td><td>0</td><td>0.0005730987</td><td>0</td><td>0</td><td>⋯</td><td>0</td><td>0.0006358624</td><td>0</td><td>0</td><td>0.0002709627</td><td>0</td><td>0</td><td>0.0008842945</td><td>0</td><td>1</td></tr>\n",
       "</tbody>\n",
       "</table>\n"
      ],
      "text/latex": [
       "A data.table: 6 × 31\n",
       "\\begin{tabular}{lllllllllllllllllllll}\n",
       " doc\\_id & flag\\_patent & pub\\_dt & appl\\_id & flag\\_train\\_any & predict50\\_any\\_ai & flag\\_train\\_ml & ai\\_score\\_ml & predict50\\_ml & flag\\_train\\_evo & ⋯ & flag\\_train\\_kr & ai\\_score\\_kr & predict50\\_kr & flag\\_train\\_planning & ai\\_score\\_planning & predict50\\_planning & flag\\_train\\_hardware & ai\\_score\\_hardware & predict50\\_hardware & analysis\\_phase\\\\\n",
       " <chr> & <int> & <IDate> & <chr> & <int> & <int> & <int> & <dbl> & <int> & <int> & ⋯ & <int> & <dbl> & <int> & <int> & <dbl> & <int> & <int> & <dbl> & <int> & <int>\\\\\n",
       "\\hline\n",
       "\t 20170299591 & 0 & 2017-10-19 & 15377054 & 0 & 0 & 0 & 0.0002722740 & 0 & 0 & ⋯ & 0 & 0.0013027191 & 0 & 0 & 0.0096018314 & 0 & 0 & 0.0023749471 & 0 & 1\\\\\n",
       "\t 20170128481 & 0 & 2017-05-11 & 14795790 & 0 & 0 & 0 & 0.0008636713 & 0 & 0 & ⋯ & 0 & 0.0009791255 & 0 & 0 & 0.0008031130 & 0 & 0 & 0.0002642870 & 0 & 1\\\\\n",
       "\t 20040254117 & 0 & 2004-12-16 & 09908955 & 0 & 0 & 0 & 0.0008810759 & 0 & 0 & ⋯ & 0 & 0.0003645420 & 0 & 0 & 0.0004195571 & 0 & 0 & 0.0011342168 & 0 & 1\\\\\n",
       "\t 20160167428 & 0 & 2016-06-16 & 14160226 & 0 & 0 & 0 & 0.0019406676 & 0 & 0 & ⋯ & 0 & 0.0003758669 & 0 & 0 & 0.0026210546 & 0 & 0 & 0.0005974174 & 0 & 1\\\\\n",
       "\t RE38534     & 1 & 2004-06-15 & 10010151 & 0 & 0 & 0 & 0.0001583099 & 0 & 0 & ⋯ & 0 & 0.0020163655 & 0 & 0 & 0.0005110502 & 0 & 0 & 0.0011628866 & 0 & 1\\\\\n",
       "\t RE38199     & 1 & 2003-07-22 & 10092912 & 0 & 0 & 0 & 0.0005730987 & 0 & 0 & ⋯ & 0 & 0.0006358624 & 0 & 0 & 0.0002709627 & 0 & 0 & 0.0008842945 & 0 & 1\\\\\n",
       "\\end{tabular}\n"
      ],
      "text/markdown": [
       "\n",
       "A data.table: 6 × 31\n",
       "\n",
       "| doc_id &lt;chr&gt; | flag_patent &lt;int&gt; | pub_dt &lt;IDate&gt; | appl_id &lt;chr&gt; | flag_train_any &lt;int&gt; | predict50_any_ai &lt;int&gt; | flag_train_ml &lt;int&gt; | ai_score_ml &lt;dbl&gt; | predict50_ml &lt;int&gt; | flag_train_evo &lt;int&gt; | ⋯ ⋯ | flag_train_kr &lt;int&gt; | ai_score_kr &lt;dbl&gt; | predict50_kr &lt;int&gt; | flag_train_planning &lt;int&gt; | ai_score_planning &lt;dbl&gt; | predict50_planning &lt;int&gt; | flag_train_hardware &lt;int&gt; | ai_score_hardware &lt;dbl&gt; | predict50_hardware &lt;int&gt; | analysis_phase &lt;int&gt; |\n",
       "|---|---|---|---|---|---|---|---|---|---|---|---|---|---|---|---|---|---|---|---|---|\n",
       "| 20170299591 | 0 | 2017-10-19 | 15377054 | 0 | 0 | 0 | 0.0002722740 | 0 | 0 | ⋯ | 0 | 0.0013027191 | 0 | 0 | 0.0096018314 | 0 | 0 | 0.0023749471 | 0 | 1 |\n",
       "| 20170128481 | 0 | 2017-05-11 | 14795790 | 0 | 0 | 0 | 0.0008636713 | 0 | 0 | ⋯ | 0 | 0.0009791255 | 0 | 0 | 0.0008031130 | 0 | 0 | 0.0002642870 | 0 | 1 |\n",
       "| 20040254117 | 0 | 2004-12-16 | 09908955 | 0 | 0 | 0 | 0.0008810759 | 0 | 0 | ⋯ | 0 | 0.0003645420 | 0 | 0 | 0.0004195571 | 0 | 0 | 0.0011342168 | 0 | 1 |\n",
       "| 20160167428 | 0 | 2016-06-16 | 14160226 | 0 | 0 | 0 | 0.0019406676 | 0 | 0 | ⋯ | 0 | 0.0003758669 | 0 | 0 | 0.0026210546 | 0 | 0 | 0.0005974174 | 0 | 1 |\n",
       "| RE38534     | 1 | 2004-06-15 | 10010151 | 0 | 0 | 0 | 0.0001583099 | 0 | 0 | ⋯ | 0 | 0.0020163655 | 0 | 0 | 0.0005110502 | 0 | 0 | 0.0011628866 | 0 | 1 |\n",
       "| RE38199     | 1 | 2003-07-22 | 10092912 | 0 | 0 | 0 | 0.0005730987 | 0 | 0 | ⋯ | 0 | 0.0006358624 | 0 | 0 | 0.0002709627 | 0 | 0 | 0.0008842945 | 0 | 1 |\n",
       "\n"
      ],
      "text/plain": [
       "  doc_id      flag_patent pub_dt     appl_id  flag_train_any predict50_any_ai\n",
       "1 20170299591 0           2017-10-19 15377054 0              0               \n",
       "2 20170128481 0           2017-05-11 14795790 0              0               \n",
       "3 20040254117 0           2004-12-16 09908955 0              0               \n",
       "4 20160167428 0           2016-06-16 14160226 0              0               \n",
       "5 RE38534     1           2004-06-15 10010151 0              0               \n",
       "6 RE38199     1           2003-07-22 10092912 0              0               \n",
       "  flag_train_ml ai_score_ml  predict50_ml flag_train_evo ⋯ flag_train_kr\n",
       "1 0             0.0002722740 0            0              ⋯ 0            \n",
       "2 0             0.0008636713 0            0              ⋯ 0            \n",
       "3 0             0.0008810759 0            0              ⋯ 0            \n",
       "4 0             0.0019406676 0            0              ⋯ 0            \n",
       "5 0             0.0001583099 0            0              ⋯ 0            \n",
       "6 0             0.0005730987 0            0              ⋯ 0            \n",
       "  ai_score_kr  predict50_kr flag_train_planning ai_score_planning\n",
       "1 0.0013027191 0            0                   0.0096018314     \n",
       "2 0.0009791255 0            0                   0.0008031130     \n",
       "3 0.0003645420 0            0                   0.0004195571     \n",
       "4 0.0003758669 0            0                   0.0026210546     \n",
       "5 0.0020163655 0            0                   0.0005110502     \n",
       "6 0.0006358624 0            0                   0.0002709627     \n",
       "  predict50_planning flag_train_hardware ai_score_hardware predict50_hardware\n",
       "1 0                  0                   0.0023749471      0                 \n",
       "2 0                  0                   0.0002642870      0                 \n",
       "3 0                  0                   0.0011342168      0                 \n",
       "4 0                  0                   0.0005974174      0                 \n",
       "5 0                  0                   0.0011628866      0                 \n",
       "6 0                  0                   0.0008842945      0                 \n",
       "  analysis_phase\n",
       "1 1             \n",
       "2 1             \n",
       "3 1             \n",
       "4 1             \n",
       "5 1             \n",
       "6 1             "
      ]
     },
     "metadata": {},
     "output_type": "display_data"
    }
   ],
   "source": [
    "head(aipatents)"
   ]
  },
  {
   "cell_type": "code",
   "execution_count": 10,
   "metadata": {
    "vscode": {
     "languageId": "r"
    }
   },
   "outputs": [
    {
     "data": {
      "text/html": [
       "<style>\n",
       ".list-inline {list-style: none; margin:0; padding: 0}\n",
       ".list-inline>li {display: inline-block}\n",
       ".list-inline>li:not(:last-child)::after {content: \"\\00b7\"; padding: 0 .5ex}\n",
       "</style>\n",
       "<ol class=list-inline><li>6920965</li><li>31</li></ol>\n"
      ],
      "text/latex": [
       "\\begin{enumerate*}\n",
       "\\item 6920965\n",
       "\\item 31\n",
       "\\end{enumerate*}\n"
      ],
      "text/markdown": [
       "1. 6920965\n",
       "2. 31\n",
       "\n",
       "\n"
      ],
      "text/plain": [
       "[1] 6920965      31"
      ]
     },
     "metadata": {},
     "output_type": "display_data"
    }
   ],
   "source": [
    "# only get patents\n",
    "aipatents %>%\n",
    "    .[flag_patent == 1] %>%\n",
    "    dim()  # only 6.9 million rows left"
   ]
  },
  {
   "cell_type": "code",
   "execution_count": 14,
   "metadata": {
    "vscode": {
     "languageId": "r"
    }
   },
   "outputs": [
    {
     "name": "stdout",
     "output_type": "stream",
     "text": [
      "Classes ‘data.table’ and 'data.frame':\t668808 obs. of  31 variables:\n",
      " $ doc_id             : chr  \"4039258\" \"4178918\" \"4084816\" \"4028686\" ...\n",
      " $ flag_patent        : int  1 1 1 1 1 1 1 1 1 1 ...\n",
      " $ pub_dt             : IDate, format: \"1977-08-02\" \"1979-12-18\" ...\n",
      " $ appl_id            : chr  \"05669500\" \"05833608\" \"05697725\" \"05684564\" ...\n",
      " $ flag_train_any     : int  0 0 0 0 0 0 0 0 0 0 ...\n",
      " $ predict50_any_ai   : int  1 1 1 1 1 1 1 1 1 1 ...\n",
      " $ flag_train_ml      : int  0 0 0 0 0 0 0 0 0 0 ...\n",
      " $ ai_score_ml        : num  0.001178 0.010346 0.000421 0.008526 0.061306 ...\n",
      " $ predict50_ml       : int  0 0 0 0 0 0 0 1 1 0 ...\n",
      " $ flag_train_evo     : int  0 0 0 0 0 0 0 0 0 0 ...\n",
      " $ ai_score_evo       : num  0.005016 0.009261 0.000357 0.003412 0.001302 ...\n",
      " $ predict50_evo      : int  0 0 0 0 0 0 0 0 0 0 ...\n",
      " $ flag_train_nlp     : int  0 0 0 0 0 0 0 0 0 0 ...\n",
      " $ ai_score_nlp       : num  0.000574 0.008563 0.178022 0.00094 0.005659 ...\n",
      " $ predict50_nlp      : int  0 0 0 0 0 0 0 1 0 0 ...\n",
      " $ flag_train_speech  : int  0 0 0 0 0 0 0 0 0 0 ...\n",
      " $ ai_score_speech    : num  0.000482 0.027732 0.955662 0.000617 0.001828 ...\n",
      " $ predict50_speech   : int  0 0 1 0 0 0 0 1 0 0 ...\n",
      " $ flag_train_vision  : int  0 0 0 0 0 0 0 0 0 0 ...\n",
      " $ ai_score_vision    : num  0.00321 0.01212 0.17073 0.00298 0.00482 ...\n",
      " $ predict50_vision   : int  0 0 0 0 0 0 0 1 0 0 ...\n",
      " $ flag_train_kr      : int  0 0 0 0 0 0 0 0 0 0 ...\n",
      " $ ai_score_kr        : num  0.000564 0.898566 0.087553 0.850663 0.863014 ...\n",
      " $ predict50_kr       : int  0 1 0 1 1 1 1 1 0 0 ...\n",
      " $ flag_train_planning: int  0 0 0 0 0 0 0 0 0 0 ...\n",
      " $ ai_score_planning  : num  0.5504 0.0331 0.0576 0.0119 0.8118 ...\n",
      " $ predict50_planning : int  1 0 0 0 1 1 1 0 0 1 ...\n",
      " $ flag_train_hardware: int  0 0 0 0 0 0 0 0 0 0 ...\n",
      " $ ai_score_hardware  : num  0.00572 0.03125 0.01431 0.03127 0.28272 ...\n",
      " $ predict50_hardware : int  0 0 0 0 0 0 0 1 0 0 ...\n",
      " $ analysis_phase     : int  1 1 1 1 1 1 1 1 1 1 ...\n",
      " - attr(*, \".internal.selfref\")=<externalptr> \n"
     ]
    }
   ],
   "source": [
    "# only get patents with and predict50_any_ai == 1\n",
    "aipatents %>%\n",
    "    .[flag_patent == 1 & predict50_any_ai == 1] %>%\n",
    "    str()  # only 6.7 thousand rows left"
   ]
  },
  {
   "cell_type": "code",
   "execution_count": 20,
   "metadata": {
    "vscode": {
     "languageId": "r"
    }
   },
   "outputs": [
    {
     "data": {
      "text/html": [
       "<table class=\"dataframe\">\n",
       "<caption>A data.table: 6 × 12</caption>\n",
       "<thead>\n",
       "\t<tr><th scope=col>predict50_any_ai</th><th scope=col>predict50_ml</th><th scope=col>predict50_evo</th><th scope=col>predict50_nlp</th><th scope=col>predict50_speech</th><th scope=col>predict50_vision</th><th scope=col>predict50_kr</th><th scope=col>predict50_planning</th><th scope=col>predict50_hardware</th><th scope=col>doc_id</th><th scope=col>appl_id</th><th scope=col>pub_dt</th></tr>\n",
       "\t<tr><th scope=col>&lt;int&gt;</th><th scope=col>&lt;int&gt;</th><th scope=col>&lt;int&gt;</th><th scope=col>&lt;int&gt;</th><th scope=col>&lt;int&gt;</th><th scope=col>&lt;int&gt;</th><th scope=col>&lt;int&gt;</th><th scope=col>&lt;int&gt;</th><th scope=col>&lt;int&gt;</th><th scope=col>&lt;chr&gt;</th><th scope=col>&lt;chr&gt;</th><th scope=col>&lt;IDate&gt;</th></tr>\n",
       "</thead>\n",
       "<tbody>\n",
       "\t<tr><td>1</td><td>0</td><td>0</td><td>0</td><td>0</td><td>0</td><td>0</td><td>1</td><td>0</td><td>4039258</td><td>05669500</td><td>1977-08-02</td></tr>\n",
       "\t<tr><td>1</td><td>0</td><td>0</td><td>0</td><td>0</td><td>0</td><td>1</td><td>0</td><td>0</td><td>4178918</td><td>05833608</td><td>1979-12-18</td></tr>\n",
       "\t<tr><td>1</td><td>0</td><td>0</td><td>0</td><td>1</td><td>0</td><td>0</td><td>0</td><td>0</td><td>4084816</td><td>05697725</td><td>1978-04-18</td></tr>\n",
       "\t<tr><td>1</td><td>0</td><td>0</td><td>0</td><td>0</td><td>0</td><td>1</td><td>0</td><td>0</td><td>4028686</td><td>05684564</td><td>1977-06-07</td></tr>\n",
       "\t<tr><td>1</td><td>0</td><td>0</td><td>0</td><td>0</td><td>0</td><td>1</td><td>1</td><td>0</td><td>4084174</td><td>05657439</td><td>1978-04-11</td></tr>\n",
       "\t<tr><td>1</td><td>0</td><td>0</td><td>0</td><td>0</td><td>0</td><td>1</td><td>1</td><td>0</td><td>3970457</td><td>05462663</td><td>1976-07-20</td></tr>\n",
       "</tbody>\n",
       "</table>\n"
      ],
      "text/latex": [
       "A data.table: 6 × 12\n",
       "\\begin{tabular}{llllllllllll}\n",
       " predict50\\_any\\_ai & predict50\\_ml & predict50\\_evo & predict50\\_nlp & predict50\\_speech & predict50\\_vision & predict50\\_kr & predict50\\_planning & predict50\\_hardware & doc\\_id & appl\\_id & pub\\_dt\\\\\n",
       " <int> & <int> & <int> & <int> & <int> & <int> & <int> & <int> & <int> & <chr> & <chr> & <IDate>\\\\\n",
       "\\hline\n",
       "\t 1 & 0 & 0 & 0 & 0 & 0 & 0 & 1 & 0 & 4039258 & 05669500 & 1977-08-02\\\\\n",
       "\t 1 & 0 & 0 & 0 & 0 & 0 & 1 & 0 & 0 & 4178918 & 05833608 & 1979-12-18\\\\\n",
       "\t 1 & 0 & 0 & 0 & 1 & 0 & 0 & 0 & 0 & 4084816 & 05697725 & 1978-04-18\\\\\n",
       "\t 1 & 0 & 0 & 0 & 0 & 0 & 1 & 0 & 0 & 4028686 & 05684564 & 1977-06-07\\\\\n",
       "\t 1 & 0 & 0 & 0 & 0 & 0 & 1 & 1 & 0 & 4084174 & 05657439 & 1978-04-11\\\\\n",
       "\t 1 & 0 & 0 & 0 & 0 & 0 & 1 & 1 & 0 & 3970457 & 05462663 & 1976-07-20\\\\\n",
       "\\end{tabular}\n"
      ],
      "text/markdown": [
       "\n",
       "A data.table: 6 × 12\n",
       "\n",
       "| predict50_any_ai &lt;int&gt; | predict50_ml &lt;int&gt; | predict50_evo &lt;int&gt; | predict50_nlp &lt;int&gt; | predict50_speech &lt;int&gt; | predict50_vision &lt;int&gt; | predict50_kr &lt;int&gt; | predict50_planning &lt;int&gt; | predict50_hardware &lt;int&gt; | doc_id &lt;chr&gt; | appl_id &lt;chr&gt; | pub_dt &lt;IDate&gt; |\n",
       "|---|---|---|---|---|---|---|---|---|---|---|---|\n",
       "| 1 | 0 | 0 | 0 | 0 | 0 | 0 | 1 | 0 | 4039258 | 05669500 | 1977-08-02 |\n",
       "| 1 | 0 | 0 | 0 | 0 | 0 | 1 | 0 | 0 | 4178918 | 05833608 | 1979-12-18 |\n",
       "| 1 | 0 | 0 | 0 | 1 | 0 | 0 | 0 | 0 | 4084816 | 05697725 | 1978-04-18 |\n",
       "| 1 | 0 | 0 | 0 | 0 | 0 | 1 | 0 | 0 | 4028686 | 05684564 | 1977-06-07 |\n",
       "| 1 | 0 | 0 | 0 | 0 | 0 | 1 | 1 | 0 | 4084174 | 05657439 | 1978-04-11 |\n",
       "| 1 | 0 | 0 | 0 | 0 | 0 | 1 | 1 | 0 | 3970457 | 05462663 | 1976-07-20 |\n",
       "\n"
      ],
      "text/plain": [
       "  predict50_any_ai predict50_ml predict50_evo predict50_nlp predict50_speech\n",
       "1 1                0            0             0             0               \n",
       "2 1                0            0             0             0               \n",
       "3 1                0            0             0             1               \n",
       "4 1                0            0             0             0               \n",
       "5 1                0            0             0             0               \n",
       "6 1                0            0             0             0               \n",
       "  predict50_vision predict50_kr predict50_planning predict50_hardware doc_id \n",
       "1 0                0            1                  0                  4039258\n",
       "2 0                1            0                  0                  4178918\n",
       "3 0                0            0                  0                  4084816\n",
       "4 0                1            0                  0                  4028686\n",
       "5 0                1            1                  0                  4084174\n",
       "6 0                1            1                  0                  3970457\n",
       "  appl_id  pub_dt    \n",
       "1 05669500 1977-08-02\n",
       "2 05833608 1979-12-18\n",
       "3 05697725 1978-04-18\n",
       "4 05684564 1977-06-07\n",
       "5 05657439 1978-04-11\n",
       "6 05462663 1976-07-20"
      ]
     },
     "metadata": {},
     "output_type": "display_data"
    }
   ],
   "source": [
    "# check distribution of category\n",
    "aipatents %>%\n",
    "    .[flag_patent == 1 & predict50_any_ai == 1] %>%\n",
    "    # only keep rows that include 'predict50' in the column name\n",
    "    # and doc_id, appl_id, and pub_dt\n",
    "    .[, .SD, .SDcols = c(grep('predict50', names(.), value = TRUE),\n",
    "                          'doc_id', 'appl_id', 'pub_dt')] %>%\n",
    "    head()"
   ]
  }
 ],
 "metadata": {
  "kernelspec": {
   "display_name": "R",
   "language": "R",
   "name": "ir"
  },
  "language_info": {
   "codemirror_mode": "r",
   "file_extension": ".r",
   "mimetype": "text/x-r-source",
   "name": "R",
   "pygments_lexer": "r",
   "version": "4.3.2"
  }
 },
 "nbformat": 4,
 "nbformat_minor": 2
}
