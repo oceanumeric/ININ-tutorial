


# install the package
install.packages("../_utils/SPARQL_1.16.tar.gz", repos = NULL, type="source")


library(pacman)
# vtree: sudo apt-get install libcairo2-dev librsvg2-dev
p_load(readxl, stringr, data.table, magrittr, ggplot2, SPARQL,
        eurostat, XML, RCurl, knitr, vtree)

# color palette
gray_scale <- c('#F3F4F8','#D2D4DA', '#B3B5BD', 
                '#9496A1', '#7d7f89', '#777986', 
                '#656673', '#5B5D6B', '#4d505e',
                '#404352', '#2b2d3b', '#282A3A',
                '#1b1c2a', '#191a2b',
                '#141626', '#101223')

ft_palette <- c('#990F3D', '#0D7680', '#0F5499', '#262A33', '#FFF1E5')

ft_contrast <- c('#F83', '#00A0DD', '#C00', '#006F9B', '#F2DFCE', '#FF7FAA',
                 '#00994D', '#593380')

peep_head <- function(dt, n = 5) {
    dt %>%
        head(n) %>%
        kable()
}

peep_sample <- function(dt, n = 5) {
    dt %>%
        .[sample(.N, n)] %>%
        kable()
}

peep_tail <- function(dt, n = 5) {
    dt %>%
        tail(n) %>%
        kable()
}





# query the SPARQL endpoint
endpoint <- "https://data.epo.org/linked-data/query"

# patents that abstract contains the word 'battery'
query1 <- "
prefix dcterms: <http://purl.org/dc/terms/>
prefix patent: <http://data.epo.org/linked-data/def/patent/>
prefix text: <http://jena.apache.org/text#>

SELECT DISTINCT ?publication ?title ?abstract 
WHERE {
    ?publication text:query ( dcterms:abstract 'battery' );
                 patent:titleOfInvention ?title;
                 dcterms:abstract        ?abstract.
} LIMIT 10
"
query1_result <- SPARQL(endpoint, query1)$results


str(query1_result)


head(query1_result)


# make it more readable
query1_result %>%
    as.data.table() %>%
    # delete '<' and '>' for publication
    .[, publication := gsub("[<>]", "", publication)] %>%
    .[, .(publication, title)] %>%
    peep_head()





# the first query gives us many same publications but titles are in
# different languages. Let's only keep the English titles
query2 <- "
prefix dcterms: <http://purl.org/dc/terms/>
prefix patent: <http://data.epo.org/linked-data/def/patent/>
prefix text: <http://jena.apache.org/text#>

SELECT DISTINCT ?publication ?title ?abstract 
WHERE {
    ?publication text:query ( dcterms:abstract 'battery' );
                 patent:titleOfInvention ?title;
                 dcterms:abstract        ?abstract.
    FILTER (lang(?title) = 'en')
} LIMIT 10
"

query2_result <- SPARQL(endpoint, query2)$results


head(query2_result)











query3 <- "
prefix dcterms: <http://purl.org/dc/terms/>
PREFIX xsd: <http://www.w3.org/2001/XMLSchema#>
PREFIX skos: <http://www.w3.org/2004/02/skos/core#> 
PREFIX rdf: <http://www.w3.org/1999/02/22-rdf-syntax-ns#> 
PREFIX vcard: <http://www.w3.org/2006/vcard/ns#> 
PREFIX patent: <http://data.epo.org/linked-data/def/patent/>

SELECT * 
WHERE {
    ?publn rdf:type patent:Publication;
           patent:applicantVC ?applicant;
           patent:publicationAuthority ?auth;
           patent:publicationNumber ?publnNum;
           patent:publicationKind ?kind;
           patent:publicationDate ?publnDate;
           patent:citesPatentPublication ?citation.
    ?applicant vcard:fn ?name.
    FILTER (?name = 'Nio Technology (Anhui) Co., Ltd' || ?name = 'NIO Nextev Limited')
}
LIMIT 1000
"

query3_result <- SPARQL(endpoint, query3)$results


str(query3_result)


head(query3_result)





# convert publication date to date format with as.POSIXct
query3_result %>%
    as.data.table() %>%
    # delete '<' and '>' for publn, applicant, auth, kind
    .[, c("publn", "applicant", "auth", "kind", "citation") := lapply(.SD, function(x) gsub("[<>]", "", x)),
                        .SDcols = c("publn", "applicant", "auth", "kind", "citation")] %>%
    .[, publnDate := as.POSIXct(publnDate)] %>%
    # order by publication date
    .[order(-publnDate)] %>%
    peep_head(10)


# where does Nio EV learn from?
# we can check the citations of the patents
query3_result %>%
    as.data.table() %>%
    # delete '<' and '>' for publn, applicant, auth, kind
    .[, c("publn", "applicant", "auth", "kind", "citation") := lapply(.SD, function(x) gsub("[<>]", "", x)),
                        .SDcols = c("publn", "applicant", "auth", "kind", "citation")] %>%
    .[, publnDate := as.POSIXct(publnDate)] %>%
    # select the columns we need
    .[, .(publnNum, publnDate, citation, name)] %>%
    # get the country code of citation by extracting string after /publication/ and before /
    .[, citation_country := str_extract(citation, "(?<=/publication/)[^/]+")] %>%
    peep_head()


query3_result %>%
    as.data.table() %>%
    # delete '<' and '>' for publn, applicant, auth, kind
    .[, c("publn", "applicant", "auth", "kind", "citation") := lapply(.SD, function(x) gsub("[<>]", "", x)),
                        .SDcols = c("publn", "applicant", "auth", "kind", "citation")] %>%
    .[, publnDate := as.POSIXct(publnDate)] %>%
    # select the columns we need
    .[, .(publnNum, publnDate, citation, name)] %>%
    # get the country code of citation by extracting string after /publication/ and before /
    .[, citation_country := str_extract(citation, "(?<=/publication/)[^/]+")] %>%
    .[, .N, by = .(citation_country)] %>%
    .[order(-N)] %>%
    peep_head(10)








# let's run the following query to learn IPC and CPC 
query4 <- "
prefix cpc: <http://data.epo.org/linked-data/def/cpc/>
prefix dcterms: <http://purl.org/dc/terms/>
prefix rdf: <http://www.w3.org/1999/02/22-rdf-syntax-ns#>
prefix rdfs: <http://www.w3.org/2000/01/rdf-schema#>
prefix skos: <http://www.w3.org/2004/02/skos/core#>

SELECT ?broaderCPC ?title ?ipc
WHERE {
    ?CPC rdf:type/rdfs:subClassOf cpc:Classification.
    ?CPC rdfs:label 'A44B 11/2523'.  # Note the single space between A44B and 11/2523
    ?CPC skos:broader* ?broaderCPC.
    ?broaderCPC cpc:concordantIPC ?ipc.
    ?broaderCPC dcterms:title ?title
}
ORDER BY ASC(?broaderCPC)
LIMIT 20
"

query4_result <- SPARQL(endpoint, query4)$results


query4_result %>%
    as.data.table() %>%
    # delete '<' and '>' for broaderCPC, ipc
    .[, c("broaderCPC", "ipc") := lapply(.SD, function(x) gsub("[<>]", "", x)),
                        .SDcols = c("broaderCPC", "ipc")] %>%
    peep_head()


# make it readable
query4_result %>%
    as.data.table() %>%
    # extract string after 'cpc/' and before '>' for broaderCPC
    .[, broaderCPC := str_extract(broaderCPC, "(?<=cpc/)[^>]+")] %>%
    # extract string after 'ipc/' and before '>' for ipc
    .[, ipc := str_extract(ipc, "(?<=ipc/)[^>]+")] %>%
    kable()





# get publications of TESLA INC, TESLA MOTORS INC, BYD COMPANY LIMITED
# it will take around 20 seconds to run
query5 <- "
prefix dcterms: <http://purl.org/dc/terms/>
PREFIX xsd: <http://www.w3.org/2001/XMLSchema#>
PREFIX skos: <http://www.w3.org/2004/02/skos/core#> 
PREFIX rdf: <http://www.w3.org/1999/02/22-rdf-syntax-ns#> 
PREFIX vcard: <http://www.w3.org/2006/vcard/ns#> 
PREFIX patent: <http://data.epo.org/linked-data/def/patent/>

SELECT * 
WHERE {
    ?publn rdf:type patent:Publication;
           patent:applicantVC ?applicant;
           patent:publicationAuthority ?auth;
           patent:publicationNumber ?publnNum;
           patent:publicationKind ?kind;
           patent:publicationDate ?publnDate;
           patent:application ?application.
  	?application patent:classificationCPCInventive ?cpc.
    ?applicant vcard:fn ?name.
    FILTER (?name = 'Tesla Motors, Inc.' || ?name = 'Tesla, Inc.' || ?name = 'BYD Company Limited')
}
LIMIT 15000
"

query5_result <- SPARQL(endpoint, query5)$results


str(query5_result)


# now let's clean the data
query5_result %>%
    as.data.table() %>%
    # delete '<' and '>' for publn, applicant, auth, kind
    .[, c("publn", "applicant", "auth", "kind", "application", "cpc") := lapply(.SD, function(x) gsub("[<>]", "", x)),
                        .SDcols = c("publn", "applicant", "auth", "kind", "application", "cpc")] %>%
    .[, publnDate := as.POSIXct(publnDate)] %>%
    # select the columns we need
    .[, .(publn, name, publnNum, publnDate, cpc)] %>%
    # extract string after 'cpc/' and before '>' for cpc
    .[, cpc_code := str_extract(cpc, "(?<=cpc/)[^>]+")] %>%
    peep_head()


query5_result %>%
    as.data.table() %>%
    # delete '<' and '>' for publn, applicant, auth, kind
    .[, c("publn", "applicant", "auth", "kind", "application", "cpc") := lapply(.SD, function(x) gsub("[<>]", "", x)),
                        .SDcols = c("publn", "applicant", "auth", "kind", "application", "cpc")] %>%
    .[, publnDate := as.POSIXct(publnDate)] %>%
    # select the columns we need
    .[, .(publn, name, publnNum, publnDate, cpc)] %>%
    # extract string after 'cpc/' and before '>' for cpc
    .[, cpc_code := str_extract(cpc, "(?<=cpc/)[^>]+")] %>%
    # only keep the unique publications
    unique(by = "publnNum") %>%
    # get the count of applicants
    .[, .N, by = .(name)] %>%
    .[order(-N)] %>%
    peep_head()





# now let's analyze the CPC codes
query5_result %>%
    as.data.table() %>%
    # delete '<' and '>' for publn, applicant, auth, kind
    .[, c("publn", "applicant", "auth", "kind", "application", "cpc") := lapply(.SD, function(x) gsub("[<>]", "", x)),
                        .SDcols = c("publn", "applicant", "auth", "kind", "application", "cpc")] %>%
    .[, publnDate := as.POSIXct(publnDate)] %>%
    # select the columns we need
    .[, .(publn, name, publnNum, publnDate, cpc)] %>%
    # extract string after 'cpc/' and before '>' for cpc
    .[, cpc_code := str_extract(cpc, "(?<=cpc/)[^>]+")] %>%
    .[, .N, by = .(cpc_code)] %>%
    .[order(-N)] %>%
    peep_head(10)


# visualize the results
# cpc has 5 levels: section, class, subclass, group, main group
query5_result %>%
    as.data.table() %>%
    # delete '<' and '>' for publn, applicant, auth, kind
    .[, c("publn", "applicant", "auth", "kind", "application", "cpc") := lapply(.SD, function(x) gsub("[<>]", "", x)),
                        .SDcols = c("publn", "applicant", "auth", "kind", "application", "cpc")] %>%
    .[, publnDate := as.POSIXct(publnDate)] %>%
    # select the columns we need
    .[, .(publn, name, publnNum, publnDate, cpc)] %>%
    # extract string after 'cpc/' and before '>' for cpc
    .[, cpc_code := str_extract(cpc, "(?<=cpc/)[^>]+")] %>%
    .[, .(cpc_code)] %>%
    # extract the characters before '-' as group
    .[, group := str_extract(cpc_code, "^[^-]+")] %>%
    # extract the first 4 characters as section
    .[, subclass := str_sub(group, 1, 4)] %>%
    # extract the first 3 characters as class
    .[, class := str_sub(group, 1, 3)] %>%
    # extract the first 1 character as section
    .[, section := str_sub(group, 1, 1)] -> cpc_hierarchy

head(cpc_hierarchy)


# visualize the hierarchy
options(jupyter.plot_mimetypes = "image/svg+xml") 
vtree(cpc_hierarchy, c("section", "class", "subclass", "group"))



