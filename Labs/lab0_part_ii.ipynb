{
 "cells": [
  {
   "cell_type": "markdown",
   "metadata": {},
   "source": [
    "# Lab 0 - Part II: Secrets of Happiness\n",
    "\n",
    "In the first part of this lab, we learned how to use Python to run\n",
    "different kinds of simulations, such as:\n",
    "\n",
    "- generate a population with different characteristics,\n",
    "- match individuals in the marriage market based on pre-defined criteria,\n",
    "- generate the happiness score of each individual based on their characteristics.\n",
    "\n",
    "At the end of last lab, we saved our data in a CSV file, called\n",
    "`marriage_data.csv`. In this part, we will learn how to analyze the\n",
    "data we generated with `R`.\n",
    "\n",
    "Most of the time, you just need to run the code in the cells below by\n",
    "clicking on the \"Run\" button. If you see `# Change the code below` in\n",
    "the cell, you need to modify the code before running it."
   ]
  },
  {
   "cell_type": "code",
   "execution_count": 1,
   "metadata": {
    "vscode": {
     "languageId": "r"
    }
   },
   "outputs": [],
   "source": [
    "# load libraries and some helper functions\n",
    "library(pacman)\n",
    "p_load(data.table, magrittr, ggplot2, knitr)\n",
    "\n",
    "# color palette\n",
    "gray_scale <- c('#F3F4F8','#D2D4DA', '#B3B5BD', \n",
    "                '#9496A1', '#7d7f89', '#777986', \n",
    "                '#656673', '#5B5D6B', '#4d505e',\n",
    "                '#404352', '#2b2d3b', '#282A3A',\n",
    "                '#1b1c2a', '#191a2b',\n",
    "                '#141626', '#101223')\n",
    "\n",
    "ft_palette <- c('#990F3D', '#0D7680', '#0F5499', '#262A33', '#FFF1E5')\n",
    "\n",
    "ft_contrast <- c('#F83', '#00A0DD', '#C00', '#006F9B', '#F2DFCE', '#FF7FAA',\n",
    "                 '#00994D', '#593380')\n",
    "\n",
    "peep_head <- function(dt, n = 5) {\n",
    "    dt %>%\n",
    "        head(n) %>%\n",
    "        kable()\n",
    "}\n",
    "\n",
    "peep_sample <- function(dt, n = 5) {\n",
    "    dt %>%\n",
    "        .[sample(.N, n)] %>%\n",
    "        kable()\n",
    "}\n",
    "\n",
    "peep_tail <- function(dt, n = 5) {\n",
    "    dt %>%\n",
    "        tail(n) %>%\n",
    "        kable()\n",
    "}"
   ]
  },
  {
   "cell_type": "markdown",
   "metadata": {},
   "source": [
    "## First step of data analysis: Load the data\n",
    "\n",
    "The first step of data analysis is to load the data. We will use the\n",
    "`fread` function from the `data.table` package to load the data. The\n",
    "`fread` means file read, and it is a very fast function to read data\n",
    "from a file."
   ]
  },
  {
   "cell_type": "code",
   "execution_count": 2,
   "metadata": {
    "vscode": {
     "languageId": "r"
    }
   },
   "outputs": [],
   "source": [
    "# mdt means marriage data table\n",
    "# you can name it whatever you want\n",
    "mdt <- fread(\"../data/marriage_data.csv\")"
   ]
  },
  {
   "cell_type": "code",
   "execution_count": 3,
   "metadata": {
    "vscode": {
     "languageId": "r"
    }
   },
   "outputs": [
    {
     "name": "stdout",
     "output_type": "stream",
     "text": [
      "Classes ‘data.table’ and 'data.frame':\t20000 obs. of  12 variables:\n",
      " $ id               : int  11064 71744 2923 99072 71402 39880 43238 61867 7139 31257 ...\n",
      " $ name             : chr  \"zczczy\" \"psbrqc\" \"aftchs\" \"yqixuc\" ...\n",
      " $ age              : int  28 45 21 30 17 34 17 35 39 21 ...\n",
      " $ income           : num  207 3040 7384 448 1862 ...\n",
      " $ openness         : num  32.7 37.8 40.5 47 44.2 ...\n",
      " $ conscientiousness: num  53.1 65.3 55.5 49.6 37.1 ...\n",
      " $ extraversion     : num  42.2 55.3 51.2 46.4 34 ...\n",
      " $ agreeableness    : num  45 70.5 21.1 32.4 53 ...\n",
      " $ neuroticism      : num  22.6 35.4 62.4 46.3 46.9 ...\n",
      " $ tolerance        : num  38.3 46.8 26.9 32.1 30.1 ...\n",
      " $ matched_id       : int  37741 93175 21289 54307 78385 NA 71664 65469 69740 6472 ...\n",
      " $ happiness        : num  52.8 74 67.7 50.8 68 ...\n",
      " - attr(*, \".internal.selfref\")=<externalptr> \n"
     ]
    }
   ],
   "source": [
    "# check the structure of the data\n",
    "str(mdt)"
   ]
  },
  {
   "cell_type": "code",
   "execution_count": 19,
   "metadata": {
    "vscode": {
     "languageId": "r"
    }
   },
   "outputs": [
    {
     "data": {
      "text/html": [
       "<table class=\"dataframe\">\n",
       "<caption>A data.table: 6 × 12</caption>\n",
       "<thead>\n",
       "\t<tr><th scope=col>id</th><th scope=col>name</th><th scope=col>age</th><th scope=col>income</th><th scope=col>openness</th><th scope=col>conscientiousness</th><th scope=col>extraversion</th><th scope=col>agreeableness</th><th scope=col>neuroticism</th><th scope=col>tolerance</th><th scope=col>matched_id</th><th scope=col>happiness</th></tr>\n",
       "\t<tr><th scope=col>&lt;int&gt;</th><th scope=col>&lt;chr&gt;</th><th scope=col>&lt;int&gt;</th><th scope=col>&lt;dbl&gt;</th><th scope=col>&lt;dbl&gt;</th><th scope=col>&lt;dbl&gt;</th><th scope=col>&lt;dbl&gt;</th><th scope=col>&lt;dbl&gt;</th><th scope=col>&lt;dbl&gt;</th><th scope=col>&lt;dbl&gt;</th><th scope=col>&lt;int&gt;</th><th scope=col>&lt;dbl&gt;</th></tr>\n",
       "</thead>\n",
       "<tbody>\n",
       "\t<tr><td>11064</td><td>zczczy</td><td>28</td><td>  207.03</td><td>32.67</td><td>53.08</td><td>42.21</td><td>45.01</td><td>22.63</td><td>38.32</td><td>37741</td><td> 52.81</td></tr>\n",
       "\t<tr><td>71744</td><td>psbrqc</td><td>45</td><td> 3039.66</td><td>37.80</td><td>65.26</td><td>55.34</td><td>70.52</td><td>35.35</td><td>46.76</td><td>93175</td><td> 73.96</td></tr>\n",
       "\t<tr><td> 2923</td><td>aftchs</td><td>21</td><td> 7384.21</td><td>40.51</td><td>55.45</td><td>51.17</td><td>21.11</td><td>62.40</td><td>26.95</td><td>21289</td><td> 67.69</td></tr>\n",
       "\t<tr><td>99072</td><td>yqixuc</td><td>30</td><td>  447.91</td><td>46.97</td><td>49.60</td><td>46.38</td><td>32.44</td><td>46.33</td><td>32.08</td><td>54307</td><td> 50.80</td></tr>\n",
       "\t<tr><td>71402</td><td>nznyji</td><td>17</td><td> 1862.44</td><td>44.17</td><td>37.12</td><td>34.04</td><td>53.01</td><td>46.85</td><td>30.11</td><td>78385</td><td> 67.96</td></tr>\n",
       "\t<tr><td>39880</td><td>snnkvl</td><td>34</td><td>23982.03</td><td>51.20</td><td>51.57</td><td>47.39</td><td>49.45</td><td>60.25</td><td>30.93</td><td>   NA</td><td>126.60</td></tr>\n",
       "</tbody>\n",
       "</table>\n"
      ],
      "text/latex": [
       "A data.table: 6 × 12\n",
       "\\begin{tabular}{llllllllllll}\n",
       " id & name & age & income & openness & conscientiousness & extraversion & agreeableness & neuroticism & tolerance & matched\\_id & happiness\\\\\n",
       " <int> & <chr> & <int> & <dbl> & <dbl> & <dbl> & <dbl> & <dbl> & <dbl> & <dbl> & <int> & <dbl>\\\\\n",
       "\\hline\n",
       "\t 11064 & zczczy & 28 &   207.03 & 32.67 & 53.08 & 42.21 & 45.01 & 22.63 & 38.32 & 37741 &  52.81\\\\\n",
       "\t 71744 & psbrqc & 45 &  3039.66 & 37.80 & 65.26 & 55.34 & 70.52 & 35.35 & 46.76 & 93175 &  73.96\\\\\n",
       "\t  2923 & aftchs & 21 &  7384.21 & 40.51 & 55.45 & 51.17 & 21.11 & 62.40 & 26.95 & 21289 &  67.69\\\\\n",
       "\t 99072 & yqixuc & 30 &   447.91 & 46.97 & 49.60 & 46.38 & 32.44 & 46.33 & 32.08 & 54307 &  50.80\\\\\n",
       "\t 71402 & nznyji & 17 &  1862.44 & 44.17 & 37.12 & 34.04 & 53.01 & 46.85 & 30.11 & 78385 &  67.96\\\\\n",
       "\t 39880 & snnkvl & 34 & 23982.03 & 51.20 & 51.57 & 47.39 & 49.45 & 60.25 & 30.93 &    NA & 126.60\\\\\n",
       "\\end{tabular}\n"
      ],
      "text/markdown": [
       "\n",
       "A data.table: 6 × 12\n",
       "\n",
       "| id &lt;int&gt; | name &lt;chr&gt; | age &lt;int&gt; | income &lt;dbl&gt; | openness &lt;dbl&gt; | conscientiousness &lt;dbl&gt; | extraversion &lt;dbl&gt; | agreeableness &lt;dbl&gt; | neuroticism &lt;dbl&gt; | tolerance &lt;dbl&gt; | matched_id &lt;int&gt; | happiness &lt;dbl&gt; |\n",
       "|---|---|---|---|---|---|---|---|---|---|---|---|\n",
       "| 11064 | zczczy | 28 |   207.03 | 32.67 | 53.08 | 42.21 | 45.01 | 22.63 | 38.32 | 37741 |  52.81 |\n",
       "| 71744 | psbrqc | 45 |  3039.66 | 37.80 | 65.26 | 55.34 | 70.52 | 35.35 | 46.76 | 93175 |  73.96 |\n",
       "|  2923 | aftchs | 21 |  7384.21 | 40.51 | 55.45 | 51.17 | 21.11 | 62.40 | 26.95 | 21289 |  67.69 |\n",
       "| 99072 | yqixuc | 30 |   447.91 | 46.97 | 49.60 | 46.38 | 32.44 | 46.33 | 32.08 | 54307 |  50.80 |\n",
       "| 71402 | nznyji | 17 |  1862.44 | 44.17 | 37.12 | 34.04 | 53.01 | 46.85 | 30.11 | 78385 |  67.96 |\n",
       "| 39880 | snnkvl | 34 | 23982.03 | 51.20 | 51.57 | 47.39 | 49.45 | 60.25 | 30.93 |    NA | 126.60 |\n",
       "\n"
      ],
      "text/plain": [
       "  id    name   age income   openness conscientiousness extraversion\n",
       "1 11064 zczczy 28    207.03 32.67    53.08             42.21       \n",
       "2 71744 psbrqc 45   3039.66 37.80    65.26             55.34       \n",
       "3  2923 aftchs 21   7384.21 40.51    55.45             51.17       \n",
       "4 99072 yqixuc 30    447.91 46.97    49.60             46.38       \n",
       "5 71402 nznyji 17   1862.44 44.17    37.12             34.04       \n",
       "6 39880 snnkvl 34  23982.03 51.20    51.57             47.39       \n",
       "  agreeableness neuroticism tolerance matched_id happiness\n",
       "1 45.01         22.63       38.32     37741       52.81   \n",
       "2 70.52         35.35       46.76     93175       73.96   \n",
       "3 21.11         62.40       26.95     21289       67.69   \n",
       "4 32.44         46.33       32.08     54307       50.80   \n",
       "5 53.01         46.85       30.11     78385       67.96   \n",
       "6 49.45         60.25       30.93        NA      126.60   "
      ]
     },
     "metadata": {},
     "output_type": "display_data"
    }
   ],
   "source": [
    "head(mdt)"
   ]
  },
  {
   "cell_type": "code",
   "execution_count": 20,
   "metadata": {
    "vscode": {
     "languageId": "r"
    }
   },
   "outputs": [
    {
     "data": {
      "text/html": [
       "<table class=\"dataframe\">\n",
       "<caption>A data.table: 6 × 12</caption>\n",
       "<thead>\n",
       "\t<tr><th scope=col>id</th><th scope=col>name</th><th scope=col>age</th><th scope=col>income</th><th scope=col>openness</th><th scope=col>conscientiousness</th><th scope=col>extraversion</th><th scope=col>agreeableness</th><th scope=col>neuroticism</th><th scope=col>tolerance</th><th scope=col>matched_id</th><th scope=col>happiness</th></tr>\n",
       "\t<tr><th scope=col>&lt;int&gt;</th><th scope=col>&lt;chr&gt;</th><th scope=col>&lt;int&gt;</th><th scope=col>&lt;dbl&gt;</th><th scope=col>&lt;dbl&gt;</th><th scope=col>&lt;dbl&gt;</th><th scope=col>&lt;dbl&gt;</th><th scope=col>&lt;dbl&gt;</th><th scope=col>&lt;dbl&gt;</th><th scope=col>&lt;dbl&gt;</th><th scope=col>&lt;int&gt;</th><th scope=col>&lt;dbl&gt;</th></tr>\n",
       "</thead>\n",
       "<tbody>\n",
       "\t<tr><td>71133</td><td>arogjy</td><td>47</td><td>19014.66</td><td>47.17</td><td>59.63</td><td>48.19</td><td>48.11</td><td>33.86</td><td>33.04</td><td>   NA</td><td>111.12</td></tr>\n",
       "\t<tr><td>70277</td><td>lloxln</td><td>57</td><td> 3546.12</td><td>64.75</td><td>57.08</td><td>43.23</td><td>38.71</td><td>43.95</td><td>32.15</td><td>25473</td><td> 73.03</td></tr>\n",
       "\t<tr><td>88672</td><td>zjineg</td><td>43</td><td>  537.49</td><td>47.07</td><td>53.94</td><td>58.64</td><td>44.15</td><td>50.38</td><td>24.02</td><td>44516</td><td> 48.44</td></tr>\n",
       "\t<tr><td>54353</td><td>qkxlyo</td><td>56</td><td> 1452.79</td><td>45.59</td><td>73.13</td><td>48.31</td><td>48.42</td><td>53.30</td><td>30.80</td><td>48839</td><td> 60.76</td></tr>\n",
       "\t<tr><td>93126</td><td>oojewk</td><td>40</td><td> 1392.97</td><td>66.28</td><td>44.09</td><td>41.29</td><td>61.00</td><td>54.91</td><td>16.67</td><td>95375</td><td> 59.71</td></tr>\n",
       "\t<tr><td> 9315</td><td>ovtusv</td><td>20</td><td>11471.32</td><td>58.54</td><td>51.26</td><td>50.42</td><td>37.02</td><td>48.75</td><td>27.86</td><td>93396</td><td> 93.56</td></tr>\n",
       "</tbody>\n",
       "</table>\n"
      ],
      "text/latex": [
       "A data.table: 6 × 12\n",
       "\\begin{tabular}{llllllllllll}\n",
       " id & name & age & income & openness & conscientiousness & extraversion & agreeableness & neuroticism & tolerance & matched\\_id & happiness\\\\\n",
       " <int> & <chr> & <int> & <dbl> & <dbl> & <dbl> & <dbl> & <dbl> & <dbl> & <dbl> & <int> & <dbl>\\\\\n",
       "\\hline\n",
       "\t 71133 & arogjy & 47 & 19014.66 & 47.17 & 59.63 & 48.19 & 48.11 & 33.86 & 33.04 &    NA & 111.12\\\\\n",
       "\t 70277 & lloxln & 57 &  3546.12 & 64.75 & 57.08 & 43.23 & 38.71 & 43.95 & 32.15 & 25473 &  73.03\\\\\n",
       "\t 88672 & zjineg & 43 &   537.49 & 47.07 & 53.94 & 58.64 & 44.15 & 50.38 & 24.02 & 44516 &  48.44\\\\\n",
       "\t 54353 & qkxlyo & 56 &  1452.79 & 45.59 & 73.13 & 48.31 & 48.42 & 53.30 & 30.80 & 48839 &  60.76\\\\\n",
       "\t 93126 & oojewk & 40 &  1392.97 & 66.28 & 44.09 & 41.29 & 61.00 & 54.91 & 16.67 & 95375 &  59.71\\\\\n",
       "\t  9315 & ovtusv & 20 & 11471.32 & 58.54 & 51.26 & 50.42 & 37.02 & 48.75 & 27.86 & 93396 &  93.56\\\\\n",
       "\\end{tabular}\n"
      ],
      "text/markdown": [
       "\n",
       "A data.table: 6 × 12\n",
       "\n",
       "| id &lt;int&gt; | name &lt;chr&gt; | age &lt;int&gt; | income &lt;dbl&gt; | openness &lt;dbl&gt; | conscientiousness &lt;dbl&gt; | extraversion &lt;dbl&gt; | agreeableness &lt;dbl&gt; | neuroticism &lt;dbl&gt; | tolerance &lt;dbl&gt; | matched_id &lt;int&gt; | happiness &lt;dbl&gt; |\n",
       "|---|---|---|---|---|---|---|---|---|---|---|---|\n",
       "| 71133 | arogjy | 47 | 19014.66 | 47.17 | 59.63 | 48.19 | 48.11 | 33.86 | 33.04 |    NA | 111.12 |\n",
       "| 70277 | lloxln | 57 |  3546.12 | 64.75 | 57.08 | 43.23 | 38.71 | 43.95 | 32.15 | 25473 |  73.03 |\n",
       "| 88672 | zjineg | 43 |   537.49 | 47.07 | 53.94 | 58.64 | 44.15 | 50.38 | 24.02 | 44516 |  48.44 |\n",
       "| 54353 | qkxlyo | 56 |  1452.79 | 45.59 | 73.13 | 48.31 | 48.42 | 53.30 | 30.80 | 48839 |  60.76 |\n",
       "| 93126 | oojewk | 40 |  1392.97 | 66.28 | 44.09 | 41.29 | 61.00 | 54.91 | 16.67 | 95375 |  59.71 |\n",
       "|  9315 | ovtusv | 20 | 11471.32 | 58.54 | 51.26 | 50.42 | 37.02 | 48.75 | 27.86 | 93396 |  93.56 |\n",
       "\n"
      ],
      "text/plain": [
       "  id    name   age income   openness conscientiousness extraversion\n",
       "1 71133 arogjy 47  19014.66 47.17    59.63             48.19       \n",
       "2 70277 lloxln 57   3546.12 64.75    57.08             43.23       \n",
       "3 88672 zjineg 43    537.49 47.07    53.94             58.64       \n",
       "4 54353 qkxlyo 56   1452.79 45.59    73.13             48.31       \n",
       "5 93126 oojewk 40   1392.97 66.28    44.09             41.29       \n",
       "6  9315 ovtusv 20  11471.32 58.54    51.26             50.42       \n",
       "  agreeableness neuroticism tolerance matched_id happiness\n",
       "1 48.11         33.86       33.04        NA      111.12   \n",
       "2 38.71         43.95       32.15     25473       73.03   \n",
       "3 44.15         50.38       24.02     44516       48.44   \n",
       "4 48.42         53.30       30.80     48839       60.76   \n",
       "5 61.00         54.91       16.67     95375       59.71   \n",
       "6 37.02         48.75       27.86     93396       93.56   "
      ]
     },
     "metadata": {},
     "output_type": "display_data"
    }
   ],
   "source": [
    "tail(mdt)"
   ]
  },
  {
   "cell_type": "markdown",
   "metadata": {},
   "source": [
    "## What's the share of married people in the population?\n",
    "\n",
    "From the first part of this lab, we know that people who are married\n",
    "should have a `matched_id` different from `NA`. We can use this\n",
    "information to calculate the share of married people in the\n",
    "population."
   ]
  },
  {
   "cell_type": "code",
   "execution_count": 9,
   "metadata": {
    "vscode": {
     "languageId": "r"
    }
   },
   "outputs": [
    {
     "name": "stdout",
     "output_type": "stream",
     "text": [
      "[1] 2391\n"
     ]
    }
   ],
   "source": [
    "# how many people are single?\n",
    "# is.na() function is used to check missing values\n",
    "# .N is a special symbol in data.table to calculate the number of rows\n",
    "mdt %>%\n",
    "    .[is.na(matched_id), .N]"
   ]
  },
  {
   "cell_type": "code",
   "execution_count": 16,
   "metadata": {
    "vscode": {
     "languageId": "r"
    }
   },
   "outputs": [
    {
     "data": {
      "text/plain": [
       "\n",
       " FALSE   TRUE \n",
       "0.8804 0.1196 "
      ]
     },
     "metadata": {},
     "output_type": "display_data"
    }
   ],
   "source": [
    "# with means with the dataset\n",
    "# table gives the frequency of each unique value\n",
    "# prop.table gives the proportion of each unique value\n",
    "mdt %>%\n",
    "    with(table(is.na(matched_id))) %>%\n",
    "    prop.table() %>%\n",
    "    round(4)"
   ]
  },
  {
   "cell_type": "markdown",
   "metadata": {},
   "source": [
    "As the above results show that we have around $88.04\\%$ of married\n",
    "people in the population and $11.96\\%$ of single people."
   ]
  },
  {
   "cell_type": "markdown",
   "metadata": {},
   "source": [
    "## Distribution of Variables\n",
    "\n",
    "Now, we want to check the distribution of the variables in the\n",
    "population. We will try to find out whether the variables are normally\n",
    "distributed or not."
   ]
  },
  {
   "cell_type": "code",
   "execution_count": 15,
   "metadata": {
    "vscode": {
     "languageId": "r"
    }
   },
   "outputs": [
    {
     "data": {
      "text/plain": [
       "   Min. 1st Qu.  Median    Mean 3rd Qu.    Max. \n",
       "  16.00   27.00   38.00   37.92   49.00   60.00 "
      ]
     },
     "metadata": {},
     "output_type": "display_data"
    }
   ],
   "source": [
    "# let's check the age first\n",
    "mdt %>%\n",
    "    with(summary(age))"
   ]
  },
  {
   "cell_type": "code",
   "execution_count": 18,
   "metadata": {
    "vscode": {
     "languageId": "r"
    }
   },
   "outputs": [
    {
     "data": {
      "text/html": [
       "<table class=\"dataframe\">\n",
       "<caption>A data.table: 6 × 1</caption>\n",
       "<thead>\n",
       "\t<tr><th scope=col>age</th></tr>\n",
       "\t<tr><th scope=col>&lt;int&gt;</th></tr>\n",
       "</thead>\n",
       "<tbody>\n",
       "\t<tr><td>28</td></tr>\n",
       "\t<tr><td>45</td></tr>\n",
       "\t<tr><td>21</td></tr>\n",
       "\t<tr><td>30</td></tr>\n",
       "\t<tr><td>17</td></tr>\n",
       "\t<tr><td>34</td></tr>\n",
       "</tbody>\n",
       "</table>\n"
      ],
      "text/latex": [
       "A data.table: 6 × 1\n",
       "\\begin{tabular}{l}\n",
       " age\\\\\n",
       " <int>\\\\\n",
       "\\hline\n",
       "\t 28\\\\\n",
       "\t 45\\\\\n",
       "\t 21\\\\\n",
       "\t 30\\\\\n",
       "\t 17\\\\\n",
       "\t 34\\\\\n",
       "\\end{tabular}\n"
      ],
      "text/markdown": [
       "\n",
       "A data.table: 6 × 1\n",
       "\n",
       "| age &lt;int&gt; |\n",
       "|---|\n",
       "| 28 |\n",
       "| 45 |\n",
       "| 21 |\n",
       "| 30 |\n",
       "| 17 |\n",
       "| 34 |\n",
       "\n"
      ],
      "text/plain": [
       "  age\n",
       "1 28 \n",
       "2 45 \n",
       "3 21 \n",
       "4 30 \n",
       "5 17 \n",
       "6 34 "
      ]
     },
     "metadata": {},
     "output_type": "display_data"
    }
   ],
   "source": [
    "mdt %>%\n",
    "    .[, .(age)] %>%\n",
    "    head()"
   ]
  }
 ],
 "metadata": {
  "kernelspec": {
   "display_name": "R",
   "language": "R",
   "name": "ir"
  },
  "language_info": {
   "codemirror_mode": "r",
   "file_extension": ".r",
   "mimetype": "text/x-r-source",
   "name": "R",
   "pygments_lexer": "r",
   "version": "4.3.2"
  }
 },
 "nbformat": 4,
 "nbformat_minor": 2
}
