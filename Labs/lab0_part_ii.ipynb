{
 "cells": [
  {
   "cell_type": "markdown",
   "metadata": {},
   "source": [
    "# Lab 0 - Part II: Secrets of Happiness\n",
    "\n",
    "In the first part of this lab, we learned how to use Python to run\n",
    "different kinds of simulations, such as:\n",
    "\n",
    "- generate a population with different characteristics,\n",
    "- match individuals in the marriage market based on pre-defined criteria,\n",
    "- generate the happiness score of each individual based on their characteristics.\n",
    "\n",
    "At the end of last lab, we saved our data in a CSV file, called\n",
    "`marriage_data.csv`. In this part, we will learn how to analyze the\n",
    "data we generated with `R`.\n",
    "\n",
    "Most of the time, you just need to run the code in the cells below by\n",
    "clicking on the \"Run\" button. If you see `# Change the code below` in\n",
    "the cell, you need to modify the code before running it."
   ]
  },
  {
   "cell_type": "code",
   "execution_count": 1,
   "metadata": {
    "vscode": {
     "languageId": "r"
    }
   },
   "outputs": [],
   "source": [
    "# load libraries and some helper functions\n",
    "library(pacman)\n",
    "p_load(data.table, magrittr, ggplot2, knitr)\n",
    "\n",
    "# color palette\n",
    "gray_scale <- c('#F3F4F8','#D2D4DA', '#B3B5BD', \n",
    "                '#9496A1', '#7d7f89', '#777986', \n",
    "                '#656673', '#5B5D6B', '#4d505e',\n",
    "                '#404352', '#2b2d3b', '#282A3A',\n",
    "                '#1b1c2a', '#191a2b',\n",
    "                '#141626', '#101223')\n",
    "\n",
    "ft_palette <- c('#990F3D', '#0D7680', '#0F5499', '#262A33', '#FFF1E5')\n",
    "\n",
    "ft_contrast <- c('#F83', '#00A0DD', '#C00', '#006F9B', '#F2DFCE', '#FF7FAA',\n",
    "                 '#00994D', '#593380')\n",
    "\n",
    "peep_head <- function(dt, n = 5) {\n",
    "    dt %>%\n",
    "        head(n) %>%\n",
    "        kable()\n",
    "}\n",
    "\n",
    "peep_sample <- function(dt, n = 5) {\n",
    "    dt %>%\n",
    "        .[sample(.N, n)] %>%\n",
    "        kable()\n",
    "}\n",
    "\n",
    "peep_tail <- function(dt, n = 5) {\n",
    "    dt %>%\n",
    "        tail(n) %>%\n",
    "        kable()\n",
    "}"
   ]
  },
  {
   "cell_type": "markdown",
   "metadata": {},
   "source": [
    "## First step of data analysis: Load the data\n",
    "\n",
    "The first step of data analysis is to load the data. We will use the\n",
    "`fread` function from the `data.table` package to load the data. The\n",
    "`fread` means file read, and it is a very fast function to read data\n",
    "from a file."
   ]
  },
  {
   "cell_type": "code",
   "execution_count": 2,
   "metadata": {
    "vscode": {
     "languageId": "r"
    }
   },
   "outputs": [],
   "source": [
    "# mdt means marriage data table\n",
    "# you can name it whatever you want\n",
    "mdt <- fread(\"../data/marriage_data.csv\")"
   ]
  },
  {
   "cell_type": "code",
   "execution_count": 3,
   "metadata": {
    "vscode": {
     "languageId": "r"
    }
   },
   "outputs": [
    {
     "name": "stdout",
     "output_type": "stream",
     "text": [
      "Classes ‘data.table’ and 'data.frame':\t20000 obs. of  12 variables:\n",
      " $ id               : int  11064 71744 2923 99072 71402 39880 43238 61867 7139 31257 ...\n",
      " $ name             : chr  \"zczczy\" \"psbrqc\" \"aftchs\" \"yqixuc\" ...\n",
      " $ age              : int  28 45 21 30 17 34 17 35 39 21 ...\n",
      " $ income           : num  207 3040 7384 448 1862 ...\n",
      " $ openness         : num  32.7 37.8 40.5 47 44.2 ...\n",
      " $ conscientiousness: num  53.1 65.3 55.5 49.6 37.1 ...\n",
      " $ extraversion     : num  42.2 55.3 51.2 46.4 34 ...\n",
      " $ agreeableness    : num  45 70.5 21.1 32.4 53 ...\n",
      " $ neuroticism      : num  22.6 35.4 62.4 46.3 46.9 ...\n",
      " $ tolerance        : num  38.3 46.8 26.9 32.1 30.1 ...\n",
      " $ matched_id       : int  37741 93175 21289 54307 78385 NA 71664 65469 69740 6472 ...\n",
      " $ happiness        : num  52.8 74 67.7 50.8 68 ...\n",
      " - attr(*, \".internal.selfref\")=<externalptr> \n"
     ]
    }
   ],
   "source": [
    "# check the structure of the data\n",
    "str(mdt)"
   ]
  },
  {
   "cell_type": "markdown",
   "metadata": {},
   "source": []
  }
 ],
 "metadata": {
  "kernelspec": {
   "display_name": "R",
   "language": "R",
   "name": "ir"
  },
  "language_info": {
   "codemirror_mode": "r",
   "file_extension": ".r",
   "mimetype": "text/x-r-source",
   "name": "R",
   "pygments_lexer": "r",
   "version": "4.3.2"
  }
 },
 "nbformat": 4,
 "nbformat_minor": 2
}
