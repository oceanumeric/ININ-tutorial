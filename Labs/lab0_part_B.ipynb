{
 "cells": [
  {
   "cell_type": "markdown",
   "metadata": {},
   "source": [
    "# Lab 0 - Part II: Secrets of Happiness\n",
    "\n",
    "In the first part of this lab, we learned how to use Python to run\n",
    "different kinds of simulations, such as:\n",
    "\n",
    "- generate a population with different characteristics,\n",
    "- match individuals in the marriage market based on pre-defined criteria,\n",
    "- generate the happiness score of each individual based on their characteristics.\n",
    "\n",
    "At the end of last lab, we saved our data in a CSV file, called\n",
    "`marriage_data.csv`. In this part, we will learn how to analyze the\n",
    "data we generated with `R`.\n",
    "\n",
    "Most of the time, you just need to run the code in the cells below by\n",
    "clicking on the \"Run\" button. If you see `# Change the code below` in\n",
    "the cell, you need to modify the code before running it."
   ]
  },
  {
   "cell_type": "code",
   "execution_count": null,
   "metadata": {
    "vscode": {
     "languageId": "r"
    }
   },
   "outputs": [],
   "source": [
    "# load libraries and some helper functions\n",
    "library(pacman)\n",
    "p_load(data.table, magrittr, ggplot2, knitr, psych, stargazer)\n",
    "\n",
    "# color palette\n",
    "gray_scale <- c('#F3F4F8','#D2D4DA', '#B3B5BD', \n",
    "                '#9496A1', '#7d7f89', '#777986', \n",
    "                '#656673', '#5B5D6B', '#4d505e',\n",
    "                '#404352', '#2b2d3b', '#282A3A',\n",
    "                '#1b1c2a', '#191a2b',\n",
    "                '#141626', '#101223')\n",
    "\n",
    "ft_palette <- c('#990F3D', '#0D7680', '#0F5499', '#262A33', '#FFF1E5')\n",
    "\n",
    "ft_contrast <- c('#F83', '#00A0DD', '#C00', '#006F9B', '#F2DFCE', '#FF7FAA',\n",
    "                 '#00994D', '#593380')\n",
    "\n",
    "peep_head <- function(dt, n = 5) {\n",
    "    dt %>%\n",
    "        head(n) %>%\n",
    "        kable()\n",
    "}\n",
    "\n",
    "peep_sample <- function(dt, n = 5) {\n",
    "    dt %>%\n",
    "        .[sample(.N, n)] %>%\n",
    "        kable()\n",
    "}\n",
    "\n",
    "peep_tail <- function(dt, n = 5) {\n",
    "    dt %>%\n",
    "        tail(n) %>%\n",
    "        kable()\n",
    "}"
   ]
  },
  {
   "cell_type": "markdown",
   "metadata": {},
   "source": [
    "## First step of data analysis: Load the data\n",
    "\n",
    "The first step of data analysis is to load the data. We will use the\n",
    "`fread` function from the `data.table` package to load the data. The\n",
    "`fread` means file read, and it is a very fast function to read data\n",
    "from a file."
   ]
  },
  {
   "cell_type": "code",
   "execution_count": null,
   "metadata": {
    "vscode": {
     "languageId": "r"
    }
   },
   "outputs": [],
   "source": [
    "# mdt means marriage data table\n",
    "# you can name it whatever you want\n",
    "mdt <- fread(\"../data/marriage_data.csv\")"
   ]
  },
  {
   "cell_type": "code",
   "execution_count": null,
   "metadata": {
    "vscode": {
     "languageId": "r"
    }
   },
   "outputs": [],
   "source": [
    "# check the structure of the data\n",
    "str(mdt)"
   ]
  },
  {
   "cell_type": "code",
   "execution_count": null,
   "metadata": {
    "vscode": {
     "languageId": "r"
    }
   },
   "outputs": [],
   "source": [
    "head(mdt)"
   ]
  },
  {
   "cell_type": "code",
   "execution_count": null,
   "metadata": {
    "vscode": {
     "languageId": "r"
    }
   },
   "outputs": [],
   "source": [
    "tail(mdt)"
   ]
  },
  {
   "cell_type": "markdown",
   "metadata": {},
   "source": [
    "## What's the share of married people in the population?\n",
    "\n",
    "From the first part of this lab, we know that people who are married\n",
    "should have a `matched_id` different from `NA`. We can use this\n",
    "information to calculate the share of married people in the\n",
    "population."
   ]
  },
  {
   "cell_type": "code",
   "execution_count": null,
   "metadata": {
    "vscode": {
     "languageId": "r"
    }
   },
   "outputs": [],
   "source": [
    "# how many people are single?\n",
    "# is.na() function is used to check missing values\n",
    "# .N is a special symbol in data.table to calculate the number of rows\n",
    "mdt %>%\n",
    "    .[is.na(matched_id), .N]"
   ]
  },
  {
   "cell_type": "code",
   "execution_count": null,
   "metadata": {
    "vscode": {
     "languageId": "r"
    }
   },
   "outputs": [],
   "source": [
    "# with means with the dataset\n",
    "# table gives the frequency of each unique value\n",
    "# prop.table gives the proportion of each unique value\n",
    "mdt %>%\n",
    "    with(table(is.na(matched_id))) %>%\n",
    "    prop.table() %>%\n",
    "    round(4)"
   ]
  },
  {
   "cell_type": "markdown",
   "metadata": {},
   "source": [
    "As the above results show that we have around $88.04\\%$ of married\n",
    "people in the population and $11.96\\%$ of single people."
   ]
  },
  {
   "cell_type": "markdown",
   "metadata": {},
   "source": [
    "## Distribution of Variables\n",
    "\n",
    "Now, we want to check the distribution of the variables in the\n",
    "population. We will try to find out whether the variables are normally\n",
    "distributed or not."
   ]
  },
  {
   "cell_type": "code",
   "execution_count": null,
   "metadata": {
    "vscode": {
     "languageId": "r"
    }
   },
   "outputs": [],
   "source": [
    "# let's check the age first\n",
    "mdt %>%\n",
    "    with(summary(age))"
   ]
  },
  {
   "cell_type": "code",
   "execution_count": null,
   "metadata": {
    "vscode": {
     "languageId": "r"
    }
   },
   "outputs": [],
   "source": [
    "mdt %>%\n",
    "    .[, .(age)] %>%\n",
    "    head()"
   ]
  },
  {
   "cell_type": "code",
   "execution_count": null,
   "metadata": {
    "vscode": {
     "languageId": "r"
    }
   },
   "outputs": [],
   "source": [
    "mdt %>%\n",
    "    with(hist(age, breaks = 20))"
   ]
  },
  {
   "cell_type": "markdown",
   "metadata": {},
   "source": [
    "It looks like the `age` variable follows the uniform distribution, which\n",
    "means that the age of people in the population is uniformly\n",
    "distributed."
   ]
  },
  {
   "cell_type": "code",
   "execution_count": null,
   "metadata": {
    "vscode": {
     "languageId": "r"
    }
   },
   "outputs": [],
   "source": [
    "# now let's check the income\n",
    "mdt %>%\n",
    "    with(summary(income))"
   ]
  },
  {
   "cell_type": "code",
   "execution_count": null,
   "metadata": {
    "vscode": {
     "languageId": "r"
    }
   },
   "outputs": [],
   "source": [
    "mdt %>%\n",
    "    with(hist(income, breaks = 20))"
   ]
  },
  {
   "cell_type": "markdown",
   "metadata": {},
   "source": [
    "The distribution of the `income` variable is right-skewed, which means\n",
    "that most people have low income, and only a few people have high\n",
    "income. This is consistent with the real world. However the log\n",
    "transformation of the `income` variable is normally distributed\n",
    "as it is shown in the following figure."
   ]
  },
  {
   "cell_type": "code",
   "execution_count": null,
   "metadata": {
    "vscode": {
     "languageId": "r"
    }
   },
   "outputs": [],
   "source": [
    "# do the log transformation\n",
    "mdt %>%\n",
    "    with(hist(log(income), breaks = 20))"
   ]
  },
  {
   "cell_type": "code",
   "execution_count": null,
   "metadata": {
    "vscode": {
     "languageId": "r"
    }
   },
   "outputs": [],
   "source": [
    "# distribution of openess\n",
    "mdt %>%\n",
    "    with(hist(openness, breaks = 20))"
   ]
  },
  {
   "cell_type": "markdown",
   "metadata": {},
   "source": [
    "## Plot distribution of selected variables at one time"
   ]
  },
  {
   "cell_type": "code",
   "execution_count": null,
   "metadata": {
    "vscode": {
     "languageId": "r"
    }
   },
   "outputs": [],
   "source": [
    "str(mdt)"
   ]
  },
  {
   "cell_type": "code",
   "execution_count": null,
   "metadata": {
    "vscode": {
     "languageId": "r"
    }
   },
   "outputs": [],
   "source": [
    "# chagne figure size\n",
    "options(repr.plot.width = 10, repr.plot.height = 10)\n",
    "mdt %>%\n",
    "    # select the columns you want to plot\n",
    "    .[, .(age, income, openness, agreeableness, tolerance, happiness)] %>%\n",
    "    pairs.panels(\n",
    "        method = \"pearson\", # correlation method\n",
    "        hist.col = \"#00AFBB\",\n",
    "        density = TRUE,  # show density plots\n",
    "    )"
   ]
  },
  {
   "cell_type": "markdown",
   "metadata": {},
   "source": [
    "## Does marriage make people happy?\n",
    "\n",
    "Now, we want to check whether married people are happier than single\n",
    "people. We will first plot the distribution of the happiness score for\n",
    "married and single people. And then we will compare the average\n",
    "happiness score of married and single people. We will also run\n",
    "statistical tests to check whether the difference in the average\n",
    "happiness score is statistically significant or not."
   ]
  },
  {
   "cell_type": "code",
   "execution_count": null,
   "metadata": {
    "vscode": {
     "languageId": "r"
    }
   },
   "outputs": [],
   "source": [
    "# add a new column to the data table\n",
    "mdt %>%\n",
    "    .[, is_married := ifelse(is.na(matched_id), 'No', 'Yes')] %>%\n",
    "    head()"
   ]
  },
  {
   "cell_type": "code",
   "execution_count": null,
   "metadata": {
    "vscode": {
     "languageId": "r"
    }
   },
   "outputs": [],
   "source": [
    "options(repr.plot.width = 8, repr.plot.height = 7)\n",
    "mdt %>%\n",
    "    with(boxplot(happiness ~ is_married))"
   ]
  },
  {
   "cell_type": "markdown",
   "metadata": {},
   "source": [
    "From the above plot, it seems that married people are less happy than\n",
    "single people. Does this mean that marriage makes people unhappy?"
   ]
  },
  {
   "cell_type": "code",
   "execution_count": null,
   "metadata": {
    "vscode": {
     "languageId": "r"
    }
   },
   "outputs": [],
   "source": [
    "# let's run the t-test\n",
    "# t.test is a function in R to run t-test\n",
    "mdt %>%\n",
    "    .[!is.na(happiness)] %>%\n",
    "    with(t.test(happiness ~ is_married))"
   ]
  },
  {
   "cell_type": "markdown",
   "metadata": {},
   "source": [
    "For this t-test, our hypothesis is:\n",
    "\n",
    "- $H_0$: The average happiness score of married people is the same as\n",
    "  the average happiness score of single people.\n",
    "- $H_1$: The average happiness score of married people is different\n",
    "\n",
    "Based on the t-test results, we can reject the null hypothesis and\n",
    "conclude that the average happiness score of married people is\n",
    "different from the average happiness score of single people."
   ]
  },
  {
   "cell_type": "markdown",
   "metadata": {},
   "source": [
    "## Selection Bias, reverse causality, and omitted variable bias\n",
    "\n",
    "From the above results, we can see that married people are less happy\n",
    "than single people. However, this does not mean that marriage makes\n",
    "people unhappy. There are several reasons why married people are less\n",
    "happy than single people:\n",
    "\n",
    "- **Selection Bias**: People who are married may have different\n",
    "  characteristics than people who are single. For example, married\n",
    "  people may be older than single people, and older people may be less\n",
    "  happy than younger people. When we generate the population, we\n",
    "  did not use marriage as a factor to generate the happiness score.\n",
    "- **Reverse Causality**: People who are less happy may be less likely\n",
    "  to get married. For example, people who are less happy may be less\n",
    "  likely to get married because they are less likely to find a\n",
    "  partner. When we generate the population, we did not use the\n",
    "  happiness score as a factor to generate marriage.\n",
    "- **Omitted Variable Bias**: There may be other factors that affect\n",
    "  both marriage and happiness. For example, people who are more\n",
    "  open and agreeable may be more likely to get married and may be happier.\n",
    "\n",
    "This is the formulat we used to generate the happiness score:\n",
    "\n",
    "$$\n",
    "\\text{Happiness} = 0.03 \\times \\text{Income} + 0.4 \\times \\text{Openness} + 0.32 \\times \\text{Agreeableness} + 0.57 \\times \\text{Tolerance} +  0.02 \\times (\\text{Age} - 40)^2 \n",
    "$$"
   ]
  },
  {
   "cell_type": "markdown",
   "metadata": {},
   "source": [
    "> Takeaway: Correlation does not imply causation. Statistical tests\n",
    "do not prove causation. When we find some statistical difference, we\n",
    "need to think about the reasons behind it. Sometimes, the difference\n",
    "is due to selection bias, reverse causality, or omitted variable bias.\n",
    "Or it may be due to random chance."
   ]
  },
  {
   "cell_type": "markdown",
   "metadata": {},
   "source": [
    "## Your first regression analysis\n",
    "\n",
    "Now, we will run a regression analysis to check whether marriage has a\n",
    "causal effect on happiness. The regression analysis will help us to\n",
    "control for other factors that may affect happiness, such as income,\n",
    "age, openness, agreeableness, and tolerance, etc.\n",
    "\n",
    "In this regression analysis, we will not use `openness`, `agreeableness`, or `tolerance` as those factors are not measured in the real world. We will only use `income`, `age`, and `married` as the independent variables."
   ]
  },
  {
   "cell_type": "code",
   "execution_count": null,
   "metadata": {
    "vscode": {
     "languageId": "r"
    }
   },
   "outputs": [],
   "source": [
    "head(mdt)"
   ]
  },
  {
   "cell_type": "code",
   "execution_count": null,
   "metadata": {
    "vscode": {
     "languageId": "r"
    }
   },
   "outputs": [],
   "source": [
    "# run a linear regression\n",
    "# lm is a function in R to run linear regression\n",
    "lm_model1 <- lm(happiness ~ age + income + is_married, data = mdt)\n",
    "summary(lm_model1)"
   ]
  },
  {
   "cell_type": "code",
   "execution_count": null,
   "metadata": {
    "vscode": {
     "languageId": "r"
    }
   },
   "outputs": [],
   "source": [
    "stargazer(lm_model1, type = \"text\")"
   ]
  },
  {
   "cell_type": "code",
   "execution_count": null,
   "metadata": {
    "vscode": {
     "languageId": "r"
    }
   },
   "outputs": [],
   "source": [
    "# using qudratic term for age\n",
    "lm_model2 <- lm(happiness ~ age + I(age^2) + income + is_married, data = mdt)\n",
    "summary(lm_model2)"
   ]
  },
  {
   "cell_type": "code",
   "execution_count": null,
   "metadata": {
    "vscode": {
     "languageId": "r"
    }
   },
   "outputs": [],
   "source": [
    "stargazer(lm_model2, type = \"text\")"
   ]
  },
  {
   "cell_type": "markdown",
   "metadata": {},
   "source": [
    "As you can see that from the second regression model, the coefficient\n",
    "for `married` is not statistically significant. This means that\n",
    "marriage does not have effect on happiness. This is because we have\n",
    "controlled for other factors that may affect happiness, such as income ang age.\n",
    "\n",
    "When we only use linear term for `age` in the regression model, the coefficient for `married` is statistically significant. This means that finding the right regression model is very important. As the following graph shows that happiness score first\n",
    "decreases and then increases with age. This is consistent with the\n",
    "real world. This is also how we generated the happiness score in the\n",
    "first part of this lab."
   ]
  },
  {
   "cell_type": "markdown",
   "metadata": {},
   "source": [
    "<iframe src=\"https://www.desmos.com/calculator/w79mztebg5?embed\" width=\"500\" height=\"500\" style=\"border: 1px solid #ccc\" frameborder=0></iframe>"
   ]
  },
  {
   "cell_type": "code",
   "execution_count": null,
   "metadata": {
    "vscode": {
     "languageId": "r"
    }
   },
   "outputs": [],
   "source": [
    "lm_model3 <- lm(happiness ~ age + I(age^2) + income + is_married + openness + agreeableness + tolerance, data = mdt)\n",
    "summary(lm_model3)"
   ]
  },
  {
   "cell_type": "code",
   "execution_count": null,
   "metadata": {
    "vscode": {
     "languageId": "r"
    }
   },
   "outputs": [],
   "source": [
    "stargazer(lm_model3, type = \"text\")"
   ]
  },
  {
   "cell_type": "markdown",
   "metadata": {},
   "source": [
    "Now, please check the coefficients of the regression model and compare \n",
    "them with the coefficients we used to generate the happiness score\n",
    "in the following formula:\n",
    "\n",
    "$$\n",
    "\\text{Happiness} = 0.03 \\times \\text{Income} + 0.4 \\times \\text{Openness} + 0.32 \\times \\text{Agreeableness} + 0.57 \\times \\text{Tolerance} +  0.02 \\times (\\text{Age} - 40)^2 \n",
    "$$"
   ]
  },
  {
   "cell_type": "markdown",
   "metadata": {},
   "source": []
  }
 ],
 "metadata": {
  "kernelspec": {
   "display_name": "R",
   "language": "R",
   "name": "ir"
  },
  "language_info": {
   "codemirror_mode": "r",
   "file_extension": ".r",
   "mimetype": "text/x-r-source",
   "name": "R",
   "pygments_lexer": "r",
   "version": "4.3.2"
  }
 },
 "nbformat": 4,
 "nbformat_minor": 2
}
