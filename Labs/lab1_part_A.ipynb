{
 "cells": [
  {
   "cell_type": "markdown",
   "metadata": {},
   "source": [
    "# Lab 1 - Enter the world of Patents\n",
    "\n",
    "In this lab, we will explore the world of patents. We will use the data from \n",
    "European Patent Office (EPO) to extract information about patents. In this lab,\n",
    "you will learn:\n",
    "\n",
    "- Basic structure of a patent\n",
    "- Querying patents using the EPO API via SPARQL (a query language for RDF)\n",
    "- Extracting information from patents\n",
    "- Visualizing the extracted information\n",
    "- Summarizing the extracted information\n",
    "\n",
    "I am very excited to start this journey with you as we will disover many interesting\n",
    "things about patents. Let's get started!"
   ]
  },
  {
   "cell_type": "code",
   "execution_count": 1,
   "metadata": {
    "vscode": {
     "languageId": "r"
    }
   },
   "outputs": [],
   "source": [
    "# install the package\n",
    "install.packages(\"../_utils/SPARQL_1.16.tar.gz\", repos = NULL, type=\"source\")"
   ]
  },
  {
   "cell_type": "code",
   "execution_count": 1,
   "metadata": {
    "vscode": {
     "languageId": "r"
    }
   },
   "outputs": [],
   "source": [
    "library(pacman)\n",
    "# vtree: sudo apt-get install libcairo2-dev librsvg2-dev\n",
    "# https://yulab-smu.top/treedata-book/index.html\n",
    "p_load(readxl, stringr, data.table, magrittr, ggplot2, SPARQL,\n",
    "        eurostat, XML, RCurl, knitr, vtree)\n",
    "\n",
    "# color palette\n",
    "gray_scale <- c('#F3F4F8','#D2D4DA', '#B3B5BD', \n",
    "                '#9496A1', '#7d7f89', '#777986', \n",
    "                '#656673', '#5B5D6B', '#4d505e',\n",
    "                '#404352', '#2b2d3b', '#282A3A',\n",
    "                '#1b1c2a', '#191a2b',\n",
    "                '#141626', '#101223')\n",
    "\n",
    "ft_palette <- c('#990F3D', '#0D7680', '#0F5499', '#262A33', '#FFF1E5')\n",
    "\n",
    "ft_contrast <- c('#F83', '#00A0DD', '#C00', '#006F9B', '#F2DFCE', '#FF7FAA',\n",
    "                 '#00994D', '#593380')\n",
    "\n",
    "peep_head <- function(dt, n = 5) {\n",
    "    dt %>%\n",
    "        head(n) %>%\n",
    "        kable()\n",
    "}\n",
    "\n",
    "peep_sample <- function(dt, n = 5) {\n",
    "    dt %>%\n",
    "        .[sample(.N, n)] %>%\n",
    "        kable()\n",
    "}\n",
    "\n",
    "peep_tail <- function(dt, n = 5) {\n",
    "    dt %>%\n",
    "        tail(n) %>%\n",
    "        kable()\n",
    "}"
   ]
  },
  {
   "cell_type": "markdown",
   "metadata": {},
   "source": [
    "## Patents that mention specific words in the abstract"
   ]
  },
  {
   "cell_type": "code",
   "execution_count": 2,
   "metadata": {
    "vscode": {
     "languageId": "r"
    }
   },
   "outputs": [],
   "source": [
    "# query the SPARQL endpoint\n",
    "endpoint <- \"https://data.epo.org/linked-data/query\"\n",
    "\n",
    "# patents that abstract contains the word 'battery'\n",
    "query1 <- \"\n",
    "prefix dcterms: <http://purl.org/dc/terms/>\n",
    "prefix patent: <http://data.epo.org/linked-data/def/patent/>\n",
    "prefix text: <http://jena.apache.org/text#>\n",
    "\n",
    "SELECT DISTINCT ?publication ?title ?abstract \n",
    "WHERE {\n",
    "    ?publication text:query ( dcterms:abstract 'battery' );\n",
    "                 patent:titleOfInvention ?title;\n",
    "                 dcterms:abstract        ?abstract.\n",
    "} LIMIT 10\n",
    "\"\n",
    "query1_result <- SPARQL(endpoint, query1)$results"
   ]
  },
  {
   "cell_type": "code",
   "execution_count": 4,
   "metadata": {
    "vscode": {
     "languageId": "r"
    }
   },
   "outputs": [
    {
     "name": "stdout",
     "output_type": "stream",
     "text": [
      "'data.frame':\t10 obs. of  3 variables:\n",
      " $ publication: chr  \"<http://data.epo.org/linked-data/data/publication/EP/1182716/A3/->\" \"<http://data.epo.org/linked-data/data/publication/EP/1182716/A3/->\" \"<http://data.epo.org/linked-data/data/publication/EP/1182716/A3/->\" \"<http://data.epo.org/linked-data/data/publication/EP/1182716/A2/->\" ...\n",
      " $ title      : chr  \"\\\"Batteriehalterung\\\"@de\" \"\\\"Support de batterie\\\"@fr\" \"\\\"Battery lock\\\"@en\" \"\\\"Batteriehalterung\\\"@de\" ...\n",
      " $ abstract   : chr  \"\\\"A battery lock for a communication unit with holding means for holding an internal battery in operating posit\"| __truncated__ \"\\\"A battery lock for a communication unit with holding means for holding an internal battery in operating posit\"| __truncated__ \"\\\"A battery lock for a communication unit with holding means for holding an internal battery in operating posit\"| __truncated__ \"\\\"A battery lock for a communication unit with holding means for holding an internal battery in operating posit\"| __truncated__ ...\n"
     ]
    }
   ],
   "source": [
    "str(query1_result)"
   ]
  },
  {
   "cell_type": "code",
   "execution_count": 4,
   "metadata": {
    "vscode": {
     "languageId": "r"
    }
   },
   "outputs": [
    {
     "data": {
      "text/html": [
       "<table class=\"dataframe\">\n",
       "<caption>A data.frame: 6 × 3</caption>\n",
       "<thead>\n",
       "\t<tr><th></th><th scope=col>publication</th><th scope=col>title</th><th scope=col>abstract</th></tr>\n",
       "\t<tr><th></th><th scope=col>&lt;chr&gt;</th><th scope=col>&lt;chr&gt;</th><th scope=col>&lt;chr&gt;</th></tr>\n",
       "</thead>\n",
       "<tbody>\n",
       "\t<tr><th scope=row>1</th><td>&lt;http://data.epo.org/linked-data/data/publication/EP/1182716/A3/-&gt;</td><td><span style=white-space:pre-wrap>\"Batteriehalterung\"@de  </span></td><td>\"A battery lock for a communication unit with holding means for holding an internal battery in operating position in a battery compartment. The holding means includes features to hold, lift and release the battery in the compartment from the battery compartment. The battery compartment includes protruding parts corresponding to slots on the battery, where the protruding parts co-operates with holding means of the battery to hold the battery in the battery compartment. The holding means of the battery lock includes first protruding parts to hold the battery in the battery compartment, grips to lift and release the battery, holes to hinge the battery lock in the battery compartment, second protruding parts to lift the battery actuated by the grips and fastening means to fasten the battery lock to the battery compartment. The fastening means on the battery compartment to fasten the battery lock to the battery compartment include pivots to hinge the battery on, locking flaps to keep the battery lock on the pivots and protruding parts that connects to slots on the grips of the battery lock. \"@en</td></tr>\n",
       "\t<tr><th scope=row>2</th><td>&lt;http://data.epo.org/linked-data/data/publication/EP/1182716/A3/-&gt;</td><td>\"Support de batterie\"@fr</td><td>\"A battery lock for a communication unit with holding means for holding an internal battery in operating position in a battery compartment. The holding means includes features to hold, lift and release the battery in the compartment from the battery compartment. The battery compartment includes protruding parts corresponding to slots on the battery, where the protruding parts co-operates with holding means of the battery to hold the battery in the battery compartment. The holding means of the battery lock includes first protruding parts to hold the battery in the battery compartment, grips to lift and release the battery, holes to hinge the battery lock in the battery compartment, second protruding parts to lift the battery actuated by the grips and fastening means to fasten the battery lock to the battery compartment. The fastening means on the battery compartment to fasten the battery lock to the battery compartment include pivots to hinge the battery on, locking flaps to keep the battery lock on the pivots and protruding parts that connects to slots on the grips of the battery lock. \"@en</td></tr>\n",
       "\t<tr><th scope=row>3</th><td>&lt;http://data.epo.org/linked-data/data/publication/EP/1182716/A3/-&gt;</td><td><span style=white-space:pre-wrap>\"Battery lock\"@en       </span></td><td>\"A battery lock for a communication unit with holding means for holding an internal battery in operating position in a battery compartment. The holding means includes features to hold, lift and release the battery in the compartment from the battery compartment. The battery compartment includes protruding parts corresponding to slots on the battery, where the protruding parts co-operates with holding means of the battery to hold the battery in the battery compartment. The holding means of the battery lock includes first protruding parts to hold the battery in the battery compartment, grips to lift and release the battery, holes to hinge the battery lock in the battery compartment, second protruding parts to lift the battery actuated by the grips and fastening means to fasten the battery lock to the battery compartment. The fastening means on the battery compartment to fasten the battery lock to the battery compartment include pivots to hinge the battery on, locking flaps to keep the battery lock on the pivots and protruding parts that connects to slots on the grips of the battery lock. \"@en</td></tr>\n",
       "\t<tr><th scope=row>4</th><td>&lt;http://data.epo.org/linked-data/data/publication/EP/1182716/A2/-&gt;</td><td><span style=white-space:pre-wrap>\"Batteriehalterung\"@de  </span></td><td>\"A battery lock for a communication unit with holding means for holding an internal battery in operating position in a battery compartment. The holding means includes features to hold, lift and release the battery in the compartment from the battery compartment. The battery compartment includes protruding parts corresponding to slots on the battery, where the protruding parts co-operates with holding means of the battery to hold the battery in the battery compartment. The holding means of the battery lock includes first protruding parts to hold the battery in the battery compartment, grips to lift and release the battery, holes to hinge the battery lock in the battery compartment, second protruding parts to lift the battery actuated by the grips and fastening means to fasten the battery lock to the battery compartment. The fastening means on the battery compartment to fasten the battery lock to the battery compartment include pivots to hinge the battery on, locking flaps to keep the battery lock on the pivots and protruding parts that connects to slots on the grips of the battery lock.\"@en </td></tr>\n",
       "\t<tr><th scope=row>5</th><td>&lt;http://data.epo.org/linked-data/data/publication/EP/1182716/A2/-&gt;</td><td>\"Support de batterie\"@fr</td><td>\"A battery lock for a communication unit with holding means for holding an internal battery in operating position in a battery compartment. The holding means includes features to hold, lift and release the battery in the compartment from the battery compartment. The battery compartment includes protruding parts corresponding to slots on the battery, where the protruding parts co-operates with holding means of the battery to hold the battery in the battery compartment. The holding means of the battery lock includes first protruding parts to hold the battery in the battery compartment, grips to lift and release the battery, holes to hinge the battery lock in the battery compartment, second protruding parts to lift the battery actuated by the grips and fastening means to fasten the battery lock to the battery compartment. The fastening means on the battery compartment to fasten the battery lock to the battery compartment include pivots to hinge the battery on, locking flaps to keep the battery lock on the pivots and protruding parts that connects to slots on the grips of the battery lock.\"@en </td></tr>\n",
       "\t<tr><th scope=row>6</th><td>&lt;http://data.epo.org/linked-data/data/publication/EP/1182716/A2/-&gt;</td><td><span style=white-space:pre-wrap>\"Battery lock\"@en       </span></td><td>\"A battery lock for a communication unit with holding means for holding an internal battery in operating position in a battery compartment. The holding means includes features to hold, lift and release the battery in the compartment from the battery compartment. The battery compartment includes protruding parts corresponding to slots on the battery, where the protruding parts co-operates with holding means of the battery to hold the battery in the battery compartment. The holding means of the battery lock includes first protruding parts to hold the battery in the battery compartment, grips to lift and release the battery, holes to hinge the battery lock in the battery compartment, second protruding parts to lift the battery actuated by the grips and fastening means to fasten the battery lock to the battery compartment. The fastening means on the battery compartment to fasten the battery lock to the battery compartment include pivots to hinge the battery on, locking flaps to keep the battery lock on the pivots and protruding parts that connects to slots on the grips of the battery lock.\"@en </td></tr>\n",
       "</tbody>\n",
       "</table>\n"
      ],
      "text/latex": [
       "A data.frame: 6 × 3\n",
       "\\begin{tabular}{r|lll}\n",
       "  & publication & title & abstract\\\\\n",
       "  & <chr> & <chr> & <chr>\\\\\n",
       "\\hline\n",
       "\t1 & <http://data.epo.org/linked-data/data/publication/EP/1182716/A3/-> & \"Batteriehalterung\"@de   & \"A battery lock for a communication unit with holding means for holding an internal battery in operating position in a battery compartment. The holding means includes features to hold, lift and release the battery in the compartment from the battery compartment. The battery compartment includes protruding parts corresponding to slots on the battery, where the protruding parts co-operates with holding means of the battery to hold the battery in the battery compartment. The holding means of the battery lock includes first protruding parts to hold the battery in the battery compartment, grips to lift and release the battery, holes to hinge the battery lock in the battery compartment, second protruding parts to lift the battery actuated by the grips and fastening means to fasten the battery lock to the battery compartment. The fastening means on the battery compartment to fasten the battery lock to the battery compartment include pivots to hinge the battery on, locking flaps to keep the battery lock on the pivots and protruding parts that connects to slots on the grips of the battery lock. \"@en\\\\\n",
       "\t2 & <http://data.epo.org/linked-data/data/publication/EP/1182716/A3/-> & \"Support de batterie\"@fr & \"A battery lock for a communication unit with holding means for holding an internal battery in operating position in a battery compartment. The holding means includes features to hold, lift and release the battery in the compartment from the battery compartment. The battery compartment includes protruding parts corresponding to slots on the battery, where the protruding parts co-operates with holding means of the battery to hold the battery in the battery compartment. The holding means of the battery lock includes first protruding parts to hold the battery in the battery compartment, grips to lift and release the battery, holes to hinge the battery lock in the battery compartment, second protruding parts to lift the battery actuated by the grips and fastening means to fasten the battery lock to the battery compartment. The fastening means on the battery compartment to fasten the battery lock to the battery compartment include pivots to hinge the battery on, locking flaps to keep the battery lock on the pivots and protruding parts that connects to slots on the grips of the battery lock. \"@en\\\\\n",
       "\t3 & <http://data.epo.org/linked-data/data/publication/EP/1182716/A3/-> & \"Battery lock\"@en        & \"A battery lock for a communication unit with holding means for holding an internal battery in operating position in a battery compartment. The holding means includes features to hold, lift and release the battery in the compartment from the battery compartment. The battery compartment includes protruding parts corresponding to slots on the battery, where the protruding parts co-operates with holding means of the battery to hold the battery in the battery compartment. The holding means of the battery lock includes first protruding parts to hold the battery in the battery compartment, grips to lift and release the battery, holes to hinge the battery lock in the battery compartment, second protruding parts to lift the battery actuated by the grips and fastening means to fasten the battery lock to the battery compartment. The fastening means on the battery compartment to fasten the battery lock to the battery compartment include pivots to hinge the battery on, locking flaps to keep the battery lock on the pivots and protruding parts that connects to slots on the grips of the battery lock. \"@en\\\\\n",
       "\t4 & <http://data.epo.org/linked-data/data/publication/EP/1182716/A2/-> & \"Batteriehalterung\"@de   & \"A battery lock for a communication unit with holding means for holding an internal battery in operating position in a battery compartment. The holding means includes features to hold, lift and release the battery in the compartment from the battery compartment. The battery compartment includes protruding parts corresponding to slots on the battery, where the protruding parts co-operates with holding means of the battery to hold the battery in the battery compartment. The holding means of the battery lock includes first protruding parts to hold the battery in the battery compartment, grips to lift and release the battery, holes to hinge the battery lock in the battery compartment, second protruding parts to lift the battery actuated by the grips and fastening means to fasten the battery lock to the battery compartment. The fastening means on the battery compartment to fasten the battery lock to the battery compartment include pivots to hinge the battery on, locking flaps to keep the battery lock on the pivots and protruding parts that connects to slots on the grips of the battery lock.\"@en \\\\\n",
       "\t5 & <http://data.epo.org/linked-data/data/publication/EP/1182716/A2/-> & \"Support de batterie\"@fr & \"A battery lock for a communication unit with holding means for holding an internal battery in operating position in a battery compartment. The holding means includes features to hold, lift and release the battery in the compartment from the battery compartment. The battery compartment includes protruding parts corresponding to slots on the battery, where the protruding parts co-operates with holding means of the battery to hold the battery in the battery compartment. The holding means of the battery lock includes first protruding parts to hold the battery in the battery compartment, grips to lift and release the battery, holes to hinge the battery lock in the battery compartment, second protruding parts to lift the battery actuated by the grips and fastening means to fasten the battery lock to the battery compartment. The fastening means on the battery compartment to fasten the battery lock to the battery compartment include pivots to hinge the battery on, locking flaps to keep the battery lock on the pivots and protruding parts that connects to slots on the grips of the battery lock.\"@en \\\\\n",
       "\t6 & <http://data.epo.org/linked-data/data/publication/EP/1182716/A2/-> & \"Battery lock\"@en        & \"A battery lock for a communication unit with holding means for holding an internal battery in operating position in a battery compartment. The holding means includes features to hold, lift and release the battery in the compartment from the battery compartment. The battery compartment includes protruding parts corresponding to slots on the battery, where the protruding parts co-operates with holding means of the battery to hold the battery in the battery compartment. The holding means of the battery lock includes first protruding parts to hold the battery in the battery compartment, grips to lift and release the battery, holes to hinge the battery lock in the battery compartment, second protruding parts to lift the battery actuated by the grips and fastening means to fasten the battery lock to the battery compartment. The fastening means on the battery compartment to fasten the battery lock to the battery compartment include pivots to hinge the battery on, locking flaps to keep the battery lock on the pivots and protruding parts that connects to slots on the grips of the battery lock.\"@en \\\\\n",
       "\\end{tabular}\n"
      ],
      "text/markdown": [
       "\n",
       "A data.frame: 6 × 3\n",
       "\n",
       "| <!--/--> | publication &lt;chr&gt; | title &lt;chr&gt; | abstract &lt;chr&gt; |\n",
       "|---|---|---|---|\n",
       "| 1 | &lt;http://data.epo.org/linked-data/data/publication/EP/1182716/A3/-&gt; | \"Batteriehalterung\"@de   | \"A battery lock for a communication unit with holding means for holding an internal battery in operating position in a battery compartment. The holding means includes features to hold, lift and release the battery in the compartment from the battery compartment. The battery compartment includes protruding parts corresponding to slots on the battery, where the protruding parts co-operates with holding means of the battery to hold the battery in the battery compartment. The holding means of the battery lock includes first protruding parts to hold the battery in the battery compartment, grips to lift and release the battery, holes to hinge the battery lock in the battery compartment, second protruding parts to lift the battery actuated by the grips and fastening means to fasten the battery lock to the battery compartment. The fastening means on the battery compartment to fasten the battery lock to the battery compartment include pivots to hinge the battery on, locking flaps to keep the battery lock on the pivots and protruding parts that connects to slots on the grips of the battery lock. \"@en |\n",
       "| 2 | &lt;http://data.epo.org/linked-data/data/publication/EP/1182716/A3/-&gt; | \"Support de batterie\"@fr | \"A battery lock for a communication unit with holding means for holding an internal battery in operating position in a battery compartment. The holding means includes features to hold, lift and release the battery in the compartment from the battery compartment. The battery compartment includes protruding parts corresponding to slots on the battery, where the protruding parts co-operates with holding means of the battery to hold the battery in the battery compartment. The holding means of the battery lock includes first protruding parts to hold the battery in the battery compartment, grips to lift and release the battery, holes to hinge the battery lock in the battery compartment, second protruding parts to lift the battery actuated by the grips and fastening means to fasten the battery lock to the battery compartment. The fastening means on the battery compartment to fasten the battery lock to the battery compartment include pivots to hinge the battery on, locking flaps to keep the battery lock on the pivots and protruding parts that connects to slots on the grips of the battery lock. \"@en |\n",
       "| 3 | &lt;http://data.epo.org/linked-data/data/publication/EP/1182716/A3/-&gt; | \"Battery lock\"@en        | \"A battery lock for a communication unit with holding means for holding an internal battery in operating position in a battery compartment. The holding means includes features to hold, lift and release the battery in the compartment from the battery compartment. The battery compartment includes protruding parts corresponding to slots on the battery, where the protruding parts co-operates with holding means of the battery to hold the battery in the battery compartment. The holding means of the battery lock includes first protruding parts to hold the battery in the battery compartment, grips to lift and release the battery, holes to hinge the battery lock in the battery compartment, second protruding parts to lift the battery actuated by the grips and fastening means to fasten the battery lock to the battery compartment. The fastening means on the battery compartment to fasten the battery lock to the battery compartment include pivots to hinge the battery on, locking flaps to keep the battery lock on the pivots and protruding parts that connects to slots on the grips of the battery lock. \"@en |\n",
       "| 4 | &lt;http://data.epo.org/linked-data/data/publication/EP/1182716/A2/-&gt; | \"Batteriehalterung\"@de   | \"A battery lock for a communication unit with holding means for holding an internal battery in operating position in a battery compartment. The holding means includes features to hold, lift and release the battery in the compartment from the battery compartment. The battery compartment includes protruding parts corresponding to slots on the battery, where the protruding parts co-operates with holding means of the battery to hold the battery in the battery compartment. The holding means of the battery lock includes first protruding parts to hold the battery in the battery compartment, grips to lift and release the battery, holes to hinge the battery lock in the battery compartment, second protruding parts to lift the battery actuated by the grips and fastening means to fasten the battery lock to the battery compartment. The fastening means on the battery compartment to fasten the battery lock to the battery compartment include pivots to hinge the battery on, locking flaps to keep the battery lock on the pivots and protruding parts that connects to slots on the grips of the battery lock.\"@en  |\n",
       "| 5 | &lt;http://data.epo.org/linked-data/data/publication/EP/1182716/A2/-&gt; | \"Support de batterie\"@fr | \"A battery lock for a communication unit with holding means for holding an internal battery in operating position in a battery compartment. The holding means includes features to hold, lift and release the battery in the compartment from the battery compartment. The battery compartment includes protruding parts corresponding to slots on the battery, where the protruding parts co-operates with holding means of the battery to hold the battery in the battery compartment. The holding means of the battery lock includes first protruding parts to hold the battery in the battery compartment, grips to lift and release the battery, holes to hinge the battery lock in the battery compartment, second protruding parts to lift the battery actuated by the grips and fastening means to fasten the battery lock to the battery compartment. The fastening means on the battery compartment to fasten the battery lock to the battery compartment include pivots to hinge the battery on, locking flaps to keep the battery lock on the pivots and protruding parts that connects to slots on the grips of the battery lock.\"@en  |\n",
       "| 6 | &lt;http://data.epo.org/linked-data/data/publication/EP/1182716/A2/-&gt; | \"Battery lock\"@en        | \"A battery lock for a communication unit with holding means for holding an internal battery in operating position in a battery compartment. The holding means includes features to hold, lift and release the battery in the compartment from the battery compartment. The battery compartment includes protruding parts corresponding to slots on the battery, where the protruding parts co-operates with holding means of the battery to hold the battery in the battery compartment. The holding means of the battery lock includes first protruding parts to hold the battery in the battery compartment, grips to lift and release the battery, holes to hinge the battery lock in the battery compartment, second protruding parts to lift the battery actuated by the grips and fastening means to fasten the battery lock to the battery compartment. The fastening means on the battery compartment to fasten the battery lock to the battery compartment include pivots to hinge the battery on, locking flaps to keep the battery lock on the pivots and protruding parts that connects to slots on the grips of the battery lock.\"@en  |\n",
       "\n"
      ],
      "text/plain": [
       "  publication                                                       \n",
       "1 <http://data.epo.org/linked-data/data/publication/EP/1182716/A3/->\n",
       "2 <http://data.epo.org/linked-data/data/publication/EP/1182716/A3/->\n",
       "3 <http://data.epo.org/linked-data/data/publication/EP/1182716/A3/->\n",
       "4 <http://data.epo.org/linked-data/data/publication/EP/1182716/A2/->\n",
       "5 <http://data.epo.org/linked-data/data/publication/EP/1182716/A2/->\n",
       "6 <http://data.epo.org/linked-data/data/publication/EP/1182716/A2/->\n",
       "  title                   \n",
       "1 \"Batteriehalterung\"@de  \n",
       "2 \"Support de batterie\"@fr\n",
       "3 \"Battery lock\"@en       \n",
       "4 \"Batteriehalterung\"@de  \n",
       "5 \"Support de batterie\"@fr\n",
       "6 \"Battery lock\"@en       \n",
       "  abstract                                                                                                                                                                                                                                                                                                                                                                                                                                                                                                                                                                                                                                                                                                                                                                                                                                                                                                                                                                                                                                                                                                                                           \n",
       "1 \"A battery lock for a communication unit with holding means for holding an internal battery in operating position in a battery compartment. The holding means includes features to hold, lift and release the battery in the compartment from the battery compartment. The battery compartment includes protruding parts corresponding to slots on the battery, where the protruding parts co-operates with holding means of the battery to hold the battery in the battery compartment. The holding means of the battery lock includes first protruding parts to hold the battery in the battery compartment, grips to lift and release the battery, holes to hinge the battery lock in the battery compartment, second protruding parts to lift the battery actuated by the grips and fastening means to fasten the battery lock to the battery compartment. The fastening means on the battery compartment to fasten the battery lock to the battery compartment include pivots to hinge the battery on, locking flaps to keep the battery lock on the pivots and protruding parts that connects to slots on the grips of the battery lock. \"@en\n",
       "2 \"A battery lock for a communication unit with holding means for holding an internal battery in operating position in a battery compartment. The holding means includes features to hold, lift and release the battery in the compartment from the battery compartment. The battery compartment includes protruding parts corresponding to slots on the battery, where the protruding parts co-operates with holding means of the battery to hold the battery in the battery compartment. The holding means of the battery lock includes first protruding parts to hold the battery in the battery compartment, grips to lift and release the battery, holes to hinge the battery lock in the battery compartment, second protruding parts to lift the battery actuated by the grips and fastening means to fasten the battery lock to the battery compartment. The fastening means on the battery compartment to fasten the battery lock to the battery compartment include pivots to hinge the battery on, locking flaps to keep the battery lock on the pivots and protruding parts that connects to slots on the grips of the battery lock. \"@en\n",
       "3 \"A battery lock for a communication unit with holding means for holding an internal battery in operating position in a battery compartment. The holding means includes features to hold, lift and release the battery in the compartment from the battery compartment. The battery compartment includes protruding parts corresponding to slots on the battery, where the protruding parts co-operates with holding means of the battery to hold the battery in the battery compartment. The holding means of the battery lock includes first protruding parts to hold the battery in the battery compartment, grips to lift and release the battery, holes to hinge the battery lock in the battery compartment, second protruding parts to lift the battery actuated by the grips and fastening means to fasten the battery lock to the battery compartment. The fastening means on the battery compartment to fasten the battery lock to the battery compartment include pivots to hinge the battery on, locking flaps to keep the battery lock on the pivots and protruding parts that connects to slots on the grips of the battery lock. \"@en\n",
       "4 \"A battery lock for a communication unit with holding means for holding an internal battery in operating position in a battery compartment. The holding means includes features to hold, lift and release the battery in the compartment from the battery compartment. The battery compartment includes protruding parts corresponding to slots on the battery, where the protruding parts co-operates with holding means of the battery to hold the battery in the battery compartment. The holding means of the battery lock includes first protruding parts to hold the battery in the battery compartment, grips to lift and release the battery, holes to hinge the battery lock in the battery compartment, second protruding parts to lift the battery actuated by the grips and fastening means to fasten the battery lock to the battery compartment. The fastening means on the battery compartment to fasten the battery lock to the battery compartment include pivots to hinge the battery on, locking flaps to keep the battery lock on the pivots and protruding parts that connects to slots on the grips of the battery lock.\"@en \n",
       "5 \"A battery lock for a communication unit with holding means for holding an internal battery in operating position in a battery compartment. The holding means includes features to hold, lift and release the battery in the compartment from the battery compartment. The battery compartment includes protruding parts corresponding to slots on the battery, where the protruding parts co-operates with holding means of the battery to hold the battery in the battery compartment. The holding means of the battery lock includes first protruding parts to hold the battery in the battery compartment, grips to lift and release the battery, holes to hinge the battery lock in the battery compartment, second protruding parts to lift the battery actuated by the grips and fastening means to fasten the battery lock to the battery compartment. The fastening means on the battery compartment to fasten the battery lock to the battery compartment include pivots to hinge the battery on, locking flaps to keep the battery lock on the pivots and protruding parts that connects to slots on the grips of the battery lock.\"@en \n",
       "6 \"A battery lock for a communication unit with holding means for holding an internal battery in operating position in a battery compartment. The holding means includes features to hold, lift and release the battery in the compartment from the battery compartment. The battery compartment includes protruding parts corresponding to slots on the battery, where the protruding parts co-operates with holding means of the battery to hold the battery in the battery compartment. The holding means of the battery lock includes first protruding parts to hold the battery in the battery compartment, grips to lift and release the battery, holes to hinge the battery lock in the battery compartment, second protruding parts to lift the battery actuated by the grips and fastening means to fasten the battery lock to the battery compartment. The fastening means on the battery compartment to fasten the battery lock to the battery compartment include pivots to hinge the battery on, locking flaps to keep the battery lock on the pivots and protruding parts that connects to slots on the grips of the battery lock.\"@en "
      ]
     },
     "metadata": {},
     "output_type": "display_data"
    }
   ],
   "source": [
    "head(query1_result)"
   ]
  },
  {
   "cell_type": "code",
   "execution_count": 14,
   "metadata": {
    "vscode": {
     "languageId": "r"
    }
   },
   "outputs": [
    {
     "data": {
      "text/plain": [
       "\n",
       "\n",
       "|publication                                                      |title                    |\n",
       "|:----------------------------------------------------------------|:------------------------|\n",
       "|http://data.epo.org/linked-data/data/publication/EP/1182716/A3/- |\"Batteriehalterung\"@de   |\n",
       "|http://data.epo.org/linked-data/data/publication/EP/1182716/A3/- |\"Support de batterie\"@fr |\n",
       "|http://data.epo.org/linked-data/data/publication/EP/1182716/A3/- |\"Battery lock\"@en        |\n",
       "|http://data.epo.org/linked-data/data/publication/EP/1182716/A2/- |\"Batteriehalterung\"@de   |\n",
       "|http://data.epo.org/linked-data/data/publication/EP/1182716/A2/- |\"Support de batterie\"@fr |"
      ]
     },
     "metadata": {},
     "output_type": "display_data"
    }
   ],
   "source": [
    "# make it more readable\n",
    "query1_result %>%\n",
    "    as.data.table() %>%\n",
    "    # delete '<' and '>' for publication\n",
    "    .[, publication := gsub(\"[<>]\", \"\", publication)] %>%\n",
    "    .[, .(publication, title)] %>%\n",
    "    peep_head()"
   ]
  },
  {
   "cell_type": "markdown",
   "metadata": {},
   "source": [
    "Please **click the link in the above table** to check the full information about the patents. Notice that we have same patent number - **1182716** - in the list. This is because the same patent but different publications are listed in the results.\n",
    "\n",
    "Here is some basic information about the patents:\n",
    "\n",
    "- A document: European patent application, published 18 months after filing with the EPO or 18 months after priority date. \n",
    "\n",
    "    - A1 document: European patent application published with European search report\n",
    "    - A2 document: European patent application published without European search report (search report not available at the publication date)\n",
    "    - A3 document: Separate publication of the European search report\n",
    "    - A4 document: Supplementary search report\n",
    "\n",
    "- B document:European patent specification\n",
    "\n",
    "    - B1 document: European patent specification (granted patent)\n",
    "    - B2 document: New European patent specification (amended specification)\n",
    "    - B3 document: European patent specification (after limitation procedure)\n",
    "\n",
    "\n",
    "> Anyone can apply for a patent, but not every patent will be granted!\n",
    "\n",
    "![patent-application-process](../images/IPRIS_The-Process-Diagram_01_0.png)"
   ]
  },
  {
   "cell_type": "code",
   "execution_count": 24,
   "metadata": {
    "vscode": {
     "languageId": "r"
    }
   },
   "outputs": [],
   "source": [
    "# the first query gives us many same publications but titles are in\n",
    "# different languages. Let's only keep the English titles\n",
    "query2 <- \"\n",
    "prefix dcterms: <http://purl.org/dc/terms/>\n",
    "prefix patent: <http://data.epo.org/linked-data/def/patent/>\n",
    "prefix text: <http://jena.apache.org/text#>\n",
    "\n",
    "SELECT DISTINCT ?publication ?title ?abstract \n",
    "WHERE {\n",
    "    ?publication text:query ( dcterms:abstract 'battery' );\n",
    "                 patent:titleOfInvention ?title;\n",
    "                 dcterms:abstract        ?abstract.\n",
    "    FILTER (lang(?title) = 'en')\n",
    "} LIMIT 10\n",
    "\"\n",
    "\n",
    "query2_result <- SPARQL(endpoint, query2)$results"
   ]
  },
  {
   "cell_type": "code",
   "execution_count": 25,
   "metadata": {
    "vscode": {
     "languageId": "r"
    }
   },
   "outputs": [
    {
     "data": {
      "text/html": [
       "<table class=\"dataframe\">\n",
       "<caption>A data.frame: 6 × 3</caption>\n",
       "<thead>\n",
       "\t<tr><th></th><th scope=col>publication</th><th scope=col>title</th><th scope=col>abstract</th></tr>\n",
       "\t<tr><th></th><th scope=col>&lt;chr&gt;</th><th scope=col>&lt;chr&gt;</th><th scope=col>&lt;chr&gt;</th></tr>\n",
       "</thead>\n",
       "<tbody>\n",
       "\t<tr><th scope=row>1</th><td>&lt;http://data.epo.org/linked-data/data/publication/EP/1182716/A3/-&gt;</td><td><span style=white-space:pre-wrap>\"Battery lock\"@en                                                            </span></td><td><span style=white-space:pre-wrap>\"A battery lock for a communication unit with holding means for holding an internal battery in operating position in a battery compartment. The holding means includes features to hold, lift and release the battery in the compartment from the battery compartment. The battery compartment includes protruding parts corresponding to slots on the battery, where the protruding parts co-operates with holding means of the battery to hold the battery in the battery compartment. The holding means of the battery lock includes first protruding parts to hold the battery in the battery compartment, grips to lift and release the battery, holes to hinge the battery lock in the battery compartment, second protruding parts to lift the battery actuated by the grips and fastening means to fasten the battery lock to the battery compartment. The fastening means on the battery compartment to fasten the battery lock to the battery compartment include pivots to hinge the battery on, locking flaps to keep the battery lock on the pivots and protruding parts that connects to slots on the grips of the battery lock. \"@en                                                                                                                                                                                                                                                                                                                                                                                                                          </span></td></tr>\n",
       "\t<tr><th scope=row>2</th><td>&lt;http://data.epo.org/linked-data/data/publication/EP/1182716/A2/-&gt;</td><td><span style=white-space:pre-wrap>\"Battery lock\"@en                                                            </span></td><td><span style=white-space:pre-wrap>\"A battery lock for a communication unit with holding means for holding an internal battery in operating position in a battery compartment. The holding means includes features to hold, lift and release the battery in the compartment from the battery compartment. The battery compartment includes protruding parts corresponding to slots on the battery, where the protruding parts co-operates with holding means of the battery to hold the battery in the battery compartment. The holding means of the battery lock includes first protruding parts to hold the battery in the battery compartment, grips to lift and release the battery, holes to hinge the battery lock in the battery compartment, second protruding parts to lift the battery actuated by the grips and fastening means to fasten the battery lock to the battery compartment. The fastening means on the battery compartment to fasten the battery lock to the battery compartment include pivots to hinge the battery on, locking flaps to keep the battery lock on the pivots and protruding parts that connects to slots on the grips of the battery lock.\"@en                                                                                                                                                                                                                                                                                                                                                                                                                           </span></td></tr>\n",
       "\t<tr><th scope=row>3</th><td>&lt;http://data.epo.org/linked-data/data/publication/EP/4166383/A1/-&gt;</td><td>\"BATTERY SWAPPING METHOD, SERVER, AND BATTERY INSTALLATION/REMOVAL DEVICE\"@en</td><td><span style=white-space:pre-wrap>\"The embodiments of the application provide a battery swapping method, a server and a battery installing-and-removing device. The battery swapping method comprising: receiving battery swapping status information of an electric vehicle; sending a battery removing instruction to a battery installing-and-removing device based on the battery swapping status information, the battery removing instruction is configured for instructing the battery installing-and-removing device to remove a first battery from the electric vehicle and transport the first battery to a first position; sending a battery installation instruction to the battery installing-and-removing device when detecting that the first battery is transported to the first position; receiving the battery installation information sent by the battery installing-and-removing device, the battery installation information is configured for indicating that a second battery is to be installed by the battery installing-and-removing device to the electric vehicle; sending a battery swapping completion instruction to the electric vehicle based on the battery installation information; wherein power of the second battery is higher than power of the first battery.\"@en                                                                                                                                                                                                                                                                                                    </span></td></tr>\n",
       "\t<tr><th scope=row>4</th><td>&lt;http://data.epo.org/linked-data/data/publication/EP/3518375/A1/-&gt;</td><td><span style=white-space:pre-wrap>\"BATTERY SYSTEM\"@en                                                          </span></td><td><span style=white-space:pre-wrap>\"Provided is a battery system having high expandability. Each battery pack included in a battery system (1) acquires physical quantities of one or more batteries. Battery state information is calculated based on the acquired physical quantities. Then, each battery pack communicates with another battery pack. One battery pack is set as a master battery pack MP. Another battery pack other than the master battery pack (MP) is set as a slave battery pack (SP). The slave battery pack (SP) transmits the battery state information to the master battery pack (MP). The master battery pack (MP) calculates integrated battery information based on the battery state information of each battery pack.\"@en                                                                                                                                                                                                                                                                                                                                                                                                                                                                                                                                                                                                                                                                                                                                                                                                                                                    </span></td></tr>\n",
       "\t<tr><th scope=row>5</th><td>&lt;http://data.epo.org/linked-data/data/publication/EP/4181343/A1/-&gt;</td><td><span style=white-space:pre-wrap>\"CHARGING METHOD AND ELECTRONIC DEVICE\"@en                                   </span></td><td>\"Embodiments of this application provide a charging method and an electronic device. The method includes: controlling, if a battery level of a battery is less than or equal to a first preset battery level, the electronic device to be in a state in which both a load and the battery are powered by a charging device; and controlling, if the battery level of the battery is greater than or equal to a second preset battery level, the electronic device to be in a state in which neither the load nor the battery is powered by the charging device, and the battery supplies power to the load, where the second preset battery level is greater than the first preset battery level and is less than or equal to a maximum battery level of the battery. In embodiments of this application, when the battery level of the battery is less than or equal to the first preset battery level, the electronic device is controlled to be in the state in which both the load and the battery are powered by the charging device, so that the battery level of the battery increases. When the battery level of the battery is greater than or equal to the second preset battery level, the electronic device is controlled to be in the state in which neither the load nor the battery is powered by the charging device, and the battery supplies power to the load, so that the battery level of the battery decreases. This can avoid that the battery is in a high battery level state for a long time, thereby prolonging a service life of the battery.\"@en</td></tr>\n",
       "\t<tr><th scope=row>6</th><td>&lt;http://data.epo.org/linked-data/data/publication/EP/4235924/A1/-&gt;</td><td><span style=white-space:pre-wrap>\"BATTERY MODULE AND BATTERY PACK COMPRISING SAME\"@en                         </span></td><td><span style=white-space:pre-wrap>\"Disclosed herein is a battery module according to the present invention including: a first battery cell assembly in which multiple battery cells are stacked in the thickness direction of the battery cell; a second battery cell assembly in which each battery cell stacked in the first battery cell assembly and each battery cell arranged in a row in the longitudinal direction of the battery cell is stacked in the thickness direction of the battery cell in the same number as the number of battery cells stacked in the first battery cell assembly; and a module case accommodating the first and second battery cell assembly, wherein the battery cells of the first battery cell assembly are electrically connected to each other, and the battery cells of the second battery cell assembly are electrically connected to each other, but the battery cells are not electrically connected to each other between the first and second battery cell assemblies.\n",
       "\n",
       "In addition, the present invention includes a battery pack composed of the battery module.\"@en                                                                                                                                                                                                                                                                                                                                                                                                                                                                                       </span></td></tr>\n",
       "</tbody>\n",
       "</table>\n"
      ],
      "text/latex": [
       "A data.frame: 6 × 3\n",
       "\\begin{tabular}{r|lll}\n",
       "  & publication & title & abstract\\\\\n",
       "  & <chr> & <chr> & <chr>\\\\\n",
       "\\hline\n",
       "\t1 & <http://data.epo.org/linked-data/data/publication/EP/1182716/A3/-> & \"Battery lock\"@en                                                             & \"A battery lock for a communication unit with holding means for holding an internal battery in operating position in a battery compartment. The holding means includes features to hold, lift and release the battery in the compartment from the battery compartment. The battery compartment includes protruding parts corresponding to slots on the battery, where the protruding parts co-operates with holding means of the battery to hold the battery in the battery compartment. The holding means of the battery lock includes first protruding parts to hold the battery in the battery compartment, grips to lift and release the battery, holes to hinge the battery lock in the battery compartment, second protruding parts to lift the battery actuated by the grips and fastening means to fasten the battery lock to the battery compartment. The fastening means on the battery compartment to fasten the battery lock to the battery compartment include pivots to hinge the battery on, locking flaps to keep the battery lock on the pivots and protruding parts that connects to slots on the grips of the battery lock. \"@en                                                                                                                                                                                                                                                                                                                                                                                                                          \\\\\n",
       "\t2 & <http://data.epo.org/linked-data/data/publication/EP/1182716/A2/-> & \"Battery lock\"@en                                                             & \"A battery lock for a communication unit with holding means for holding an internal battery in operating position in a battery compartment. The holding means includes features to hold, lift and release the battery in the compartment from the battery compartment. The battery compartment includes protruding parts corresponding to slots on the battery, where the protruding parts co-operates with holding means of the battery to hold the battery in the battery compartment. The holding means of the battery lock includes first protruding parts to hold the battery in the battery compartment, grips to lift and release the battery, holes to hinge the battery lock in the battery compartment, second protruding parts to lift the battery actuated by the grips and fastening means to fasten the battery lock to the battery compartment. The fastening means on the battery compartment to fasten the battery lock to the battery compartment include pivots to hinge the battery on, locking flaps to keep the battery lock on the pivots and protruding parts that connects to slots on the grips of the battery lock.\"@en                                                                                                                                                                                                                                                                                                                                                                                                                           \\\\\n",
       "\t3 & <http://data.epo.org/linked-data/data/publication/EP/4166383/A1/-> & \"BATTERY SWAPPING METHOD, SERVER, AND BATTERY INSTALLATION/REMOVAL DEVICE\"@en & \"The embodiments of the application provide a battery swapping method, a server and a battery installing-and-removing device. The battery swapping method comprising: receiving battery swapping status information of an electric vehicle; sending a battery removing instruction to a battery installing-and-removing device based on the battery swapping status information, the battery removing instruction is configured for instructing the battery installing-and-removing device to remove a first battery from the electric vehicle and transport the first battery to a first position; sending a battery installation instruction to the battery installing-and-removing device when detecting that the first battery is transported to the first position; receiving the battery installation information sent by the battery installing-and-removing device, the battery installation information is configured for indicating that a second battery is to be installed by the battery installing-and-removing device to the electric vehicle; sending a battery swapping completion instruction to the electric vehicle based on the battery installation information; wherein power of the second battery is higher than power of the first battery.\"@en                                                                                                                                                                                                                                                                                                    \\\\\n",
       "\t4 & <http://data.epo.org/linked-data/data/publication/EP/3518375/A1/-> & \"BATTERY SYSTEM\"@en                                                           & \"Provided is a battery system having high expandability. Each battery pack included in a battery system (1) acquires physical quantities of one or more batteries. Battery state information is calculated based on the acquired physical quantities. Then, each battery pack communicates with another battery pack. One battery pack is set as a master battery pack MP. Another battery pack other than the master battery pack (MP) is set as a slave battery pack (SP). The slave battery pack (SP) transmits the battery state information to the master battery pack (MP). The master battery pack (MP) calculates integrated battery information based on the battery state information of each battery pack.\"@en                                                                                                                                                                                                                                                                                                                                                                                                                                                                                                                                                                                                                                                                                                                                                                                                                                                    \\\\\n",
       "\t5 & <http://data.epo.org/linked-data/data/publication/EP/4181343/A1/-> & \"CHARGING METHOD AND ELECTRONIC DEVICE\"@en                                    & \"Embodiments of this application provide a charging method and an electronic device. The method includes: controlling, if a battery level of a battery is less than or equal to a first preset battery level, the electronic device to be in a state in which both a load and the battery are powered by a charging device; and controlling, if the battery level of the battery is greater than or equal to a second preset battery level, the electronic device to be in a state in which neither the load nor the battery is powered by the charging device, and the battery supplies power to the load, where the second preset battery level is greater than the first preset battery level and is less than or equal to a maximum battery level of the battery. In embodiments of this application, when the battery level of the battery is less than or equal to the first preset battery level, the electronic device is controlled to be in the state in which both the load and the battery are powered by the charging device, so that the battery level of the battery increases. When the battery level of the battery is greater than or equal to the second preset battery level, the electronic device is controlled to be in the state in which neither the load nor the battery is powered by the charging device, and the battery supplies power to the load, so that the battery level of the battery decreases. This can avoid that the battery is in a high battery level state for a long time, thereby prolonging a service life of the battery.\"@en\\\\\n",
       "\t6 & <http://data.epo.org/linked-data/data/publication/EP/4235924/A1/-> & \"BATTERY MODULE AND BATTERY PACK COMPRISING SAME\"@en                          & \"Disclosed herein is a battery module according to the present invention including: a first battery cell assembly in which multiple battery cells are stacked in the thickness direction of the battery cell; a second battery cell assembly in which each battery cell stacked in the first battery cell assembly and each battery cell arranged in a row in the longitudinal direction of the battery cell is stacked in the thickness direction of the battery cell in the same number as the number of battery cells stacked in the first battery cell assembly; and a module case accommodating the first and second battery cell assembly, wherein the battery cells of the first battery cell assembly are electrically connected to each other, and the battery cells of the second battery cell assembly are electrically connected to each other, but the battery cells are not electrically connected to each other between the first and second battery cell assemblies.\n",
       "\n",
       "In addition, the present invention includes a battery pack composed of the battery module.\"@en                                                                                                                                                                                                                                                                                                                                                                                                                                                                                       \\\\\n",
       "\\end{tabular}\n"
      ],
      "text/markdown": [
       "\n",
       "A data.frame: 6 × 3\n",
       "\n",
       "| <!--/--> | publication &lt;chr&gt; | title &lt;chr&gt; | abstract &lt;chr&gt; |\n",
       "|---|---|---|---|\n",
       "| 1 | &lt;http://data.epo.org/linked-data/data/publication/EP/1182716/A3/-&gt; | \"Battery lock\"@en                                                             | \"A battery lock for a communication unit with holding means for holding an internal battery in operating position in a battery compartment. The holding means includes features to hold, lift and release the battery in the compartment from the battery compartment. The battery compartment includes protruding parts corresponding to slots on the battery, where the protruding parts co-operates with holding means of the battery to hold the battery in the battery compartment. The holding means of the battery lock includes first protruding parts to hold the battery in the battery compartment, grips to lift and release the battery, holes to hinge the battery lock in the battery compartment, second protruding parts to lift the battery actuated by the grips and fastening means to fasten the battery lock to the battery compartment. The fastening means on the battery compartment to fasten the battery lock to the battery compartment include pivots to hinge the battery on, locking flaps to keep the battery lock on the pivots and protruding parts that connects to slots on the grips of the battery lock. \"@en                                                                                                                                                                                                                                                                                                                                                                                                                           |\n",
       "| 2 | &lt;http://data.epo.org/linked-data/data/publication/EP/1182716/A2/-&gt; | \"Battery lock\"@en                                                             | \"A battery lock for a communication unit with holding means for holding an internal battery in operating position in a battery compartment. The holding means includes features to hold, lift and release the battery in the compartment from the battery compartment. The battery compartment includes protruding parts corresponding to slots on the battery, where the protruding parts co-operates with holding means of the battery to hold the battery in the battery compartment. The holding means of the battery lock includes first protruding parts to hold the battery in the battery compartment, grips to lift and release the battery, holes to hinge the battery lock in the battery compartment, second protruding parts to lift the battery actuated by the grips and fastening means to fasten the battery lock to the battery compartment. The fastening means on the battery compartment to fasten the battery lock to the battery compartment include pivots to hinge the battery on, locking flaps to keep the battery lock on the pivots and protruding parts that connects to slots on the grips of the battery lock.\"@en                                                                                                                                                                                                                                                                                                                                                                                                                            |\n",
       "| 3 | &lt;http://data.epo.org/linked-data/data/publication/EP/4166383/A1/-&gt; | \"BATTERY SWAPPING METHOD, SERVER, AND BATTERY INSTALLATION/REMOVAL DEVICE\"@en | \"The embodiments of the application provide a battery swapping method, a server and a battery installing-and-removing device. The battery swapping method comprising: receiving battery swapping status information of an electric vehicle; sending a battery removing instruction to a battery installing-and-removing device based on the battery swapping status information, the battery removing instruction is configured for instructing the battery installing-and-removing device to remove a first battery from the electric vehicle and transport the first battery to a first position; sending a battery installation instruction to the battery installing-and-removing device when detecting that the first battery is transported to the first position; receiving the battery installation information sent by the battery installing-and-removing device, the battery installation information is configured for indicating that a second battery is to be installed by the battery installing-and-removing device to the electric vehicle; sending a battery swapping completion instruction to the electric vehicle based on the battery installation information; wherein power of the second battery is higher than power of the first battery.\"@en                                                                                                                                                                                                                                                                                                     |\n",
       "| 4 | &lt;http://data.epo.org/linked-data/data/publication/EP/3518375/A1/-&gt; | \"BATTERY SYSTEM\"@en                                                           | \"Provided is a battery system having high expandability. Each battery pack included in a battery system (1) acquires physical quantities of one or more batteries. Battery state information is calculated based on the acquired physical quantities. Then, each battery pack communicates with another battery pack. One battery pack is set as a master battery pack MP. Another battery pack other than the master battery pack (MP) is set as a slave battery pack (SP). The slave battery pack (SP) transmits the battery state information to the master battery pack (MP). The master battery pack (MP) calculates integrated battery information based on the battery state information of each battery pack.\"@en                                                                                                                                                                                                                                                                                                                                                                                                                                                                                                                                                                                                                                                                                                                                                                                                                                                     |\n",
       "| 5 | &lt;http://data.epo.org/linked-data/data/publication/EP/4181343/A1/-&gt; | \"CHARGING METHOD AND ELECTRONIC DEVICE\"@en                                    | \"Embodiments of this application provide a charging method and an electronic device. The method includes: controlling, if a battery level of a battery is less than or equal to a first preset battery level, the electronic device to be in a state in which both a load and the battery are powered by a charging device; and controlling, if the battery level of the battery is greater than or equal to a second preset battery level, the electronic device to be in a state in which neither the load nor the battery is powered by the charging device, and the battery supplies power to the load, where the second preset battery level is greater than the first preset battery level and is less than or equal to a maximum battery level of the battery. In embodiments of this application, when the battery level of the battery is less than or equal to the first preset battery level, the electronic device is controlled to be in the state in which both the load and the battery are powered by the charging device, so that the battery level of the battery increases. When the battery level of the battery is greater than or equal to the second preset battery level, the electronic device is controlled to be in the state in which neither the load nor the battery is powered by the charging device, and the battery supplies power to the load, so that the battery level of the battery decreases. This can avoid that the battery is in a high battery level state for a long time, thereby prolonging a service life of the battery.\"@en |\n",
       "| 6 | &lt;http://data.epo.org/linked-data/data/publication/EP/4235924/A1/-&gt; | \"BATTERY MODULE AND BATTERY PACK COMPRISING SAME\"@en                          | \"Disclosed herein is a battery module according to the present invention including: a first battery cell assembly in which multiple battery cells are stacked in the thickness direction of the battery cell; a second battery cell assembly in which each battery cell stacked in the first battery cell assembly and each battery cell arranged in a row in the longitudinal direction of the battery cell is stacked in the thickness direction of the battery cell in the same number as the number of battery cells stacked in the first battery cell assembly; and a module case accommodating the first and second battery cell assembly, wherein the battery cells of the first battery cell assembly are electrically connected to each other, and the battery cells of the second battery cell assembly are electrically connected to each other, but the battery cells are not electrically connected to each other between the first and second battery cell assemblies.\n",
       "\n",
       "In addition, the present invention includes a battery pack composed of the battery module.\"@en                                                                                                                                                                                                                                                                                                                                                                                                                                                                                        |\n",
       "\n"
      ],
      "text/plain": [
       "  publication                                                       \n",
       "1 <http://data.epo.org/linked-data/data/publication/EP/1182716/A3/->\n",
       "2 <http://data.epo.org/linked-data/data/publication/EP/1182716/A2/->\n",
       "3 <http://data.epo.org/linked-data/data/publication/EP/4166383/A1/->\n",
       "4 <http://data.epo.org/linked-data/data/publication/EP/3518375/A1/->\n",
       "5 <http://data.epo.org/linked-data/data/publication/EP/4181343/A1/->\n",
       "6 <http://data.epo.org/linked-data/data/publication/EP/4235924/A1/->\n",
       "  title                                                                        \n",
       "1 \"Battery lock\"@en                                                            \n",
       "2 \"Battery lock\"@en                                                            \n",
       "3 \"BATTERY SWAPPING METHOD, SERVER, AND BATTERY INSTALLATION/REMOVAL DEVICE\"@en\n",
       "4 \"BATTERY SYSTEM\"@en                                                          \n",
       "5 \"CHARGING METHOD AND ELECTRONIC DEVICE\"@en                                   \n",
       "6 \"BATTERY MODULE AND BATTERY PACK COMPRISING SAME\"@en                         \n",
       "  abstract                                                                                                                                                                                                                                                                                                                                                                                                                                                                                                                                                                                                                                                                                                                                                                                                                                                                                                                                                                                                                                                                                                                                                                                                                                                                                                                                                                                                                                                                                                                                                                     \n",
       "1 \"A battery lock for a communication unit with holding means for holding an internal battery in operating position in a battery compartment. The holding means includes features to hold, lift and release the battery in the compartment from the battery compartment. The battery compartment includes protruding parts corresponding to slots on the battery, where the protruding parts co-operates with holding means of the battery to hold the battery in the battery compartment. The holding means of the battery lock includes first protruding parts to hold the battery in the battery compartment, grips to lift and release the battery, holes to hinge the battery lock in the battery compartment, second protruding parts to lift the battery actuated by the grips and fastening means to fasten the battery lock to the battery compartment. The fastening means on the battery compartment to fasten the battery lock to the battery compartment include pivots to hinge the battery on, locking flaps to keep the battery lock on the pivots and protruding parts that connects to slots on the grips of the battery lock. \"@en                                                                                                                                                                                                                                                                                                                                                                                                                          \n",
       "2 \"A battery lock for a communication unit with holding means for holding an internal battery in operating position in a battery compartment. The holding means includes features to hold, lift and release the battery in the compartment from the battery compartment. The battery compartment includes protruding parts corresponding to slots on the battery, where the protruding parts co-operates with holding means of the battery to hold the battery in the battery compartment. The holding means of the battery lock includes first protruding parts to hold the battery in the battery compartment, grips to lift and release the battery, holes to hinge the battery lock in the battery compartment, second protruding parts to lift the battery actuated by the grips and fastening means to fasten the battery lock to the battery compartment. The fastening means on the battery compartment to fasten the battery lock to the battery compartment include pivots to hinge the battery on, locking flaps to keep the battery lock on the pivots and protruding parts that connects to slots on the grips of the battery lock.\"@en                                                                                                                                                                                                                                                                                                                                                                                                                           \n",
       "3 \"The embodiments of the application provide a battery swapping method, a server and a battery installing-and-removing device. The battery swapping method comprising: receiving battery swapping status information of an electric vehicle; sending a battery removing instruction to a battery installing-and-removing device based on the battery swapping status information, the battery removing instruction is configured for instructing the battery installing-and-removing device to remove a first battery from the electric vehicle and transport the first battery to a first position; sending a battery installation instruction to the battery installing-and-removing device when detecting that the first battery is transported to the first position; receiving the battery installation information sent by the battery installing-and-removing device, the battery installation information is configured for indicating that a second battery is to be installed by the battery installing-and-removing device to the electric vehicle; sending a battery swapping completion instruction to the electric vehicle based on the battery installation information; wherein power of the second battery is higher than power of the first battery.\"@en                                                                                                                                                                                                                                                                                                    \n",
       "4 \"Provided is a battery system having high expandability. Each battery pack included in a battery system (1) acquires physical quantities of one or more batteries. Battery state information is calculated based on the acquired physical quantities. Then, each battery pack communicates with another battery pack. One battery pack is set as a master battery pack MP. Another battery pack other than the master battery pack (MP) is set as a slave battery pack (SP). The slave battery pack (SP) transmits the battery state information to the master battery pack (MP). The master battery pack (MP) calculates integrated battery information based on the battery state information of each battery pack.\"@en                                                                                                                                                                                                                                                                                                                                                                                                                                                                                                                                                                                                                                                                                                                                                                                                                                                    \n",
       "5 \"Embodiments of this application provide a charging method and an electronic device. The method includes: controlling, if a battery level of a battery is less than or equal to a first preset battery level, the electronic device to be in a state in which both a load and the battery are powered by a charging device; and controlling, if the battery level of the battery is greater than or equal to a second preset battery level, the electronic device to be in a state in which neither the load nor the battery is powered by the charging device, and the battery supplies power to the load, where the second preset battery level is greater than the first preset battery level and is less than or equal to a maximum battery level of the battery. In embodiments of this application, when the battery level of the battery is less than or equal to the first preset battery level, the electronic device is controlled to be in the state in which both the load and the battery are powered by the charging device, so that the battery level of the battery increases. When the battery level of the battery is greater than or equal to the second preset battery level, the electronic device is controlled to be in the state in which neither the load nor the battery is powered by the charging device, and the battery supplies power to the load, so that the battery level of the battery decreases. This can avoid that the battery is in a high battery level state for a long time, thereby prolonging a service life of the battery.\"@en\n",
       "6 \"Disclosed herein is a battery module according to the present invention including: a first battery cell assembly in which multiple battery cells are stacked in the thickness direction of the battery cell; a second battery cell assembly in which each battery cell stacked in the first battery cell assembly and each battery cell arranged in a row in the longitudinal direction of the battery cell is stacked in the thickness direction of the battery cell in the same number as the number of battery cells stacked in the first battery cell assembly; and a module case accommodating the first and second battery cell assembly, wherein the battery cells of the first battery cell assembly are electrically connected to each other, and the battery cells of the second battery cell assembly are electrically connected to each other, but the battery cells are not electrically connected to each other between the first and second battery cell assemblies.\\n\\nIn addition, the present invention includes a battery pack composed of the battery module.\"@en                                                                                                                                                                                                                                                                                                                                                                                                                                                                                       "
      ]
     },
     "metadata": {},
     "output_type": "display_data"
    }
   ],
   "source": [
    "head(query2_result)"
   ]
  },
  {
   "cell_type": "markdown",
   "metadata": {},
   "source": [
    "Please read the following explanation about the patent documents:\n",
    "\n",
    "- [Filter B1 for granted patents.](https://chat.openai.com/share/d1de83a5-54ee-4a46-8ef8-edfc14e677de)"
   ]
  },
  {
   "cell_type": "markdown",
   "metadata": {},
   "source": [
    "Please follow the following link:\n",
    "\n",
    "- https://data.epo.org/linked-data/data/publication/EP/1182716\n",
    "\n",
    "And answer the following questions:\n",
    "\n",
    "- When was the patent first published?\n",
    "- What kind of information were added to the patent after the first publication?\n",
    "- When was the patent granted?\n"
   ]
  },
  {
   "cell_type": "markdown",
   "metadata": {},
   "source": [
    "## An applicant's Publications\n",
    "\n",
    "Now, we will explore the publications of an applicant. The goal is to find out the number of patents that an applicant has filed and been published from EPO."
   ]
  },
  {
   "cell_type": "code",
   "execution_count": 44,
   "metadata": {
    "vscode": {
     "languageId": "r"
    }
   },
   "outputs": [],
   "source": [
    "query3 <- \"\n",
    "prefix dcterms: <http://purl.org/dc/terms/>\n",
    "PREFIX xsd: <http://www.w3.org/2001/XMLSchema#>\n",
    "PREFIX skos: <http://www.w3.org/2004/02/skos/core#> \n",
    "PREFIX rdf: <http://www.w3.org/1999/02/22-rdf-syntax-ns#> \n",
    "PREFIX vcard: <http://www.w3.org/2006/vcard/ns#> \n",
    "PREFIX patent: <http://data.epo.org/linked-data/def/patent/>\n",
    "\n",
    "SELECT * \n",
    "WHERE {\n",
    "    ?publn rdf:type patent:Publication;\n",
    "           patent:applicantVC ?applicant;\n",
    "           patent:publicationAuthority ?auth;\n",
    "           patent:publicationNumber ?publnNum;\n",
    "           patent:publicationKind ?kind;\n",
    "           patent:publicationDate ?publnDate;\n",
    "           patent:citesPatentPublication ?citation.\n",
    "    ?applicant vcard:fn ?name.\n",
    "    FILTER (?name = 'Nio Technology (Anhui) Co., Ltd' || ?name = 'NIO Nextev Limited')\n",
    "}\n",
    "LIMIT 1000\n",
    "\"\n",
    "\n",
    "query3_result <- SPARQL(endpoint, query3)$results"
   ]
  },
  {
   "cell_type": "code",
   "execution_count": 45,
   "metadata": {
    "vscode": {
     "languageId": "r"
    }
   },
   "outputs": [
    {
     "name": "stdout",
     "output_type": "stream",
     "text": [
      "'data.frame':\t538 obs. of  8 variables:\n",
      " $ publn    : chr  \"<http://data.epo.org/linked-data/data/publication/EP/4063170/A1/->\" \"<http://data.epo.org/linked-data/data/publication/EP/4063170/A1/->\" \"<http://data.epo.org/linked-data/data/publication/EP/4063170/A1/->\" \"<http://data.epo.org/linked-data/data/publication/EP/4063170/A1/->\" ...\n",
      " $ applicant: chr  \"<http://data.epo.org/linked-data/data/vc/F5273AF84CF433300D3D2A2C2A4BB5E3>\" \"<http://data.epo.org/linked-data/data/vc/F5273AF84CF433300D3D2A2C2A4BB5E3>\" \"<http://data.epo.org/linked-data/data/vc/F5273AF84CF433300D3D2A2C2A4BB5E3>\" \"<http://data.epo.org/linked-data/data/vc/F5273AF84CF433300D3D2A2C2A4BB5E3>\" ...\n",
      " $ auth     : chr  \"<http://data.epo.org/linked-data/id/st3/EP>\" \"<http://data.epo.org/linked-data/id/st3/EP>\" \"<http://data.epo.org/linked-data/id/st3/EP>\" \"<http://data.epo.org/linked-data/id/st3/EP>\" ...\n",
      " $ publnNum : chr  \"4063170\" \"4063170\" \"4063170\" \"4063170\" ...\n",
      " $ kind     : chr  \"<http://data.epo.org/linked-data/def/patent/publicationKind_A1>\" \"<http://data.epo.org/linked-data/def/patent/publicationKind_A1>\" \"<http://data.epo.org/linked-data/def/patent/publicationKind_A1>\" \"<http://data.epo.org/linked-data/def/patent/publicationKind_A1>\" ...\n",
      " $ publnDate: num  1.66e+09 1.66e+09 1.66e+09 1.66e+09 1.66e+09 ...\n",
      " $ citation : chr  \"<http://data.epo.org/linked-data/data/publication/GB/2579607/A/->\" \"<http://data.epo.org/linked-data/data/publication/CN/110435476/A/->\" \"<http://data.epo.org/linked-data/data/publication/CN/111885135/A/->\" \"<http://data.epo.org/linked-data/data/publication/CN/111942211/A/->\" ...\n",
      " $ name     : chr  \"Nio Technology (Anhui) Co., Ltd\" \"Nio Technology (Anhui) Co., Ltd\" \"Nio Technology (Anhui) Co., Ltd\" \"Nio Technology (Anhui) Co., Ltd\" ...\n"
     ]
    }
   ],
   "source": [
    "str(query3_result)"
   ]
  },
  {
   "cell_type": "code",
   "execution_count": 46,
   "metadata": {
    "vscode": {
     "languageId": "r"
    }
   },
   "outputs": [
    {
     "data": {
      "text/html": [
       "<table class=\"dataframe\">\n",
       "<caption>A data.frame: 6 × 8</caption>\n",
       "<thead>\n",
       "\t<tr><th></th><th scope=col>publn</th><th scope=col>applicant</th><th scope=col>auth</th><th scope=col>publnNum</th><th scope=col>kind</th><th scope=col>publnDate</th><th scope=col>citation</th><th scope=col>name</th></tr>\n",
       "\t<tr><th></th><th scope=col>&lt;chr&gt;</th><th scope=col>&lt;chr&gt;</th><th scope=col>&lt;chr&gt;</th><th scope=col>&lt;chr&gt;</th><th scope=col>&lt;chr&gt;</th><th scope=col>&lt;dbl&gt;</th><th scope=col>&lt;chr&gt;</th><th scope=col>&lt;chr&gt;</th></tr>\n",
       "</thead>\n",
       "<tbody>\n",
       "\t<tr><th scope=row>1</th><td>&lt;http://data.epo.org/linked-data/data/publication/EP/4063170/A1/-&gt;</td><td>&lt;http://data.epo.org/linked-data/data/vc/F5273AF84CF433300D3D2A2C2A4BB5E3&gt;</td><td>&lt;http://data.epo.org/linked-data/id/st3/EP&gt;</td><td>4063170</td><td>&lt;http://data.epo.org/linked-data/def/patent/publicationKind_A1&gt;</td><td>1664316000</td><td><span style=white-space:pre-wrap>&lt;http://data.epo.org/linked-data/data/publication/GB/2579607/A/-&gt;    </span></td><td>Nio Technology (Anhui) Co., Ltd</td></tr>\n",
       "\t<tr><th scope=row>2</th><td>&lt;http://data.epo.org/linked-data/data/publication/EP/4063170/A1/-&gt;</td><td>&lt;http://data.epo.org/linked-data/data/vc/F5273AF84CF433300D3D2A2C2A4BB5E3&gt;</td><td>&lt;http://data.epo.org/linked-data/id/st3/EP&gt;</td><td>4063170</td><td>&lt;http://data.epo.org/linked-data/def/patent/publicationKind_A1&gt;</td><td>1664316000</td><td><span style=white-space:pre-wrap>&lt;http://data.epo.org/linked-data/data/publication/CN/110435476/A/-&gt;  </span></td><td>Nio Technology (Anhui) Co., Ltd</td></tr>\n",
       "\t<tr><th scope=row>3</th><td>&lt;http://data.epo.org/linked-data/data/publication/EP/4063170/A1/-&gt;</td><td>&lt;http://data.epo.org/linked-data/data/vc/F5273AF84CF433300D3D2A2C2A4BB5E3&gt;</td><td>&lt;http://data.epo.org/linked-data/id/st3/EP&gt;</td><td>4063170</td><td>&lt;http://data.epo.org/linked-data/def/patent/publicationKind_A1&gt;</td><td>1664316000</td><td><span style=white-space:pre-wrap>&lt;http://data.epo.org/linked-data/data/publication/CN/111885135/A/-&gt;  </span></td><td>Nio Technology (Anhui) Co., Ltd</td></tr>\n",
       "\t<tr><th scope=row>4</th><td>&lt;http://data.epo.org/linked-data/data/publication/EP/4063170/A1/-&gt;</td><td>&lt;http://data.epo.org/linked-data/data/vc/F5273AF84CF433300D3D2A2C2A4BB5E3&gt;</td><td>&lt;http://data.epo.org/linked-data/id/st3/EP&gt;</td><td>4063170</td><td>&lt;http://data.epo.org/linked-data/def/patent/publicationKind_A1&gt;</td><td>1664316000</td><td><span style=white-space:pre-wrap>&lt;http://data.epo.org/linked-data/data/publication/CN/111942211/A/-&gt;  </span></td><td>Nio Technology (Anhui) Co., Ltd</td></tr>\n",
       "\t<tr><th scope=row>5</th><td>&lt;http://data.epo.org/linked-data/data/publication/EP/4012821/A1/-&gt;</td><td>&lt;http://data.epo.org/linked-data/data/vc/F5273AF84CF433300D3D2A2C2A4BB5E3&gt;</td><td>&lt;http://data.epo.org/linked-data/id/st3/EP&gt;</td><td>4012821</td><td>&lt;http://data.epo.org/linked-data/def/patent/publicationKind_A1&gt;</td><td>1655244000</td><td><span style=white-space:pre-wrap>&lt;http://data.epo.org/linked-data/data/publication/US/5626982/A/-&gt;    </span></td><td>Nio Technology (Anhui) Co., Ltd</td></tr>\n",
       "\t<tr><th scope=row>6</th><td>&lt;http://data.epo.org/linked-data/data/publication/EP/4012821/A1/-&gt;</td><td>&lt;http://data.epo.org/linked-data/data/vc/F5273AF84CF433300D3D2A2C2A4BB5E3&gt;</td><td>&lt;http://data.epo.org/linked-data/id/st3/EP&gt;</td><td>4012821</td><td>&lt;http://data.epo.org/linked-data/def/patent/publicationKind_A1&gt;</td><td>1655244000</td><td>&lt;http://data.epo.org/linked-data/data/publication/WO/2019224020/A1/-&gt;</td><td>Nio Technology (Anhui) Co., Ltd</td></tr>\n",
       "</tbody>\n",
       "</table>\n"
      ],
      "text/latex": [
       "A data.frame: 6 × 8\n",
       "\\begin{tabular}{r|llllllll}\n",
       "  & publn & applicant & auth & publnNum & kind & publnDate & citation & name\\\\\n",
       "  & <chr> & <chr> & <chr> & <chr> & <chr> & <dbl> & <chr> & <chr>\\\\\n",
       "\\hline\n",
       "\t1 & <http://data.epo.org/linked-data/data/publication/EP/4063170/A1/-> & <http://data.epo.org/linked-data/data/vc/F5273AF84CF433300D3D2A2C2A4BB5E3> & <http://data.epo.org/linked-data/id/st3/EP> & 4063170 & <http://data.epo.org/linked-data/def/patent/publicationKind\\_A1> & 1664316000 & <http://data.epo.org/linked-data/data/publication/GB/2579607/A/->     & Nio Technology (Anhui) Co., Ltd\\\\\n",
       "\t2 & <http://data.epo.org/linked-data/data/publication/EP/4063170/A1/-> & <http://data.epo.org/linked-data/data/vc/F5273AF84CF433300D3D2A2C2A4BB5E3> & <http://data.epo.org/linked-data/id/st3/EP> & 4063170 & <http://data.epo.org/linked-data/def/patent/publicationKind\\_A1> & 1664316000 & <http://data.epo.org/linked-data/data/publication/CN/110435476/A/->   & Nio Technology (Anhui) Co., Ltd\\\\\n",
       "\t3 & <http://data.epo.org/linked-data/data/publication/EP/4063170/A1/-> & <http://data.epo.org/linked-data/data/vc/F5273AF84CF433300D3D2A2C2A4BB5E3> & <http://data.epo.org/linked-data/id/st3/EP> & 4063170 & <http://data.epo.org/linked-data/def/patent/publicationKind\\_A1> & 1664316000 & <http://data.epo.org/linked-data/data/publication/CN/111885135/A/->   & Nio Technology (Anhui) Co., Ltd\\\\\n",
       "\t4 & <http://data.epo.org/linked-data/data/publication/EP/4063170/A1/-> & <http://data.epo.org/linked-data/data/vc/F5273AF84CF433300D3D2A2C2A4BB5E3> & <http://data.epo.org/linked-data/id/st3/EP> & 4063170 & <http://data.epo.org/linked-data/def/patent/publicationKind\\_A1> & 1664316000 & <http://data.epo.org/linked-data/data/publication/CN/111942211/A/->   & Nio Technology (Anhui) Co., Ltd\\\\\n",
       "\t5 & <http://data.epo.org/linked-data/data/publication/EP/4012821/A1/-> & <http://data.epo.org/linked-data/data/vc/F5273AF84CF433300D3D2A2C2A4BB5E3> & <http://data.epo.org/linked-data/id/st3/EP> & 4012821 & <http://data.epo.org/linked-data/def/patent/publicationKind\\_A1> & 1655244000 & <http://data.epo.org/linked-data/data/publication/US/5626982/A/->     & Nio Technology (Anhui) Co., Ltd\\\\\n",
       "\t6 & <http://data.epo.org/linked-data/data/publication/EP/4012821/A1/-> & <http://data.epo.org/linked-data/data/vc/F5273AF84CF433300D3D2A2C2A4BB5E3> & <http://data.epo.org/linked-data/id/st3/EP> & 4012821 & <http://data.epo.org/linked-data/def/patent/publicationKind\\_A1> & 1655244000 & <http://data.epo.org/linked-data/data/publication/WO/2019224020/A1/-> & Nio Technology (Anhui) Co., Ltd\\\\\n",
       "\\end{tabular}\n"
      ],
      "text/markdown": [
       "\n",
       "A data.frame: 6 × 8\n",
       "\n",
       "| <!--/--> | publn &lt;chr&gt; | applicant &lt;chr&gt; | auth &lt;chr&gt; | publnNum &lt;chr&gt; | kind &lt;chr&gt; | publnDate &lt;dbl&gt; | citation &lt;chr&gt; | name &lt;chr&gt; |\n",
       "|---|---|---|---|---|---|---|---|---|\n",
       "| 1 | &lt;http://data.epo.org/linked-data/data/publication/EP/4063170/A1/-&gt; | &lt;http://data.epo.org/linked-data/data/vc/F5273AF84CF433300D3D2A2C2A4BB5E3&gt; | &lt;http://data.epo.org/linked-data/id/st3/EP&gt; | 4063170 | &lt;http://data.epo.org/linked-data/def/patent/publicationKind_A1&gt; | 1664316000 | &lt;http://data.epo.org/linked-data/data/publication/GB/2579607/A/-&gt;     | Nio Technology (Anhui) Co., Ltd |\n",
       "| 2 | &lt;http://data.epo.org/linked-data/data/publication/EP/4063170/A1/-&gt; | &lt;http://data.epo.org/linked-data/data/vc/F5273AF84CF433300D3D2A2C2A4BB5E3&gt; | &lt;http://data.epo.org/linked-data/id/st3/EP&gt; | 4063170 | &lt;http://data.epo.org/linked-data/def/patent/publicationKind_A1&gt; | 1664316000 | &lt;http://data.epo.org/linked-data/data/publication/CN/110435476/A/-&gt;   | Nio Technology (Anhui) Co., Ltd |\n",
       "| 3 | &lt;http://data.epo.org/linked-data/data/publication/EP/4063170/A1/-&gt; | &lt;http://data.epo.org/linked-data/data/vc/F5273AF84CF433300D3D2A2C2A4BB5E3&gt; | &lt;http://data.epo.org/linked-data/id/st3/EP&gt; | 4063170 | &lt;http://data.epo.org/linked-data/def/patent/publicationKind_A1&gt; | 1664316000 | &lt;http://data.epo.org/linked-data/data/publication/CN/111885135/A/-&gt;   | Nio Technology (Anhui) Co., Ltd |\n",
       "| 4 | &lt;http://data.epo.org/linked-data/data/publication/EP/4063170/A1/-&gt; | &lt;http://data.epo.org/linked-data/data/vc/F5273AF84CF433300D3D2A2C2A4BB5E3&gt; | &lt;http://data.epo.org/linked-data/id/st3/EP&gt; | 4063170 | &lt;http://data.epo.org/linked-data/def/patent/publicationKind_A1&gt; | 1664316000 | &lt;http://data.epo.org/linked-data/data/publication/CN/111942211/A/-&gt;   | Nio Technology (Anhui) Co., Ltd |\n",
       "| 5 | &lt;http://data.epo.org/linked-data/data/publication/EP/4012821/A1/-&gt; | &lt;http://data.epo.org/linked-data/data/vc/F5273AF84CF433300D3D2A2C2A4BB5E3&gt; | &lt;http://data.epo.org/linked-data/id/st3/EP&gt; | 4012821 | &lt;http://data.epo.org/linked-data/def/patent/publicationKind_A1&gt; | 1655244000 | &lt;http://data.epo.org/linked-data/data/publication/US/5626982/A/-&gt;     | Nio Technology (Anhui) Co., Ltd |\n",
       "| 6 | &lt;http://data.epo.org/linked-data/data/publication/EP/4012821/A1/-&gt; | &lt;http://data.epo.org/linked-data/data/vc/F5273AF84CF433300D3D2A2C2A4BB5E3&gt; | &lt;http://data.epo.org/linked-data/id/st3/EP&gt; | 4012821 | &lt;http://data.epo.org/linked-data/def/patent/publicationKind_A1&gt; | 1655244000 | &lt;http://data.epo.org/linked-data/data/publication/WO/2019224020/A1/-&gt; | Nio Technology (Anhui) Co., Ltd |\n",
       "\n"
      ],
      "text/plain": [
       "  publn                                                             \n",
       "1 <http://data.epo.org/linked-data/data/publication/EP/4063170/A1/->\n",
       "2 <http://data.epo.org/linked-data/data/publication/EP/4063170/A1/->\n",
       "3 <http://data.epo.org/linked-data/data/publication/EP/4063170/A1/->\n",
       "4 <http://data.epo.org/linked-data/data/publication/EP/4063170/A1/->\n",
       "5 <http://data.epo.org/linked-data/data/publication/EP/4012821/A1/->\n",
       "6 <http://data.epo.org/linked-data/data/publication/EP/4012821/A1/->\n",
       "  applicant                                                                 \n",
       "1 <http://data.epo.org/linked-data/data/vc/F5273AF84CF433300D3D2A2C2A4BB5E3>\n",
       "2 <http://data.epo.org/linked-data/data/vc/F5273AF84CF433300D3D2A2C2A4BB5E3>\n",
       "3 <http://data.epo.org/linked-data/data/vc/F5273AF84CF433300D3D2A2C2A4BB5E3>\n",
       "4 <http://data.epo.org/linked-data/data/vc/F5273AF84CF433300D3D2A2C2A4BB5E3>\n",
       "5 <http://data.epo.org/linked-data/data/vc/F5273AF84CF433300D3D2A2C2A4BB5E3>\n",
       "6 <http://data.epo.org/linked-data/data/vc/F5273AF84CF433300D3D2A2C2A4BB5E3>\n",
       "  auth                                        publnNum\n",
       "1 <http://data.epo.org/linked-data/id/st3/EP> 4063170 \n",
       "2 <http://data.epo.org/linked-data/id/st3/EP> 4063170 \n",
       "3 <http://data.epo.org/linked-data/id/st3/EP> 4063170 \n",
       "4 <http://data.epo.org/linked-data/id/st3/EP> 4063170 \n",
       "5 <http://data.epo.org/linked-data/id/st3/EP> 4012821 \n",
       "6 <http://data.epo.org/linked-data/id/st3/EP> 4012821 \n",
       "  kind                                                            publnDate \n",
       "1 <http://data.epo.org/linked-data/def/patent/publicationKind_A1> 1664316000\n",
       "2 <http://data.epo.org/linked-data/def/patent/publicationKind_A1> 1664316000\n",
       "3 <http://data.epo.org/linked-data/def/patent/publicationKind_A1> 1664316000\n",
       "4 <http://data.epo.org/linked-data/def/patent/publicationKind_A1> 1664316000\n",
       "5 <http://data.epo.org/linked-data/def/patent/publicationKind_A1> 1655244000\n",
       "6 <http://data.epo.org/linked-data/def/patent/publicationKind_A1> 1655244000\n",
       "  citation                                                             \n",
       "1 <http://data.epo.org/linked-data/data/publication/GB/2579607/A/->    \n",
       "2 <http://data.epo.org/linked-data/data/publication/CN/110435476/A/->  \n",
       "3 <http://data.epo.org/linked-data/data/publication/CN/111885135/A/->  \n",
       "4 <http://data.epo.org/linked-data/data/publication/CN/111942211/A/->  \n",
       "5 <http://data.epo.org/linked-data/data/publication/US/5626982/A/->    \n",
       "6 <http://data.epo.org/linked-data/data/publication/WO/2019224020/A1/->\n",
       "  name                           \n",
       "1 Nio Technology (Anhui) Co., Ltd\n",
       "2 Nio Technology (Anhui) Co., Ltd\n",
       "3 Nio Technology (Anhui) Co., Ltd\n",
       "4 Nio Technology (Anhui) Co., Ltd\n",
       "5 Nio Technology (Anhui) Co., Ltd\n",
       "6 Nio Technology (Anhui) Co., Ltd"
      ]
     },
     "metadata": {},
     "output_type": "display_data"
    }
   ],
   "source": [
    "head(query3_result)"
   ]
  },
  {
   "cell_type": "markdown",
   "metadata": {},
   "source": [
    "When you are doing patent research, you have to deal with entity harmonization. This means that you have to find all the publications of an applicant, even if the name of the applicant is written in different ways. For example, the same applicant can be written as \"IBM\", \"International Business Machines Corporation\", \"IBM Corporation\", etc. For NIO Inc., the have been published with the following names:\n",
    "\n",
    "- NIO Inc.\n",
    "- NIO NextEV Limited\n",
    "- NIO GmbH\n",
    "- NIO Technology Co., Ltd\n",
    "- and many more...\n",
    "\n",
    "You can read the [financial report](https://www.sec.gov/Archives/edgar/data/1736541/000110465921046834/R8.htm) to find out the names of the subsidiaries of NIO Inc."
   ]
  },
  {
   "cell_type": "code",
   "execution_count": 47,
   "metadata": {
    "vscode": {
     "languageId": "r"
    }
   },
   "outputs": [
    {
     "data": {
      "text/plain": [
       "\n",
       "\n",
       "|publn                                                            |applicant                                                                |auth                                      |publnNum |kind                                                          |publnDate  |citation                                                            |name                            |\n",
       "|:----------------------------------------------------------------|:------------------------------------------------------------------------|:-----------------------------------------|:--------|:-------------------------------------------------------------|:----------|:-------------------------------------------------------------------|:-------------------------------|\n",
       "|http://data.epo.org/linked-data/data/publication/EP/4335674/A1/- |http://data.epo.org/linked-data/data/vc/F5273AF84CF433300D3D2A2C2A4BB5E3 |http://data.epo.org/linked-data/id/st3/EP |4335674  |http://data.epo.org/linked-data/def/patent/publicationKind_A1 |2024-03-13 |http://data.epo.org/linked-data/data/publication/EP/0479522/A2/-    |Nio Technology (Anhui) Co., Ltd |\n",
       "|http://data.epo.org/linked-data/data/publication/EP/4335674/A1/- |http://data.epo.org/linked-data/data/vc/F5273AF84CF433300D3D2A2C2A4BB5E3 |http://data.epo.org/linked-data/id/st3/EP |4335674  |http://data.epo.org/linked-data/def/patent/publicationKind_A1 |2024-03-13 |http://data.epo.org/linked-data/data/publication/WO/2019141836/A1/- |Nio Technology (Anhui) Co., Ltd |\n",
       "|http://data.epo.org/linked-data/data/publication/EP/4335674/A1/- |http://data.epo.org/linked-data/data/vc/F5273AF84CF433300D3D2A2C2A4BB5E3 |http://data.epo.org/linked-data/id/st3/EP |4335674  |http://data.epo.org/linked-data/def/patent/publicationKind_A1 |2024-03-13 |http://data.epo.org/linked-data/data/publication/US/2014007509/A1/- |Nio Technology (Anhui) Co., Ltd |\n",
       "|http://data.epo.org/linked-data/data/publication/EP/4289658/A1/- |http://data.epo.org/linked-data/data/vc/F5273AF84CF433300D3D2A2C2A4BB5E3 |http://data.epo.org/linked-data/id/st3/EP |4289658  |http://data.epo.org/linked-data/def/patent/publicationKind_A1 |2023-12-13 |http://data.epo.org/linked-data/data/publication/EP/3725604/A1/-    |Nio Technology (Anhui) Co., Ltd |\n",
       "|http://data.epo.org/linked-data/data/publication/EP/4289658/A1/- |http://data.epo.org/linked-data/data/vc/F5273AF84CF433300D3D2A2C2A4BB5E3 |http://data.epo.org/linked-data/id/st3/EP |4289658  |http://data.epo.org/linked-data/def/patent/publicationKind_A1 |2023-12-13 |http://data.epo.org/linked-data/data/publication/CN/113525153/A/-   |Nio Technology (Anhui) Co., Ltd |\n",
       "|http://data.epo.org/linked-data/data/publication/EP/4289664/A1/- |http://data.epo.org/linked-data/data/vc/F5273AF84CF433300D3D2A2C2A4BB5E3 |http://data.epo.org/linked-data/id/st3/EP |4289664  |http://data.epo.org/linked-data/def/patent/publicationKind_A1 |2023-12-13 |http://data.epo.org/linked-data/data/publication/US/2010244502/A1/- |Nio Technology (Anhui) Co., Ltd |\n",
       "|http://data.epo.org/linked-data/data/publication/EP/4289664/A1/- |http://data.epo.org/linked-data/data/vc/F5273AF84CF433300D3D2A2C2A4BB5E3 |http://data.epo.org/linked-data/id/st3/EP |4289664  |http://data.epo.org/linked-data/def/patent/publicationKind_A1 |2023-12-13 |http://data.epo.org/linked-data/data/publication/US/2016059761/A1/- |Nio Technology (Anhui) Co., Ltd |\n",
       "|http://data.epo.org/linked-data/data/publication/EP/4289664/A1/- |http://data.epo.org/linked-data/data/vc/F5273AF84CF433300D3D2A2C2A4BB5E3 |http://data.epo.org/linked-data/id/st3/EP |4289664  |http://data.epo.org/linked-data/def/patent/publicationKind_A1 |2023-12-13 |http://data.epo.org/linked-data/data/publication/CN/210258134/U/-   |Nio Technology (Anhui) Co., Ltd |\n",
       "|http://data.epo.org/linked-data/data/publication/EP/4289709/A1/- |http://data.epo.org/linked-data/data/vc/F5273AF84CF433300D3D2A2C2A4BB5E3 |http://data.epo.org/linked-data/id/st3/EP |4289709  |http://data.epo.org/linked-data/def/patent/publicationKind_A1 |2023-12-13 |http://data.epo.org/linked-data/data/publication/CN/114104118/A/-   |Nio Technology (Anhui) Co., Ltd |\n",
       "|http://data.epo.org/linked-data/data/publication/EP/4289709/A1/- |http://data.epo.org/linked-data/data/vc/F5273AF84CF433300D3D2A2C2A4BB5E3 |http://data.epo.org/linked-data/id/st3/EP |4289709  |http://data.epo.org/linked-data/def/patent/publicationKind_A1 |2023-12-13 |http://data.epo.org/linked-data/data/publication/US/6203099/B1/-    |Nio Technology (Anhui) Co., Ltd |"
      ]
     },
     "metadata": {},
     "output_type": "display_data"
    }
   ],
   "source": [
    "# convert publication date to date format with as.POSIXct\n",
    "query3_result %>%\n",
    "    as.data.table() %>%\n",
    "    # delete '<' and '>' for publn, applicant, auth, kind\n",
    "    .[, c(\"publn\", \"applicant\", \"auth\", \"kind\", \"citation\") := lapply(.SD, function(x) gsub(\"[<>]\", \"\", x)),\n",
    "                        .SDcols = c(\"publn\", \"applicant\", \"auth\", \"kind\", \"citation\")] %>%\n",
    "    .[, publnDate := as.POSIXct(publnDate)] %>%\n",
    "    # order by publication date\n",
    "    .[order(-publnDate)] %>%\n",
    "    peep_head(10)"
   ]
  },
  {
   "cell_type": "code",
   "execution_count": 49,
   "metadata": {
    "vscode": {
     "languageId": "r"
    }
   },
   "outputs": [
    {
     "data": {
      "text/plain": [
       "\n",
       "\n",
       "|publnNum |publnDate  |citation                                                          |name                            |citation_country |\n",
       "|:--------|:----------|:-----------------------------------------------------------------|:-------------------------------|:----------------|\n",
       "|4063170  |2022-09-28 |http://data.epo.org/linked-data/data/publication/GB/2579607/A/-   |Nio Technology (Anhui) Co., Ltd |GB               |\n",
       "|4063170  |2022-09-28 |http://data.epo.org/linked-data/data/publication/CN/110435476/A/- |Nio Technology (Anhui) Co., Ltd |CN               |\n",
       "|4063170  |2022-09-28 |http://data.epo.org/linked-data/data/publication/CN/111885135/A/- |Nio Technology (Anhui) Co., Ltd |CN               |\n",
       "|4063170  |2022-09-28 |http://data.epo.org/linked-data/data/publication/CN/111942211/A/- |Nio Technology (Anhui) Co., Ltd |CN               |\n",
       "|4012821  |2022-06-15 |http://data.epo.org/linked-data/data/publication/US/5626982/A/-   |Nio Technology (Anhui) Co., Ltd |US               |"
      ]
     },
     "metadata": {},
     "output_type": "display_data"
    }
   ],
   "source": [
    "# where does Nio EV learn from?\n",
    "# we can check the citations of the patents\n",
    "query3_result %>%\n",
    "    as.data.table() %>%\n",
    "    # delete '<' and '>' for publn, applicant, auth, kind\n",
    "    .[, c(\"publn\", \"applicant\", \"auth\", \"kind\", \"citation\") := lapply(.SD, function(x) gsub(\"[<>]\", \"\", x)),\n",
    "                        .SDcols = c(\"publn\", \"applicant\", \"auth\", \"kind\", \"citation\")] %>%\n",
    "    .[, publnDate := as.POSIXct(publnDate)] %>%\n",
    "    # select the columns we need\n",
    "    .[, .(publnNum, publnDate, citation, name)] %>%\n",
    "    # get the country code of citation by extracting string after /publication/ and before /\n",
    "    .[, citation_country := str_extract(citation, \"(?<=/publication/)[^/]+\")] %>%\n",
    "    peep_head()"
   ]
  },
  {
   "cell_type": "code",
   "execution_count": 52,
   "metadata": {
    "vscode": {
     "languageId": "r"
    }
   },
   "outputs": [
    {
     "data": {
      "text/plain": [
       "\n",
       "\n",
       "|citation_country |   N|\n",
       "|:----------------|---:|\n",
       "|US               | 225|\n",
       "|CN               | 117|\n",
       "|EP               |  51|\n",
       "|WO               |  47|\n",
       "|DE               |  44|\n",
       "|JP               |  36|\n",
       "|KR               |   9|\n",
       "|FR               |   4|\n",
       "|GB               |   3|\n",
       "|TW               |   1|"
      ]
     },
     "metadata": {},
     "output_type": "display_data"
    }
   ],
   "source": [
    "query3_result %>%\n",
    "    as.data.table() %>%\n",
    "    # delete '<' and '>' for publn, applicant, auth, kind\n",
    "    .[, c(\"publn\", \"applicant\", \"auth\", \"kind\", \"citation\") := lapply(.SD, function(x) gsub(\"[<>]\", \"\", x)),\n",
    "                        .SDcols = c(\"publn\", \"applicant\", \"auth\", \"kind\", \"citation\")] %>%\n",
    "    .[, publnDate := as.POSIXct(publnDate)] %>%\n",
    "    # select the columns we need\n",
    "    .[, .(publnNum, publnDate, citation, name)] %>%\n",
    "    # get the country code of citation by extracting string after /publication/ and before /\n",
    "    .[, citation_country := str_extract(citation, \"(?<=/publication/)[^/]+\")] %>%\n",
    "    .[, .N, by = .(citation_country)] %>%\n",
    "    .[order(-N)] %>%\n",
    "    peep_head(10)"
   ]
  },
  {
   "cell_type": "markdown",
   "metadata": {},
   "source": [
    "The above table shows that Nio Inc. closely followed the US and China markets. Germany and Japan are also important sources of innovation for Nio Inc as they cited patents from these countries too but not as many as the US and China."
   ]
  },
  {
   "cell_type": "markdown",
   "metadata": {},
   "source": [
    "## Get to know IPC and CPC\n",
    "\n",
    "The International Patent Classification (IPC) is a hierarchical patent classification system that is used to classify the content of patents. The Cooperative Patent Classification (CPC) is a patent classification system, which has been jointly developed by the European Patent Office (EPO) and the United States Patent and Trademark Office (USPTO). The CPC is a more detailed classification system than the IPC."
   ]
  },
  {
   "cell_type": "code",
   "execution_count": 56,
   "metadata": {
    "vscode": {
     "languageId": "r"
    }
   },
   "outputs": [],
   "source": [
    "# let's run the following query to learn IPC and CPC \n",
    "query4 <- \"\n",
    "prefix cpc: <http://data.epo.org/linked-data/def/cpc/>\n",
    "prefix dcterms: <http://purl.org/dc/terms/>\n",
    "prefix rdf: <http://www.w3.org/1999/02/22-rdf-syntax-ns#>\n",
    "prefix rdfs: <http://www.w3.org/2000/01/rdf-schema#>\n",
    "prefix skos: <http://www.w3.org/2004/02/skos/core#>\n",
    "\n",
    "SELECT ?broaderCPC ?title ?ipc\n",
    "WHERE {\n",
    "    ?CPC rdf:type/rdfs:subClassOf cpc:Classification.\n",
    "    ?CPC rdfs:label 'A44B 11/2523'.  # Note the single space between A44B and 11/2523\n",
    "    ?CPC skos:broader* ?broaderCPC.\n",
    "    ?broaderCPC cpc:concordantIPC ?ipc.\n",
    "    ?broaderCPC dcterms:title ?title\n",
    "}\n",
    "ORDER BY ASC(?broaderCPC)\n",
    "LIMIT 20\n",
    "\"\n",
    "\n",
    "query4_result <- SPARQL(endpoint, query4)$results"
   ]
  },
  {
   "cell_type": "code",
   "execution_count": 60,
   "metadata": {
    "vscode": {
     "languageId": "r"
    }
   },
   "outputs": [
    {
     "data": {
      "text/plain": [
       "\n",
       "\n",
       "|broaderCPC                                        |title                                                                                         |ipc                                               |\n",
       "|:-------------------------------------------------|:---------------------------------------------------------------------------------------------|:-------------------------------------------------|\n",
       "|http://data.epo.org/linked-data/def/cpc/A         |\"HUMAN NECESSITIES\"@en                                                                        |http://data.epo.org/linked-data/def/ipc/A         |\n",
       "|http://data.epo.org/linked-data/def/cpc/A4        |\"PERSONAL OR DOMESTIC ARTICLES\"@en                                                            |http://data.epo.org/linked-data/def/ipc/A4        |\n",
       "|http://data.epo.org/linked-data/def/cpc/A44       |\"HABERDASHERY; JEWELLERY\"@en                                                                  |http://data.epo.org/linked-data/def/ipc/A44       |\n",
       "|http://data.epo.org/linked-data/def/cpc/A44B      |\"BUTTONS, PINS, BUCKLES, SLIDE FASTENERS, OR THE LIKE\"@en                                     |http://data.epo.org/linked-data/def/ipc/A44B      |\n",
       "|http://data.epo.org/linked-data/def/cpc/A44B11-00 |\"Buckles; Similar fasteners for interconnecting straps or the like, e.g. for safety belts\"@en |http://data.epo.org/linked-data/def/ipc/A44B11-00 |"
      ]
     },
     "metadata": {},
     "output_type": "display_data"
    }
   ],
   "source": [
    "query4_result %>%\n",
    "    as.data.table() %>%\n",
    "    # delete '<' and '>' for broaderCPC, ipc\n",
    "    .[, c(\"broaderCPC\", \"ipc\") := lapply(.SD, function(x) gsub(\"[<>]\", \"\", x)),\n",
    "                        .SDcols = c(\"broaderCPC\", \"ipc\")] %>%\n",
    "    peep_head()"
   ]
  },
  {
   "cell_type": "code",
   "execution_count": 58,
   "metadata": {
    "vscode": {
     "languageId": "r"
    }
   },
   "outputs": [
    {
     "data": {
      "text/plain": [
       "\n",
       "\n",
       "|broaderCPC  |title                                                                                                                                              |ipc       |\n",
       "|:-----------|:--------------------------------------------------------------------------------------------------------------------------------------------------|:---------|\n",
       "|A           |\"HUMAN NECESSITIES\"@en                                                                                                                             |A         |\n",
       "|A4          |\"PERSONAL OR DOMESTIC ARTICLES\"@en                                                                                                                 |A4        |\n",
       "|A44         |\"HABERDASHERY; JEWELLERY\"@en                                                                                                                       |A44       |\n",
       "|A44B        |\"BUTTONS, PINS, BUCKLES, SLIDE FASTENERS, OR THE LIKE\"@en                                                                                          |A44B      |\n",
       "|A44B11-00   |\"Buckles; Similar fasteners for interconnecting straps or the like, e.g. for safety belts\"@en                                                      |A44B11-00 |\n",
       "|A44B11-25   |\"Buckles; Similar fasteners for interconnecting straps or the like, e.g. for safety belts with two or more separable parts\"@en                     |A44B11-25 |\n",
       "|A44B11-2503 |\"{Safety buckles }\"@en                                                                                                                             |A44B11-25 |\n",
       "|A44B11-2507 |\"{Safety buckles  actuated by a push-button}\"@en                                                                                                   |A44B11-25 |\n",
       "|A44B11-2523 |\"{Safety buckles  actuated by a push-button acting parallel to the main plane of the buckle and in the same direction as the fastening action}\"@en |A44B11-25 |"
      ]
     },
     "metadata": {},
     "output_type": "display_data"
    }
   ],
   "source": [
    "# make it readable\n",
    "query4_result %>%\n",
    "    as.data.table() %>%\n",
    "    # extract string after 'cpc/' and before '>' for broaderCPC\n",
    "    .[, broaderCPC := str_extract(broaderCPC, \"(?<=cpc/)[^>]+\")] %>%\n",
    "    # extract string after 'ipc/' and before '>' for ipc\n",
    "    .[, ipc := str_extract(ipc, \"(?<=ipc/)[^>]+\")] %>%\n",
    "    kable()"
   ]
  },
  {
   "cell_type": "markdown",
   "metadata": {},
   "source": [
    "## What kind of IPC and CPC classes do electric vehicles cluster around?\n",
    "\n",
    "We want to find out the IPC and CPC classes that electric vehicles cluster around. We will first use top two EV companies - Tesla and BYD - to find out the IPC and CPC classes that electric vehicles cluster around. We will then compare the IPC and CPC classes of EVs with traditional vehicles, such as Volkswagen and BMW.\n",
    "\n",
    "> Fun facts about patent: After Zip2, when I realized that receiving a patent really just meant that you bought a lottery ticket to a lawsuit, I avoided them whenever possible. - Elon Musk\n",
    "\n",
    "Please this [article](https://www.tesla.com/blog/all-our-patent-are-belong-you) to find out why Elon Musk decided to open Tesla's patents.\n",
    "\n",
    "Some articles about Tesla's Open Patent Policy:\n",
    "\n",
    "- https://www.automotiveworld.com/articles/are-open-source-patent-portfolios-the-key-to-the-ev-revolution/\n",
    "- https://startupnation.com/manage-your-business/teslas-open-source-patent-strategy/"
   ]
  },
  {
   "cell_type": "code",
   "execution_count": 3,
   "metadata": {
    "vscode": {
     "languageId": "r"
    }
   },
   "outputs": [],
   "source": [
    "# get publications of TESLA INC, TESLA MOTORS INC, BYD COMPANY LIMITED\n",
    "# it will take around 20 seconds to run\n",
    "query5 <- \"\n",
    "prefix dcterms: <http://purl.org/dc/terms/>\n",
    "PREFIX xsd: <http://www.w3.org/2001/XMLSchema#>\n",
    "PREFIX skos: <http://www.w3.org/2004/02/skos/core#> \n",
    "PREFIX rdf: <http://www.w3.org/1999/02/22-rdf-syntax-ns#> \n",
    "PREFIX vcard: <http://www.w3.org/2006/vcard/ns#> \n",
    "PREFIX patent: <http://data.epo.org/linked-data/def/patent/>\n",
    "\n",
    "SELECT * \n",
    "WHERE {\n",
    "    ?publn rdf:type patent:Publication;\n",
    "           patent:applicantVC ?applicant;\n",
    "           patent:publicationAuthority ?auth;\n",
    "           patent:publicationNumber ?publnNum;\n",
    "           patent:publicationKind ?kind;\n",
    "           patent:publicationDate ?publnDate;\n",
    "           patent:application ?application.\n",
    "  \t?application patent:classificationCPCInventive ?cpc.\n",
    "    ?applicant vcard:fn ?name.\n",
    "    FILTER (?name = 'Tesla Motors, Inc.' || ?name = 'Tesla, Inc.' || ?name = 'BYD Company Limited')\n",
    "}\n",
    "LIMIT 15000\n",
    "\"\n",
    "\n",
    "query5_result <- SPARQL(endpoint, query5)$results"
   ]
  },
  {
   "cell_type": "code",
   "execution_count": 4,
   "metadata": {
    "vscode": {
     "languageId": "r"
    }
   },
   "outputs": [
    {
     "name": "stdout",
     "output_type": "stream",
     "text": [
      "'data.frame':\t10226 obs. of  9 variables:\n",
      " $ publn      : chr  \"<http://data.epo.org/linked-data/data/publication/EP/2533325/A1/->\" \"<http://data.epo.org/linked-data/data/publication/EP/2533325/A1/->\" \"<http://data.epo.org/linked-data/data/publication/EP/2533325/A1/->\" \"<http://data.epo.org/linked-data/data/publication/EP/2533325/A1/->\" ...\n",
      " $ applicant  : chr  \"<http://data.epo.org/linked-data/data/vc/1CF0D6E9F409338A09FAB869729D600C>\" \"<http://data.epo.org/linked-data/data/vc/1CF0D6E9F409338A09FAB869729D600C>\" \"<http://data.epo.org/linked-data/data/vc/1CF0D6E9F409338A09FAB869729D600C>\" \"<http://data.epo.org/linked-data/data/vc/1CF0D6E9F409338A09FAB869729D600C>\" ...\n",
      " $ auth       : chr  \"<http://data.epo.org/linked-data/id/st3/EP>\" \"<http://data.epo.org/linked-data/id/st3/EP>\" \"<http://data.epo.org/linked-data/id/st3/EP>\" \"<http://data.epo.org/linked-data/id/st3/EP>\" ...\n",
      " $ publnNum   : chr  \"2533325\" \"2533325\" \"2533325\" \"2533325\" ...\n",
      " $ kind       : chr  \"<http://data.epo.org/linked-data/def/patent/publicationKind_A1>\" \"<http://data.epo.org/linked-data/def/patent/publicationKind_A1>\" \"<http://data.epo.org/linked-data/def/patent/publicationKind_A1>\" \"<http://data.epo.org/linked-data/def/patent/publicationKind_A1>\" ...\n",
      " $ publnDate  : num  1.36e+09 1.36e+09 1.36e+09 1.36e+09 1.33e+09 ...\n",
      " $ application: chr  \"<http://data.epo.org/linked-data/id/application/EP/12004037>\" \"<http://data.epo.org/linked-data/id/application/EP/12004037>\" \"<http://data.epo.org/linked-data/id/application/EP/12004037>\" \"<http://data.epo.org/linked-data/id/application/EP/12004037>\" ...\n",
      " $ cpc        : chr  \"<http://data.epo.org/linked-data/def/cpc/H01M10-52>\" \"<http://data.epo.org/linked-data/def/cpc/H01M50-204>\" \"<http://data.epo.org/linked-data/def/cpc/H01M50-317>\" \"<http://data.epo.org/linked-data/def/cpc/H01M50-24>\" ...\n",
      " $ name       : chr  \"Tesla Motors, Inc.\" \"Tesla Motors, Inc.\" \"Tesla Motors, Inc.\" \"Tesla Motors, Inc.\" ...\n"
     ]
    }
   ],
   "source": [
    "str(query5_result)"
   ]
  },
  {
   "cell_type": "code",
   "execution_count": 6,
   "metadata": {
    "vscode": {
     "languageId": "r"
    }
   },
   "outputs": [
    {
     "data": {
      "text/plain": [
       "\n",
       "\n",
       "|publn                                                            |name               |publnNum |publnDate  |cpc                                                |cpc_code   |\n",
       "|:----------------------------------------------------------------|:------------------|:--------|:----------|:--------------------------------------------------|:----------|\n",
       "|http://data.epo.org/linked-data/data/publication/EP/2533325/A1/- |Tesla Motors, Inc. |2533325  |2012-12-12 |http://data.epo.org/linked-data/def/cpc/H01M10-52  |H01M10-52  |\n",
       "|http://data.epo.org/linked-data/data/publication/EP/2533325/A1/- |Tesla Motors, Inc. |2533325  |2012-12-12 |http://data.epo.org/linked-data/def/cpc/H01M50-204 |H01M50-204 |\n",
       "|http://data.epo.org/linked-data/data/publication/EP/2533325/A1/- |Tesla Motors, Inc. |2533325  |2012-12-12 |http://data.epo.org/linked-data/def/cpc/H01M50-317 |H01M50-317 |\n",
       "|http://data.epo.org/linked-data/data/publication/EP/2533325/A1/- |Tesla Motors, Inc. |2533325  |2012-12-12 |http://data.epo.org/linked-data/def/cpc/H01M50-24  |H01M50-24  |\n",
       "|http://data.epo.org/linked-data/data/publication/EP/2413452/A2/- |Tesla Motors, Inc. |2413452  |2012-02-01 |http://data.epo.org/linked-data/def/cpc/H02J7-02   |H02J7-02   |"
      ]
     },
     "metadata": {},
     "output_type": "display_data"
    }
   ],
   "source": [
    "# now let's clean the data\n",
    "query5_result %>%\n",
    "    as.data.table() %>%\n",
    "    # delete '<' and '>' for publn, applicant, auth, kind\n",
    "    .[, c(\"publn\", \"applicant\", \"auth\", \"kind\", \"application\", \"cpc\") := lapply(.SD, function(x) gsub(\"[<>]\", \"\", x)),\n",
    "                        .SDcols = c(\"publn\", \"applicant\", \"auth\", \"kind\", \"application\", \"cpc\")] %>%\n",
    "    .[, publnDate := as.POSIXct(publnDate)] %>%\n",
    "    # select the columns we need\n",
    "    .[, .(publn, name, publnNum, publnDate, cpc)] %>%\n",
    "    # extract string after 'cpc/' and before '>' for cpc\n",
    "    .[, cpc_code := str_extract(cpc, \"(?<=cpc/)[^>]+\")] %>%\n",
    "    peep_head()"
   ]
  },
  {
   "cell_type": "code",
   "execution_count": 69,
   "metadata": {
    "vscode": {
     "languageId": "r"
    }
   },
   "outputs": [
    {
     "data": {
      "text/plain": [
       "\n",
       "\n",
       "|name                |   N|\n",
       "|:-------------------|---:|\n",
       "|BYD Company Limited | 942|\n",
       "|Tesla, Inc.         | 134|\n",
       "|Tesla Motors, Inc.  |  69|"
      ]
     },
     "metadata": {},
     "output_type": "display_data"
    }
   ],
   "source": [
    "query5_result %>%\n",
    "    as.data.table() %>%\n",
    "    # delete '<' and '>' for publn, applicant, auth, kind\n",
    "    .[, c(\"publn\", \"applicant\", \"auth\", \"kind\", \"application\", \"cpc\") := lapply(.SD, function(x) gsub(\"[<>]\", \"\", x)),\n",
    "                        .SDcols = c(\"publn\", \"applicant\", \"auth\", \"kind\", \"application\", \"cpc\")] %>%\n",
    "    .[, publnDate := as.POSIXct(publnDate)] %>%\n",
    "    # select the columns we need\n",
    "    .[, .(publn, name, publnNum, publnDate, cpc)] %>%\n",
    "    # extract string after 'cpc/' and before '>' for cpc\n",
    "    .[, cpc_code := str_extract(cpc, \"(?<=cpc/)[^>]+\")] %>%\n",
    "    # only keep the unique publications\n",
    "    unique(by = \"publnNum\") %>%\n",
    "    # get the count of applicants\n",
    "    .[, .N, by = .(name)] %>%\n",
    "    .[order(-N)] %>%\n",
    "    peep_head()"
   ]
  },
  {
   "cell_type": "markdown",
   "metadata": {},
   "source": [
    "When you look at the above table, you might feel unexpected to see that BYD has more patents than Tesla. You can read the following articles to find out why BYD has more patents than Tesla:\n",
    "\n",
    "- https://asia.nikkei.com/Spotlight/Electric-cars-in-China/BYD-outpaces-Tesla-16-fold-in-patent-filings\n",
    "- https://www.counterpointresearch.com/insights/global-electric-vehicle-market-share/"
   ]
  },
  {
   "cell_type": "code",
   "execution_count": 74,
   "metadata": {
    "vscode": {
     "languageId": "r"
    }
   },
   "outputs": [
    {
     "data": {
      "text/plain": [
       "\n",
       "\n",
       "|cpc_code    |   N|\n",
       "|:-----------|---:|\n",
       "|H01M10-625  | 126|\n",
       "|H01M10-613  | 104|\n",
       "|H01M50-209  | 101|\n",
       "|H01M50-249  |  91|\n",
       "|H01M10-0525 |  76|\n",
       "|H01M50-204  |  65|\n",
       "|B60L58-27   |  59|\n",
       "|B60L50-64   |  58|\n",
       "|H01M10-6556 |  58|\n",
       "|B60L53-11   |  51|"
      ]
     },
     "metadata": {},
     "output_type": "display_data"
    }
   ],
   "source": [
    "# now let's analyze the CPC codes\n",
    "query5_result %>%\n",
    "    as.data.table() %>%\n",
    "    # delete '<' and '>' for publn, applicant, auth, kind\n",
    "    .[, c(\"publn\", \"applicant\", \"auth\", \"kind\", \"application\", \"cpc\") := lapply(.SD, function(x) gsub(\"[<>]\", \"\", x)),\n",
    "                        .SDcols = c(\"publn\", \"applicant\", \"auth\", \"kind\", \"application\", \"cpc\")] %>%\n",
    "    .[, publnDate := as.POSIXct(publnDate)] %>%\n",
    "    # select the columns we need\n",
    "    .[, .(publn, name, publnNum, publnDate, cpc)] %>%\n",
    "    # extract string after 'cpc/' and before '>' for cpc\n",
    "    .[, cpc_code := str_extract(cpc, \"(?<=cpc/)[^>]+\")] %>%\n",
    "    .[, .N, by = .(cpc_code)] %>%\n",
    "    .[order(-N)] %>%\n",
    "    peep_head(10)"
   ]
  },
  {
   "cell_type": "code",
   "execution_count": 5,
   "metadata": {
    "vscode": {
     "languageId": "r"
    }
   },
   "outputs": [
    {
     "data": {
      "text/html": [
       "<table class=\"dataframe\">\n",
       "<caption>A data.table: 6 × 5</caption>\n",
       "<thead>\n",
       "\t<tr><th scope=col>cpc_code</th><th scope=col>group</th><th scope=col>subclass</th><th scope=col>class</th><th scope=col>section</th></tr>\n",
       "\t<tr><th scope=col>&lt;chr&gt;</th><th scope=col>&lt;chr&gt;</th><th scope=col>&lt;chr&gt;</th><th scope=col>&lt;chr&gt;</th><th scope=col>&lt;chr&gt;</th></tr>\n",
       "</thead>\n",
       "<tbody>\n",
       "\t<tr><td>H01M10-52 </td><td>H01M10</td><td>H01M</td><td>H01</td><td>H</td></tr>\n",
       "\t<tr><td>H01M50-204</td><td>H01M50</td><td>H01M</td><td>H01</td><td>H</td></tr>\n",
       "\t<tr><td>H01M50-317</td><td>H01M50</td><td>H01M</td><td>H01</td><td>H</td></tr>\n",
       "\t<tr><td>H01M50-24 </td><td>H01M50</td><td>H01M</td><td>H01</td><td>H</td></tr>\n",
       "\t<tr><td>H02J7-02  </td><td>H02J7 </td><td>H02J</td><td>H02</td><td>H</td></tr>\n",
       "\t<tr><td>B60J10-30 </td><td>B60J10</td><td>B60J</td><td>B60</td><td>B</td></tr>\n",
       "</tbody>\n",
       "</table>\n"
      ],
      "text/latex": [
       "A data.table: 6 × 5\n",
       "\\begin{tabular}{lllll}\n",
       " cpc\\_code & group & subclass & class & section\\\\\n",
       " <chr> & <chr> & <chr> & <chr> & <chr>\\\\\n",
       "\\hline\n",
       "\t H01M10-52  & H01M10 & H01M & H01 & H\\\\\n",
       "\t H01M50-204 & H01M50 & H01M & H01 & H\\\\\n",
       "\t H01M50-317 & H01M50 & H01M & H01 & H\\\\\n",
       "\t H01M50-24  & H01M50 & H01M & H01 & H\\\\\n",
       "\t H02J7-02   & H02J7  & H02J & H02 & H\\\\\n",
       "\t B60J10-30  & B60J10 & B60J & B60 & B\\\\\n",
       "\\end{tabular}\n"
      ],
      "text/markdown": [
       "\n",
       "A data.table: 6 × 5\n",
       "\n",
       "| cpc_code &lt;chr&gt; | group &lt;chr&gt; | subclass &lt;chr&gt; | class &lt;chr&gt; | section &lt;chr&gt; |\n",
       "|---|---|---|---|---|\n",
       "| H01M10-52  | H01M10 | H01M | H01 | H |\n",
       "| H01M50-204 | H01M50 | H01M | H01 | H |\n",
       "| H01M50-317 | H01M50 | H01M | H01 | H |\n",
       "| H01M50-24  | H01M50 | H01M | H01 | H |\n",
       "| H02J7-02   | H02J7  | H02J | H02 | H |\n",
       "| B60J10-30  | B60J10 | B60J | B60 | B |\n",
       "\n"
      ],
      "text/plain": [
       "  cpc_code   group  subclass class section\n",
       "1 H01M10-52  H01M10 H01M     H01   H      \n",
       "2 H01M50-204 H01M50 H01M     H01   H      \n",
       "3 H01M50-317 H01M50 H01M     H01   H      \n",
       "4 H01M50-24  H01M50 H01M     H01   H      \n",
       "5 H02J7-02   H02J7  H02J     H02   H      \n",
       "6 B60J10-30  B60J10 B60J     B60   B      "
      ]
     },
     "metadata": {},
     "output_type": "display_data"
    }
   ],
   "source": [
    "# visualize the results\n",
    "# cpc has 5 levels: section, class, subclass, group, main group\n",
    "query5_result %>%\n",
    "    as.data.table() %>%\n",
    "    # delete '<' and '>' for publn, applicant, auth, kind\n",
    "    .[, c(\"publn\", \"applicant\", \"auth\", \"kind\", \"application\", \"cpc\") := lapply(.SD, function(x) gsub(\"[<>]\", \"\", x)),\n",
    "                        .SDcols = c(\"publn\", \"applicant\", \"auth\", \"kind\", \"application\", \"cpc\")] %>%\n",
    "    .[, publnDate := as.POSIXct(publnDate)] %>%\n",
    "    # select the columns we need\n",
    "    .[, .(publn, name, publnNum, publnDate, cpc)] %>%\n",
    "    # extract string after 'cpc/' and before '>' for cpc\n",
    "    .[, cpc_code := str_extract(cpc, \"(?<=cpc/)[^>]+\")] %>%\n",
    "    .[, .(cpc_code)] %>%\n",
    "    # extract the characters before '-' as group\n",
    "    .[, group := str_extract(cpc_code, \"^[^-]+\")] %>%\n",
    "    # extract the first 4 characters as section\n",
    "    .[, subclass := str_sub(group, 1, 4)] %>%\n",
    "    # extract the first 3 characters as class\n",
    "    .[, class := str_sub(group, 1, 3)] %>%\n",
    "    # extract the first 1 character as section\n",
    "    .[, section := str_sub(group, 1, 1)] -> cpc_hierarchy\n",
    "\n",
    "head(cpc_hierarchy)"
   ]
  },
  {
   "cell_type": "code",
   "execution_count": 12,
   "metadata": {
    "vscode": {
     "languageId": "r"
    }
   },
   "outputs": [
    {
     "data": {
      "text/plain": [
       "\n",
       "\n",
       "|class |subclass |    N|\n",
       "|:-----|:--------|----:|\n",
       "|H01   |H01M     | 3270|\n",
       "|B60   |B60L     | 1389|\n",
       "|B60   |B60K     |  592|\n",
       "|H02   |H02J     |  337|\n",
       "|C23   |C23C     |  316|"
      ]
     },
     "metadata": {},
     "output_type": "display_data"
    }
   ],
   "source": [
    "cpc_hierarchy %>%\n",
    "    .[, .N, by = .(class, subclass)] %>%\n",
    "    .[order(-N)] %>%\n",
    "    peep_head()"
   ]
  },
  {
   "cell_type": "code",
   "execution_count": 13,
   "metadata": {
    "vscode": {
     "languageId": "r"
    }
   },
   "outputs": [],
   "source": [
    "# visualize the hierarchy\n",
    "cpc_tree <- vtree(cpc_hierarchy, c(\"section\", \"class\", \"subclass\", \"group\"),\n",
    "          keep = list(subclass = c(\"H01M\", \"B60L\", \"B60K\", \"H02J\")),\n",
    "          horiz = FALSE, showcount = FALSE, prunesmaller=90)\n",
    "grVizToPNG(cpc_tree, width=900, folder=\"../images\")"
   ]
  },
  {
   "cell_type": "markdown",
   "metadata": {},
   "source": [
    "![cpc-tree](../images/cpc_tree.png)"
   ]
  },
  {
   "cell_type": "markdown",
   "metadata": {},
   "source": [
    "As you can see from the above image, Most of the patents are classified under the following CPC classes:\n",
    "\n",
    "- H: Electricity\n",
    "    - H01: Basic Electric Elements\n",
    "        - H01M: Processes or Means, e.g. Batteries, for the Direct Conversion of Chemical into Electrical Energy\n",
    "        - H02J: Circuit Arrangements or Systems for Supplying or Distributing Electric Power; Systems for Storing Electric Energy\n",
    "- B: Performing Operations; Transporting\n",
    "    - B60: Vehicles in General\n",
    "        - B60L: Propulsion of Electrically-Propelled Vehicles\n",
    "        - B60K: Arrangement or mounting of propulsion units in vehicles \n",
    "\n",
    "There are also a small number of patents that are classified under the following CPC classes:\n",
    "\n",
    "- C: Chemistry; Metallurgy\n",
    "    - C23: Coating Metallic Material; Coating Material with Metallic Material; Chemical Surface Treatment; Diffusion Treatment of Metallic Material; Coating by Vacuum Evaporation, by Sputtering, by Ion Implantation or by Chemical Vapour Deposition, in General; Inhibiting Corrosion of Metallic Material or Incrustation in General\n",
    "    - C22: Metallurgy; Ferrous or Non-Ferrous Alloys; Treatment of Alloys or Non-Ferrous Metals\n",
    "\n",
    "The C section of the CPC is related to the chemistry and metallurgy of the materials used in the batteries and the B section is related to the vehicles in general. H section is related to the electricity and the batteries.\n",
    "\n",
    "This means that if we want to find out automotive companies that are working on electric vehicles, we should look at the following CPC classes:\n",
    "\n",
    "- H01M: Processes or Means, e.g. Batteries, for the Direct Conversion of Chemical into Electrical Energy\n",
    "- H02J: Circuit Arrangements or Systems for Supplying or Distributing Electric Power; Systems for Storing Electric Energy\n",
    "- B60L: Propulsion of Electrically-Propelled Vehicles\n",
    "- B60K: Arrangement or mounting of propulsion units in vehicles"
   ]
  },
  {
   "cell_type": "markdown",
   "metadata": {},
   "source": [
    "## Query Firms that are working on Electric Vehicles\n",
    "\n",
    "After knowing that `H01M`, `H02J`, `B60L`, and `B60K` are the main CPC classes that electric vehicles cluster around, we will query the firms that are working on electric vehicles and try to find out the number of patents that they have filed and been published from EPO. How could we construct our query? We can start by listing variables\n",
    "we want:\n",
    "\n",
    "- `applicant`: name of applicant\n",
    "- `publication`: published patent, publication number, publication date, etc.\n",
    "- `cpc`: CPC class"
   ]
  },
  {
   "cell_type": "code",
   "execution_count": 5,
   "metadata": {
    "vscode": {
     "languageId": "r"
    }
   },
   "outputs": [
    {
     "name": "stdout",
     "output_type": "stream",
     "text": [
      "StartTag: invalid element name\n",
      "xmlSAX2Characters: huge text nodeExtra content at the end of the document\n"
     ]
    }
   ],
   "source": [
    "# this query will take around 30 seconds to run\n",
    "query6 <- \"\n",
    "PREFIX cpc: <http://data.epo.org/linked-data/def/cpc/>\n",
    "PREFIX dcterms: <http://purl.org/dc/terms/>\n",
    "PREFIX xsd: <http://www.w3.org/2001/XMLSchema#>\n",
    "PREFIX skos: <http://www.w3.org/2004/02/skos/core#> \n",
    "PREFIX rdf: <http://www.w3.org/1999/02/22-rdf-syntax-ns#> \n",
    "PREFIX vcard: <http://www.w3.org/2006/vcard/ns#> \n",
    "PREFIX patent: <http://data.epo.org/linked-data/def/patent/>\n",
    "\n",
    "SELECT *\n",
    "WHERE {\n",
    "    ?publn rdf:type patent:Publication;\n",
    "           patent:applicantVC ?applicant;\n",
    "           patent:publicationAuthority ?auth;\n",
    "           patent:publicationNumber ?publnNum;\n",
    "           patent:publicationKind ?kind;\n",
    "           patent:publicationDate ?publnDate;\n",
    "           patent:application ?application.\n",
    "    ?application patent:classificationCPCInventive ?cpcCode.\n",
    "    ?applicant vcard:fn ?name.\n",
    "  \t?applicant vcard:hasAddress ?address.\n",
    "  \t?address patent:countryCode ?country.\n",
    "    ?cpcCode skos:broader ?cpcCodeB1.\n",
    "    ?cpcCodeB1 skos:broader ?cpcCodeB2.\n",
    "    ?cpcCodeB2 skos:broader ?cpcCodeB3.\n",
    "    FILTER (?cpcCodeB3 = <http://data.epo.org/linked-data/def/cpc/H01M>)\n",
    "    FILTER (?publnDate >= xsd:date('2014-01-01'))\n",
    "    FILTER (?publnDate <= xsd:date('2015-01-01'))\n",
    "}\n",
    "LIMIT 70000\n",
    "\"\n",
    "\n",
    "query6_result <- SPARQL(endpoint, query6)$results"
   ]
  },
  {
   "cell_type": "code",
   "execution_count": 9,
   "metadata": {
    "vscode": {
     "languageId": "r"
    }
   },
   "outputs": [
    {
     "name": "stdout",
     "output_type": "stream",
     "text": [
      "'data.frame':\t4145 obs. of  14 variables:\n",
      " $ publn      : chr  \"<http://data.epo.org/linked-data/data/publication/EP/2639871/B1/->\" \"<http://data.epo.org/linked-data/data/publication/EP/2639871/B1/->\" \"<http://data.epo.org/linked-data/data/publication/EP/1659653/B1/->\" \"<http://data.epo.org/linked-data/data/publication/EP/2755269/A1/->\" ...\n",
      " $ applicant  : chr  \"<http://data.epo.org/linked-data/data/vc/AEC648C9D6BD5416D6990A8C8B56CD4B>\" \"<http://data.epo.org/linked-data/data/vc/AD7240A4098F9C68371DD982972D590F>\" \"<http://data.epo.org/linked-data/data/vc/78BF375C39AA0FF0AB5FD3DAB39B88CC>\" \"<http://data.epo.org/linked-data/data/vc/A65408431534D01F56986B808B5A8DA8>\" ...\n",
      " $ auth       : chr  \"<http://data.epo.org/linked-data/id/st3/EP>\" \"<http://data.epo.org/linked-data/id/st3/EP>\" \"<http://data.epo.org/linked-data/id/st3/EP>\" \"<http://data.epo.org/linked-data/id/st3/EP>\" ...\n",
      " $ publnNum   : chr  \"2639871\" \"2639871\" \"1659653\" \"2755269\" ...\n",
      " $ kind       : chr  \"<http://data.epo.org/linked-data/def/patent/publicationKind_B1>\" \"<http://data.epo.org/linked-data/def/patent/publicationKind_B1>\" \"<http://data.epo.org/linked-data/def/patent/publicationKind_B1>\" \"<http://data.epo.org/linked-data/def/patent/publicationKind_A1>\" ...\n",
      " $ publnDate  : num  1.41e+09 1.41e+09 1.41e+09 1.41e+09 1.39e+09 ...\n",
      " $ application: chr  \"<http://data.epo.org/linked-data/id/application/EP/13158569>\" \"<http://data.epo.org/linked-data/id/application/EP/13158569>\" \"<http://data.epo.org/linked-data/id/application/EP/04772414>\" \"<http://data.epo.org/linked-data/id/application/EP/12829137>\" ...\n",
      " $ cpcCode    : chr  \"<http://data.epo.org/linked-data/def/cpc/H01M8-0606>\" \"<http://data.epo.org/linked-data/def/cpc/H01M8-0606>\" \"<http://data.epo.org/linked-data/def/cpc/H01M8-0606>\" \"<http://data.epo.org/linked-data/def/cpc/H01M8-0606>\" ...\n",
      " $ name       : chr  \"AISIN SEIKI KABUSHIKI KAISHA\" \"KYOCERA CORPORATION\" \"Panasonic Corporation\" \"Panasonic Corporation\" ...\n",
      " $ address    : chr  \"<http://data.epo.org/linked-data/data/address/77FD70A936E6EF3DBE98944E745DEE64>\" \"<http://data.epo.org/linked-data/data/address/4C58EC2E51F42DF263286575ECDD938D>\" \"<http://data.epo.org/linked-data/data/address/9217E5C07B99644E28D2DC6A81C16241>\" \"<http://data.epo.org/linked-data/data/address/E22A02DAE129AEC41CCDC3621B429D11>\" ...\n",
      " $ country    : chr  \"JP\" \"JP\" \"JP\" \"JP\" ...\n",
      " $ cpcCodeB1  : chr  \"<http://data.epo.org/linked-data/def/cpc/H01M8-06>\" \"<http://data.epo.org/linked-data/def/cpc/H01M8-06>\" \"<http://data.epo.org/linked-data/def/cpc/H01M8-06>\" \"<http://data.epo.org/linked-data/def/cpc/H01M8-06>\" ...\n",
      " $ cpcCodeB2  : chr  \"<http://data.epo.org/linked-data/def/cpc/H01M8-00>\" \"<http://data.epo.org/linked-data/def/cpc/H01M8-00>\" \"<http://data.epo.org/linked-data/def/cpc/H01M8-00>\" \"<http://data.epo.org/linked-data/def/cpc/H01M8-00>\" ...\n",
      " $ cpcCodeB3  : chr  \"<http://data.epo.org/linked-data/def/cpc/H01M>\" \"<http://data.epo.org/linked-data/def/cpc/H01M>\" \"<http://data.epo.org/linked-data/def/cpc/H01M>\" \"<http://data.epo.org/linked-data/def/cpc/H01M>\" ...\n"
     ]
    }
   ],
   "source": [
    "str(query6_result)"
   ]
  },
  {
   "cell_type": "markdown",
   "metadata": {},
   "source": []
  }
 ],
 "metadata": {
  "kernelspec": {
   "display_name": "R",
   "language": "R",
   "name": "ir"
  },
  "language_info": {
   "codemirror_mode": "r",
   "file_extension": ".r",
   "mimetype": "text/x-r-source",
   "name": "R",
   "pygments_lexer": "r",
   "version": "4.3.2"
  }
 },
 "nbformat": 4,
 "nbformat_minor": 4
}
